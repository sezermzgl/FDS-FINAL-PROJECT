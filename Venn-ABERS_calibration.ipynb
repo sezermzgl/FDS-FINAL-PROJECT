{
 "cells": [
  {
   "cell_type": "code",
   "execution_count": 89,
   "metadata": {},
   "outputs": [],
   "source": [
    "import pandas as pd\n",
    "import numpy as np\n",
    "\n",
    "from xgboost import XGBClassifier\n",
    "\n",
    "from sklearn.metrics import roc_auc_score, brier_score_loss\n",
    "from sklearn.calibration import CalibrationDisplay, calibration_curve\n",
    "from sklearn.isotonic import IsotonicRegression\n",
    "\n",
    "import matplotlib.pyplot as plt\n",
    "\n",
    "import venn_abers as va\n",
    "from pygam import LogisticGAM, s"
   ]
  },
  {
   "cell_type": "markdown",
   "metadata": {},
   "source": [
    "# *Import Datasets*"
   ]
  },
  {
   "cell_type": "code",
   "execution_count": 90,
   "metadata": {},
   "outputs": [],
   "source": [
    "train_df = pd.read_csv('DATA/preprocessed_train.csv', low_memory=False)\n",
    "valid_df = pd.read_csv('DATA/preprocessed_valid.csv', low_memory=False)\n",
    "test_df = pd.read_csv('DATA/preprocessed_test.csv', low_memory=False)"
   ]
  },
  {
   "cell_type": "markdown",
   "metadata": {},
   "source": [
    "# *Data Preparation for Modeling*"
   ]
  },
  {
   "cell_type": "code",
   "execution_count": 91,
   "metadata": {},
   "outputs": [],
   "source": [
    "modeling_variables = ['person_income', 'person_home_ownership', 'person_emp_length',\n",
    "       'loan_intent', 'loan_grade', 'loan_amnt',\n",
    "       'loan_percent_income', 'cb_person_default_on_file',\n",
    "       'cb_person_cred_hist_length']\n",
    "\n",
    "target_variable = 'loan_status'"
   ]
  },
  {
   "cell_type": "code",
   "execution_count": 92,
   "metadata": {},
   "outputs": [],
   "source": [
    "# Take necessary columns\n",
    "\n",
    "# Train\n",
    "X_train = train_df[modeling_variables]\n",
    "y_train = train_df[target_variable]\n",
    "\n",
    "# Validation\n",
    "X_valid = valid_df[modeling_variables]\n",
    "y_valid = valid_df[target_variable]\n",
    "\n",
    "# Test\n",
    "X_test = test_df[modeling_variables]\n",
    "y_test = test_df[target_variable]"
   ]
  },
  {
   "cell_type": "code",
   "execution_count": 93,
   "metadata": {},
   "outputs": [
    {
     "data": {
      "text/plain": [
       "((20745, 9), (5187, 9), (6484, 9))"
      ]
     },
     "execution_count": 93,
     "metadata": {},
     "output_type": "execute_result"
    }
   ],
   "source": [
    "X_train.shape, X_valid.shape, X_test.shape"
   ]
  },
  {
   "cell_type": "markdown",
   "metadata": {},
   "source": [
    "# *XGBoost Model*"
   ]
  },
  {
   "cell_type": "code",
   "execution_count": 94,
   "metadata": {},
   "outputs": [],
   "source": [
    "params =  {'colsample_bytree': 1.0, 'gamma': 0, 'learning_rate': 0.1, 'max_depth': 7, 'min_child_weight': 1, 'reg_alpha': 0, 'reg_lambda': 1, 'subsample': 1.0, 'scale_pos_weight': 0.6}"
   ]
  },
  {
   "cell_type": "code",
   "execution_count": 95,
   "metadata": {},
   "outputs": [
    {
     "data": {
      "text/html": [
       "<style>#sk-container-id-3 {color: black;}#sk-container-id-3 pre{padding: 0;}#sk-container-id-3 div.sk-toggleable {background-color: white;}#sk-container-id-3 label.sk-toggleable__label {cursor: pointer;display: block;width: 100%;margin-bottom: 0;padding: 0.3em;box-sizing: border-box;text-align: center;}#sk-container-id-3 label.sk-toggleable__label-arrow:before {content: \"▸\";float: left;margin-right: 0.25em;color: #696969;}#sk-container-id-3 label.sk-toggleable__label-arrow:hover:before {color: black;}#sk-container-id-3 div.sk-estimator:hover label.sk-toggleable__label-arrow:before {color: black;}#sk-container-id-3 div.sk-toggleable__content {max-height: 0;max-width: 0;overflow: hidden;text-align: left;background-color: #f0f8ff;}#sk-container-id-3 div.sk-toggleable__content pre {margin: 0.2em;color: black;border-radius: 0.25em;background-color: #f0f8ff;}#sk-container-id-3 input.sk-toggleable__control:checked~div.sk-toggleable__content {max-height: 200px;max-width: 100%;overflow: auto;}#sk-container-id-3 input.sk-toggleable__control:checked~label.sk-toggleable__label-arrow:before {content: \"▾\";}#sk-container-id-3 div.sk-estimator input.sk-toggleable__control:checked~label.sk-toggleable__label {background-color: #d4ebff;}#sk-container-id-3 div.sk-label input.sk-toggleable__control:checked~label.sk-toggleable__label {background-color: #d4ebff;}#sk-container-id-3 input.sk-hidden--visually {border: 0;clip: rect(1px 1px 1px 1px);clip: rect(1px, 1px, 1px, 1px);height: 1px;margin: -1px;overflow: hidden;padding: 0;position: absolute;width: 1px;}#sk-container-id-3 div.sk-estimator {font-family: monospace;background-color: #f0f8ff;border: 1px dotted black;border-radius: 0.25em;box-sizing: border-box;margin-bottom: 0.5em;}#sk-container-id-3 div.sk-estimator:hover {background-color: #d4ebff;}#sk-container-id-3 div.sk-parallel-item::after {content: \"\";width: 100%;border-bottom: 1px solid gray;flex-grow: 1;}#sk-container-id-3 div.sk-label:hover label.sk-toggleable__label {background-color: #d4ebff;}#sk-container-id-3 div.sk-serial::before {content: \"\";position: absolute;border-left: 1px solid gray;box-sizing: border-box;top: 0;bottom: 0;left: 50%;z-index: 0;}#sk-container-id-3 div.sk-serial {display: flex;flex-direction: column;align-items: center;background-color: white;padding-right: 0.2em;padding-left: 0.2em;position: relative;}#sk-container-id-3 div.sk-item {position: relative;z-index: 1;}#sk-container-id-3 div.sk-parallel {display: flex;align-items: stretch;justify-content: center;background-color: white;position: relative;}#sk-container-id-3 div.sk-item::before, #sk-container-id-3 div.sk-parallel-item::before {content: \"\";position: absolute;border-left: 1px solid gray;box-sizing: border-box;top: 0;bottom: 0;left: 50%;z-index: -1;}#sk-container-id-3 div.sk-parallel-item {display: flex;flex-direction: column;z-index: 1;position: relative;background-color: white;}#sk-container-id-3 div.sk-parallel-item:first-child::after {align-self: flex-end;width: 50%;}#sk-container-id-3 div.sk-parallel-item:last-child::after {align-self: flex-start;width: 50%;}#sk-container-id-3 div.sk-parallel-item:only-child::after {width: 0;}#sk-container-id-3 div.sk-dashed-wrapped {border: 1px dashed gray;margin: 0 0.4em 0.5em 0.4em;box-sizing: border-box;padding-bottom: 0.4em;background-color: white;}#sk-container-id-3 div.sk-label label {font-family: monospace;font-weight: bold;display: inline-block;line-height: 1.2em;}#sk-container-id-3 div.sk-label-container {text-align: center;}#sk-container-id-3 div.sk-container {/* jupyter's `normalize.less` sets `[hidden] { display: none; }` but bootstrap.min.css set `[hidden] { display: none !important; }` so we also need the `!important` here to be able to override the default hidden behavior on the sphinx rendered scikit-learn.org. See: https://github.com/scikit-learn/scikit-learn/issues/21755 */display: inline-block !important;position: relative;}#sk-container-id-3 div.sk-text-repr-fallback {display: none;}</style><div id=\"sk-container-id-3\" class=\"sk-top-container\"><div class=\"sk-text-repr-fallback\"><pre>XGBClassifier(base_score=None, booster=None, callbacks=None,\n",
       "              colsample_bylevel=None, colsample_bynode=None,\n",
       "              colsample_bytree=1.0, device=None, early_stopping_rounds=None,\n",
       "              enable_categorical=False, eval_metric=None, feature_types=None,\n",
       "              gamma=0, grow_policy=None, importance_type=None,\n",
       "              interaction_constraints=None, learning_rate=0.1, max_bin=None,\n",
       "              max_cat_threshold=None, max_cat_to_onehot=None,\n",
       "              max_delta_step=None, max_depth=7, max_leaves=None,\n",
       "              min_child_weight=1, missing=nan, monotone_constraints=None,\n",
       "              multi_strategy=None, n_estimators=50, n_jobs=None,\n",
       "              num_parallel_tree=None, random_state=0, ...)</pre><b>In a Jupyter environment, please rerun this cell to show the HTML representation or trust the notebook. <br />On GitHub, the HTML representation is unable to render, please try loading this page with nbviewer.org.</b></div><div class=\"sk-container\" hidden><div class=\"sk-item\"><div class=\"sk-estimator sk-toggleable\"><input class=\"sk-toggleable__control sk-hidden--visually\" id=\"sk-estimator-id-3\" type=\"checkbox\" checked><label for=\"sk-estimator-id-3\" class=\"sk-toggleable__label sk-toggleable__label-arrow\">XGBClassifier</label><div class=\"sk-toggleable__content\"><pre>XGBClassifier(base_score=None, booster=None, callbacks=None,\n",
       "              colsample_bylevel=None, colsample_bynode=None,\n",
       "              colsample_bytree=1.0, device=None, early_stopping_rounds=None,\n",
       "              enable_categorical=False, eval_metric=None, feature_types=None,\n",
       "              gamma=0, grow_policy=None, importance_type=None,\n",
       "              interaction_constraints=None, learning_rate=0.1, max_bin=None,\n",
       "              max_cat_threshold=None, max_cat_to_onehot=None,\n",
       "              max_delta_step=None, max_depth=7, max_leaves=None,\n",
       "              min_child_weight=1, missing=nan, monotone_constraints=None,\n",
       "              multi_strategy=None, n_estimators=50, n_jobs=None,\n",
       "              num_parallel_tree=None, random_state=0, ...)</pre></div></div></div></div></div>"
      ],
      "text/plain": [
       "XGBClassifier(base_score=None, booster=None, callbacks=None,\n",
       "              colsample_bylevel=None, colsample_bynode=None,\n",
       "              colsample_bytree=1.0, device=None, early_stopping_rounds=None,\n",
       "              enable_categorical=False, eval_metric=None, feature_types=None,\n",
       "              gamma=0, grow_policy=None, importance_type=None,\n",
       "              interaction_constraints=None, learning_rate=0.1, max_bin=None,\n",
       "              max_cat_threshold=None, max_cat_to_onehot=None,\n",
       "              max_delta_step=None, max_depth=7, max_leaves=None,\n",
       "              min_child_weight=1, missing=nan, monotone_constraints=None,\n",
       "              multi_strategy=None, n_estimators=50, n_jobs=None,\n",
       "              num_parallel_tree=None, random_state=0, ...)"
      ]
     },
     "execution_count": 95,
     "metadata": {},
     "output_type": "execute_result"
    }
   ],
   "source": [
    "xgb_model = XGBClassifier(**params, n_estimators=50, random_state=0)\n",
    "\n",
    "xgb_model.fit(X_train, y_train)"
   ]
  },
  {
   "cell_type": "code",
   "execution_count": 96,
   "metadata": {},
   "outputs": [],
   "source": [
    "# Predict\n",
    "pred_train = xgb_model.predict_proba(X_train)[:, 1]\n",
    "pred_valid = xgb_model.predict_proba(X_valid)[:, 1]\n",
    "pred_test = xgb_model.predict_proba(X_test)[:, 1]"
   ]
  },
  {
   "cell_type": "code",
   "execution_count": 97,
   "metadata": {},
   "outputs": [
    {
     "name": "stdout",
     "output_type": "stream",
     "text": [
      "AUC Train: 0.9498282014421108\n",
      "AUC Valid: 0.9396534087889898\n",
      "AUC Test: 0.9373856786592573\n"
     ]
    }
   ],
   "source": [
    "# Calculate AUC\n",
    "print('AUC Train:', roc_auc_score(y_train, pred_train))\n",
    "print('AUC Valid:', roc_auc_score(y_valid, pred_valid))\n",
    "print('AUC Test:', roc_auc_score(y_test, pred_test))"
   ]
  },
  {
   "cell_type": "markdown",
   "metadata": {},
   "source": [
    "# *Venn-ABERS calibration*"
   ]
  },
  {
   "cell_type": "code",
   "execution_count": 98,
   "metadata": {},
   "outputs": [
    {
     "data": {
      "text/plain": [
       "<sklearn.calibration.CalibrationDisplay at 0x2354aa4b2b0>"
      ]
     },
     "execution_count": 98,
     "metadata": {},
     "output_type": "execute_result"
    },
    {
     "data": {
      "image/png": "[encoded data removed]",
      "text/plain": [
       "<Figure size 640x480 with 1 Axes>"
      ]
     },
     "metadata": {},
     "output_type": "display_data"
    }
   ],
   "source": [
    "prob_true, prob_pred = calibration_curve(y_valid, pred_valid, n_bins=20)\n",
    "disp = CalibrationDisplay(prob_true, prob_pred, pred_valid)\n",
    "disp.plot()"
   ]
  },
  {
   "cell_type": "code",
   "execution_count": 99,
   "metadata": {},
   "outputs": [],
   "source": [
    "p_cal  = xgb_model.predict_proba(X_valid)\n",
    "p_test = xgb_model.predict_proba(X_test)"
   ]
  },
  {
   "cell_type": "code",
   "execution_count": 100,
   "metadata": {},
   "outputs": [],
   "source": [
    "VAC = va.VennAbersCalibrator()\n",
    "predictions_IVAP, intervals = VAC.predict_proba(p_cal=p_cal, y_cal=y_valid.values, p_test=p_test, p0_p1_output=True)"
   ]
  },
  {
   "cell_type": "code",
   "execution_count": 101,
   "metadata": {},
   "outputs": [],
   "source": [
    "predictions_IVAP = predictions_IVAP[:,1]"
   ]
  },
  {
   "cell_type": "markdown",
   "metadata": {},
   "source": [
    "Venn-ABERS predictors perform two [isotonic regressions](https://cseweb.ucsd.edu/~elkan/calibrated.pdf) (using the greatest convex minorant of the cumulative sum diagram), one for for class 0 leading to probabilities $p_0$, and one for class 1 leading to probabilities $p_1$.\n",
    "$p_0$ and $p_1$ form an interval within which the correct probability is deemed to be located.\n",
    "A single-valued probability can be obtained by combining these results, for example via\n",
    "\n",
    "$$    p = \\frac{p_1}{1-p_0 + p_1} $$\n",
    "\n",
    "It is worth mentioning that this technique can also be [extended to multi-class problems](https://proceedings.mlr.press/v60/manokhin17a/manokhin17a.pdf).\n",
    "\n",
    "We shall make use of the [venn-abers](https://github.com/ip200/venn-abers) package written by Ivan Petej"
   ]
  },
  {
   "cell_type": "code",
   "execution_count": 102,
   "metadata": {},
   "outputs": [
    {
     "data": {
      "text/plain": [
       "0.16384180790960456"
      ]
     },
     "execution_count": 102,
     "metadata": {},
     "output_type": "execute_result"
    }
   ],
   "source": [
    "(intervals[:,1] - intervals[:,0]).max()"
   ]
  },
  {
   "cell_type": "code",
   "execution_count": 103,
   "metadata": {},
   "outputs": [
    {
     "data": {
      "text/plain": [
       "0.0009345794392523365"
      ]
     },
     "execution_count": 103,
     "metadata": {},
     "output_type": "execute_result"
    }
   ],
   "source": [
    "intervals[0][1]/ (1- intervals[0][0] + intervals[0][1])"
   ]
  },
  {
   "cell_type": "code",
   "execution_count": 104,
   "metadata": {},
   "outputs": [
    {
     "data": {
      "text/plain": [
       "array([9.34579439e-04, 9.97849462e-01, 2.51365523e-01, ...,\n",
       "       7.36434109e-02, 1.45714286e-01, 1.45714286e-01])"
      ]
     },
     "execution_count": 104,
     "metadata": {},
     "output_type": "execute_result"
    }
   ],
   "source": [
    "predictions_IVAP"
   ]
  },
  {
   "cell_type": "markdown",
   "metadata": {},
   "source": [
    "## GAM calibration"
   ]
  },
  {
   "cell_type": "code",
   "execution_count": 106,
   "metadata": {},
   "outputs": [],
   "source": [
    "gam = LogisticGAM(s(feature=0, n_splines=20, spline_order=4, by=None, edge_knots=None, basis='ps', dtype='numerical', lam=0.6, penalties='auto', constraints='monotonic_inc'))\n",
    "\n",
    "gam.fit(p_cal[:,1], y_valid)\n",
    "\n",
    "cal_test_gam = gam.predict_proba(pred_test)"
   ]
  },
  {
   "cell_type": "code",
   "execution_count": 107,
   "metadata": {},
   "outputs": [
    {
     "data": {
      "image/png": "[encoded data removed]",
      "text/plain": [
       "<Figure size 600x600 with 1 Axes>"
      ]
     },
     "metadata": {},
     "output_type": "display_data"
    }
   ],
   "source": [
    "# Compute calibration curves for different models or calibration methods\n",
    "prob_true_xgb, prob_pred_xgb = calibration_curve(y_test, pred_test, n_bins=10)\n",
    "prob_true_va, prob_pred_va = calibration_curve(y_test, predictions_IVAP, n_bins=10)\n",
    "prob_true_gam, prob_pred_gam = calibration_curve(y_test, cal_test_gam, n_bins=10)\n",
    "\n",
    "# Create figure and axis\n",
    "fig, ax = plt.subplots(figsize=(6, 6))\n",
    "\n",
    "# Plot calibration curves for different models\n",
    "CalibrationDisplay(prob_true_xgb, prob_pred_xgb, pred_test).plot(ax=ax, label=\"XGB\")\n",
    "CalibrationDisplay(prob_true_va, prob_pred_va, predictions_IVAP).plot(ax=ax, label=\"XGB + Venn-ABERS\")\n",
    "CalibrationDisplay(prob_true_gam, prob_pred_gam, cal_test_gam).plot(ax=ax, label=\"XGB + GAM\")\n",
    "\n",
    "# Add diagonal reference line (perfect calibration)\n",
    "# ax.plot([0, 1], [0, 1], linestyle=\"--\", color=\"black\", label=\"Perfect Calibration\")\n",
    "\n",
    "# Add legend\n",
    "ax.legend()\n",
    "plt.show()"
   ]
  },
  {
   "cell_type": "code",
   "execution_count": 108,
   "metadata": {},
   "outputs": [
    {
     "name": "stdout",
     "output_type": "stream",
     "text": [
      "Brier Score of XGB:  0.06176982133006872\n",
      "Brier Score of XGB + Venn-ABERS:  0.059953219820239476\n",
      "Brier Score of XGB + Venn-GAM:  0.05982390329597923\n"
     ]
    }
   ],
   "source": [
    "print('Brier Score of XGB: ', brier_score_loss(y_test, pred_test))\n",
    "print('Brier Score of XGB + Venn-ABERS: ', brier_score_loss(y_test, predictions_IVAP))\n",
    "print('Brier Score of XGB + Venn-GAM: ', brier_score_loss(y_test, cal_test_gam))"
   ]
  },
  {
   "cell_type": "code",
   "execution_count": 109,
   "metadata": {},
   "outputs": [],
   "source": [
    "test_df['y_pred'] = pred_test\n",
    "test_df['gam_y_pred'] = cal_test_gam\n",
    "test_df['calibrated_y_pred'] = predictions_IVAP\n",
    "test_df['p0'] = intervals[:,0]\n",
    "test_df['p1'] = intervals[:,1]\n",
    "test_df['CP_interval_length'] = intervals[:,1] - intervals[:,0]"
   ]
  },
  {
   "cell_type": "code",
   "execution_count": 110,
   "metadata": {},
   "outputs": [],
   "source": [
    "test_df.sort_values(by='y_pred', ignore_index=True, inplace=True)"
   ]
  },
  {
   "cell_type": "code",
   "execution_count": 111,
   "metadata": {},
   "outputs": [
    {
     "data": {
      "text/plain": [
       "[<matplotlib.lines.Line2D at 0x2354ae93bb0>]"
      ]
     },
     "execution_count": 111,
     "metadata": {},
     "output_type": "execute_result"
    },
    {
     "data": {
      "image/png": "[encoded data removed]",
      "text/plain": [
       "<Figure size 1000x600 with 1 Axes>"
      ]
     },
     "metadata": {},
     "output_type": "display_data"
    }
   ],
   "source": [
    "plt.figure(figsize=(10,6))\n",
    "plt.scatter(test_df['y_pred'], test_df['CP_interval_length'])\n",
    "plt.plot(test_df['y_pred'], test_df['CP_interval_length'])"
   ]
  },
  {
   "cell_type": "code",
   "execution_count": 112,
   "metadata": {},
   "outputs": [
    {
     "data": {
      "text/html": [
       "<div>\n",
       "<style scoped>\n",
       "    .dataframe tbody tr th:only-of-type {\n",
       "        vertical-align: middle;\n",
       "    }\n",
       "\n",
       "    .dataframe tbody tr th {\n",
       "        vertical-align: top;\n",
       "    }\n",
       "\n",
       "    .dataframe thead th {\n",
       "        text-align: right;\n",
       "    }\n",
       "</style>\n",
       "<table border=\"1\" class=\"dataframe\">\n",
       "  <thead>\n",
       "    <tr style=\"text-align: right;\">\n",
       "      <th></th>\n",
       "      <th>person_income</th>\n",
       "      <th>person_home_ownership</th>\n",
       "      <th>person_emp_length</th>\n",
       "      <th>loan_intent</th>\n",
       "      <th>loan_grade</th>\n",
       "      <th>loan_amnt</th>\n",
       "      <th>loan_status</th>\n",
       "      <th>loan_percent_income</th>\n",
       "      <th>cb_person_default_on_file</th>\n",
       "      <th>cb_person_cred_hist_length</th>\n",
       "      <th>ID</th>\n",
       "      <th>y_pred</th>\n",
       "      <th>gam_y_pred</th>\n",
       "      <th>calibrated_y_pred</th>\n",
       "      <th>p0</th>\n",
       "      <th>p1</th>\n",
       "      <th>CP_interval_length</th>\n",
       "    </tr>\n",
       "  </thead>\n",
       "  <tbody>\n",
       "    <tr>\n",
       "      <th>5490</th>\n",
       "      <td>46000.0</td>\n",
       "      <td>3</td>\n",
       "      <td>3.0</td>\n",
       "      <td>4</td>\n",
       "      <td>4</td>\n",
       "      <td>11000</td>\n",
       "      <td>1</td>\n",
       "      <td>0.24</td>\n",
       "      <td>2</td>\n",
       "      <td>3</td>\n",
       "      <td>3395</td>\n",
       "      <td>0.473785</td>\n",
       "      <td>0.743823</td>\n",
       "      <td>0.713592</td>\n",
       "      <td>0.666667</td>\n",
       "      <td>0.830508</td>\n",
       "      <td>0.163842</td>\n",
       "    </tr>\n",
       "    <tr>\n",
       "      <th>5491</th>\n",
       "      <td>50000.0</td>\n",
       "      <td>2</td>\n",
       "      <td>5.0</td>\n",
       "      <td>4</td>\n",
       "      <td>4</td>\n",
       "      <td>6000</td>\n",
       "      <td>0</td>\n",
       "      <td>0.12</td>\n",
       "      <td>2</td>\n",
       "      <td>16</td>\n",
       "      <td>30114</td>\n",
       "      <td>0.473999</td>\n",
       "      <td>0.744250</td>\n",
       "      <td>0.713592</td>\n",
       "      <td>0.666667</td>\n",
       "      <td>0.830508</td>\n",
       "      <td>0.163842</td>\n",
       "    </tr>\n",
       "    <tr>\n",
       "      <th>5489</th>\n",
       "      <td>82000.0</td>\n",
       "      <td>2</td>\n",
       "      <td>13.0</td>\n",
       "      <td>4</td>\n",
       "      <td>5</td>\n",
       "      <td>26800</td>\n",
       "      <td>0</td>\n",
       "      <td>0.33</td>\n",
       "      <td>2</td>\n",
       "      <td>15</td>\n",
       "      <td>31076</td>\n",
       "      <td>0.471765</td>\n",
       "      <td>0.739749</td>\n",
       "      <td>0.713592</td>\n",
       "      <td>0.666667</td>\n",
       "      <td>0.830508</td>\n",
       "      <td>0.163842</td>\n",
       "    </tr>\n",
       "    <tr>\n",
       "      <th>5370</th>\n",
       "      <td>34000.0</td>\n",
       "      <td>3</td>\n",
       "      <td>5.0</td>\n",
       "      <td>4</td>\n",
       "      <td>2</td>\n",
       "      <td>1200</td>\n",
       "      <td>1</td>\n",
       "      <td>0.04</td>\n",
       "      <td>1</td>\n",
       "      <td>4</td>\n",
       "      <td>1472</td>\n",
       "      <td>0.235904</td>\n",
       "      <td>0.336238</td>\n",
       "      <td>0.340426</td>\n",
       "      <td>0.250000</td>\n",
       "      <td>0.387097</td>\n",
       "      <td>0.137097</td>\n",
       "    </tr>\n",
       "    <tr>\n",
       "      <th>5369</th>\n",
       "      <td>44000.0</td>\n",
       "      <td>3</td>\n",
       "      <td>10.0</td>\n",
       "      <td>3</td>\n",
       "      <td>3</td>\n",
       "      <td>8000</td>\n",
       "      <td>0</td>\n",
       "      <td>0.18</td>\n",
       "      <td>1</td>\n",
       "      <td>3</td>\n",
       "      <td>8869</td>\n",
       "      <td>0.235869</td>\n",
       "      <td>0.336167</td>\n",
       "      <td>0.340426</td>\n",
       "      <td>0.250000</td>\n",
       "      <td>0.387097</td>\n",
       "      <td>0.137097</td>\n",
       "    </tr>\n",
       "    <tr>\n",
       "      <th>...</th>\n",
       "      <td>...</td>\n",
       "      <td>...</td>\n",
       "      <td>...</td>\n",
       "      <td>...</td>\n",
       "      <td>...</td>\n",
       "      <td>...</td>\n",
       "      <td>...</td>\n",
       "      <td>...</td>\n",
       "      <td>...</td>\n",
       "      <td>...</td>\n",
       "      <td>...</td>\n",
       "      <td>...</td>\n",
       "      <td>...</td>\n",
       "      <td>...</td>\n",
       "      <td>...</td>\n",
       "      <td>...</td>\n",
       "      <td>...</td>\n",
       "    </tr>\n",
       "    <tr>\n",
       "      <th>1</th>\n",
       "      <td>61450.0</td>\n",
       "      <td>1</td>\n",
       "      <td>6.0</td>\n",
       "      <td>1</td>\n",
       "      <td>1</td>\n",
       "      <td>12500</td>\n",
       "      <td>0</td>\n",
       "      <td>0.20</td>\n",
       "      <td>1</td>\n",
       "      <td>16</td>\n",
       "      <td>30535</td>\n",
       "      <td>0.001622</td>\n",
       "      <td>0.005388</td>\n",
       "      <td>0.000782</td>\n",
       "      <td>0.000000</td>\n",
       "      <td>0.000783</td>\n",
       "      <td>0.000783</td>\n",
       "    </tr>\n",
       "    <tr>\n",
       "      <th>5</th>\n",
       "      <td>47000.0</td>\n",
       "      <td>1</td>\n",
       "      <td>8.0</td>\n",
       "      <td>1</td>\n",
       "      <td>1</td>\n",
       "      <td>6000</td>\n",
       "      <td>0</td>\n",
       "      <td>0.13</td>\n",
       "      <td>1</td>\n",
       "      <td>5</td>\n",
       "      <td>21202</td>\n",
       "      <td>0.001639</td>\n",
       "      <td>0.005394</td>\n",
       "      <td>0.000782</td>\n",
       "      <td>0.000000</td>\n",
       "      <td>0.000783</td>\n",
       "      <td>0.000783</td>\n",
       "    </tr>\n",
       "    <tr>\n",
       "      <th>6</th>\n",
       "      <td>50000.0</td>\n",
       "      <td>1</td>\n",
       "      <td>3.0</td>\n",
       "      <td>1</td>\n",
       "      <td>1</td>\n",
       "      <td>6000</td>\n",
       "      <td>0</td>\n",
       "      <td>0.12</td>\n",
       "      <td>1</td>\n",
       "      <td>4</td>\n",
       "      <td>17526</td>\n",
       "      <td>0.001639</td>\n",
       "      <td>0.005394</td>\n",
       "      <td>0.000782</td>\n",
       "      <td>0.000000</td>\n",
       "      <td>0.000783</td>\n",
       "      <td>0.000783</td>\n",
       "    </tr>\n",
       "    <tr>\n",
       "      <th>7</th>\n",
       "      <td>57600.0</td>\n",
       "      <td>1</td>\n",
       "      <td>6.0</td>\n",
       "      <td>1</td>\n",
       "      <td>1</td>\n",
       "      <td>6500</td>\n",
       "      <td>0</td>\n",
       "      <td>0.11</td>\n",
       "      <td>1</td>\n",
       "      <td>3</td>\n",
       "      <td>8394</td>\n",
       "      <td>0.001639</td>\n",
       "      <td>0.005394</td>\n",
       "      <td>0.000782</td>\n",
       "      <td>0.000000</td>\n",
       "      <td>0.000783</td>\n",
       "      <td>0.000783</td>\n",
       "    </tr>\n",
       "    <tr>\n",
       "      <th>0</th>\n",
       "      <td>51500.0</td>\n",
       "      <td>1</td>\n",
       "      <td>7.0</td>\n",
       "      <td>1</td>\n",
       "      <td>1</td>\n",
       "      <td>10875</td>\n",
       "      <td>0</td>\n",
       "      <td>0.21</td>\n",
       "      <td>1</td>\n",
       "      <td>14</td>\n",
       "      <td>30172</td>\n",
       "      <td>0.001596</td>\n",
       "      <td>0.005379</td>\n",
       "      <td>0.000782</td>\n",
       "      <td>0.000000</td>\n",
       "      <td>0.000782</td>\n",
       "      <td>0.000782</td>\n",
       "    </tr>\n",
       "  </tbody>\n",
       "</table>\n",
       "<p>6484 rows × 17 columns</p>\n",
       "</div>"
      ],
      "text/plain": [
       "      person_income  person_home_ownership  person_emp_length  loan_intent  \\\n",
       "5490        46000.0                      3                3.0            4   \n",
       "5491        50000.0                      2                5.0            4   \n",
       "5489        82000.0                      2               13.0            4   \n",
       "5370        34000.0                      3                5.0            4   \n",
       "5369        44000.0                      3               10.0            3   \n",
       "...             ...                    ...                ...          ...   \n",
       "1           61450.0                      1                6.0            1   \n",
       "5           47000.0                      1                8.0            1   \n",
       "6           50000.0                      1                3.0            1   \n",
       "7           57600.0                      1                6.0            1   \n",
       "0           51500.0                      1                7.0            1   \n",
       "\n",
       "      loan_grade  loan_amnt  loan_status  loan_percent_income  \\\n",
       "5490           4      11000            1                 0.24   \n",
       "5491           4       6000            0                 0.12   \n",
       "5489           5      26800            0                 0.33   \n",
       "5370           2       1200            1                 0.04   \n",
       "5369           3       8000            0                 0.18   \n",
       "...          ...        ...          ...                  ...   \n",
       "1              1      12500            0                 0.20   \n",
       "5              1       6000            0                 0.13   \n",
       "6              1       6000            0                 0.12   \n",
       "7              1       6500            0                 0.11   \n",
       "0              1      10875            0                 0.21   \n",
       "\n",
       "      cb_person_default_on_file  cb_person_cred_hist_length     ID    y_pred  \\\n",
       "5490                          2                           3   3395  0.473785   \n",
       "5491                          2                          16  30114  0.473999   \n",
       "5489                          2                          15  31076  0.471765   \n",
       "5370                          1                           4   1472  0.235904   \n",
       "5369                          1                           3   8869  0.235869   \n",
       "...                         ...                         ...    ...       ...   \n",
       "1                             1                          16  30535  0.001622   \n",
       "5                             1                           5  21202  0.001639   \n",
       "6                             1                           4  17526  0.001639   \n",
       "7                             1                           3   8394  0.001639   \n",
       "0                             1                          14  30172  0.001596   \n",
       "\n",
       "      gam_y_pred  calibrated_y_pred        p0        p1  CP_interval_length  \n",
       "5490    0.743823           0.713592  0.666667  0.830508            0.163842  \n",
       "5491    0.744250           0.713592  0.666667  0.830508            0.163842  \n",
       "5489    0.739749           0.713592  0.666667  0.830508            0.163842  \n",
       "5370    0.336238           0.340426  0.250000  0.387097            0.137097  \n",
       "5369    0.336167           0.340426  0.250000  0.387097            0.137097  \n",
       "...          ...                ...       ...       ...                 ...  \n",
       "1       0.005388           0.000782  0.000000  0.000783            0.000783  \n",
       "5       0.005394           0.000782  0.000000  0.000783            0.000783  \n",
       "6       0.005394           0.000782  0.000000  0.000783            0.000783  \n",
       "7       0.005394           0.000782  0.000000  0.000783            0.000783  \n",
       "0       0.005379           0.000782  0.000000  0.000782            0.000782  \n",
       "\n",
       "[6484 rows x 17 columns]"
      ]
     },
     "execution_count": 112,
     "metadata": {},
     "output_type": "execute_result"
    }
   ],
   "source": [
    "test_df.sort_values(by='CP_interval_length', ascending=False)"
   ]
  },
  {
   "cell_type": "code",
   "execution_count": 113,
   "metadata": {},
   "outputs": [],
   "source": [
    "test_df['RISK_BIN'] = pd.qcut(test_df['y_pred'], q=10, labels=False) + 1"
   ]
  },
  {
   "cell_type": "code",
   "execution_count": 114,
   "metadata": {},
   "outputs": [],
   "source": [
    "test_df_grp = test_df.groupby('RISK_BIN')[['y_pred','gam_y_pred', 'calibrated_y_pred', 'loan_status']].mean().reset_index()"
   ]
  },
  {
   "cell_type": "code",
   "execution_count": 115,
   "metadata": {},
   "outputs": [
    {
     "data": {
      "text/plain": [
       "<matplotlib.legend.Legend at 0x2354c2d07f0>"
      ]
     },
     "execution_count": 115,
     "metadata": {},
     "output_type": "execute_result"
    },
    {
     "data": {
      "image/png": "[encoded data removed]",
      "text/plain": [
       "<Figure size 1500x600 with 1 Axes>"
      ]
     },
     "metadata": {},
     "output_type": "display_data"
    }
   ],
   "source": [
    "plt.figure(figsize=(15,6))\n",
    "plt.plot(test_df_grp['RISK_BIN'], test_df_grp['loan_status'],linestyle='dashed', linewidth=2, label='Real', color='grey')\n",
    "plt.plot(test_df_grp['RISK_BIN'], test_df_grp['y_pred'], linewidth=1, label='XGB', color='blue')\n",
    "plt.plot(test_df_grp['RISK_BIN'], test_df_grp['calibrated_y_pred'],linewidth=1,  label='XGB + Venn-Abers', color='green')\n",
    "plt.plot(test_df_grp['RISK_BIN'], test_df_grp['gam_y_pred'],linewidth=1,  label='XGB + GAM', color='orange')\n",
    "plt.legend()"
   ]
  },
  {
   "cell_type": "code",
   "execution_count": 124,
   "metadata": {},
   "outputs": [],
   "source": [
    "high_risk = test_df[test_df['RISK_BIN']==9]"
   ]
  },
  {
   "cell_type": "code",
   "execution_count": 125,
   "metadata": {},
   "outputs": [
    {
     "data": {
      "text/plain": [
       "<Axes: >"
      ]
     },
     "execution_count": 125,
     "metadata": {},
     "output_type": "execute_result"
    },
    {
     "data": {
      "image/png": "[encoded data removed]",
      "text/plain": [
       "<Figure size 640x480 with 1 Axes>"
      ]
     },
     "metadata": {},
     "output_type": "display_data"
    }
   ],
   "source": [
    "high_risk['CP_interval_length'].hist()"
   ]
  },
  {
   "cell_type": "code",
   "execution_count": 129,
   "metadata": {},
   "outputs": [
    {
     "data": {
      "text/plain": [
       "0.6153846153846154"
      ]
     },
     "execution_count": 129,
     "metadata": {},
     "output_type": "execute_result"
    }
   ],
   "source": [
    "high_risk[high_risk['CP_interval_length']>0.08]['loan_status'].mean()"
   ]
  },
  {
   "cell_type": "code",
   "execution_count": 130,
   "metadata": {},
   "outputs": [
    {
     "data": {
      "text/plain": [
       "0.6535433070866141"
      ]
     },
     "execution_count": 130,
     "metadata": {},
     "output_type": "execute_result"
    }
   ],
   "source": [
    "high_risk[high_risk['CP_interval_length']<=0.04]['loan_status'].mean()"
   ]
  },
  {
   "cell_type": "code",
   "execution_count": 133,
   "metadata": {},
   "outputs": [
    {
     "data": {
      "text/plain": [
       "0.25136552326851647"
      ]
     },
     "execution_count": 133,
     "metadata": {},
     "output_type": "execute_result"
    }
   ],
   "source": [
    "test_df[test_df['RISK_BIN']>=9]['calibrated_y_pred'].min()"
   ]
  },
  {
   "cell_type": "code",
   "execution_count": 134,
   "metadata": {},
   "outputs": [],
   "source": [
    "acc = test_df[test_df['RISK_BIN']<9]\n",
    "rej = test_df[test_df['RISK_BIN']>=9]"
   ]
  },
  {
   "cell_type": "code",
   "execution_count": 141,
   "metadata": {},
   "outputs": [
    {
     "data": {
      "text/plain": [
       "0.25925925925925924"
      ]
     },
     "execution_count": 141,
     "metadata": {},
     "output_type": "execute_result"
    }
   ],
   "source": [
    "acc[acc['p1']>=0.251]['loan_status'].mean()"
   ]
  },
  {
   "cell_type": "code",
   "execution_count": 143,
   "metadata": {},
   "outputs": [
    {
     "data": {
      "text/plain": [
       "0.31891891891891894"
      ]
     },
     "execution_count": 143,
     "metadata": {},
     "output_type": "execute_result"
    }
   ],
   "source": [
    "rej[rej['p0']<0.251]['loan_status'].mean()"
   ]
  },
  {
   "cell_type": "code",
   "execution_count": 145,
   "metadata": {},
   "outputs": [
    {
     "data": {
      "text/plain": [
       "<Axes: >"
      ]
     },
     "execution_count": 145,
     "metadata": {},
     "output_type": "execute_result"
    },
    {
     "data": {
      "image/png": "[encoded data removed]",
      "text/plain": [
       "<Figure size 640x480 with 1 Axes>"
      ]
     },
     "metadata": {},
     "output_type": "display_data"
    }
   ],
   "source": [
    "acc['CP_interval_length'].hist()"
   ]
  },
  {
   "cell_type": "code",
   "execution_count": 149,
   "metadata": {},
   "outputs": [
    {
     "data": {
      "text/plain": [
       "0.09016393442622951"
      ]
     },
     "execution_count": 149,
     "metadata": {},
     "output_type": "execute_result"
    }
   ],
   "source": [
    "acc[acc['CP_interval_length']>=0.02]['loan_status'].mean()"
   ]
  },
  {
   "cell_type": "code",
   "execution_count": 150,
   "metadata": {},
   "outputs": [
    {
     "data": {
      "text/plain": [
       "0.06416584402764067"
      ]
     },
     "execution_count": 150,
     "metadata": {},
     "output_type": "execute_result"
    }
   ],
   "source": [
    "acc[acc['CP_interval_length']<0.02]['loan_status'].mean()"
   ]
  },
  {
   "cell_type": "code",
   "execution_count": null,
   "metadata": {},
   "outputs": [],
   "source": []
  },
  {
   "cell_type": "code",
   "execution_count": null,
   "metadata": {},
   "outputs": [],
   "source": []
  },
  {
   "cell_type": "code",
   "execution_count": null,
   "metadata": {},
   "outputs": [],
   "source": []
  },
  {
   "cell_type": "code",
   "execution_count": null,
   "metadata": {},
   "outputs": [],
   "source": []
  },
  {
   "cell_type": "code",
   "execution_count": null,
   "metadata": {},
   "outputs": [],
   "source": []
  },
  {
   "cell_type": "code",
   "execution_count": null,
   "metadata": {},
   "outputs": [],
   "source": []
  },
  {
   "cell_type": "code",
   "execution_count": null,
   "metadata": {},
   "outputs": [],
   "source": []
  },
  {
   "cell_type": "markdown",
   "metadata": {},
   "source": [
    "# *Implementation of Vann-ABERS From Scratch*"
   ]
  },
  {
   "cell_type": "code",
   "execution_count": 28,
   "metadata": {},
   "outputs": [
    {
     "data": {
      "text/html": [
       "<div>\n",
       "<style scoped>\n",
       "    .dataframe tbody tr th:only-of-type {\n",
       "        vertical-align: middle;\n",
       "    }\n",
       "\n",
       "    .dataframe tbody tr th {\n",
       "        vertical-align: top;\n",
       "    }\n",
       "\n",
       "    .dataframe thead th {\n",
       "        text-align: right;\n",
       "    }\n",
       "</style>\n",
       "<table border=\"1\" class=\"dataframe\">\n",
       "  <thead>\n",
       "    <tr style=\"text-align: right;\">\n",
       "      <th></th>\n",
       "      <th>person_income</th>\n",
       "      <th>person_home_ownership</th>\n",
       "      <th>person_emp_length</th>\n",
       "      <th>loan_intent</th>\n",
       "      <th>loan_grade</th>\n",
       "      <th>loan_amnt</th>\n",
       "      <th>loan_status</th>\n",
       "      <th>loan_percent_income</th>\n",
       "      <th>cb_person_default_on_file</th>\n",
       "      <th>cb_person_cred_hist_length</th>\n",
       "      <th>ID</th>\n",
       "      <th>y_pred_0</th>\n",
       "      <th>y_pred_1</th>\n",
       "    </tr>\n",
       "  </thead>\n",
       "  <tbody>\n",
       "    <tr>\n",
       "      <th>0</th>\n",
       "      <td>39000.0</td>\n",
       "      <td>3</td>\n",
       "      <td>3.0</td>\n",
       "      <td>4</td>\n",
       "      <td>2</td>\n",
       "      <td>8000</td>\n",
       "      <td>1</td>\n",
       "      <td>0.21</td>\n",
       "      <td>1</td>\n",
       "      <td>3</td>\n",
       "      <td>8881</td>\n",
       "      <td>0.826349</td>\n",
       "      <td>0.173651</td>\n",
       "    </tr>\n",
       "    <tr>\n",
       "      <th>1</th>\n",
       "      <td>41000.0</td>\n",
       "      <td>3</td>\n",
       "      <td>3.0</td>\n",
       "      <td>5</td>\n",
       "      <td>3</td>\n",
       "      <td>7000</td>\n",
       "      <td>0</td>\n",
       "      <td>0.17</td>\n",
       "      <td>2</td>\n",
       "      <td>5</td>\n",
       "      <td>22262</td>\n",
       "      <td>0.866372</td>\n",
       "      <td>0.133628</td>\n",
       "    </tr>\n",
       "    <tr>\n",
       "      <th>2</th>\n",
       "      <td>36996.0</td>\n",
       "      <td>3</td>\n",
       "      <td>8.0</td>\n",
       "      <td>3</td>\n",
       "      <td>3</td>\n",
       "      <td>9600</td>\n",
       "      <td>0</td>\n",
       "      <td>0.26</td>\n",
       "      <td>2</td>\n",
       "      <td>4</td>\n",
       "      <td>10162</td>\n",
       "      <td>0.877720</td>\n",
       "      <td>0.122280</td>\n",
       "    </tr>\n",
       "    <tr>\n",
       "      <th>3</th>\n",
       "      <td>225000.0</td>\n",
       "      <td>3</td>\n",
       "      <td>13.0</td>\n",
       "      <td>2</td>\n",
       "      <td>3</td>\n",
       "      <td>12025</td>\n",
       "      <td>0</td>\n",
       "      <td>0.01</td>\n",
       "      <td>1</td>\n",
       "      <td>30</td>\n",
       "      <td>32333</td>\n",
       "      <td>0.960635</td>\n",
       "      <td>0.039365</td>\n",
       "    </tr>\n",
       "    <tr>\n",
       "      <th>4</th>\n",
       "      <td>105000.0</td>\n",
       "      <td>2</td>\n",
       "      <td>8.0</td>\n",
       "      <td>1</td>\n",
       "      <td>1</td>\n",
       "      <td>10000</td>\n",
       "      <td>0</td>\n",
       "      <td>0.10</td>\n",
       "      <td>1</td>\n",
       "      <td>3</td>\n",
       "      <td>14369</td>\n",
       "      <td>0.995643</td>\n",
       "      <td>0.004357</td>\n",
       "    </tr>\n",
       "    <tr>\n",
       "      <th>...</th>\n",
       "      <td>...</td>\n",
       "      <td>...</td>\n",
       "      <td>...</td>\n",
       "      <td>...</td>\n",
       "      <td>...</td>\n",
       "      <td>...</td>\n",
       "      <td>...</td>\n",
       "      <td>...</td>\n",
       "      <td>...</td>\n",
       "      <td>...</td>\n",
       "      <td>...</td>\n",
       "      <td>...</td>\n",
       "      <td>...</td>\n",
       "    </tr>\n",
       "    <tr>\n",
       "      <th>5182</th>\n",
       "      <td>140000.0</td>\n",
       "      <td>2</td>\n",
       "      <td>5.0</td>\n",
       "      <td>4</td>\n",
       "      <td>2</td>\n",
       "      <td>20000</td>\n",
       "      <td>0</td>\n",
       "      <td>0.14</td>\n",
       "      <td>1</td>\n",
       "      <td>9</td>\n",
       "      <td>27331</td>\n",
       "      <td>0.950190</td>\n",
       "      <td>0.049810</td>\n",
       "    </tr>\n",
       "    <tr>\n",
       "      <th>5183</th>\n",
       "      <td>45000.0</td>\n",
       "      <td>2</td>\n",
       "      <td>6.0</td>\n",
       "      <td>5</td>\n",
       "      <td>1</td>\n",
       "      <td>10000</td>\n",
       "      <td>0</td>\n",
       "      <td>0.22</td>\n",
       "      <td>1</td>\n",
       "      <td>10</td>\n",
       "      <td>20888</td>\n",
       "      <td>0.962147</td>\n",
       "      <td>0.037853</td>\n",
       "    </tr>\n",
       "    <tr>\n",
       "      <th>5184</th>\n",
       "      <td>200000.0</td>\n",
       "      <td>2</td>\n",
       "      <td>4.0</td>\n",
       "      <td>3</td>\n",
       "      <td>3</td>\n",
       "      <td>3000</td>\n",
       "      <td>0</td>\n",
       "      <td>0.01</td>\n",
       "      <td>1</td>\n",
       "      <td>3</td>\n",
       "      <td>198</td>\n",
       "      <td>0.949071</td>\n",
       "      <td>0.050929</td>\n",
       "    </tr>\n",
       "    <tr>\n",
       "      <th>5185</th>\n",
       "      <td>48000.0</td>\n",
       "      <td>2</td>\n",
       "      <td>4.0</td>\n",
       "      <td>3</td>\n",
       "      <td>1</td>\n",
       "      <td>6500</td>\n",
       "      <td>0</td>\n",
       "      <td>0.14</td>\n",
       "      <td>1</td>\n",
       "      <td>2</td>\n",
       "      <td>6126</td>\n",
       "      <td>0.943788</td>\n",
       "      <td>0.056212</td>\n",
       "    </tr>\n",
       "    <tr>\n",
       "      <th>5186</th>\n",
       "      <td>10800.0</td>\n",
       "      <td>3</td>\n",
       "      <td>4.0</td>\n",
       "      <td>1</td>\n",
       "      <td>3</td>\n",
       "      <td>2000</td>\n",
       "      <td>1</td>\n",
       "      <td>0.19</td>\n",
       "      <td>2</td>\n",
       "      <td>5</td>\n",
       "      <td>18804</td>\n",
       "      <td>0.029487</td>\n",
       "      <td>0.970513</td>\n",
       "    </tr>\n",
       "  </tbody>\n",
       "</table>\n",
       "<p>5187 rows × 13 columns</p>\n",
       "</div>"
      ],
      "text/plain": [
       "      person_income  person_home_ownership  person_emp_length  loan_intent  \\\n",
       "0           39000.0                      3                3.0            4   \n",
       "1           41000.0                      3                3.0            5   \n",
       "2           36996.0                      3                8.0            3   \n",
       "3          225000.0                      3               13.0            2   \n",
       "4          105000.0                      2                8.0            1   \n",
       "...             ...                    ...                ...          ...   \n",
       "5182       140000.0                      2                5.0            4   \n",
       "5183        45000.0                      2                6.0            5   \n",
       "5184       200000.0                      2                4.0            3   \n",
       "5185        48000.0                      2                4.0            3   \n",
       "5186        10800.0                      3                4.0            1   \n",
       "\n",
       "      loan_grade  loan_amnt  loan_status  loan_percent_income  \\\n",
       "0              2       8000            1                 0.21   \n",
       "1              3       7000            0                 0.17   \n",
       "2              3       9600            0                 0.26   \n",
       "3              3      12025            0                 0.01   \n",
       "4              1      10000            0                 0.10   \n",
       "...          ...        ...          ...                  ...   \n",
       "5182           2      20000            0                 0.14   \n",
       "5183           1      10000            0                 0.22   \n",
       "5184           3       3000            0                 0.01   \n",
       "5185           1       6500            0                 0.14   \n",
       "5186           3       2000            1                 0.19   \n",
       "\n",
       "      cb_person_default_on_file  cb_person_cred_hist_length     ID  y_pred_0  \\\n",
       "0                             1                           3   8881  0.826349   \n",
       "1                             2                           5  22262  0.866372   \n",
       "2                             2                           4  10162  0.877720   \n",
       "3                             1                          30  32333  0.960635   \n",
       "4                             1                           3  14369  0.995643   \n",
       "...                         ...                         ...    ...       ...   \n",
       "5182                          1                           9  27331  0.950190   \n",
       "5183                          1                          10  20888  0.962147   \n",
       "5184                          1                           3    198  0.949071   \n",
       "5185                          1                           2   6126  0.943788   \n",
       "5186                          2                           5  18804  0.029487   \n",
       "\n",
       "      y_pred_1  \n",
       "0     0.173651  \n",
       "1     0.133628  \n",
       "2     0.122280  \n",
       "3     0.039365  \n",
       "4     0.004357  \n",
       "...        ...  \n",
       "5182  0.049810  \n",
       "5183  0.037853  \n",
       "5184  0.050929  \n",
       "5185  0.056212  \n",
       "5186  0.970513  \n",
       "\n",
       "[5187 rows x 13 columns]"
      ]
     },
     "execution_count": 28,
     "metadata": {},
     "output_type": "execute_result"
    }
   ],
   "source": [
    "valid_df"
   ]
  },
  {
   "cell_type": "code",
   "execution_count": 37,
   "metadata": {},
   "outputs": [],
   "source": [
    "train_df['y_pred_0'] = xgb_model.predict_proba(X_train)[:, 0]\n",
    "train_df['y_pred_1'] = xgb_model.predict_proba(X_train)[:, 1]\n",
    "\n",
    "valid_df['y_pred_0'] = xgb_model.predict_proba(X_valid)[:, 0]\n",
    "valid_df['y_pred_1'] = xgb_model.predict_proba(X_valid)[:, 1]\n",
    "\n",
    "test_df['y_pred_0'] = xgb_model.predict_proba(X_test)[:, 0]\n",
    "test_df['y_pred_1'] = xgb_model.predict_proba(X_test)[:, 1]"
   ]
  },
  {
   "cell_type": "code",
   "execution_count": 38,
   "metadata": {},
   "outputs": [],
   "source": [
    "ir_0 = IsotonicRegression()\n",
    "ir_1 = IsotonicRegression()"
   ]
  },
  {
   "cell_type": "code",
   "execution_count": 39,
   "metadata": {},
   "outputs": [],
   "source": [
    "p_cal_0 = valid_df.loc[valid_df['loan_status'] == 0, 'y_pred_0']\n",
    "y_cal_0 = valid_df.loc[valid_df['loan_status'] == 0, 'loan_status']\n",
    "\n",
    "p_cal_1 = valid_df.loc[valid_df['loan_status'] == 1, 'y_pred_1']\n",
    "y_cal_1 = valid_df.loc[valid_df['loan_status'] == 1, 'loan_status']"
   ]
  },
  {
   "cell_type": "code",
   "execution_count": 40,
   "metadata": {},
   "outputs": [
    {
     "data": {
      "text/html": [
       "<style>#sk-container-id-4 {color: black;}#sk-container-id-4 pre{padding: 0;}#sk-container-id-4 div.sk-toggleable {background-color: white;}#sk-container-id-4 label.sk-toggleable__label {cursor: pointer;display: block;width: 100%;margin-bottom: 0;padding: 0.3em;box-sizing: border-box;text-align: center;}#sk-container-id-4 label.sk-toggleable__label-arrow:before {content: \"▸\";float: left;margin-right: 0.25em;color: #696969;}#sk-container-id-4 label.sk-toggleable__label-arrow:hover:before {color: black;}#sk-container-id-4 div.sk-estimator:hover label.sk-toggleable__label-arrow:before {color: black;}#sk-container-id-4 div.sk-toggleable__content {max-height: 0;max-width: 0;overflow: hidden;text-align: left;background-color: #f0f8ff;}#sk-container-id-4 div.sk-toggleable__content pre {margin: 0.2em;color: black;border-radius: 0.25em;background-color: #f0f8ff;}#sk-container-id-4 input.sk-toggleable__control:checked~div.sk-toggleable__content {max-height: 200px;max-width: 100%;overflow: auto;}#sk-container-id-4 input.sk-toggleable__control:checked~label.sk-toggleable__label-arrow:before {content: \"▾\";}#sk-container-id-4 div.sk-estimator input.sk-toggleable__control:checked~label.sk-toggleable__label {background-color: #d4ebff;}#sk-container-id-4 div.sk-label input.sk-toggleable__control:checked~label.sk-toggleable__label {background-color: #d4ebff;}#sk-container-id-4 input.sk-hidden--visually {border: 0;clip: rect(1px 1px 1px 1px);clip: rect(1px, 1px, 1px, 1px);height: 1px;margin: -1px;overflow: hidden;padding: 0;position: absolute;width: 1px;}#sk-container-id-4 div.sk-estimator {font-family: monospace;background-color: #f0f8ff;border: 1px dotted black;border-radius: 0.25em;box-sizing: border-box;margin-bottom: 0.5em;}#sk-container-id-4 div.sk-estimator:hover {background-color: #d4ebff;}#sk-container-id-4 div.sk-parallel-item::after {content: \"\";width: 100%;border-bottom: 1px solid gray;flex-grow: 1;}#sk-container-id-4 div.sk-label:hover label.sk-toggleable__label {background-color: #d4ebff;}#sk-container-id-4 div.sk-serial::before {content: \"\";position: absolute;border-left: 1px solid gray;box-sizing: border-box;top: 0;bottom: 0;left: 50%;z-index: 0;}#sk-container-id-4 div.sk-serial {display: flex;flex-direction: column;align-items: center;background-color: white;padding-right: 0.2em;padding-left: 0.2em;position: relative;}#sk-container-id-4 div.sk-item {position: relative;z-index: 1;}#sk-container-id-4 div.sk-parallel {display: flex;align-items: stretch;justify-content: center;background-color: white;position: relative;}#sk-container-id-4 div.sk-item::before, #sk-container-id-4 div.sk-parallel-item::before {content: \"\";position: absolute;border-left: 1px solid gray;box-sizing: border-box;top: 0;bottom: 0;left: 50%;z-index: -1;}#sk-container-id-4 div.sk-parallel-item {display: flex;flex-direction: column;z-index: 1;position: relative;background-color: white;}#sk-container-id-4 div.sk-parallel-item:first-child::after {align-self: flex-end;width: 50%;}#sk-container-id-4 div.sk-parallel-item:last-child::after {align-self: flex-start;width: 50%;}#sk-container-id-4 div.sk-parallel-item:only-child::after {width: 0;}#sk-container-id-4 div.sk-dashed-wrapped {border: 1px dashed gray;margin: 0 0.4em 0.5em 0.4em;box-sizing: border-box;padding-bottom: 0.4em;background-color: white;}#sk-container-id-4 div.sk-label label {font-family: monospace;font-weight: bold;display: inline-block;line-height: 1.2em;}#sk-container-id-4 div.sk-label-container {text-align: center;}#sk-container-id-4 div.sk-container {/* jupyter's `normalize.less` sets `[hidden] { display: none; }` but bootstrap.min.css set `[hidden] { display: none !important; }` so we also need the `!important` here to be able to override the default hidden behavior on the sphinx rendered scikit-learn.org. See: https://github.com/scikit-learn/scikit-learn/issues/21755 */display: inline-block !important;position: relative;}#sk-container-id-4 div.sk-text-repr-fallback {display: none;}</style><div id=\"sk-container-id-4\" class=\"sk-top-container\"><div class=\"sk-text-repr-fallback\"><pre>IsotonicRegression()</pre><b>In a Jupyter environment, please rerun this cell to show the HTML representation or trust the notebook. <br />On GitHub, the HTML representation is unable to render, please try loading this page with nbviewer.org.</b></div><div class=\"sk-container\" hidden><div class=\"sk-item\"><div class=\"sk-estimator sk-toggleable\"><input class=\"sk-toggleable__control sk-hidden--visually\" id=\"sk-estimator-id-4\" type=\"checkbox\" checked><label for=\"sk-estimator-id-4\" class=\"sk-toggleable__label sk-toggleable__label-arrow\">IsotonicRegression</label><div class=\"sk-toggleable__content\"><pre>IsotonicRegression()</pre></div></div></div></div></div>"
      ],
      "text/plain": [
       "IsotonicRegression()"
      ]
     },
     "execution_count": 40,
     "metadata": {},
     "output_type": "execute_result"
    }
   ],
   "source": [
    "ir_0.fit(p_cal_0, y_cal_0)\n",
    "ir_1.fit(p_cal_1, y_cal_1)"
   ]
  },
  {
   "cell_type": "code",
   "execution_count": 41,
   "metadata": {},
   "outputs": [],
   "source": [
    "prob_0 = ir_0.transform(p_cal_0)  # Calibrated probs for class 0\n",
    "prob_1 = ir_1.transform(p_cal_1)  # Calibrated probs for class 1"
   ]
  },
  {
   "cell_type": "code",
   "execution_count": 35,
   "metadata": {},
   "outputs": [
    {
     "data": {
      "text/plain": [
       "array([0., 0., 0., ..., 0., 0., 0.], dtype=float32)"
      ]
     },
     "execution_count": 35,
     "metadata": {},
     "output_type": "execute_result"
    }
   ],
   "source": [
    "prob_0"
   ]
  },
  {
   "cell_type": "code",
   "execution_count": 36,
   "metadata": {},
   "outputs": [
    {
     "data": {
      "text/plain": [
       "array([1., 1., 1., ..., 1., 1., 1.], dtype=float32)"
      ]
     },
     "execution_count": 36,
     "metadata": {},
     "output_type": "execute_result"
    }
   ],
   "source": [
    "prob_1"
   ]
  },
  {
   "cell_type": "code",
   "execution_count": null,
   "metadata": {},
   "outputs": [],
   "source": []
  },
  {
   "cell_type": "code",
   "execution_count": null,
   "metadata": {},
   "outputs": [],
   "source": []
  },
  {
   "cell_type": "code",
   "execution_count": 44,
   "metadata": {},
   "outputs": [
    {
     "data": {
      "text/html": [
       "<style>#sk-container-id-5 {color: black;}#sk-container-id-5 pre{padding: 0;}#sk-container-id-5 div.sk-toggleable {background-color: white;}#sk-container-id-5 label.sk-toggleable__label {cursor: pointer;display: block;width: 100%;margin-bottom: 0;padding: 0.3em;box-sizing: border-box;text-align: center;}#sk-container-id-5 label.sk-toggleable__label-arrow:before {content: \"▸\";float: left;margin-right: 0.25em;color: #696969;}#sk-container-id-5 label.sk-toggleable__label-arrow:hover:before {color: black;}#sk-container-id-5 div.sk-estimator:hover label.sk-toggleable__label-arrow:before {color: black;}#sk-container-id-5 div.sk-toggleable__content {max-height: 0;max-width: 0;overflow: hidden;text-align: left;background-color: #f0f8ff;}#sk-container-id-5 div.sk-toggleable__content pre {margin: 0.2em;color: black;border-radius: 0.25em;background-color: #f0f8ff;}#sk-container-id-5 input.sk-toggleable__control:checked~div.sk-toggleable__content {max-height: 200px;max-width: 100%;overflow: auto;}#sk-container-id-5 input.sk-toggleable__control:checked~label.sk-toggleable__label-arrow:before {content: \"▾\";}#sk-container-id-5 div.sk-estimator input.sk-toggleable__control:checked~label.sk-toggleable__label {background-color: #d4ebff;}#sk-container-id-5 div.sk-label input.sk-toggleable__control:checked~label.sk-toggleable__label {background-color: #d4ebff;}#sk-container-id-5 input.sk-hidden--visually {border: 0;clip: rect(1px 1px 1px 1px);clip: rect(1px, 1px, 1px, 1px);height: 1px;margin: -1px;overflow: hidden;padding: 0;position: absolute;width: 1px;}#sk-container-id-5 div.sk-estimator {font-family: monospace;background-color: #f0f8ff;border: 1px dotted black;border-radius: 0.25em;box-sizing: border-box;margin-bottom: 0.5em;}#sk-container-id-5 div.sk-estimator:hover {background-color: #d4ebff;}#sk-container-id-5 div.sk-parallel-item::after {content: \"\";width: 100%;border-bottom: 1px solid gray;flex-grow: 1;}#sk-container-id-5 div.sk-label:hover label.sk-toggleable__label {background-color: #d4ebff;}#sk-container-id-5 div.sk-serial::before {content: \"\";position: absolute;border-left: 1px solid gray;box-sizing: border-box;top: 0;bottom: 0;left: 50%;z-index: 0;}#sk-container-id-5 div.sk-serial {display: flex;flex-direction: column;align-items: center;background-color: white;padding-right: 0.2em;padding-left: 0.2em;position: relative;}#sk-container-id-5 div.sk-item {position: relative;z-index: 1;}#sk-container-id-5 div.sk-parallel {display: flex;align-items: stretch;justify-content: center;background-color: white;position: relative;}#sk-container-id-5 div.sk-item::before, #sk-container-id-5 div.sk-parallel-item::before {content: \"\";position: absolute;border-left: 1px solid gray;box-sizing: border-box;top: 0;bottom: 0;left: 50%;z-index: -1;}#sk-container-id-5 div.sk-parallel-item {display: flex;flex-direction: column;z-index: 1;position: relative;background-color: white;}#sk-container-id-5 div.sk-parallel-item:first-child::after {align-self: flex-end;width: 50%;}#sk-container-id-5 div.sk-parallel-item:last-child::after {align-self: flex-start;width: 50%;}#sk-container-id-5 div.sk-parallel-item:only-child::after {width: 0;}#sk-container-id-5 div.sk-dashed-wrapped {border: 1px dashed gray;margin: 0 0.4em 0.5em 0.4em;box-sizing: border-box;padding-bottom: 0.4em;background-color: white;}#sk-container-id-5 div.sk-label label {font-family: monospace;font-weight: bold;display: inline-block;line-height: 1.2em;}#sk-container-id-5 div.sk-label-container {text-align: center;}#sk-container-id-5 div.sk-container {/* jupyter's `normalize.less` sets `[hidden] { display: none; }` but bootstrap.min.css set `[hidden] { display: none !important; }` so we also need the `!important` here to be able to override the default hidden behavior on the sphinx rendered scikit-learn.org. See: https://github.com/scikit-learn/scikit-learn/issues/21755 */display: inline-block !important;position: relative;}#sk-container-id-5 div.sk-text-repr-fallback {display: none;}</style><div id=\"sk-container-id-5\" class=\"sk-top-container\"><div class=\"sk-text-repr-fallback\"><pre>IsotonicRegression()</pre><b>In a Jupyter environment, please rerun this cell to show the HTML representation or trust the notebook. <br />On GitHub, the HTML representation is unable to render, please try loading this page with nbviewer.org.</b></div><div class=\"sk-container\" hidden><div class=\"sk-item\"><div class=\"sk-estimator sk-toggleable\"><input class=\"sk-toggleable__control sk-hidden--visually\" id=\"sk-estimator-id-5\" type=\"checkbox\" checked><label for=\"sk-estimator-id-5\" class=\"sk-toggleable__label sk-toggleable__label-arrow\">IsotonicRegression</label><div class=\"sk-toggleable__content\"><pre>IsotonicRegression()</pre></div></div></div></div></div>"
      ],
      "text/plain": [
       "IsotonicRegression()"
      ]
     },
     "execution_count": 44,
     "metadata": {},
     "output_type": "execute_result"
    }
   ],
   "source": [
    "p_cal_0 = valid_df.loc[valid_df['loan_status'] == 0, 'y_pred_0']\n",
    "y_cal_0 = valid_df.loc[valid_df['loan_status'] == 0, 'loan_status']\n",
    "\n",
    "p_cal_1 = valid_df.loc[valid_df['loan_status'] == 1, 'y_pred_1']\n",
    "y_cal_1 = valid_df.loc[valid_df['loan_status'] == 1, 'loan_status']\n",
    "\n",
    "ir_0.fit(p_cal_0, y_cal_0)\n",
    "ir_1.fit(p_cal_1, y_cal_1)"
   ]
  },
  {
   "cell_type": "code",
   "execution_count": 45,
   "metadata": {},
   "outputs": [
    {
     "ename": "KeyError",
     "evalue": "'y_pred'",
     "output_type": "error",
     "traceback": [
      "\u001b[1;31m---------------------------------------------------------------------------\u001b[0m",
      "\u001b[1;31mKeyError\u001b[0m                                  Traceback (most recent call last)",
      "File \u001b[1;32mc:\\Users\\User\\.conda\\envs\\classification_calibration\\lib\\site-packages\\pandas\\core\\indexes\\base.py:3805\u001b[0m, in \u001b[0;36mIndex.get_loc\u001b[1;34m(self, key)\u001b[0m\n\u001b[0;32m   3804\u001b[0m \u001b[38;5;28;01mtry\u001b[39;00m:\n\u001b[1;32m-> 3805\u001b[0m     \u001b[38;5;28;01mreturn\u001b[39;00m \u001b[38;5;28;43mself\u001b[39;49m\u001b[38;5;241;43m.\u001b[39;49m\u001b[43m_engine\u001b[49m\u001b[38;5;241;43m.\u001b[39;49m\u001b[43mget_loc\u001b[49m\u001b[43m(\u001b[49m\u001b[43mcasted_key\u001b[49m\u001b[43m)\u001b[49m\n\u001b[0;32m   3806\u001b[0m \u001b[38;5;28;01mexcept\u001b[39;00m \u001b[38;5;167;01mKeyError\u001b[39;00m \u001b[38;5;28;01mas\u001b[39;00m err:\n",
      "File \u001b[1;32mindex.pyx:167\u001b[0m, in \u001b[0;36mpandas._libs.index.IndexEngine.get_loc\u001b[1;34m()\u001b[0m\n",
      "File \u001b[1;32mindex.pyx:196\u001b[0m, in \u001b[0;36mpandas._libs.index.IndexEngine.get_loc\u001b[1;34m()\u001b[0m\n",
      "File \u001b[1;32mpandas\\\\_libs\\\\hashtable_class_helper.pxi:7081\u001b[0m, in \u001b[0;36mpandas._libs.hashtable.PyObjectHashTable.get_item\u001b[1;34m()\u001b[0m\n",
      "File \u001b[1;32mpandas\\\\_libs\\\\hashtable_class_helper.pxi:7089\u001b[0m, in \u001b[0;36mpandas._libs.hashtable.PyObjectHashTable.get_item\u001b[1;34m()\u001b[0m\n",
      "\u001b[1;31mKeyError\u001b[0m: 'y_pred'",
      "\nThe above exception was the direct cause of the following exception:\n",
      "\u001b[1;31mKeyError\u001b[0m                                  Traceback (most recent call last)",
      "Cell \u001b[1;32mIn[45], line 4\u001b[0m\n\u001b[0;32m      1\u001b[0m g_0 \u001b[38;5;241m=\u001b[39m IsotonicRegression()\n\u001b[0;32m      2\u001b[0m g_1 \u001b[38;5;241m=\u001b[39m IsotonicRegression()\n\u001b[1;32m----> 4\u001b[0m p_cal \u001b[38;5;241m=\u001b[39m \u001b[43mvalid_df\u001b[49m\u001b[43m[\u001b[49m\u001b[38;5;124;43m'\u001b[39;49m\u001b[38;5;124;43my_pred\u001b[39;49m\u001b[38;5;124;43m'\u001b[39;49m\u001b[43m]\u001b[49m  \u001b[38;5;66;03m# Use full dataset predictions\u001b[39;00m\n\u001b[0;32m      5\u001b[0m y_cal \u001b[38;5;241m=\u001b[39m valid_df[\u001b[38;5;124m'\u001b[39m\u001b[38;5;124mloan_status\u001b[39m\u001b[38;5;124m'\u001b[39m]  \u001b[38;5;66;03m# True labels\u001b[39;00m\n\u001b[0;32m      7\u001b[0m g_0\u001b[38;5;241m.\u001b[39mfit(p_cal, (y_cal \u001b[38;5;241m==\u001b[39m \u001b[38;5;241m0\u001b[39m)\u001b[38;5;241m.\u001b[39mastype(\u001b[38;5;28mint\u001b[39m))  \u001b[38;5;66;03m# Class 0 calibration\u001b[39;00m\n",
      "File \u001b[1;32mc:\\Users\\User\\.conda\\envs\\classification_calibration\\lib\\site-packages\\pandas\\core\\frame.py:4102\u001b[0m, in \u001b[0;36mDataFrame.__getitem__\u001b[1;34m(self, key)\u001b[0m\n\u001b[0;32m   4100\u001b[0m \u001b[38;5;28;01mif\u001b[39;00m \u001b[38;5;28mself\u001b[39m\u001b[38;5;241m.\u001b[39mcolumns\u001b[38;5;241m.\u001b[39mnlevels \u001b[38;5;241m>\u001b[39m \u001b[38;5;241m1\u001b[39m:\n\u001b[0;32m   4101\u001b[0m     \u001b[38;5;28;01mreturn\u001b[39;00m \u001b[38;5;28mself\u001b[39m\u001b[38;5;241m.\u001b[39m_getitem_multilevel(key)\n\u001b[1;32m-> 4102\u001b[0m indexer \u001b[38;5;241m=\u001b[39m \u001b[38;5;28;43mself\u001b[39;49m\u001b[38;5;241;43m.\u001b[39;49m\u001b[43mcolumns\u001b[49m\u001b[38;5;241;43m.\u001b[39;49m\u001b[43mget_loc\u001b[49m\u001b[43m(\u001b[49m\u001b[43mkey\u001b[49m\u001b[43m)\u001b[49m\n\u001b[0;32m   4103\u001b[0m \u001b[38;5;28;01mif\u001b[39;00m is_integer(indexer):\n\u001b[0;32m   4104\u001b[0m     indexer \u001b[38;5;241m=\u001b[39m [indexer]\n",
      "File \u001b[1;32mc:\\Users\\User\\.conda\\envs\\classification_calibration\\lib\\site-packages\\pandas\\core\\indexes\\base.py:3812\u001b[0m, in \u001b[0;36mIndex.get_loc\u001b[1;34m(self, key)\u001b[0m\n\u001b[0;32m   3807\u001b[0m     \u001b[38;5;28;01mif\u001b[39;00m \u001b[38;5;28misinstance\u001b[39m(casted_key, \u001b[38;5;28mslice\u001b[39m) \u001b[38;5;129;01mor\u001b[39;00m (\n\u001b[0;32m   3808\u001b[0m         \u001b[38;5;28misinstance\u001b[39m(casted_key, abc\u001b[38;5;241m.\u001b[39mIterable)\n\u001b[0;32m   3809\u001b[0m         \u001b[38;5;129;01mand\u001b[39;00m \u001b[38;5;28many\u001b[39m(\u001b[38;5;28misinstance\u001b[39m(x, \u001b[38;5;28mslice\u001b[39m) \u001b[38;5;28;01mfor\u001b[39;00m x \u001b[38;5;129;01min\u001b[39;00m casted_key)\n\u001b[0;32m   3810\u001b[0m     ):\n\u001b[0;32m   3811\u001b[0m         \u001b[38;5;28;01mraise\u001b[39;00m InvalidIndexError(key)\n\u001b[1;32m-> 3812\u001b[0m     \u001b[38;5;28;01mraise\u001b[39;00m \u001b[38;5;167;01mKeyError\u001b[39;00m(key) \u001b[38;5;28;01mfrom\u001b[39;00m\u001b[38;5;250m \u001b[39m\u001b[38;5;21;01merr\u001b[39;00m\n\u001b[0;32m   3813\u001b[0m \u001b[38;5;28;01mexcept\u001b[39;00m \u001b[38;5;167;01mTypeError\u001b[39;00m:\n\u001b[0;32m   3814\u001b[0m     \u001b[38;5;66;03m# If we have a listlike key, _check_indexing_error will raise\u001b[39;00m\n\u001b[0;32m   3815\u001b[0m     \u001b[38;5;66;03m#  InvalidIndexError. Otherwise we fall through and re-raise\u001b[39;00m\n\u001b[0;32m   3816\u001b[0m     \u001b[38;5;66;03m#  the TypeError.\u001b[39;00m\n\u001b[0;32m   3817\u001b[0m     \u001b[38;5;28mself\u001b[39m\u001b[38;5;241m.\u001b[39m_check_indexing_error(key)\n",
      "\u001b[1;31mKeyError\u001b[0m: 'y_pred'"
     ]
    }
   ],
   "source": [
    "g_0 = IsotonicRegression()\n",
    "g_1 = IsotonicRegression()\n",
    "\n",
    "p_cal = valid_df['y_pred']  # Use full dataset predictions\n",
    "y_cal = valid_df['loan_status']  # True labels\n",
    "\n",
    "g_0.fit(p_cal, (y_cal == 0).astype(int))  # Class 0 calibration\n",
    "g_1.fit(p_cal, (y_cal == 1).astype(int))  # Class 1 calibration\n",
    "\n",
    "prob_0 = g_0.predict(valid_df['y_pred'])\n",
    "prob_1 = g_1.predict(valid_df['y_pred'])\n"
   ]
  },
  {
   "cell_type": "code",
   "execution_count": 86,
   "metadata": {},
   "outputs": [
    {
     "data": {
      "text/plain": [
       "array([[0.17365061],\n",
       "       [0.13362758],\n",
       "       [0.12227967],\n",
       "       ...,\n",
       "       [0.05092907],\n",
       "       [0.05621203],\n",
       "       [0.9705132 ]], dtype=float32)"
      ]
     },
     "execution_count": 86,
     "metadata": {},
     "output_type": "execute_result"
    }
   ],
   "source": [
    "p_cal[:, 1].reshape(-1, 1)"
   ]
  },
  {
   "cell_type": "code",
   "execution_count": 87,
   "metadata": {},
   "outputs": [
    {
     "data": {
      "text/plain": [
       "array([[0.8263494 , 0.17365061],\n",
       "       [0.8663724 , 0.13362758],\n",
       "       [0.87772036, 0.12227967],\n",
       "       ...,\n",
       "       [0.94907093, 0.05092907],\n",
       "       [0.943788  , 0.05621203],\n",
       "       [0.02948678, 0.9705132 ]], dtype=float32)"
      ]
     },
     "execution_count": 87,
     "metadata": {},
     "output_type": "execute_result"
    }
   ],
   "source": [
    "p_cal"
   ]
  },
  {
   "cell_type": "code",
   "execution_count": 90,
   "metadata": {},
   "outputs": [
    {
     "data": {
      "text/plain": [
       "array([[0.17365061, 1.        ],\n",
       "       [0.13362758, 0.        ],\n",
       "       [0.12227967, 0.        ],\n",
       "       ...,\n",
       "       [0.05092907, 0.        ],\n",
       "       [0.05621203, 0.        ],\n",
       "       [0.97051322, 1.        ]])"
      ]
     },
     "execution_count": 90,
     "metadata": {},
     "output_type": "execute_result"
    }
   ],
   "source": [
    "np.hstack((p_cal[:, 1].reshape(-1, 1), y_valid.values.reshape(-1, 1)))"
   ]
  },
  {
   "cell_type": "code",
   "execution_count": 93,
   "metadata": {},
   "outputs": [],
   "source": [
    "cal = np.hstack((p_cal[:, 1].reshape(-1, 1), y_valid.values.reshape(-1, 1)))"
   ]
  },
  {
   "cell_type": "code",
   "execution_count": 200,
   "metadata": {},
   "outputs": [],
   "source": [
    "ix = np.argsort(cal[:, 0])\n",
    "k_sort = cal[ix, 0]\n",
    "k_label_sort = cal[ix, 1]\n",
    "\n",
    "c = np.unique(k_sort)\n",
    "ia = np.searchsorted(k_sort, c)\n",
    "\n",
    "w = np.zeros(len(c))\n",
    "\n",
    "w[:-1] = np.diff(ia)\n",
    "w[-1] = len(k_sort) - ia[-1]\n",
    "\n",
    "k_dash = len(c)\n",
    "P = np.zeros((k_dash + 2, 2))\n",
    "\n",
    "P[0, :] = -1\n",
    "\n",
    "P[2:, 0] = np.cumsum(w)\n",
    "P[2:-1, 1] = np.cumsum(k_label_sort)[(ia - 1)[1:]]\n",
    "P[-1, 1] = np.cumsum(k_label_sort)[-1]\n",
    "\n",
    "p1 = np.zeros((len(c) + 1, 2))\n",
    "p1[1:, 0] = c\n",
    "\n",
    "P1 = P[1:] + 1"
   ]
  },
  {
   "cell_type": "code",
   "execution_count": 231,
   "metadata": {},
   "outputs": [
    {
     "data": {
      "text/plain": [
       "array([[1.000e+00, 1.000e+00],\n",
       "       [1.400e+01, 1.000e+00],\n",
       "       [1.500e+01, 1.000e+00],\n",
       "       ...,\n",
       "       [5.186e+03, 1.106e+03],\n",
       "       [5.187e+03, 1.107e+03],\n",
       "       [5.188e+03, 1.108e+03]])"
      ]
     },
     "execution_count": 231,
     "metadata": {},
     "output_type": "execute_result"
    }
   ],
   "source": [
    "P[1:]+1"
   ]
  },
  {
   "cell_type": "code",
   "execution_count": 225,
   "metadata": {},
   "outputs": [
    {
     "data": {
      "text/plain": [
       "array([[0.        , 0.        ],\n",
       "       [0.00184519, 0.        ],\n",
       "       [0.0018601 , 0.        ],\n",
       "       ...,\n",
       "       [0.99242216, 0.        ],\n",
       "       [0.99269766, 0.        ],\n",
       "       [0.99373722, 0.        ]])"
      ]
     },
     "execution_count": 225,
     "metadata": {},
     "output_type": "execute_result"
    }
   ],
   "source": [
    "p1"
   ]
  },
  {
   "cell_type": "code",
   "execution_count": 226,
   "metadata": {},
   "outputs": [
    {
     "data": {
      "text/plain": [
       "array([[1.000e+00, 1.000e+00],\n",
       "       [1.400e+01, 1.000e+00],\n",
       "       [1.500e+01, 1.000e+00],\n",
       "       ...,\n",
       "       [5.186e+03, 1.106e+03],\n",
       "       [5.187e+03, 1.107e+03],\n",
       "       [5.188e+03, 1.108e+03]])"
      ]
     },
     "execution_count": 226,
     "metadata": {},
     "output_type": "execute_result"
    }
   ],
   "source": [
    "P1"
   ]
  },
  {
   "cell_type": "code",
   "execution_count": null,
   "metadata": {},
   "outputs": [],
   "source": [
    "if precision is not None:\n",
    "    cal = np.hstack((np.round(p_cal[:, 1], precision).reshape(-1, 1), y_cal.reshape(-1, 1)))\n",
    "else:\n",
    "    cal = np.hstack((p_cal[:, 1].reshape(-1, 1), y_cal.reshape(-1, 1)))\n",
    "ix = np.argsort(cal[:, 0])\n",
    "k_sort = cal[ix, 0]\n",
    "k_label_sort = cal[ix, 1]\n",
    "\n",
    "c = np.unique(k_sort)\n",
    "ia = np.searchsorted(k_sort, c)\n",
    "\n",
    "w = np.zeros(len(c))\n",
    "\n",
    "w[:-1] = np.diff(ia)\n",
    "w[-1] = len(k_sort) - ia[-1]\n",
    "\n",
    "k_dash = len(c)\n",
    "P = np.zeros((k_dash + 2, 2))\n",
    "\n",
    "P[0, :] = -1\n",
    "\n",
    "P[2:, 0] = np.cumsum(w)\n",
    "P[2:-1, 1] = np.cumsum(k_label_sort)[(ia - 1)[1:]]\n",
    "P[-1, 1] = np.cumsum(k_label_sort)[-1]\n",
    "\n",
    "p1 = np.zeros((len(c) + 1, 2))\n",
    "p1[1:, 0] = c\n",
    "\n",
    "P1 = P[1:] + 1\n",
    "\n",
    "for i in range(len(p1)):\n",
    "\n",
    "    P1[i, :] = P1[i, :] - 1\n",
    "\n",
    "    if i == 0:\n",
    "        grads = np.divide(P1[:, 1], P1[:, 0])\n",
    "        grad = np.nanmin(grads)\n",
    "        p1[i, 1] = grad\n",
    "        c_point = 0\n",
    "    else:\n",
    "        imp_point = P1[c_point, 1] + (P1[i, 0] - P1[c_point, 0]) * grad\n",
    "\n",
    "        if P1[i, 1] < imp_point:\n",
    "            grads = np.divide((P1[i:, 1] - P1[i, 1]), (P1[i:, 0] - P1[i, 0]))\n",
    "            if np.sum(np.isnan(np.nanmin(grads))) == 0:\n",
    "                grad = np.nanmin(grads)\n",
    "            c_point = i\n",
    "            p1[i, 1] = grad\n",
    "        else:\n",
    "            p1[i, 1] = grad\n",
    "\n",
    "p0 = np.zeros((len(c) + 1, 2))\n",
    "p0[1:, 0] = c\n",
    "\n",
    "P0 = P[1:]\n",
    "\n",
    "for i in range(len(p1) - 1, -1, -1):\n",
    "    P0[i, 0] = P0[i, 0] + 1\n",
    "\n",
    "    if i == len(p1) - 1:\n",
    "        grads = np.divide((P0[:, 1] - P0[i, 1]), (P0[:, 0] - P0[i, 0]))\n",
    "        grad = np.nanmax(grads)\n",
    "        p0[i, 1] = grad\n",
    "        c_point = i\n",
    "    else:\n",
    "        imp_point = P0[c_point, 1] + (P0[i, 0] - P0[c_point, 0]) * grad\n",
    "\n",
    "        if P0[i, 1] < imp_point:\n",
    "            grads = np.divide((P0[:, 1] - P0[i, 1]), (P0[:, 0] - P0[i, 0]))\n",
    "            grads[i:] = 0\n",
    "            grad = np.nanmax(grads)\n",
    "            c_point = i\n",
    "            p0[i, 1] = grad\n",
    "        else:\n",
    "            p0[i, 1] = grad\n"
   ]
  },
  {
   "cell_type": "code",
   "execution_count": 247,
   "metadata": {},
   "outputs": [],
   "source": [
    "from sklearn.isotonic import IsotonicRegression\n",
    "\n",
    "# Data for positive class\n",
    "X_pos = [0.1, 0.3, 0.5, 0.7, 0.9]  # Predicted probabilities\n",
    "y_pos = [0, 1, 0, 1, 1]             # True labels\n",
    "\n",
    "# Fit isotonic regression (non-decreasing)\n",
    "iso_pos = IsotonicRegression(out_of_bounds=\"clip\")\n",
    "iso_pos.fit(X_pos, y_pos)\n",
    "\n",
    "# Calibrated probabilities for positive class\n",
    "p1 = iso_pos.transform(X_pos)"
   ]
  },
  {
   "cell_type": "code",
   "execution_count": 248,
   "metadata": {},
   "outputs": [
    {
     "data": {
      "text/plain": [
       "array([0. , 0.5, 0.5, 1. , 1. ])"
      ]
     },
     "execution_count": 248,
     "metadata": {},
     "output_type": "execute_result"
    }
   ],
   "source": [
    "p1"
   ]
  },
  {
   "cell_type": "code",
   "execution_count": 249,
   "metadata": {},
   "outputs": [
    {
     "data": {
      "text/plain": [
       "[<matplotlib.lines.Line2D at 0x15daa96f8b0>]"
      ]
     },
     "execution_count": 249,
     "metadata": {},
     "output_type": "execute_result"
    },
    {
     "data": {
      "image/png": "[encoded data removed]",
      "text/plain": [
       "<Figure size 640x480 with 1 Axes>"
      ]
     },
     "metadata": {},
     "output_type": "display_data"
    }
   ],
   "source": [
    "plt.scatter(X_pos, y_pos)\n",
    "plt.plot(X_pos, p1, color='red')"
   ]
  },
  {
   "cell_type": "code",
   "execution_count": 255,
   "metadata": {},
   "outputs": [],
   "source": [
    "# Data for negative class\n",
    "X_neg = [0.1, 0.3, 0.5, 0.7, 0.9]  # Predicted probabilities\n",
    "y_neg = [1, 0, 1, 0, 0]             # Inverted true labels (1 - y_cal)\n",
    "\n",
    "# Fit isotonic regression (non-increasing)\n",
    "iso_neg = IsotonicRegression(increasing=False, out_of_bounds=\"clip\")\n",
    "iso_neg.fit(X_neg, y_neg)\n",
    "\n",
    "# Calibrated probabilities for negative class\n",
    "p0 = iso_neg.transform(X_neg)"
   ]
  },
  {
   "cell_type": "code",
   "execution_count": 256,
   "metadata": {},
   "outputs": [
    {
     "data": {
      "text/plain": [
       "[<matplotlib.lines.Line2D at 0x15dabb28340>]"
      ]
     },
     "execution_count": 256,
     "metadata": {},
     "output_type": "execute_result"
    },
    {
     "data": {
      "image/png": "[encoded data removed]",
      "text/plain": [
       "<Figure size 640x480 with 1 Axes>"
      ]
     },
     "metadata": {},
     "output_type": "display_data"
    }
   ],
   "source": [
    "plt.scatter(X_neg, y_neg)\n",
    "plt.plot(X_neg, p0, color='red')"
   ]
  },
  {
   "cell_type": "code",
   "execution_count": null,
   "metadata": {},
   "outputs": [],
   "source": []
  },
  {
   "cell_type": "code",
   "execution_count": null,
   "metadata": {},
   "outputs": [],
   "source": []
  },
  {
   "cell_type": "code",
   "execution_count": null,
   "metadata": {},
   "outputs": [],
   "source": []
  },
  {
   "cell_type": "code",
   "execution_count": null,
   "metadata": {},
   "outputs": [],
   "source": []
  },
  {
   "cell_type": "code",
   "execution_count": null,
   "metadata": {},
   "outputs": [],
   "source": []
  },
  {
   "cell_type": "code",
   "execution_count": null,
   "metadata": {},
   "outputs": [],
   "source": []
  },
  {
   "cell_type": "code",
   "execution_count": null,
   "metadata": {},
   "outputs": [],
   "source": []
  },
  {
   "cell_type": "code",
   "execution_count": null,
   "metadata": {},
   "outputs": [],
   "source": []
  },
  {
   "cell_type": "code",
   "execution_count": null,
   "metadata": {},
   "outputs": [],
   "source": []
  },
  {
   "cell_type": "code",
   "execution_count": null,
   "metadata": {},
   "outputs": [],
   "source": []
  },
  {
   "cell_type": "code",
   "execution_count": null,
   "metadata": {},
   "outputs": [],
   "source": []
  },
  {
   "cell_type": "code",
   "execution_count": null,
   "metadata": {},
   "outputs": [],
   "source": []
  },
  {
   "cell_type": "code",
   "execution_count": null,
   "metadata": {},
   "outputs": [],
   "source": []
  },
  {
   "cell_type": "code",
   "execution_count": null,
   "metadata": {},
   "outputs": [],
   "source": []
  },
  {
   "cell_type": "code",
   "execution_count": null,
   "metadata": {},
   "outputs": [],
   "source": []
  },
  {
   "cell_type": "code",
   "execution_count": null,
   "metadata": {},
   "outputs": [],
   "source": []
  },
  {
   "cell_type": "code",
   "execution_count": null,
   "metadata": {},
   "outputs": [],
   "source": []
  },
  {
   "cell_type": "code",
   "execution_count": null,
   "metadata": {},
   "outputs": [],
   "source": []
  },
  {
   "cell_type": "code",
   "execution_count": null,
   "metadata": {},
   "outputs": [],
   "source": []
  },
  {
   "cell_type": "code",
   "execution_count": null,
   "metadata": {},
   "outputs": [],
   "source": []
  },
  {
   "cell_type": "code",
   "execution_count": null,
   "metadata": {},
   "outputs": [
    {
     "name": "stdout",
     "output_type": "stream",
     "text": [
      "Brier Score (Uncalibrated): 0.0816\n",
      "Brier Score (Calibrated - Van Abbe): 0.0000\n"
     ]
    },
    {
     "data": {
      "image/png": "[encoded data removed]",
      "text/plain": [
       "<Figure size 800x500 with 1 Axes>"
      ]
     },
     "metadata": {},
     "output_type": "display_data"
    }
   ],
   "source": [
    "import numpy as np\n",
    "import matplotlib.pyplot as plt\n",
    "from sklearn.isotonic import IsotonicRegression\n",
    "from sklearn.model_selection import train_test_split\n",
    "from sklearn.tree import DecisionTreeClassifier\n",
    "from sklearn.metrics import brier_score_loss\n",
    "\n",
    "# Generate synthetic binary classification data\n",
    "np.random.seed(42)\n",
    "X = np.random.randn(1000, 2)  # Two features\n",
    "y = (X[:, 0] + X[:, 1] > 0).astype(int)  # Binary labels\n",
    "\n",
    "# Split into train and test\n",
    "X_train, X_test, y_train, y_test = train_test_split(X, y, test_size=0.2, random_state=42)\n",
    "\n",
    "# Train a decision tree classifier (uncalibrated)\n",
    "clf = DecisionTreeClassifier(max_depth=3, random_state=42)\n",
    "clf.fit(X_train, y_train)\n",
    "\n",
    "# Get raw probability predictions\n",
    "y_scores = clf.predict_proba(X_test)[:, 1]  # Probability of class 1\n",
    "\n",
    "# Separate data based on true class\n",
    "scores_0 = y_scores[y_test == 0]  # Scores where actual label is 0\n",
    "scores_1 = y_scores[y_test == 1]  # Scores where actual label is 1\n",
    "\n",
    "# Fit isotonic regression for both classes\n",
    "iso_reg_0 = IsotonicRegression(out_of_bounds=\"clip\")  # For class 0\n",
    "iso_reg_1 = IsotonicRegression(out_of_bounds=\"clip\")  # For class 1\n",
    "\n",
    "# Get calibrated probabilities\n",
    "prob_0 = iso_reg_0.fit_transform(scores_0, np.zeros_like(scores_0))  # Map scores to P(Y=0)\n",
    "prob_1 = iso_reg_1.fit_transform(scores_1, np.ones_like(scores_1))   # Map scores to P(Y=1)\n",
    "\n",
    "# Merge results back into test set\n",
    "calibrated_probs = np.zeros_like(y_scores)\n",
    "calibrated_probs[y_test == 0] = prob_0\n",
    "calibrated_probs[y_test == 1] = prob_1\n",
    "\n",
    "# Normalize to ensure P(Y=1) + P(Y=0) = 1\n",
    "calibrated_probs = calibrated_probs / (calibrated_probs + (1 - calibrated_probs))\n",
    "\n",
    "# Compute Brier score (lower is better)\n",
    "brier_uncalibrated = brier_score_loss(y_test, y_scores)\n",
    "brier_calibrated = brier_score_loss(y_test, calibrated_probs)\n",
    "\n",
    "print(f\"Brier Score (Uncalibrated): {brier_uncalibrated:.4f}\")\n",
    "print(f\"Brier Score (Calibrated - Van Abbe): {brier_calibrated:.4f}\")\n",
    "\n",
    "# Plot original vs calibrated probabilities\n",
    "plt.figure(figsize=(8, 5))\n",
    "plt.plot(y_scores, y_test, 'o', label=\"Raw Predictions\", alpha=0.5)\n",
    "plt.plot(y_scores, calibrated_probs, 'ro', label=\"Van Abbe (Calibrated)\")\n",
    "plt.xlabel(\"Raw Model Probability\")\n",
    "plt.ylabel(\"Calibrated Probability\")\n",
    "plt.title(\"Van Abbe's Isotonic Regression Calibration\")\n",
    "plt.legend()\n",
    "plt.show()\n"
   ]
  },
  {
   "cell_type": "code",
   "execution_count": 84,
   "metadata": {},
   "outputs": [],
   "source": [
    "from sklearn.isotonic import IsotonicRegression\n",
    "\n",
    "# Example data\n",
    "X = [0.1, 0.2, 0.3, 0.4, 0.5]\n",
    "y = [0.2, 0.3, 0.1, 0.1, 0.5]\n",
    "\n",
    "# Fit isotonic regression\n",
    "iso_reg = IsotonicRegression(out_of_bounds=\"clip\")\n",
    "iso_reg.fit(X, y)\n",
    "\n",
    "# Predict\n",
    "y_pred = iso_reg.transform(X)"
   ]
  },
  {
   "cell_type": "code",
   "execution_count": null,
   "metadata": {},
   "outputs": [],
   "source": [
    "0.2, 0.2, 0.2, 0.1, 0.5\n",
    "0.2, 0.2, 0.15, 0.15, 0.5\n",
    "0.2, 0.175, 0.175, 0.15, 0.5"
   ]
  },
  {
   "cell_type": "code",
   "execution_count": 83,
   "metadata": {},
   "outputs": [
    {
     "data": {
      "text/plain": [
       "0.175"
      ]
     },
     "execution_count": 83,
     "metadata": {},
     "output_type": "execute_result"
    }
   ],
   "source": [
    "(0.2 + 0.15)/2"
   ]
  },
  {
   "cell_type": "code",
   "execution_count": 80,
   "metadata": {},
   "outputs": [
    {
     "data": {
      "text/plain": [
       "array([0.175, 0.175, 0.175, 0.175, 0.5  ])"
      ]
     },
     "execution_count": 80,
     "metadata": {},
     "output_type": "execute_result"
    }
   ],
   "source": [
    "y_pred"
   ]
  },
  {
   "cell_type": "code",
   "execution_count": 81,
   "metadata": {},
   "outputs": [
    {
     "data": {
      "text/plain": [
       "[<matplotlib.lines.Line2D at 0x15daa6145e0>]"
      ]
     },
     "execution_count": 81,
     "metadata": {},
     "output_type": "execute_result"
    },
    {
     "data": {
      "image/png": "[encoded data removed]",
      "text/plain": [
       "<Figure size 640x480 with 1 Axes>"
      ]
     },
     "metadata": {},
     "output_type": "display_data"
    }
   ],
   "source": [
    "plt.scatter(X, y)\n",
    "plt.plot(X, y_pred, color='red')"
   ]
  },
  {
   "cell_type": "code",
   "execution_count": null,
   "metadata": {},
   "outputs": [],
   "source": []
  },
  {
   "cell_type": "code",
   "execution_count": null,
   "metadata": {},
   "outputs": [],
   "source": []
  },
  {
   "cell_type": "code",
   "execution_count": null,
   "metadata": {},
   "outputs": [],
   "source": []
  },
  {
   "cell_type": "code",
   "execution_count": null,
   "metadata": {},
   "outputs": [],
   "source": []
  },
  {
   "cell_type": "code",
   "execution_count": null,
   "metadata": {},
   "outputs": [],
   "source": []
  },
  {
   "cell_type": "code",
   "execution_count": null,
   "metadata": {},
   "outputs": [],
   "source": []
  },
  {
   "cell_type": "code",
   "execution_count": null,
   "metadata": {},
   "outputs": [],
   "source": []
  },
  {
   "cell_type": "code",
   "execution_count": null,
   "metadata": {},
   "outputs": [],
   "source": []
  },
  {
   "cell_type": "code",
   "execution_count": null,
   "metadata": {},
   "outputs": [],
   "source": []
  }
 ],
 "metadata": {
  "kernelspec": {
   "display_name": "classification_calibration",
   "language": "python",
   "name": "python3"
  },
  "language_info": {
   "codemirror_mode": {
    "name": "ipython",
    "version": 3
   },
   "file_extension": ".py",
   "mimetype": "text/x-python",
   "name": "python",
   "nbconvert_exporter": "python",
   "pygments_lexer": "ipython3",
   "version": "3.10.16"
  }
 },
 "nbformat": 4,
 "nbformat_minor": 2
}
