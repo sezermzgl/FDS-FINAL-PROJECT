{
 "cells": [
  {
   "cell_type": "markdown",
   "metadata": {},
   "source": [
    "# *Libraries*\n"
   ]
  },
  {
   "cell_type": "code",
   "execution_count": 2,
   "metadata": {},
   "outputs": [],
   "source": [
    "import pandas as pd\n",
    "import numpy as np\n",
    "\n",
    "from sklearn.model_selection import train_test_split\n",
    "from sklearn.metrics import roc_auc_score\n",
    "\n",
    "import xgboost as xgb\n",
    "\n",
    "import matplotlib.pyplot as plt\n",
    "from matplotlib.ticker import FuncFormatter  # Import for custom tick formatting\n",
    "import seaborn as sns"
   ]
  },
  {
   "cell_type": "markdown",
   "metadata": {},
   "source": [
    "# *Import Datasets*"
   ]
  },
  {
   "cell_type": "code",
   "execution_count": 3,
   "metadata": {},
   "outputs": [],
   "source": [
    "train_df = pd.read_csv('DATA/preprocessed_train.csv', low_memory=False)\n",
    "valid_df = pd.read_csv('DATA/preprocessed_valid.csv', low_memory=False)\n",
    "test_df = pd.read_csv('DATA/preprocessed_test.csv', low_memory=False)"
   ]
  },
  {
   "cell_type": "code",
   "execution_count": 4,
   "metadata": {},
   "outputs": [
    {
     "data": {
      "text/plain": [
       "((20745, 11), (5187, 11), (6484, 11))"
      ]
     },
     "execution_count": 4,
     "metadata": {},
     "output_type": "execute_result"
    }
   ],
   "source": [
    "train_df.shape, valid_df.shape, test_df.shape"
   ]
  },
  {
   "cell_type": "code",
   "execution_count": 5,
   "metadata": {},
   "outputs": [
    {
     "name": "stdout",
     "output_type": "stream",
     "text": [
      "<class 'pandas.core.frame.DataFrame'>\n",
      "RangeIndex: 20745 entries, 0 to 20744\n",
      "Data columns (total 11 columns):\n",
      " #   Column                      Non-Null Count  Dtype  \n",
      "---  ------                      --------------  -----  \n",
      " 0   person_income               20745 non-null  float64\n",
      " 1   person_home_ownership       20745 non-null  int64  \n",
      " 2   person_emp_length           20745 non-null  float64\n",
      " 3   loan_intent                 20745 non-null  int64  \n",
      " 4   loan_grade                  20745 non-null  int64  \n",
      " 5   loan_amnt                   20745 non-null  int64  \n",
      " 6   loan_status                 20745 non-null  int64  \n",
      " 7   loan_percent_income         20745 non-null  float64\n",
      " 8   cb_person_default_on_file   20745 non-null  int64  \n",
      " 9   cb_person_cred_hist_length  20745 non-null  int64  \n",
      " 10  ID                          20745 non-null  int64  \n",
      "dtypes: float64(3), int64(8)\n",
      "memory usage: 1.7 MB\n"
     ]
    }
   ],
   "source": [
    "train_df.info()"
   ]
  },
  {
   "cell_type": "markdown",
   "metadata": {},
   "source": [
    "# *Data Preparation for Modeling*"
   ]
  },
  {
   "cell_type": "code",
   "execution_count": 7,
   "metadata": {},
   "outputs": [],
   "source": [
    "modeling_variables = ['person_income', 'person_home_ownership', 'person_emp_length',\n",
    "       'loan_intent', 'loan_grade', 'loan_amnt',\n",
    "       'loan_percent_income', 'cb_person_default_on_file',\n",
    "       'cb_person_cred_hist_length']\n",
    "\n",
    "target_variable = 'loan_status'"
   ]
  },
  {
   "cell_type": "code",
   "execution_count": 8,
   "metadata": {},
   "outputs": [],
   "source": [
    "# Take necessary columns\n",
    "\n",
    "# Train\n",
    "X_train = train_df[modeling_variables]\n",
    "y_train = train_df[target_variable]\n",
    "\n",
    "# Validation\n",
    "X_valid = valid_df[modeling_variables]\n",
    "y_valid = valid_df[target_variable]\n",
    "\n",
    "# Test\n",
    "X_test = test_df[modeling_variables]\n",
    "y_test = test_df[target_variable]"
   ]
  },
  {
   "cell_type": "markdown",
   "metadata": {},
   "source": [
    "# *Modeling*"
   ]
  },
  {
   "cell_type": "code",
   "execution_count": 20,
   "metadata": {},
   "outputs": [],
   "source": [
    "xgb_model = xgb.XGBClassifier(objective=\"binary:logistic\", random_state=42, eval_metric=\"auc\", early_stopping_rounds=10, importance_type='total_gain')"
   ]
  },
  {
   "cell_type": "code",
   "execution_count": null,
   "metadata": {},
   "outputs": [
    {
     "name": "stdout",
     "output_type": "stream",
     "text": [
      "[0]\tvalidation_0-auc:0.90791\tvalidation_1-auc:0.90658\n",
      "[1]\tvalidation_0-auc:0.90887\tvalidation_1-auc:0.90849\n"
     ]
    },
    {
     "name": "stdout",
     "output_type": "stream",
     "text": [
      "[2]\tvalidation_0-auc:0.92113\tvalidation_1-auc:0.91925\n",
      "[3]\tvalidation_0-auc:0.92181\tvalidation_1-auc:0.91981\n",
      "[4]\tvalidation_0-auc:0.92300\tvalidation_1-auc:0.92092\n",
      "[5]\tvalidation_0-auc:0.92586\tvalidation_1-auc:0.92203\n",
      "[6]\tvalidation_0-auc:0.92843\tvalidation_1-auc:0.92514\n",
      "[7]\tvalidation_0-auc:0.92989\tvalidation_1-auc:0.92747\n",
      "[8]\tvalidation_0-auc:0.93241\tvalidation_1-auc:0.93073\n",
      "[9]\tvalidation_0-auc:0.93277\tvalidation_1-auc:0.93198\n",
      "[10]\tvalidation_0-auc:0.93514\tvalidation_1-auc:0.93689\n",
      "[11]\tvalidation_0-auc:0.93533\tvalidation_1-auc:0.93755\n",
      "[12]\tvalidation_0-auc:0.93570\tvalidation_1-auc:0.93853\n",
      "[13]\tvalidation_0-auc:0.93683\tvalidation_1-auc:0.93986\n",
      "[14]\tvalidation_0-auc:0.93719\tvalidation_1-auc:0.94101\n",
      "[15]\tvalidation_0-auc:0.93706\tvalidation_1-auc:0.94160\n",
      "[16]\tvalidation_0-auc:0.93681\tvalidation_1-auc:0.94253\n",
      "[17]\tvalidation_0-auc:0.93769\tvalidation_1-auc:0.94397\n",
      "[18]\tvalidation_0-auc:0.94007\tvalidation_1-auc:0.94819\n",
      "[19]\tvalidation_0-auc:0.94021\tvalidation_1-auc:0.94978\n",
      "[20]\tvalidation_0-auc:0.94093\tvalidation_1-auc:0.95170\n",
      "[21]\tvalidation_0-auc:0.94132\tvalidation_1-auc:0.95360\n",
      "[22]\tvalidation_0-auc:0.94127\tvalidation_1-auc:0.95385\n",
      "[23]\tvalidation_0-auc:0.94135\tvalidation_1-auc:0.95553\n",
      "[24]\tvalidation_0-auc:0.94185\tvalidation_1-auc:0.95685\n",
      "[25]\tvalidation_0-auc:0.94194\tvalidation_1-auc:0.95807\n",
      "[26]\tvalidation_0-auc:0.94246\tvalidation_1-auc:0.95889\n",
      "[27]\tvalidation_0-auc:0.94293\tvalidation_1-auc:0.95942\n",
      "[28]\tvalidation_0-auc:0.94352\tvalidation_1-auc:0.96089\n",
      "[29]\tvalidation_0-auc:0.94343\tvalidation_1-auc:0.96196\n",
      "[30]\tvalidation_0-auc:0.94345\tvalidation_1-auc:0.96202\n",
      "[31]\tvalidation_0-auc:0.94384\tvalidation_1-auc:0.96274\n",
      "[32]\tvalidation_0-auc:0.94408\tvalidation_1-auc:0.96350\n",
      "[33]\tvalidation_0-auc:0.94444\tvalidation_1-auc:0.96477\n",
      "[34]\tvalidation_0-auc:0.94406\tvalidation_1-auc:0.96550\n",
      "[35]\tvalidation_0-auc:0.94362\tvalidation_1-auc:0.96645\n",
      "[36]\tvalidation_0-auc:0.94395\tvalidation_1-auc:0.96728\n",
      "[37]\tvalidation_0-auc:0.94388\tvalidation_1-auc:0.96742\n",
      "[38]\tvalidation_0-auc:0.94394\tvalidation_1-auc:0.96760\n",
      "[39]\tvalidation_0-auc:0.94411\tvalidation_1-auc:0.96848\n",
      "[40]\tvalidation_0-auc:0.94438\tvalidation_1-auc:0.96879\n",
      "[41]\tvalidation_0-auc:0.94447\tvalidation_1-auc:0.96967\n",
      "[42]\tvalidation_0-auc:0.94449\tvalidation_1-auc:0.97013\n",
      "[43]\tvalidation_0-auc:0.94485\tvalidation_1-auc:0.97072\n",
      "[44]\tvalidation_0-auc:0.94506\tvalidation_1-auc:0.97094\n",
      "[45]\tvalidation_0-auc:0.94490\tvalidation_1-auc:0.97174\n",
      "[46]\tvalidation_0-auc:0.94521\tvalidation_1-auc:0.97245\n",
      "[47]\tvalidation_0-auc:0.94518\tvalidation_1-auc:0.97287\n",
      "[48]\tvalidation_0-auc:0.94496\tvalidation_1-auc:0.97307\n",
      "[49]\tvalidation_0-auc:0.94492\tvalidation_1-auc:0.97312\n",
      "[50]\tvalidation_0-auc:0.94501\tvalidation_1-auc:0.97334\n",
      "[51]\tvalidation_0-auc:0.94461\tvalidation_1-auc:0.97411\n",
      "[52]\tvalidation_0-auc:0.94459\tvalidation_1-auc:0.97477\n",
      "[53]\tvalidation_0-auc:0.94434\tvalidation_1-auc:0.97499\n",
      "[54]\tvalidation_0-auc:0.94417\tvalidation_1-auc:0.97534\n",
      "[55]\tvalidation_0-auc:0.94394\tvalidation_1-auc:0.97559\n",
      "[56]\tvalidation_0-auc:0.94398\tvalidation_1-auc:0.97585\n",
      "[57]\tvalidation_0-auc:0.94401\tvalidation_1-auc:0.97609\n",
      "[58]\tvalidation_0-auc:0.94428\tvalidation_1-auc:0.97639\n",
      "[59]\tvalidation_0-auc:0.94412\tvalidation_1-auc:0.97681\n",
      "[60]\tvalidation_0-auc:0.94386\tvalidation_1-auc:0.97747\n",
      "[61]\tvalidation_0-auc:0.94361\tvalidation_1-auc:0.97783\n",
      "[62]\tvalidation_0-auc:0.94341\tvalidation_1-auc:0.97794\n",
      "[63]\tvalidation_0-auc:0.94342\tvalidation_1-auc:0.97811\n",
      "[64]\tvalidation_0-auc:0.94321\tvalidation_1-auc:0.97838\n",
      "[65]\tvalidation_0-auc:0.94320\tvalidation_1-auc:0.97840\n",
      "[66]\tvalidation_0-auc:0.94316\tvalidation_1-auc:0.97865\n",
      "[67]\tvalidation_0-auc:0.94299\tvalidation_1-auc:0.97906\n",
      "[68]\tvalidation_0-auc:0.94281\tvalidation_1-auc:0.97922\n",
      "[69]\tvalidation_0-auc:0.94276\tvalidation_1-auc:0.97947\n",
      "[70]\tvalidation_0-auc:0.94275\tvalidation_1-auc:0.97976\n",
      "[71]\tvalidation_0-auc:0.94271\tvalidation_1-auc:0.97984\n",
      "[72]\tvalidation_0-auc:0.94275\tvalidation_1-auc:0.98021\n",
      "[73]\tvalidation_0-auc:0.94251\tvalidation_1-auc:0.98053\n",
      "[74]\tvalidation_0-auc:0.94272\tvalidation_1-auc:0.98114\n",
      "[75]\tvalidation_0-auc:0.94287\tvalidation_1-auc:0.98123\n",
      "[76]\tvalidation_0-auc:0.94310\tvalidation_1-auc:0.98144\n",
      "[77]\tvalidation_0-auc:0.94324\tvalidation_1-auc:0.98192\n",
      "[78]\tvalidation_0-auc:0.94339\tvalidation_1-auc:0.98235\n",
      "[79]\tvalidation_0-auc:0.94328\tvalidation_1-auc:0.98254\n",
      "[80]\tvalidation_0-auc:0.94354\tvalidation_1-auc:0.98263\n",
      "[81]\tvalidation_0-auc:0.94376\tvalidation_1-auc:0.98297\n",
      "[82]\tvalidation_0-auc:0.94357\tvalidation_1-auc:0.98325\n",
      "[83]\tvalidation_0-auc:0.94346\tvalidation_1-auc:0.98370\n",
      "[84]\tvalidation_0-auc:0.94358\tvalidation_1-auc:0.98424\n",
      "[85]\tvalidation_0-auc:0.94353\tvalidation_1-auc:0.98443\n",
      "[86]\tvalidation_0-auc:0.94358\tvalidation_1-auc:0.98469\n",
      "[87]\tvalidation_0-auc:0.94307\tvalidation_1-auc:0.98517\n",
      "[88]\tvalidation_0-auc:0.94307\tvalidation_1-auc:0.98544\n",
      "[89]\tvalidation_0-auc:0.94313\tvalidation_1-auc:0.98577\n",
      "[90]\tvalidation_0-auc:0.94304\tvalidation_1-auc:0.98595\n",
      "[91]\tvalidation_0-auc:0.94305\tvalidation_1-auc:0.98605\n",
      "[92]\tvalidation_0-auc:0.94302\tvalidation_1-auc:0.98603\n",
      "[93]\tvalidation_0-auc:0.94310\tvalidation_1-auc:0.98617\n",
      "[94]\tvalidation_0-auc:0.94282\tvalidation_1-auc:0.98661\n",
      "[95]\tvalidation_0-auc:0.94253\tvalidation_1-auc:0.98678\n",
      "[96]\tvalidation_0-auc:0.94244\tvalidation_1-auc:0.98690\n",
      "[97]\tvalidation_0-auc:0.94246\tvalidation_1-auc:0.98709\n",
      "[98]\tvalidation_0-auc:0.94259\tvalidation_1-auc:0.98727\n",
      "[99]\tvalidation_0-auc:0.94251\tvalidation_1-auc:0.98733\n"
     ]
    },
    {
     "data": {
      "text/html": [
       "<style>#sk-container-id-3 {color: black;}#sk-container-id-3 pre{padding: 0;}#sk-container-id-3 div.sk-toggleable {background-color: white;}#sk-container-id-3 label.sk-toggleable__label {cursor: pointer;display: block;width: 100%;margin-bottom: 0;padding: 0.3em;box-sizing: border-box;text-align: center;}#sk-container-id-3 label.sk-toggleable__label-arrow:before {content: \"▸\";float: left;margin-right: 0.25em;color: #696969;}#sk-container-id-3 label.sk-toggleable__label-arrow:hover:before {color: black;}#sk-container-id-3 div.sk-estimator:hover label.sk-toggleable__label-arrow:before {color: black;}#sk-container-id-3 div.sk-toggleable__content {max-height: 0;max-width: 0;overflow: hidden;text-align: left;background-color: #f0f8ff;}#sk-container-id-3 div.sk-toggleable__content pre {margin: 0.2em;color: black;border-radius: 0.25em;background-color: #f0f8ff;}#sk-container-id-3 input.sk-toggleable__control:checked~div.sk-toggleable__content {max-height: 200px;max-width: 100%;overflow: auto;}#sk-container-id-3 input.sk-toggleable__control:checked~label.sk-toggleable__label-arrow:before {content: \"▾\";}#sk-container-id-3 div.sk-estimator input.sk-toggleable__control:checked~label.sk-toggleable__label {background-color: #d4ebff;}#sk-container-id-3 div.sk-label input.sk-toggleable__control:checked~label.sk-toggleable__label {background-color: #d4ebff;}#sk-container-id-3 input.sk-hidden--visually {border: 0;clip: rect(1px 1px 1px 1px);clip: rect(1px, 1px, 1px, 1px);height: 1px;margin: -1px;overflow: hidden;padding: 0;position: absolute;width: 1px;}#sk-container-id-3 div.sk-estimator {font-family: monospace;background-color: #f0f8ff;border: 1px dotted black;border-radius: 0.25em;box-sizing: border-box;margin-bottom: 0.5em;}#sk-container-id-3 div.sk-estimator:hover {background-color: #d4ebff;}#sk-container-id-3 div.sk-parallel-item::after {content: \"\";width: 100%;border-bottom: 1px solid gray;flex-grow: 1;}#sk-container-id-3 div.sk-label:hover label.sk-toggleable__label {background-color: #d4ebff;}#sk-container-id-3 div.sk-serial::before {content: \"\";position: absolute;border-left: 1px solid gray;box-sizing: border-box;top: 0;bottom: 0;left: 50%;z-index: 0;}#sk-container-id-3 div.sk-serial {display: flex;flex-direction: column;align-items: center;background-color: white;padding-right: 0.2em;padding-left: 0.2em;position: relative;}#sk-container-id-3 div.sk-item {position: relative;z-index: 1;}#sk-container-id-3 div.sk-parallel {display: flex;align-items: stretch;justify-content: center;background-color: white;position: relative;}#sk-container-id-3 div.sk-item::before, #sk-container-id-3 div.sk-parallel-item::before {content: \"\";position: absolute;border-left: 1px solid gray;box-sizing: border-box;top: 0;bottom: 0;left: 50%;z-index: -1;}#sk-container-id-3 div.sk-parallel-item {display: flex;flex-direction: column;z-index: 1;position: relative;background-color: white;}#sk-container-id-3 div.sk-parallel-item:first-child::after {align-self: flex-end;width: 50%;}#sk-container-id-3 div.sk-parallel-item:last-child::after {align-self: flex-start;width: 50%;}#sk-container-id-3 div.sk-parallel-item:only-child::after {width: 0;}#sk-container-id-3 div.sk-dashed-wrapped {border: 1px dashed gray;margin: 0 0.4em 0.5em 0.4em;box-sizing: border-box;padding-bottom: 0.4em;background-color: white;}#sk-container-id-3 div.sk-label label {font-family: monospace;font-weight: bold;display: inline-block;line-height: 1.2em;}#sk-container-id-3 div.sk-label-container {text-align: center;}#sk-container-id-3 div.sk-container {/* jupyter's `normalize.less` sets `[hidden] { display: none; }` but bootstrap.min.css set `[hidden] { display: none !important; }` so we also need the `!important` here to be able to override the default hidden behavior on the sphinx rendered scikit-learn.org. See: https://github.com/scikit-learn/scikit-learn/issues/21755 */display: inline-block !important;position: relative;}#sk-container-id-3 div.sk-text-repr-fallback {display: none;}</style><div id=\"sk-container-id-3\" class=\"sk-top-container\"><div class=\"sk-text-repr-fallback\"><pre>XGBClassifier(base_score=None, booster=None, callbacks=None,\n",
       "              colsample_bylevel=None, colsample_bynode=None,\n",
       "              colsample_bytree=None, device=None, early_stopping_rounds=10,\n",
       "              enable_categorical=False, eval_metric=&#x27;auc&#x27;, feature_types=None,\n",
       "              gamma=None, grow_policy=None, importance_type=&#x27;total_gain&#x27;,\n",
       "              interaction_constraints=None, learning_rate=None, max_bin=None,\n",
       "              max_cat_threshold=None, max_cat_to_onehot=None,\n",
       "              max_delta_step=None, max_depth=None, max_leaves=None,\n",
       "              min_child_weight=None, missing=nan, monotone_constraints=None,\n",
       "              multi_strategy=None, n_estimators=None, n_jobs=None,\n",
       "              num_parallel_tree=None, random_state=42, ...)</pre><b>In a Jupyter environment, please rerun this cell to show the HTML representation or trust the notebook. <br />On GitHub, the HTML representation is unable to render, please try loading this page with nbviewer.org.</b></div><div class=\"sk-container\" hidden><div class=\"sk-item\"><div class=\"sk-estimator sk-toggleable\"><input class=\"sk-toggleable__control sk-hidden--visually\" id=\"sk-estimator-id-3\" type=\"checkbox\" checked><label for=\"sk-estimator-id-3\" class=\"sk-toggleable__label sk-toggleable__label-arrow\">XGBClassifier</label><div class=\"sk-toggleable__content\"><pre>XGBClassifier(base_score=None, booster=None, callbacks=None,\n",
       "              colsample_bylevel=None, colsample_bynode=None,\n",
       "              colsample_bytree=None, device=None, early_stopping_rounds=10,\n",
       "              enable_categorical=False, eval_metric=&#x27;auc&#x27;, feature_types=None,\n",
       "              gamma=None, grow_policy=None, importance_type=&#x27;total_gain&#x27;,\n",
       "              interaction_constraints=None, learning_rate=None, max_bin=None,\n",
       "              max_cat_threshold=None, max_cat_to_onehot=None,\n",
       "              max_delta_step=None, max_depth=None, max_leaves=None,\n",
       "              min_child_weight=None, missing=nan, monotone_constraints=None,\n",
       "              multi_strategy=None, n_estimators=None, n_jobs=None,\n",
       "              num_parallel_tree=None, random_state=42, ...)</pre></div></div></div></div></div>"
      ],
      "text/plain": [
       "XGBClassifier(base_score=None, booster=None, callbacks=None,\n",
       "              colsample_bylevel=None, colsample_bynode=None,\n",
       "              colsample_bytree=None, device=None, early_stopping_rounds=10,\n",
       "              enable_categorical=False, eval_metric='auc', feature_types=None,\n",
       "              gamma=None, grow_policy=None, importance_type='total_gain',\n",
       "              interaction_constraints=None, learning_rate=None, max_bin=None,\n",
       "              max_cat_threshold=None, max_cat_to_onehot=None,\n",
       "              max_delta_step=None, max_depth=None, max_leaves=None,\n",
       "              min_child_weight=None, missing=nan, monotone_constraints=None,\n",
       "              multi_strategy=None, n_estimators=None, n_jobs=None,\n",
       "              num_parallel_tree=None, random_state=42, ...)"
      ]
     },
     "execution_count": 21,
     "metadata": {},
     "output_type": "execute_result"
    }
   ],
   "source": [
    "xgb_model.fit(X_train, y_train, eval_set=[(X_valid, y_valid), (X_train, y_train)], verbose=True)"
   ]
  },
  {
   "cell_type": "code",
   "execution_count": 56,
   "metadata": {},
   "outputs": [],
   "source": [
    "monotone_constraints= [-1, 1, -1, 1, 1, 1, 1, 1, -1] "
   ]
  },
  {
   "cell_type": "code",
   "execution_count": 22,
   "metadata": {},
   "outputs": [
    {
     "name": "stdout",
     "output_type": "stream",
     "text": [
      "Train AUC: 0.9873273455806043\n",
      "Validation AUC: 0.9425120002834015\n",
      "Test AUC: 0.9403361524156947\n"
     ]
    }
   ],
   "source": [
    "print(\"Train AUC:\", roc_auc_score(y_train, xgb_model.predict_proba(X_train)[:, 1]))\n",
    "print(\"Validation AUC:\", roc_auc_score(y_valid, xgb_model.predict_proba(X_valid)[:, 1]))\n",
    "print(\"Test AUC:\", roc_auc_score(y_test, xgb_model.predict_proba(X_test)[:, 1]))"
   ]
  },
  {
   "cell_type": "code",
   "execution_count": 49,
   "metadata": {},
   "outputs": [],
   "source": [
    "# calculate the feature importances\n",
    "feature_importances = pd.DataFrame(xgb_model.feature_importances_, index = X_train.columns, columns=['importance']).sort_values('importance', ascending=False)*100"
   ]
  },
  {
   "cell_type": "code",
   "execution_count": 54,
   "metadata": {},
   "outputs": [
    {
     "data": {
      "text/plain": [
       "<Axes: xlabel='importance', ylabel='None'>"
      ]
     },
     "execution_count": 54,
     "metadata": {},
     "output_type": "execute_result"
    },
    {
     "data": {
      "image/png": "[encoded data removed]",
      "text/plain": [
       "<Figure size 1000x600 with 1 Axes>"
      ]
     },
     "metadata": {},
     "output_type": "display_data"
    }
   ],
   "source": [
    "# plot the feature importances\n",
    "plt.figure(figsize=(10, 6))\n",
    "sns.barplot(x=feature_importances.importance, y=feature_importances.index, color=\"orange\")"
   ]
  },
  {
   "cell_type": "code",
   "execution_count": 60,
   "metadata": {},
   "outputs": [],
   "source": [
    "monotone_constraints= {'person_income': -1, 'person_home_ownership': 1, 'person_emp_length': -1,\n",
    "                        'loan_intent': 1, 'loan_grade': 1, 'loan_amnt': 1, 'loan_percent_income': 1,\n",
    "                        'cb_person_default_on_file': 1, 'cb_person_cred_hist_length': -1}"
   ]
  },
  {
   "cell_type": "code",
   "execution_count": 61,
   "metadata": {},
   "outputs": [
    {
     "name": "stdout",
     "output_type": "stream",
     "text": [
      "[0]\tvalidation_0-auc:0.88197\tvalidation_1-auc:0.88157\n",
      "[1]\tvalidation_0-auc:0.90052\tvalidation_1-auc:0.89592\n",
      "[2]\tvalidation_0-auc:0.90446\tvalidation_1-auc:0.89994\n",
      "[3]\tvalidation_0-auc:0.91092\tvalidation_1-auc:0.90592\n",
      "[4]\tvalidation_0-auc:0.91252\tvalidation_1-auc:0.90664\n",
      "[5]\tvalidation_0-auc:0.91395\tvalidation_1-auc:0.90806\n",
      "[6]\tvalidation_0-auc:0.91492\tvalidation_1-auc:0.90907\n",
      "[7]\tvalidation_0-auc:0.91815\tvalidation_1-auc:0.91210\n",
      "[8]\tvalidation_0-auc:0.92071\tvalidation_1-auc:0.91437\n",
      "[9]\tvalidation_0-auc:0.92097\tvalidation_1-auc:0.91486\n",
      "[10]\tvalidation_0-auc:0.92261\tvalidation_1-auc:0.91641\n",
      "[11]\tvalidation_0-auc:0.92259\tvalidation_1-auc:0.91681\n",
      "[12]\tvalidation_0-auc:0.92383\tvalidation_1-auc:0.91782\n",
      "[13]\tvalidation_0-auc:0.92437\tvalidation_1-auc:0.91841\n",
      "[14]\tvalidation_0-auc:0.92517\tvalidation_1-auc:0.91924\n",
      "[15]\tvalidation_0-auc:0.92558\tvalidation_1-auc:0.91972\n",
      "[16]\tvalidation_0-auc:0.92561\tvalidation_1-auc:0.91987\n",
      "[17]\tvalidation_0-auc:0.92573\tvalidation_1-auc:0.92013\n",
      "[18]\tvalidation_0-auc:0.92581\tvalidation_1-auc:0.92016\n",
      "[19]\tvalidation_0-auc:0.92603\tvalidation_1-auc:0.92034\n",
      "[20]\tvalidation_0-auc:0.92619\tvalidation_1-auc:0.92063\n",
      "[21]\tvalidation_0-auc:0.92629\tvalidation_1-auc:0.92064\n",
      "[22]\tvalidation_0-auc:0.92627\tvalidation_1-auc:0.92067\n",
      "[23]\tvalidation_0-auc:0.92619\tvalidation_1-auc:0.92070\n",
      "[24]\tvalidation_0-auc:0.92637\tvalidation_1-auc:0.92093\n",
      "[25]\tvalidation_0-auc:0.92629\tvalidation_1-auc:0.92092\n",
      "[26]\tvalidation_0-auc:0.92635\tvalidation_1-auc:0.92095\n",
      "[27]\tvalidation_0-auc:0.92636\tvalidation_1-auc:0.92100\n",
      "[28]\tvalidation_0-auc:0.92629\tvalidation_1-auc:0.92102\n",
      "[29]\tvalidation_0-auc:0.92628\tvalidation_1-auc:0.92108\n",
      "[30]\tvalidation_0-auc:0.92633\tvalidation_1-auc:0.92114\n",
      "[31]\tvalidation_0-auc:0.92631\tvalidation_1-auc:0.92120\n",
      "[32]\tvalidation_0-auc:0.92641\tvalidation_1-auc:0.92139\n",
      "[33]\tvalidation_0-auc:0.92642\tvalidation_1-auc:0.92146\n",
      "[34]\tvalidation_0-auc:0.92639\tvalidation_1-auc:0.92146\n",
      "[35]\tvalidation_0-auc:0.92612\tvalidation_1-auc:0.92154\n",
      "[36]\tvalidation_0-auc:0.92611\tvalidation_1-auc:0.92155\n",
      "[37]\tvalidation_0-auc:0.92616\tvalidation_1-auc:0.92155\n",
      "[38]\tvalidation_0-auc:0.92623\tvalidation_1-auc:0.92171\n",
      "[39]\tvalidation_0-auc:0.92620\tvalidation_1-auc:0.92171\n",
      "[40]\tvalidation_0-auc:0.92617\tvalidation_1-auc:0.92170\n",
      "[41]\tvalidation_0-auc:0.92618\tvalidation_1-auc:0.92171\n",
      "[42]\tvalidation_0-auc:0.92615\tvalidation_1-auc:0.92168\n",
      "[43]\tvalidation_0-auc:0.92612\tvalidation_1-auc:0.92167\n",
      "[44]\tvalidation_0-auc:0.92610\tvalidation_1-auc:0.92166\n",
      "[45]\tvalidation_0-auc:0.92612\tvalidation_1-auc:0.92164\n",
      "[46]\tvalidation_0-auc:0.92619\tvalidation_1-auc:0.92176\n",
      "[47]\tvalidation_0-auc:0.92625\tvalidation_1-auc:0.92181\n",
      "[48]\tvalidation_0-auc:0.92625\tvalidation_1-auc:0.92181\n",
      "[49]\tvalidation_0-auc:0.92624\tvalidation_1-auc:0.92181\n",
      "[50]\tvalidation_0-auc:0.92624\tvalidation_1-auc:0.92181\n",
      "[51]\tvalidation_0-auc:0.92624\tvalidation_1-auc:0.92181\n",
      "[52]\tvalidation_0-auc:0.92623\tvalidation_1-auc:0.92181\n",
      "[53]\tvalidation_0-auc:0.92623\tvalidation_1-auc:0.92181\n",
      "[54]\tvalidation_0-auc:0.92623\tvalidation_1-auc:0.92181\n",
      "[55]\tvalidation_0-auc:0.92623\tvalidation_1-auc:0.92181\n",
      "[56]\tvalidation_0-auc:0.92623\tvalidation_1-auc:0.92181\n",
      "[57]\tvalidation_0-auc:0.92623\tvalidation_1-auc:0.92181\n",
      "[58]\tvalidation_0-auc:0.92623\tvalidation_1-auc:0.92181\n",
      "[59]\tvalidation_0-auc:0.92623\tvalidation_1-auc:0.92181\n"
     ]
    },
    {
     "data": {
      "text/html": [
       "<style>#sk-container-id-4 {color: black;}#sk-container-id-4 pre{padding: 0;}#sk-container-id-4 div.sk-toggleable {background-color: white;}#sk-container-id-4 label.sk-toggleable__label {cursor: pointer;display: block;width: 100%;margin-bottom: 0;padding: 0.3em;box-sizing: border-box;text-align: center;}#sk-container-id-4 label.sk-toggleable__label-arrow:before {content: \"▸\";float: left;margin-right: 0.25em;color: #696969;}#sk-container-id-4 label.sk-toggleable__label-arrow:hover:before {color: black;}#sk-container-id-4 div.sk-estimator:hover label.sk-toggleable__label-arrow:before {color: black;}#sk-container-id-4 div.sk-toggleable__content {max-height: 0;max-width: 0;overflow: hidden;text-align: left;background-color: #f0f8ff;}#sk-container-id-4 div.sk-toggleable__content pre {margin: 0.2em;color: black;border-radius: 0.25em;background-color: #f0f8ff;}#sk-container-id-4 input.sk-toggleable__control:checked~div.sk-toggleable__content {max-height: 200px;max-width: 100%;overflow: auto;}#sk-container-id-4 input.sk-toggleable__control:checked~label.sk-toggleable__label-arrow:before {content: \"▾\";}#sk-container-id-4 div.sk-estimator input.sk-toggleable__control:checked~label.sk-toggleable__label {background-color: #d4ebff;}#sk-container-id-4 div.sk-label input.sk-toggleable__control:checked~label.sk-toggleable__label {background-color: #d4ebff;}#sk-container-id-4 input.sk-hidden--visually {border: 0;clip: rect(1px 1px 1px 1px);clip: rect(1px, 1px, 1px, 1px);height: 1px;margin: -1px;overflow: hidden;padding: 0;position: absolute;width: 1px;}#sk-container-id-4 div.sk-estimator {font-family: monospace;background-color: #f0f8ff;border: 1px dotted black;border-radius: 0.25em;box-sizing: border-box;margin-bottom: 0.5em;}#sk-container-id-4 div.sk-estimator:hover {background-color: #d4ebff;}#sk-container-id-4 div.sk-parallel-item::after {content: \"\";width: 100%;border-bottom: 1px solid gray;flex-grow: 1;}#sk-container-id-4 div.sk-label:hover label.sk-toggleable__label {background-color: #d4ebff;}#sk-container-id-4 div.sk-serial::before {content: \"\";position: absolute;border-left: 1px solid gray;box-sizing: border-box;top: 0;bottom: 0;left: 50%;z-index: 0;}#sk-container-id-4 div.sk-serial {display: flex;flex-direction: column;align-items: center;background-color: white;padding-right: 0.2em;padding-left: 0.2em;position: relative;}#sk-container-id-4 div.sk-item {position: relative;z-index: 1;}#sk-container-id-4 div.sk-parallel {display: flex;align-items: stretch;justify-content: center;background-color: white;position: relative;}#sk-container-id-4 div.sk-item::before, #sk-container-id-4 div.sk-parallel-item::before {content: \"\";position: absolute;border-left: 1px solid gray;box-sizing: border-box;top: 0;bottom: 0;left: 50%;z-index: -1;}#sk-container-id-4 div.sk-parallel-item {display: flex;flex-direction: column;z-index: 1;position: relative;background-color: white;}#sk-container-id-4 div.sk-parallel-item:first-child::after {align-self: flex-end;width: 50%;}#sk-container-id-4 div.sk-parallel-item:last-child::after {align-self: flex-start;width: 50%;}#sk-container-id-4 div.sk-parallel-item:only-child::after {width: 0;}#sk-container-id-4 div.sk-dashed-wrapped {border: 1px dashed gray;margin: 0 0.4em 0.5em 0.4em;box-sizing: border-box;padding-bottom: 0.4em;background-color: white;}#sk-container-id-4 div.sk-label label {font-family: monospace;font-weight: bold;display: inline-block;line-height: 1.2em;}#sk-container-id-4 div.sk-label-container {text-align: center;}#sk-container-id-4 div.sk-container {/* jupyter's `normalize.less` sets `[hidden] { display: none; }` but bootstrap.min.css set `[hidden] { display: none !important; }` so we also need the `!important` here to be able to override the default hidden behavior on the sphinx rendered scikit-learn.org. See: https://github.com/scikit-learn/scikit-learn/issues/21755 */display: inline-block !important;position: relative;}#sk-container-id-4 div.sk-text-repr-fallback {display: none;}</style><div id=\"sk-container-id-4\" class=\"sk-top-container\"><div class=\"sk-text-repr-fallback\"><pre>XGBClassifier(base_score=None, booster=None, callbacks=None,\n",
       "              colsample_bylevel=None, colsample_bynode=None,\n",
       "              colsample_bytree=None, device=None, early_stopping_rounds=10,\n",
       "              enable_categorical=False, eval_metric=&#x27;auc&#x27;, feature_types=None,\n",
       "              gamma=None, grow_policy=None, importance_type=&#x27;total_gain&#x27;,\n",
       "              interaction_constraints=None, learning_rate=None, max_bin=None,\n",
       "              max_cat_...\n",
       "              max_delta_step=None, max_depth=None, max_leaves=None,\n",
       "              min_child_weight=None, missing=nan,\n",
       "              monotone_constraints={&#x27;cb_person_cred_hist_length&#x27;: -1,\n",
       "                                    &#x27;cb_person_default_on_file&#x27;: 1,\n",
       "                                    &#x27;loan_amnt&#x27;: 1, &#x27;loan_grade&#x27;: 1,\n",
       "                                    &#x27;loan_intent&#x27;: 1, &#x27;loan_percent_income&#x27;: 1,\n",
       "                                    &#x27;person_emp_length&#x27;: -1,\n",
       "                                    &#x27;person_home_ownership&#x27;: 1,\n",
       "                                    &#x27;person_income&#x27;: -1},\n",
       "              multi_strategy=None, n_estimators=None, n_jobs=None,\n",
       "              num_parallel_tree=None, random_state=42, ...)</pre><b>In a Jupyter environment, please rerun this cell to show the HTML representation or trust the notebook. <br />On GitHub, the HTML representation is unable to render, please try loading this page with nbviewer.org.</b></div><div class=\"sk-container\" hidden><div class=\"sk-item\"><div class=\"sk-estimator sk-toggleable\"><input class=\"sk-toggleable__control sk-hidden--visually\" id=\"sk-estimator-id-4\" type=\"checkbox\" checked><label for=\"sk-estimator-id-4\" class=\"sk-toggleable__label sk-toggleable__label-arrow\">XGBClassifier</label><div class=\"sk-toggleable__content\"><pre>XGBClassifier(base_score=None, booster=None, callbacks=None,\n",
       "              colsample_bylevel=None, colsample_bynode=None,\n",
       "              colsample_bytree=None, device=None, early_stopping_rounds=10,\n",
       "              enable_categorical=False, eval_metric=&#x27;auc&#x27;, feature_types=None,\n",
       "              gamma=None, grow_policy=None, importance_type=&#x27;total_gain&#x27;,\n",
       "              interaction_constraints=None, learning_rate=None, max_bin=None,\n",
       "              max_cat_...\n",
       "              max_delta_step=None, max_depth=None, max_leaves=None,\n",
       "              min_child_weight=None, missing=nan,\n",
       "              monotone_constraints={&#x27;cb_person_cred_hist_length&#x27;: -1,\n",
       "                                    &#x27;cb_person_default_on_file&#x27;: 1,\n",
       "                                    &#x27;loan_amnt&#x27;: 1, &#x27;loan_grade&#x27;: 1,\n",
       "                                    &#x27;loan_intent&#x27;: 1, &#x27;loan_percent_income&#x27;: 1,\n",
       "                                    &#x27;person_emp_length&#x27;: -1,\n",
       "                                    &#x27;person_home_ownership&#x27;: 1,\n",
       "                                    &#x27;person_income&#x27;: -1},\n",
       "              multi_strategy=None, n_estimators=None, n_jobs=None,\n",
       "              num_parallel_tree=None, random_state=42, ...)</pre></div></div></div></div></div>"
      ],
      "text/plain": [
       "XGBClassifier(base_score=None, booster=None, callbacks=None,\n",
       "              colsample_bylevel=None, colsample_bynode=None,\n",
       "              colsample_bytree=None, device=None, early_stopping_rounds=10,\n",
       "              enable_categorical=False, eval_metric='auc', feature_types=None,\n",
       "              gamma=None, grow_policy=None, importance_type='total_gain',\n",
       "              interaction_constraints=None, learning_rate=None, max_bin=None,\n",
       "              max_cat_...\n",
       "              max_delta_step=None, max_depth=None, max_leaves=None,\n",
       "              min_child_weight=None, missing=nan,\n",
       "              monotone_constraints={'cb_person_cred_hist_length': -1,\n",
       "                                    'cb_person_default_on_file': 1,\n",
       "                                    'loan_amnt': 1, 'loan_grade': 1,\n",
       "                                    'loan_intent': 1, 'loan_percent_income': 1,\n",
       "                                    'person_emp_length': -1,\n",
       "                                    'person_home_ownership': 1,\n",
       "                                    'person_income': -1},\n",
       "              multi_strategy=None, n_estimators=None, n_jobs=None,\n",
       "              num_parallel_tree=None, random_state=42, ...)"
      ]
     },
     "execution_count": 61,
     "metadata": {},
     "output_type": "execute_result"
    }
   ],
   "source": [
    "xgb_model = xgb.XGBClassifier(objective=\"binary:logistic\", random_state=42, eval_metric=\"auc\", early_stopping_rounds=10, importance_type='total_gain', monotone_constraints=monotone_constraints)\n",
    "\n",
    "xgb_model.fit(X_train, y_train, eval_set=[(X_valid, y_valid), (X_train, y_train)], verbose=True)"
   ]
  },
  {
   "cell_type": "code",
   "execution_count": 62,
   "metadata": {},
   "outputs": [
    {
     "name": "stdout",
     "output_type": "stream",
     "text": [
      "Train AUC: 0.921813375689021\n",
      "Validation AUC: 0.926238663938927\n",
      "Test AUC: 0.9229756539638221\n"
     ]
    }
   ],
   "source": [
    "print(\"Train AUC:\", roc_auc_score(y_train, xgb_model.predict_proba(X_train)[:, 1]))\n",
    "print(\"Validation AUC:\", roc_auc_score(y_valid, xgb_model.predict_proba(X_valid)[:, 1]))\n",
    "print(\"Test AUC:\", roc_auc_score(y_test, xgb_model.predict_proba(X_test)[:, 1]))"
   ]
  },
  {
   "cell_type": "code",
   "execution_count": null,
   "metadata": {},
   "outputs": [],
   "source": [
    "Train AUC: 0.9873273455806043\n",
    "Validation AUC: 0.9425120002834015\n",
    "Test AUC: 0.9403361524156947"
   ]
  },
  {
   "cell_type": "code",
   "execution_count": null,
   "metadata": {},
   "outputs": [],
   "source": [
    "PDP"
   ]
  },
  {
   "cell_type": "code",
   "execution_count": null,
   "metadata": {},
   "outputs": [],
   "source": []
  },
  {
   "cell_type": "code",
   "execution_count": null,
   "metadata": {},
   "outputs": [],
   "source": []
  },
  {
   "cell_type": "code",
   "execution_count": null,
   "metadata": {},
   "outputs": [],
   "source": []
  },
  {
   "cell_type": "code",
   "execution_count": null,
   "metadata": {},
   "outputs": [],
   "source": []
  },
  {
   "cell_type": "code",
   "execution_count": null,
   "metadata": {},
   "outputs": [],
   "source": []
  },
  {
   "cell_type": "code",
   "execution_count": null,
   "metadata": {},
   "outputs": [],
   "source": []
  },
  {
   "cell_type": "code",
   "execution_count": null,
   "metadata": {},
   "outputs": [],
   "source": []
  },
  {
   "cell_type": "code",
   "execution_count": null,
   "metadata": {},
   "outputs": [],
   "source": []
  },
  {
   "cell_type": "code",
   "execution_count": null,
   "metadata": {},
   "outputs": [],
   "source": []
  },
  {
   "cell_type": "code",
   "execution_count": null,
   "metadata": {},
   "outputs": [],
   "source": []
  },
  {
   "cell_type": "code",
   "execution_count": null,
   "metadata": {},
   "outputs": [],
   "source": []
  },
  {
   "cell_type": "code",
   "execution_count": null,
   "metadata": {},
   "outputs": [],
   "source": []
  },
  {
   "cell_type": "code",
   "execution_count": null,
   "metadata": {},
   "outputs": [],
   "source": []
  },
  {
   "cell_type": "code",
   "execution_count": null,
   "metadata": {},
   "outputs": [],
   "source": []
  },
  {
   "cell_type": "code",
   "execution_count": null,
   "metadata": {},
   "outputs": [],
   "source": []
  },
  {
   "cell_type": "code",
   "execution_count": null,
   "metadata": {},
   "outputs": [],
   "source": []
  },
  {
   "cell_type": "code",
   "execution_count": null,
   "metadata": {},
   "outputs": [],
   "source": []
  },
  {
   "cell_type": "code",
   "execution_count": null,
   "metadata": {},
   "outputs": [],
   "source": []
  },
  {
   "cell_type": "code",
   "execution_count": null,
   "metadata": {},
   "outputs": [],
   "source": []
  },
  {
   "cell_type": "code",
   "execution_count": null,
   "metadata": {},
   "outputs": [],
   "source": []
  },
  {
   "cell_type": "code",
   "execution_count": null,
   "metadata": {},
   "outputs": [],
   "source": []
  },
  {
   "cell_type": "code",
   "execution_count": null,
   "metadata": {},
   "outputs": [],
   "source": []
  },
  {
   "cell_type": "code",
   "execution_count": null,
   "metadata": {},
   "outputs": [],
   "source": []
  },
  {
   "cell_type": "code",
   "execution_count": null,
   "metadata": {},
   "outputs": [],
   "source": []
  },
  {
   "cell_type": "code",
   "execution_count": null,
   "metadata": {},
   "outputs": [],
   "source": []
  },
  {
   "cell_type": "code",
   "execution_count": null,
   "metadata": {},
   "outputs": [],
   "source": []
  },
  {
   "cell_type": "code",
   "execution_count": null,
   "metadata": {},
   "outputs": [],
   "source": []
  },
  {
   "cell_type": "code",
   "execution_count": null,
   "metadata": {},
   "outputs": [],
   "source": []
  },
  {
   "cell_type": "code",
   "execution_count": null,
   "metadata": {},
   "outputs": [],
   "source": []
  },
  {
   "cell_type": "code",
   "execution_count": null,
   "metadata": {},
   "outputs": [],
   "source": []
  },
  {
   "cell_type": "code",
   "execution_count": null,
   "metadata": {},
   "outputs": [],
   "source": []
  },
  {
   "cell_type": "code",
   "execution_count": null,
   "metadata": {},
   "outputs": [],
   "source": []
  },
  {
   "cell_type": "code",
   "execution_count": null,
   "metadata": {},
   "outputs": [],
   "source": []
  },
  {
   "cell_type": "code",
   "execution_count": null,
   "metadata": {},
   "outputs": [],
   "source": []
  },
  {
   "cell_type": "code",
   "execution_count": null,
   "metadata": {},
   "outputs": [],
   "source": []
  },
  {
   "cell_type": "code",
   "execution_count": null,
   "metadata": {},
   "outputs": [],
   "source": []
  },
  {
   "cell_type": "code",
   "execution_count": null,
   "metadata": {},
   "outputs": [],
   "source": []
  },
  {
   "cell_type": "code",
   "execution_count": null,
   "metadata": {},
   "outputs": [],
   "source": []
  },
  {
   "cell_type": "code",
   "execution_count": null,
   "metadata": {},
   "outputs": [],
   "source": []
  },
  {
   "cell_type": "code",
   "execution_count": null,
   "metadata": {},
   "outputs": [],
   "source": []
  },
  {
   "cell_type": "code",
   "execution_count": null,
   "metadata": {},
   "outputs": [],
   "source": []
  },
  {
   "cell_type": "code",
   "execution_count": null,
   "metadata": {},
   "outputs": [],
   "source": []
  },
  {
   "cell_type": "code",
   "execution_count": null,
   "metadata": {},
   "outputs": [],
   "source": []
  },
  {
   "cell_type": "code",
   "execution_count": null,
   "metadata": {},
   "outputs": [],
   "source": []
  },
  {
   "cell_type": "code",
   "execution_count": null,
   "metadata": {},
   "outputs": [],
   "source": []
  },
  {
   "cell_type": "code",
   "execution_count": null,
   "metadata": {},
   "outputs": [],
   "source": []
  },
  {
   "cell_type": "code",
   "execution_count": null,
   "metadata": {},
   "outputs": [],
   "source": []
  },
  {
   "cell_type": "code",
   "execution_count": null,
   "metadata": {},
   "outputs": [],
   "source": []
  },
  {
   "cell_type": "code",
   "execution_count": null,
   "metadata": {},
   "outputs": [],
   "source": []
  }
 ],
 "metadata": {
  "kernelspec": {
   "display_name": "fds_final_proj",
   "language": "python",
   "name": "fds_final_proj"
  },
  "language_info": {
   "codemirror_mode": {
    "name": "ipython",
    "version": 3
   },
   "file_extension": ".py",
   "mimetype": "text/x-python",
   "name": "python",
   "nbconvert_exporter": "python",
   "pygments_lexer": "ipython3",
   "version": "3.8.5"
  }
 },
 "nbformat": 4,
 "nbformat_minor": 2
}
