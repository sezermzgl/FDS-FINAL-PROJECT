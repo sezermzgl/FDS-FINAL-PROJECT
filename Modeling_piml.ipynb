{
 "cells": [
  {
   "cell_type": "markdown",
   "metadata": {},
   "source": [
    "# *Libraries*\n"
   ]
  },
  {
   "cell_type": "code",
   "execution_count": 1,
   "metadata": {},
   "outputs": [],
   "source": [
    "import pandas as pd\n",
    "import numpy as np\n",
    "\n",
    "from sklearn.metrics import roc_auc_score, confusion_matrix, ConfusionMatrixDisplay, precision_score, recall_score, accuracy_score\n",
    "from sklearn.model_selection import GridSearchCV\n",
    "\n",
    "import xgboost as xgb\n",
    "from xgboost import plot_tree\n",
    "\n",
    "import matplotlib.pyplot as plt\n",
    "import seaborn as sns\n",
    "\n",
    "from piml.models import XGB1Classifier, XGB2Classifier\n",
    "from piml import Experiment\n",
    "\n",
    "from mapie.classification import MapieClassifier\n",
    "\n",
    "import pickle"
   ]
  },
  {
   "cell_type": "markdown",
   "metadata": {},
   "source": [
    "# *Functions*"
   ]
  },
  {
   "cell_type": "code",
   "execution_count": 41,
   "metadata": {},
   "outputs": [
    {
     "data": {
      "application/vnd.jupyter.widget-view+json": {
       "model_id": "ff2a471e022f4f9da9f6f1eecd88000f",
       "version_major": 2,
       "version_minor": 0
      },
      "text/plain": [
       "HTML(value='\\n        <style>\\n\\n        .left-label {\\n            width: 30%;\\n        }\\n\\n        .card-pa…"
      ]
     },
     "metadata": {},
     "output_type": "display_data"
    }
   ],
   "source": [
    "def non_conformity_score_prob(model, X, y):\n",
    "\n",
    "    \"\"\"\n",
    "    Compute non-conformity scores based on predicted probabilities for a given model.\n",
    "\n",
    "    The non-conformity score is calculated as `1 - P(true_class)`, where `P(true_class)` \n",
    "    is the predicted probability of the true class for each sample. A lower predicted \n",
    "    probability for the true class indicates higher non-conformity.\n",
    "\n",
    "    Parameters\n",
    "    ----------\n",
    "    model : object\n",
    "        A trained classification model that implements the `predict_proba` method. \n",
    "        The model should output class probabilities for the input samples.\n",
    "    \n",
    "    X : array-like of shape (n_samples, n_features)\n",
    "        The input data for which predictions are made.\n",
    "    \n",
    "    y : array-like of shape (n_samples,)\n",
    "        The true labels corresponding to the input data. The labels should be \n",
    "        integers corresponding to class indices.\n",
    "    \n",
    "    Returns\n",
    "    -------\n",
    "    np.ndarray of shape (n_samples,)\n",
    "        An array of non-conformity scores for each sample, where a higher score \n",
    "        indicates greater non-conformity to the model's predictions.\n",
    "\n",
    "    Notes\n",
    "    -----\n",
    "    - This function assumes binary classification and that the `predict_proba` \n",
    "      method returns probabilities for two classes, with the probabilities \n",
    "      for each class ordered by their indices (0 and 1).\n",
    "    - For multi-class classification, this function would need adjustments \n",
    "      to handle multiple classes.\n",
    "\n",
    "    Examples\n",
    "    --------\n",
    "    >>> from sklearn.ensemble import RandomForestClassifier\n",
    "    >>> import numpy as np\n",
    "    >>> X_train, X_test, y_train, y_test = ...  # Load or generate data\n",
    "    >>> model = RandomForestClassifier().fit(X_train, y_train)\n",
    "    >>> non_conformity_score_prob(model, X_test, y_test)\n",
    "    array([0.2, 0.3, 0.1, ...])\n",
    "    \"\"\"\n",
    "\n",
    "\n",
    "    # Predict probabilities\n",
    "    y_pred_proba = model.predict_proba(X)\n",
    "    \n",
    "    # For binary classification\n",
    "    # Take the probability of the true class\n",
    "    scores = []\n",
    "    for i, true_label in enumerate(y):\n",
    "        # If true label is 1, take probability of class 1\n",
    "        # If true label is 0, take probability of class 0\n",
    "        score = y_pred_proba[i][true_label]\n",
    "        \n",
    "        # Transform to create non-conformity score\n",
    "        # Lower probability = more non-conforming\n",
    "        scores.append(1 - score)\n",
    "    \n",
    "    return np.array(scores)"
   ]
  },
  {
   "cell_type": "code",
   "execution_count": 42,
   "metadata": {},
   "outputs": [
    {
     "data": {
      "application/vnd.jupyter.widget-view+json": {
       "model_id": "99d3d127f7a94c938e709dd25e0d654d",
       "version_major": 2,
       "version_minor": 0
      },
      "text/plain": [
       "HTML(value='\\n        <style>\\n\\n        .left-label {\\n            width: 30%;\\n        }\\n\\n        .card-pa…"
      ]
     },
     "metadata": {},
     "output_type": "display_data"
    }
   ],
   "source": [
    "def calculate_prediction_interval_batch(model, X_cal, y_cal, X_new, significance_level=0.1):\n",
    "    \"\"\"\n",
    "    Calculate conformal prediction sets for a batch of new observations.\n",
    "    \n",
    "    Parameters:\n",
    "    - model: Trained classification model with `predict_proba` method.\n",
    "    - X_cal: Calibration features.\n",
    "    - y_cal: Calibration labels.\n",
    "    - X_new: New batch of features for prediction.\n",
    "    - significance_level: Significance level (alpha) for conformal prediction.\n",
    "    \n",
    "    Returns:\n",
    "    - A dictionary containing:\n",
    "        - prediction_sets: List of sets for each observation in X_new.\n",
    "        - probabilities: Predicted probabilities for X_new.\n",
    "        - scores: Non-conformity scores for X_new.\n",
    "        - threshold: Calculated threshold for non-conformity scores.\n",
    "    \"\"\"\n",
    "    # Step 1: Compute calibration scores\n",
    "    calibration_scores = non_conformity_score_prob(model, X_cal, y_cal)\n",
    "    \n",
    "    # Step 2: Compute threshold\n",
    "    threshold = np.quantile(calibration_scores, 1 - significance_level)\n",
    "    \n",
    "    # Step 3: Predict probabilities for the batch\n",
    "    batch_proba = model.predict_proba(X_new)\n",
    "    \n",
    "    # Step 4: Determine prediction sets\n",
    "    prediction_sets = (1 - batch_proba <= threshold).astype(int)  # Boolean mask for classes\n",
    "    \n",
    "    return {\n",
    "        'prediction_sets': prediction_sets.tolist(),  # Convert to list for easy interpretation\n",
    "        'probabilities': batch_proba,\n",
    "        'scores': 1 - batch_proba,  # Non-conformity scores for all classes\n",
    "        'threshold': threshold\n",
    "    }\n"
   ]
  },
  {
   "cell_type": "markdown",
   "metadata": {},
   "source": [
    "# *Import Datasets*"
   ]
  },
  {
   "cell_type": "code",
   "execution_count": 5,
   "metadata": {},
   "outputs": [],
   "source": [
    "train_df = pd.read_csv('DATA/preprocessed_train.csv', low_memory=False)\n",
    "valid_df = pd.read_csv('DATA/preprocessed_valid.csv', low_memory=False)\n",
    "test_df = pd.read_csv('DATA/preprocessed_test.csv', low_memory=False)"
   ]
  },
  {
   "cell_type": "code",
   "execution_count": 6,
   "metadata": {},
   "outputs": [
    {
     "data": {
      "text/plain": [
       "((20745, 11), (5187, 11), (6484, 11))"
      ]
     },
     "execution_count": 6,
     "metadata": {},
     "output_type": "execute_result"
    }
   ],
   "source": [
    "train_df.shape, valid_df.shape, test_df.shape"
   ]
  },
  {
   "cell_type": "code",
   "execution_count": 7,
   "metadata": {},
   "outputs": [
    {
     "name": "stdout",
     "output_type": "stream",
     "text": [
      "<class 'pandas.core.frame.DataFrame'>\n",
      "RangeIndex: 20745 entries, 0 to 20744\n",
      "Data columns (total 11 columns):\n",
      " #   Column                      Non-Null Count  Dtype  \n",
      "---  ------                      --------------  -----  \n",
      " 0   person_income               20745 non-null  float64\n",
      " 1   person_home_ownership       20745 non-null  int64  \n",
      " 2   person_emp_length           20745 non-null  float64\n",
      " 3   loan_intent                 20745 non-null  int64  \n",
      " 4   loan_grade                  20745 non-null  int64  \n",
      " 5   loan_amnt                   20745 non-null  int64  \n",
      " 6   loan_status                 20745 non-null  int64  \n",
      " 7   loan_percent_income         20745 non-null  float64\n",
      " 8   cb_person_default_on_file   20745 non-null  int64  \n",
      " 9   cb_person_cred_hist_length  20745 non-null  int64  \n",
      " 10  ID                          20745 non-null  int64  \n",
      "dtypes: float64(3), int64(8)\n",
      "memory usage: 1.7 MB\n"
     ]
    }
   ],
   "source": [
    "train_df.info()"
   ]
  },
  {
   "cell_type": "markdown",
   "metadata": {},
   "source": [
    "# *Data Preparation for Modeling*"
   ]
  },
  {
   "cell_type": "code",
   "execution_count": 8,
   "metadata": {},
   "outputs": [],
   "source": [
    "modeling_variables = ['person_income', 'person_home_ownership', 'person_emp_length',\n",
    "       'loan_intent', 'loan_grade', 'loan_amnt',\n",
    "       'loan_percent_income', 'cb_person_default_on_file',\n",
    "       'cb_person_cred_hist_length']\n",
    "\n",
    "target_variable = 'loan_status'"
   ]
  },
  {
   "cell_type": "code",
   "execution_count": 9,
   "metadata": {},
   "outputs": [],
   "source": [
    "# Take necessary columns\n",
    "\n",
    "# Train\n",
    "X_train = train_df[modeling_variables]\n",
    "y_train = train_df[target_variable]\n",
    "\n",
    "# Validation\n",
    "X_valid = valid_df[modeling_variables]\n",
    "y_valid = valid_df[target_variable]\n",
    "\n",
    "# Test\n",
    "X_test = test_df[modeling_variables]\n",
    "y_test = test_df[target_variable]"
   ]
  },
  {
   "cell_type": "markdown",
   "metadata": {},
   "source": [
    "# *Modeling*"
   ]
  },
  {
   "cell_type": "code",
   "execution_count": 10,
   "metadata": {},
   "outputs": [],
   "source": [
    "# Define monotonicity constraints\n",
    "mono_increasing_list = ['person_home_ownership', 'loan_intent', 'loan_grade', 'loan_amnt', 'loan_percent_income', 'cb_person_default_on_file']\n",
    "mono_decreasing_list = ['person_income', 'person_emp_length', 'cb_person_cred_hist_length']"
   ]
  },
  {
   "cell_type": "markdown",
   "metadata": {},
   "source": [
    "**XGB1Classifier**\n",
    "\n",
    "XGBoost model with depth 1, captures only main effect"
   ]
  },
  {
   "cell_type": "code",
   "execution_count": 10,
   "metadata": {},
   "outputs": [],
   "source": [
    "# Create the model\n",
    "xgb1 = XGB1Classifier(mono_increasing_list=mono_increasing_list, mono_decreasing_list=mono_decreasing_list, n_estimators=200, eta=0.1,\n",
    "                      random_state=42)"
   ]
  },
  {
   "cell_type": "code",
   "execution_count": 11,
   "metadata": {},
   "outputs": [
    {
     "data": {
      "text/html": [
       "<style>#sk-container-id-2 {color: black;}#sk-container-id-2 pre{padding: 0;}#sk-container-id-2 div.sk-toggleable {background-color: white;}#sk-container-id-2 label.sk-toggleable__label {cursor: pointer;display: block;width: 100%;margin-bottom: 0;padding: 0.3em;box-sizing: border-box;text-align: center;}#sk-container-id-2 label.sk-toggleable__label-arrow:before {content: \"▸\";float: left;margin-right: 0.25em;color: #696969;}#sk-container-id-2 label.sk-toggleable__label-arrow:hover:before {color: black;}#sk-container-id-2 div.sk-estimator:hover label.sk-toggleable__label-arrow:before {color: black;}#sk-container-id-2 div.sk-toggleable__content {max-height: 0;max-width: 0;overflow: hidden;text-align: left;background-color: #f0f8ff;}#sk-container-id-2 div.sk-toggleable__content pre {margin: 0.2em;color: black;border-radius: 0.25em;background-color: #f0f8ff;}#sk-container-id-2 input.sk-toggleable__control:checked~div.sk-toggleable__content {max-height: 200px;max-width: 100%;overflow: auto;}#sk-container-id-2 input.sk-toggleable__control:checked~label.sk-toggleable__label-arrow:before {content: \"▾\";}#sk-container-id-2 div.sk-estimator input.sk-toggleable__control:checked~label.sk-toggleable__label {background-color: #d4ebff;}#sk-container-id-2 div.sk-label input.sk-toggleable__control:checked~label.sk-toggleable__label {background-color: #d4ebff;}#sk-container-id-2 input.sk-hidden--visually {border: 0;clip: rect(1px 1px 1px 1px);clip: rect(1px, 1px, 1px, 1px);height: 1px;margin: -1px;overflow: hidden;padding: 0;position: absolute;width: 1px;}#sk-container-id-2 div.sk-estimator {font-family: monospace;background-color: #f0f8ff;border: 1px dotted black;border-radius: 0.25em;box-sizing: border-box;margin-bottom: 0.5em;}#sk-container-id-2 div.sk-estimator:hover {background-color: #d4ebff;}#sk-container-id-2 div.sk-parallel-item::after {content: \"\";width: 100%;border-bottom: 1px solid gray;flex-grow: 1;}#sk-container-id-2 div.sk-label:hover label.sk-toggleable__label {background-color: #d4ebff;}#sk-container-id-2 div.sk-serial::before {content: \"\";position: absolute;border-left: 1px solid gray;box-sizing: border-box;top: 0;bottom: 0;left: 50%;z-index: 0;}#sk-container-id-2 div.sk-serial {display: flex;flex-direction: column;align-items: center;background-color: white;padding-right: 0.2em;padding-left: 0.2em;position: relative;}#sk-container-id-2 div.sk-item {position: relative;z-index: 1;}#sk-container-id-2 div.sk-parallel {display: flex;align-items: stretch;justify-content: center;background-color: white;position: relative;}#sk-container-id-2 div.sk-item::before, #sk-container-id-2 div.sk-parallel-item::before {content: \"\";position: absolute;border-left: 1px solid gray;box-sizing: border-box;top: 0;bottom: 0;left: 50%;z-index: -1;}#sk-container-id-2 div.sk-parallel-item {display: flex;flex-direction: column;z-index: 1;position: relative;background-color: white;}#sk-container-id-2 div.sk-parallel-item:first-child::after {align-self: flex-end;width: 50%;}#sk-container-id-2 div.sk-parallel-item:last-child::after {align-self: flex-start;width: 50%;}#sk-container-id-2 div.sk-parallel-item:only-child::after {width: 0;}#sk-container-id-2 div.sk-dashed-wrapped {border: 1px dashed gray;margin: 0 0.4em 0.5em 0.4em;box-sizing: border-box;padding-bottom: 0.4em;background-color: white;}#sk-container-id-2 div.sk-label label {font-family: monospace;font-weight: bold;display: inline-block;line-height: 1.2em;}#sk-container-id-2 div.sk-label-container {text-align: center;}#sk-container-id-2 div.sk-container {/* jupyter's `normalize.less` sets `[hidden] { display: none; }` but bootstrap.min.css set `[hidden] { display: none !important; }` so we also need the `!important` here to be able to override the default hidden behavior on the sphinx rendered scikit-learn.org. See: https://github.com/scikit-learn/scikit-learn/issues/21755 */display: inline-block !important;position: relative;}#sk-container-id-2 div.sk-text-repr-fallback {display: none;}</style><div id=\"sk-container-id-2\" class=\"sk-top-container\"><div class=\"sk-text-repr-fallback\"><pre>XGB1Classifier(eta=0.1,\n",
       "               mono_decreasing_list=[&#x27;person_income&#x27;, &#x27;person_emp_length&#x27;,\n",
       "                                     &#x27;cb_person_cred_hist_length&#x27;],\n",
       "               mono_increasing_list=[&#x27;person_home_ownership&#x27;, &#x27;loan_intent&#x27;,\n",
       "                                     &#x27;loan_grade&#x27;, &#x27;loan_amnt&#x27;,\n",
       "                                     &#x27;loan_percent_income&#x27;,\n",
       "                                     &#x27;cb_person_default_on_file&#x27;],\n",
       "               n_estimators=200, random_state=42)</pre><b>In a Jupyter environment, please rerun this cell to show the HTML representation or trust the notebook. <br />On GitHub, the HTML representation is unable to render, please try loading this page with nbviewer.org.</b></div><div class=\"sk-container\" hidden><div class=\"sk-item\"><div class=\"sk-estimator sk-toggleable\"><input class=\"sk-toggleable__control sk-hidden--visually\" id=\"sk-estimator-id-2\" type=\"checkbox\" checked><label for=\"sk-estimator-id-2\" class=\"sk-toggleable__label sk-toggleable__label-arrow\">XGB1Classifier</label><div class=\"sk-toggleable__content\"><pre>XGB1Classifier(eta=0.1,\n",
       "               mono_decreasing_list=[&#x27;person_income&#x27;, &#x27;person_emp_length&#x27;,\n",
       "                                     &#x27;cb_person_cred_hist_length&#x27;],\n",
       "               mono_increasing_list=[&#x27;person_home_ownership&#x27;, &#x27;loan_intent&#x27;,\n",
       "                                     &#x27;loan_grade&#x27;, &#x27;loan_amnt&#x27;,\n",
       "                                     &#x27;loan_percent_income&#x27;,\n",
       "                                     &#x27;cb_person_default_on_file&#x27;],\n",
       "               n_estimators=200, random_state=42)</pre></div></div></div></div></div>"
      ],
      "text/plain": [
       "XGB1Classifier(eta=0.1,\n",
       "               mono_decreasing_list=['person_income', 'person_emp_length',\n",
       "                                     'cb_person_cred_hist_length'],\n",
       "               mono_increasing_list=['person_home_ownership', 'loan_intent',\n",
       "                                     'loan_grade', 'loan_amnt',\n",
       "                                     'loan_percent_income',\n",
       "                                     'cb_person_default_on_file'],\n",
       "               n_estimators=200, random_state=42)"
      ]
     },
     "execution_count": 11,
     "metadata": {},
     "output_type": "execute_result"
    }
   ],
   "source": [
    "# Fit the model\n",
    "xgb1.fit(X_train, y_train)"
   ]
  },
  {
   "cell_type": "code",
   "execution_count": 12,
   "metadata": {},
   "outputs": [],
   "source": [
    "# Predict\n",
    "pred_train = xgb1.predict_proba(X_train)[:, 1]\n",
    "pred_valid = xgb1.predict_proba(X_valid)[:, 1]\n",
    "pred_test = xgb1.predict_proba(X_test)[:, 1]"
   ]
  },
  {
   "cell_type": "code",
   "execution_count": 13,
   "metadata": {},
   "outputs": [
    {
     "name": "stdout",
     "output_type": "stream",
     "text": [
      "AUC Train: 0.8400131559879183\n",
      "AUC Valid: 0.841888295516942\n",
      "AUC Test: 0.8433534464850043\n"
     ]
    }
   ],
   "source": [
    "# Calculate AUC\n",
    "print('AUC Train:', roc_auc_score(y_train, pred_train))\n",
    "print('AUC Valid:', roc_auc_score(y_valid, pred_valid))\n",
    "print('AUC Test:', roc_auc_score(y_test, pred_test))"
   ]
  },
  {
   "cell_type": "markdown",
   "metadata": {},
   "source": [
    "**XGB2Classifier**\n",
    "\n",
    "XGBoost model with depth 2, captures main effect of the feature as well as pariwise contribution of features"
   ]
  },
  {
   "cell_type": "code",
   "execution_count": 14,
   "metadata": {},
   "outputs": [],
   "source": [
    "# Create the model\n",
    "xgb2 = XGB2Classifier(mono_increasing_list=mono_increasing_list, mono_decreasing_list=mono_decreasing_list, \n",
    "                      n_estimators=50, eta=0.3, feature_names=modeling_variables,\n",
    "                      random_state=42)"
   ]
  },
  {
   "cell_type": "code",
   "execution_count": 16,
   "metadata": {},
   "outputs": [
    {
     "data": {
      "text/html": [
       "<style>#sk-container-id-3 {color: black;}#sk-container-id-3 pre{padding: 0;}#sk-container-id-3 div.sk-toggleable {background-color: white;}#sk-container-id-3 label.sk-toggleable__label {cursor: pointer;display: block;width: 100%;margin-bottom: 0;padding: 0.3em;box-sizing: border-box;text-align: center;}#sk-container-id-3 label.sk-toggleable__label-arrow:before {content: \"▸\";float: left;margin-right: 0.25em;color: #696969;}#sk-container-id-3 label.sk-toggleable__label-arrow:hover:before {color: black;}#sk-container-id-3 div.sk-estimator:hover label.sk-toggleable__label-arrow:before {color: black;}#sk-container-id-3 div.sk-toggleable__content {max-height: 0;max-width: 0;overflow: hidden;text-align: left;background-color: #f0f8ff;}#sk-container-id-3 div.sk-toggleable__content pre {margin: 0.2em;color: black;border-radius: 0.25em;background-color: #f0f8ff;}#sk-container-id-3 input.sk-toggleable__control:checked~div.sk-toggleable__content {max-height: 200px;max-width: 100%;overflow: auto;}#sk-container-id-3 input.sk-toggleable__control:checked~label.sk-toggleable__label-arrow:before {content: \"▾\";}#sk-container-id-3 div.sk-estimator input.sk-toggleable__control:checked~label.sk-toggleable__label {background-color: #d4ebff;}#sk-container-id-3 div.sk-label input.sk-toggleable__control:checked~label.sk-toggleable__label {background-color: #d4ebff;}#sk-container-id-3 input.sk-hidden--visually {border: 0;clip: rect(1px 1px 1px 1px);clip: rect(1px, 1px, 1px, 1px);height: 1px;margin: -1px;overflow: hidden;padding: 0;position: absolute;width: 1px;}#sk-container-id-3 div.sk-estimator {font-family: monospace;background-color: #f0f8ff;border: 1px dotted black;border-radius: 0.25em;box-sizing: border-box;margin-bottom: 0.5em;}#sk-container-id-3 div.sk-estimator:hover {background-color: #d4ebff;}#sk-container-id-3 div.sk-parallel-item::after {content: \"\";width: 100%;border-bottom: 1px solid gray;flex-grow: 1;}#sk-container-id-3 div.sk-label:hover label.sk-toggleable__label {background-color: #d4ebff;}#sk-container-id-3 div.sk-serial::before {content: \"\";position: absolute;border-left: 1px solid gray;box-sizing: border-box;top: 0;bottom: 0;left: 50%;z-index: 0;}#sk-container-id-3 div.sk-serial {display: flex;flex-direction: column;align-items: center;background-color: white;padding-right: 0.2em;padding-left: 0.2em;position: relative;}#sk-container-id-3 div.sk-item {position: relative;z-index: 1;}#sk-container-id-3 div.sk-parallel {display: flex;align-items: stretch;justify-content: center;background-color: white;position: relative;}#sk-container-id-3 div.sk-item::before, #sk-container-id-3 div.sk-parallel-item::before {content: \"\";position: absolute;border-left: 1px solid gray;box-sizing: border-box;top: 0;bottom: 0;left: 50%;z-index: -1;}#sk-container-id-3 div.sk-parallel-item {display: flex;flex-direction: column;z-index: 1;position: relative;background-color: white;}#sk-container-id-3 div.sk-parallel-item:first-child::after {align-self: flex-end;width: 50%;}#sk-container-id-3 div.sk-parallel-item:last-child::after {align-self: flex-start;width: 50%;}#sk-container-id-3 div.sk-parallel-item:only-child::after {width: 0;}#sk-container-id-3 div.sk-dashed-wrapped {border: 1px dashed gray;margin: 0 0.4em 0.5em 0.4em;box-sizing: border-box;padding-bottom: 0.4em;background-color: white;}#sk-container-id-3 div.sk-label label {font-family: monospace;font-weight: bold;display: inline-block;line-height: 1.2em;}#sk-container-id-3 div.sk-label-container {text-align: center;}#sk-container-id-3 div.sk-container {/* jupyter's `normalize.less` sets `[hidden] { display: none; }` but bootstrap.min.css set `[hidden] { display: none !important; }` so we also need the `!important` here to be able to override the default hidden behavior on the sphinx rendered scikit-learn.org. See: https://github.com/scikit-learn/scikit-learn/issues/21755 */display: inline-block !important;position: relative;}#sk-container-id-3 div.sk-text-repr-fallback {display: none;}</style><div id=\"sk-container-id-3\" class=\"sk-top-container\"><div class=\"sk-text-repr-fallback\"><pre>XGB2Classifier(feature_names=[&#x27;person_income&#x27;, &#x27;person_home_ownership&#x27;,\n",
       "                              &#x27;person_emp_length&#x27;, &#x27;loan_intent&#x27;, &#x27;loan_grade&#x27;,\n",
       "                              &#x27;loan_amnt&#x27;, &#x27;loan_percent_income&#x27;,\n",
       "                              &#x27;cb_person_default_on_file&#x27;,\n",
       "                              &#x27;cb_person_cred_hist_length&#x27;],\n",
       "               mono_decreasing_list=[&#x27;person_income&#x27;, &#x27;person_emp_length&#x27;,\n",
       "                                     &#x27;cb_person_cred_hist_length&#x27;],\n",
       "               mono_increasing_list=[&#x27;person_home_ownership&#x27;, &#x27;loan_intent&#x27;,\n",
       "                                     &#x27;loan_grade&#x27;, &#x27;loan_amnt&#x27;,\n",
       "                                     &#x27;loan_percent_income&#x27;,\n",
       "                                     &#x27;cb_person_default_on_file&#x27;],\n",
       "               n_estimators=50, random_state=42)</pre><b>In a Jupyter environment, please rerun this cell to show the HTML representation or trust the notebook. <br />On GitHub, the HTML representation is unable to render, please try loading this page with nbviewer.org.</b></div><div class=\"sk-container\" hidden><div class=\"sk-item\"><div class=\"sk-estimator sk-toggleable\"><input class=\"sk-toggleable__control sk-hidden--visually\" id=\"sk-estimator-id-3\" type=\"checkbox\" checked><label for=\"sk-estimator-id-3\" class=\"sk-toggleable__label sk-toggleable__label-arrow\">XGB2Classifier</label><div class=\"sk-toggleable__content\"><pre>XGB2Classifier(feature_names=[&#x27;person_income&#x27;, &#x27;person_home_ownership&#x27;,\n",
       "                              &#x27;person_emp_length&#x27;, &#x27;loan_intent&#x27;, &#x27;loan_grade&#x27;,\n",
       "                              &#x27;loan_amnt&#x27;, &#x27;loan_percent_income&#x27;,\n",
       "                              &#x27;cb_person_default_on_file&#x27;,\n",
       "                              &#x27;cb_person_cred_hist_length&#x27;],\n",
       "               mono_decreasing_list=[&#x27;person_income&#x27;, &#x27;person_emp_length&#x27;,\n",
       "                                     &#x27;cb_person_cred_hist_length&#x27;],\n",
       "               mono_increasing_list=[&#x27;person_home_ownership&#x27;, &#x27;loan_intent&#x27;,\n",
       "                                     &#x27;loan_grade&#x27;, &#x27;loan_amnt&#x27;,\n",
       "                                     &#x27;loan_percent_income&#x27;,\n",
       "                                     &#x27;cb_person_default_on_file&#x27;],\n",
       "               n_estimators=50, random_state=42)</pre></div></div></div></div></div>"
      ],
      "text/plain": [
       "XGB2Classifier(feature_names=['person_income', 'person_home_ownership',\n",
       "                              'person_emp_length', 'loan_intent', 'loan_grade',\n",
       "                              'loan_amnt', 'loan_percent_income',\n",
       "                              'cb_person_default_on_file',\n",
       "                              'cb_person_cred_hist_length'],\n",
       "               mono_decreasing_list=['person_income', 'person_emp_length',\n",
       "                                     'cb_person_cred_hist_length'],\n",
       "               mono_increasing_list=['person_home_ownership', 'loan_intent',\n",
       "                                     'loan_grade', 'loan_amnt',\n",
       "                                     'loan_percent_income',\n",
       "                                     'cb_person_default_on_file'],\n",
       "               n_estimators=50, random_state=42)"
      ]
     },
     "execution_count": 16,
     "metadata": {},
     "output_type": "execute_result"
    }
   ],
   "source": [
    "# Fit the model\n",
    "xgb2.fit(X_train, y_train)"
   ]
  },
  {
   "cell_type": "code",
   "execution_count": 17,
   "metadata": {},
   "outputs": [],
   "source": [
    "# Predict\n",
    "pred_train = xgb2.predict_proba(X_train)[:, 1]\n",
    "pred_valid = xgb2.predict_proba(X_valid)[:, 1]\n",
    "pred_test = xgb2.predict_proba(X_test)[:, 1]"
   ]
  },
  {
   "cell_type": "code",
   "execution_count": 18,
   "metadata": {},
   "outputs": [
    {
     "name": "stdout",
     "output_type": "stream",
     "text": [
      "AUC Train: 0.9147460697121819\n",
      "AUC Valid: 0.9221885682909117\n",
      "AUC Test: 0.9182831440556816\n"
     ]
    }
   ],
   "source": [
    "# Calculate AUC\n",
    "print('AUC Train:', roc_auc_score(y_train, pred_train))\n",
    "print('AUC Valid:', roc_auc_score(y_valid, pred_valid))\n",
    "print('AUC Test:', roc_auc_score(y_test, pred_test))"
   ]
  },
  {
   "cell_type": "code",
   "execution_count": 20,
   "metadata": {},
   "outputs": [
    {
     "data": {
      "text/plain": [
       "[('person_income', 'numerical'),\n",
       " ('loan_grade', 'numerical'),\n",
       " ('person_home_ownership', 'numerical'),\n",
       " ('loan_intent', 'numerical'),\n",
       " ('loan_amnt', 'numerical'),\n",
       " ('loan_percent_income', 'numerical'),\n",
       " ('cb_person_cred_hist_length', 'numerical'),\n",
       " ('person_emp_length', 'numerical'),\n",
       " ('person_income x person_home_ownership', 'pairwise'),\n",
       " ('person_income x loan_intent', 'pairwise'),\n",
       " ('person_income x loan_grade', 'pairwise'),\n",
       " ('person_income x loan_amnt', 'pairwise'),\n",
       " ('person_income x loan_percent_income', 'pairwise'),\n",
       " ('person_income x cb_person_cred_hist_length', 'pairwise'),\n",
       " ('person_home_ownership x loan_intent', 'pairwise'),\n",
       " ('person_home_ownership x loan_grade', 'pairwise'),\n",
       " ('person_home_ownership x loan_amnt', 'pairwise'),\n",
       " ('person_home_ownership x loan_percent_income', 'pairwise'),\n",
       " ('person_emp_length x loan_grade', 'pairwise'),\n",
       " ('loan_intent x loan_grade', 'pairwise'),\n",
       " ('loan_intent x loan_amnt', 'pairwise'),\n",
       " ('loan_intent x loan_percent_income', 'pairwise'),\n",
       " ('loan_intent x cb_person_cred_hist_length', 'pairwise'),\n",
       " ('loan_grade x loan_amnt', 'pairwise'),\n",
       " ('loan_grade x loan_percent_income', 'pairwise'),\n",
       " ('loan_grade x cb_person_cred_hist_length', 'pairwise'),\n",
       " ('loan_percent_income x cb_person_cred_hist_length', 'pairwise')]"
      ]
     },
     "execution_count": 20,
     "metadata": {},
     "output_type": "execute_result"
    }
   ],
   "source": [
    "# Modell efects\n",
    "parsed_model = xgb2.parse_model()\n",
    "list(zip(parsed_model.effect_names_, parsed_model.effect_types_))"
   ]
  },
  {
   "cell_type": "markdown",
   "metadata": {},
   "source": [
    "# *Hyperparameter Tuning*"
   ]
  },
  {
   "cell_type": "code",
   "execution_count": 517,
   "metadata": {},
   "outputs": [
    {
     "data": {
      "application/vnd.jupyter.widget-view+json": {
       "model_id": "ea867eb15f2e45c39ef6a7543cc28191",
       "version_major": 2,
       "version_minor": 0
      },
      "text/plain": [
       "HTML(value='\\n        <style>\\n\\n        .left-label {\\n            width: 30%;\\n        }\\n\\n        .card-pa…"
      ]
     },
     "metadata": {},
     "output_type": "display_data"
    },
    {
     "name": "stdout",
     "output_type": "stream",
     "text": [
      "Fitting 5 folds for each of 192 candidates, totalling 960 fits\n"
     ]
    },
    {
     "data": {
      "text/html": [
       "<style>#sk-container-id-43 {color: black;}#sk-container-id-43 pre{padding: 0;}#sk-container-id-43 div.sk-toggleable {background-color: white;}#sk-container-id-43 label.sk-toggleable__label {cursor: pointer;display: block;width: 100%;margin-bottom: 0;padding: 0.3em;box-sizing: border-box;text-align: center;}#sk-container-id-43 label.sk-toggleable__label-arrow:before {content: \"▸\";float: left;margin-right: 0.25em;color: #696969;}#sk-container-id-43 label.sk-toggleable__label-arrow:hover:before {color: black;}#sk-container-id-43 div.sk-estimator:hover label.sk-toggleable__label-arrow:before {color: black;}#sk-container-id-43 div.sk-toggleable__content {max-height: 0;max-width: 0;overflow: hidden;text-align: left;background-color: #f0f8ff;}#sk-container-id-43 div.sk-toggleable__content pre {margin: 0.2em;color: black;border-radius: 0.25em;background-color: #f0f8ff;}#sk-container-id-43 input.sk-toggleable__control:checked~div.sk-toggleable__content {max-height: 200px;max-width: 100%;overflow: auto;}#sk-container-id-43 input.sk-toggleable__control:checked~label.sk-toggleable__label-arrow:before {content: \"▾\";}#sk-container-id-43 div.sk-estimator input.sk-toggleable__control:checked~label.sk-toggleable__label {background-color: #d4ebff;}#sk-container-id-43 div.sk-label input.sk-toggleable__control:checked~label.sk-toggleable__label {background-color: #d4ebff;}#sk-container-id-43 input.sk-hidden--visually {border: 0;clip: rect(1px 1px 1px 1px);clip: rect(1px, 1px, 1px, 1px);height: 1px;margin: -1px;overflow: hidden;padding: 0;position: absolute;width: 1px;}#sk-container-id-43 div.sk-estimator {font-family: monospace;background-color: #f0f8ff;border: 1px dotted black;border-radius: 0.25em;box-sizing: border-box;margin-bottom: 0.5em;}#sk-container-id-43 div.sk-estimator:hover {background-color: #d4ebff;}#sk-container-id-43 div.sk-parallel-item::after {content: \"\";width: 100%;border-bottom: 1px solid gray;flex-grow: 1;}#sk-container-id-43 div.sk-label:hover label.sk-toggleable__label {background-color: #d4ebff;}#sk-container-id-43 div.sk-serial::before {content: \"\";position: absolute;border-left: 1px solid gray;box-sizing: border-box;top: 0;bottom: 0;left: 50%;z-index: 0;}#sk-container-id-43 div.sk-serial {display: flex;flex-direction: column;align-items: center;background-color: white;padding-right: 0.2em;padding-left: 0.2em;position: relative;}#sk-container-id-43 div.sk-item {position: relative;z-index: 1;}#sk-container-id-43 div.sk-parallel {display: flex;align-items: stretch;justify-content: center;background-color: white;position: relative;}#sk-container-id-43 div.sk-item::before, #sk-container-id-43 div.sk-parallel-item::before {content: \"\";position: absolute;border-left: 1px solid gray;box-sizing: border-box;top: 0;bottom: 0;left: 50%;z-index: -1;}#sk-container-id-43 div.sk-parallel-item {display: flex;flex-direction: column;z-index: 1;position: relative;background-color: white;}#sk-container-id-43 div.sk-parallel-item:first-child::after {align-self: flex-end;width: 50%;}#sk-container-id-43 div.sk-parallel-item:last-child::after {align-self: flex-start;width: 50%;}#sk-container-id-43 div.sk-parallel-item:only-child::after {width: 0;}#sk-container-id-43 div.sk-dashed-wrapped {border: 1px dashed gray;margin: 0 0.4em 0.5em 0.4em;box-sizing: border-box;padding-bottom: 0.4em;background-color: white;}#sk-container-id-43 div.sk-label label {font-family: monospace;font-weight: bold;display: inline-block;line-height: 1.2em;}#sk-container-id-43 div.sk-label-container {text-align: center;}#sk-container-id-43 div.sk-container {/* jupyter's `normalize.less` sets `[hidden] { display: none; }` but bootstrap.min.css set `[hidden] { display: none !important; }` so we also need the `!important` here to be able to override the default hidden behavior on the sphinx rendered scikit-learn.org. See: https://github.com/scikit-learn/scikit-learn/issues/21755 */display: inline-block !important;position: relative;}#sk-container-id-43 div.sk-text-repr-fallback {display: none;}</style><div id=\"sk-container-id-43\" class=\"sk-top-container\"><div class=\"sk-text-repr-fallback\"><pre>GridSearchCV(cv=5,\n",
       "             estimator=XGB2Classifier(feature_names=[&#x27;person_income&#x27;,\n",
       "                                                     &#x27;person_home_ownership&#x27;,\n",
       "                                                     &#x27;person_emp_length&#x27;,\n",
       "                                                     &#x27;loan_intent&#x27;,\n",
       "                                                     &#x27;loan_grade&#x27;, &#x27;loan_amnt&#x27;,\n",
       "                                                     &#x27;loan_percent_income&#x27;,\n",
       "                                                     &#x27;cb_person_default_on_file&#x27;,\n",
       "                                                     &#x27;cb_person_cred_hist_length&#x27;],\n",
       "                                      mono_decreasing_list=[&#x27;person_income&#x27;,\n",
       "                                                            &#x27;person_emp_length&#x27;,\n",
       "                                                            &#x27;cb_person_cred_hist_length&#x27;],\n",
       "                                      mono_increasing_list=[&#x27;person_home_ownership&#x27;,\n",
       "                                                            &#x27;loan_intent&#x27;,\n",
       "                                                            &#x27;loan_grade&#x27;,\n",
       "                                                            &#x27;loan_amnt&#x27;,\n",
       "                                                            &#x27;loan_percent_income&#x27;,\n",
       "                                                            &#x27;cb_person_default_on_file&#x27;]),\n",
       "             n_jobs=-1,\n",
       "             param_grid={&#x27;eta&#x27;: [0.01, 0.1, 0.3],\n",
       "                         &#x27;max_bin&#x27;: [20, 100, 256, 512],\n",
       "                         &#x27;n_estimators&#x27;: [50, 100, 150, 200],\n",
       "                         &#x27;tree_method&#x27;: [&#x27;auto&#x27;, &#x27;exact&#x27;, &#x27;approx&#x27;, &#x27;hist&#x27;]},\n",
       "             return_train_score=True, scoring=&#x27;roc_auc&#x27;, verbose=True)</pre><b>In a Jupyter environment, please rerun this cell to show the HTML representation or trust the notebook. <br />On GitHub, the HTML representation is unable to render, please try loading this page with nbviewer.org.</b></div><div class=\"sk-container\" hidden><div class=\"sk-item sk-dashed-wrapped\"><div class=\"sk-label-container\"><div class=\"sk-label sk-toggleable\"><input class=\"sk-toggleable__control sk-hidden--visually\" id=\"sk-estimator-id-53\" type=\"checkbox\" ><label for=\"sk-estimator-id-53\" class=\"sk-toggleable__label sk-toggleable__label-arrow\">GridSearchCV</label><div class=\"sk-toggleable__content\"><pre>GridSearchCV(cv=5,\n",
       "             estimator=XGB2Classifier(feature_names=[&#x27;person_income&#x27;,\n",
       "                                                     &#x27;person_home_ownership&#x27;,\n",
       "                                                     &#x27;person_emp_length&#x27;,\n",
       "                                                     &#x27;loan_intent&#x27;,\n",
       "                                                     &#x27;loan_grade&#x27;, &#x27;loan_amnt&#x27;,\n",
       "                                                     &#x27;loan_percent_income&#x27;,\n",
       "                                                     &#x27;cb_person_default_on_file&#x27;,\n",
       "                                                     &#x27;cb_person_cred_hist_length&#x27;],\n",
       "                                      mono_decreasing_list=[&#x27;person_income&#x27;,\n",
       "                                                            &#x27;person_emp_length&#x27;,\n",
       "                                                            &#x27;cb_person_cred_hist_length&#x27;],\n",
       "                                      mono_increasing_list=[&#x27;person_home_ownership&#x27;,\n",
       "                                                            &#x27;loan_intent&#x27;,\n",
       "                                                            &#x27;loan_grade&#x27;,\n",
       "                                                            &#x27;loan_amnt&#x27;,\n",
       "                                                            &#x27;loan_percent_income&#x27;,\n",
       "                                                            &#x27;cb_person_default_on_file&#x27;]),\n",
       "             n_jobs=-1,\n",
       "             param_grid={&#x27;eta&#x27;: [0.01, 0.1, 0.3],\n",
       "                         &#x27;max_bin&#x27;: [20, 100, 256, 512],\n",
       "                         &#x27;n_estimators&#x27;: [50, 100, 150, 200],\n",
       "                         &#x27;tree_method&#x27;: [&#x27;auto&#x27;, &#x27;exact&#x27;, &#x27;approx&#x27;, &#x27;hist&#x27;]},\n",
       "             return_train_score=True, scoring=&#x27;roc_auc&#x27;, verbose=True)</pre></div></div></div><div class=\"sk-parallel\"><div class=\"sk-parallel-item\"><div class=\"sk-item\"><div class=\"sk-label-container\"><div class=\"sk-label sk-toggleable\"><input class=\"sk-toggleable__control sk-hidden--visually\" id=\"sk-estimator-id-54\" type=\"checkbox\" ><label for=\"sk-estimator-id-54\" class=\"sk-toggleable__label sk-toggleable__label-arrow\">estimator: XGB2Classifier</label><div class=\"sk-toggleable__content\"><pre>XGB2Classifier(feature_names=[&#x27;person_income&#x27;, &#x27;person_home_ownership&#x27;,\n",
       "                              &#x27;person_emp_length&#x27;, &#x27;loan_intent&#x27;, &#x27;loan_grade&#x27;,\n",
       "                              &#x27;loan_amnt&#x27;, &#x27;loan_percent_income&#x27;,\n",
       "                              &#x27;cb_person_default_on_file&#x27;,\n",
       "                              &#x27;cb_person_cred_hist_length&#x27;],\n",
       "               mono_decreasing_list=[&#x27;person_income&#x27;, &#x27;person_emp_length&#x27;,\n",
       "                                     &#x27;cb_person_cred_hist_length&#x27;],\n",
       "               mono_increasing_list=[&#x27;person_home_ownership&#x27;, &#x27;loan_intent&#x27;,\n",
       "                                     &#x27;loan_grade&#x27;, &#x27;loan_amnt&#x27;,\n",
       "                                     &#x27;loan_percent_income&#x27;,\n",
       "                                     &#x27;cb_person_default_on_file&#x27;])</pre></div></div></div><div class=\"sk-serial\"><div class=\"sk-item\"><div class=\"sk-estimator sk-toggleable\"><input class=\"sk-toggleable__control sk-hidden--visually\" id=\"sk-estimator-id-55\" type=\"checkbox\" ><label for=\"sk-estimator-id-55\" class=\"sk-toggleable__label sk-toggleable__label-arrow\">XGB2Classifier</label><div class=\"sk-toggleable__content\"><pre>XGB2Classifier(feature_names=[&#x27;person_income&#x27;, &#x27;person_home_ownership&#x27;,\n",
       "                              &#x27;person_emp_length&#x27;, &#x27;loan_intent&#x27;, &#x27;loan_grade&#x27;,\n",
       "                              &#x27;loan_amnt&#x27;, &#x27;loan_percent_income&#x27;,\n",
       "                              &#x27;cb_person_default_on_file&#x27;,\n",
       "                              &#x27;cb_person_cred_hist_length&#x27;],\n",
       "               mono_decreasing_list=[&#x27;person_income&#x27;, &#x27;person_emp_length&#x27;,\n",
       "                                     &#x27;cb_person_cred_hist_length&#x27;],\n",
       "               mono_increasing_list=[&#x27;person_home_ownership&#x27;, &#x27;loan_intent&#x27;,\n",
       "                                     &#x27;loan_grade&#x27;, &#x27;loan_amnt&#x27;,\n",
       "                                     &#x27;loan_percent_income&#x27;,\n",
       "                                     &#x27;cb_person_default_on_file&#x27;])</pre></div></div></div></div></div></div></div></div></div></div>"
      ],
      "text/plain": [
       "GridSearchCV(cv=5,\n",
       "             estimator=XGB2Classifier(feature_names=['person_income',\n",
       "                                                     'person_home_ownership',\n",
       "                                                     'person_emp_length',\n",
       "                                                     'loan_intent',\n",
       "                                                     'loan_grade', 'loan_amnt',\n",
       "                                                     'loan_percent_income',\n",
       "                                                     'cb_person_default_on_file',\n",
       "                                                     'cb_person_cred_hist_length'],\n",
       "                                      mono_decreasing_list=['person_income',\n",
       "                                                            'person_emp_length',\n",
       "                                                            'cb_person_cred_hist_length'],\n",
       "                                      mono_increasing_list=['person_home_ownership',\n",
       "                                                            'loan_intent',\n",
       "                                                            'loan_grade',\n",
       "                                                            'loan_amnt',\n",
       "                                                            'loan_percent_income',\n",
       "                                                            'cb_person_default_on_file']),\n",
       "             n_jobs=-1,\n",
       "             param_grid={'eta': [0.01, 0.1, 0.3],\n",
       "                         'max_bin': [20, 100, 256, 512],\n",
       "                         'n_estimators': [50, 100, 150, 200],\n",
       "                         'tree_method': ['auto', 'exact', 'approx', 'hist']},\n",
       "             return_train_score=True, scoring='roc_auc', verbose=True)"
      ]
     },
     "execution_count": 517,
     "metadata": {},
     "output_type": "execute_result"
    }
   ],
   "source": [
    "# Model Objcet\n",
    "xgb2 = XGB2Classifier(mono_increasing_list=mono_increasing_list, mono_decreasing_list=mono_decreasing_list, \n",
    "                    feature_names=modeling_variables)\n",
    "\n",
    "# Parameter Grid\n",
    "param_grid = {\n",
    "    'eta': [0.01, 0.1, 0.3],\n",
    "    'n_estimators': [50, 100, 150, 200],\n",
    "    'tree_method' : ['auto', 'exact', 'approx', 'hist'],\n",
    "    'max_bin' : [20, 100, 256, 512]\n",
    "}\n",
    "\n",
    "# Grid Search Object\n",
    "grid_search = GridSearchCV(xgb2, param_grid, cv=5, n_jobs=-1, verbose=True, scoring='roc_auc', return_train_score=True)\n",
    "\n",
    "\n",
    "grid_search.fit(X_train, y_train)"
   ]
  },
  {
   "cell_type": "code",
   "execution_count": 518,
   "metadata": {},
   "outputs": [
    {
     "data": {
      "application/vnd.jupyter.widget-view+json": {
       "model_id": "248195d7bc4b47ba9bec67c52baed6db",
       "version_major": 2,
       "version_minor": 0
      },
      "text/plain": [
       "HTML(value='\\n        <style>\\n\\n        .left-label {\\n            width: 30%;\\n        }\\n\\n        .card-pa…"
      ]
     },
     "metadata": {},
     "output_type": "display_data"
    },
    {
     "name": "stdout",
     "output_type": "stream",
     "text": [
      "Best Parameters: {'eta': 0.3, 'max_bin': 256, 'n_estimators': 100, 'tree_method': 'auto'}\n"
     ]
    }
   ],
   "source": [
    "print(\"Best Parameters:\", grid_search.best_params_)"
   ]
  },
  {
   "cell_type": "code",
   "execution_count": 519,
   "metadata": {},
   "outputs": [
    {
     "data": {
      "application/vnd.jupyter.widget-view+json": {
       "model_id": "9f652788633f46609c6d8847bb8a7446",
       "version_major": 2,
       "version_minor": 0
      },
      "text/plain": [
       "HTML(value='\\n        <style>\\n\\n        .left-label {\\n            width: 30%;\\n        }\\n\\n        .card-pa…"
      ]
     },
     "metadata": {},
     "output_type": "display_data"
    }
   ],
   "source": [
    "cv_results = pd.DataFrame(grid_search.cv_results_)"
   ]
  },
  {
   "cell_type": "code",
   "execution_count": 520,
   "metadata": {},
   "outputs": [
    {
     "data": {
      "application/vnd.jupyter.widget-view+json": {
       "model_id": "cf279839ac2c4f319c87ad68dafb7700",
       "version_major": 2,
       "version_minor": 0
      },
      "text/plain": [
       "HTML(value='\\n        <style>\\n\\n        .left-label {\\n            width: 30%;\\n        }\\n\\n        .card-pa…"
      ]
     },
     "metadata": {},
     "output_type": "display_data"
    },
    {
     "data": {
      "text/html": [
       "<div>\n",
       "<style scoped>\n",
       "    .dataframe tbody tr th:only-of-type {\n",
       "        vertical-align: middle;\n",
       "    }\n",
       "\n",
       "    .dataframe tbody tr th {\n",
       "        vertical-align: top;\n",
       "    }\n",
       "\n",
       "    .dataframe thead th {\n",
       "        text-align: right;\n",
       "    }\n",
       "</style>\n",
       "<table border=\"1\" class=\"dataframe\">\n",
       "  <thead>\n",
       "    <tr style=\"text-align: right;\">\n",
       "      <th></th>\n",
       "      <th>mean_fit_time</th>\n",
       "      <th>std_fit_time</th>\n",
       "      <th>mean_score_time</th>\n",
       "      <th>std_score_time</th>\n",
       "      <th>param_eta</th>\n",
       "      <th>param_max_bin</th>\n",
       "      <th>param_n_estimators</th>\n",
       "      <th>param_tree_method</th>\n",
       "      <th>params</th>\n",
       "      <th>split0_test_score</th>\n",
       "      <th>split1_test_score</th>\n",
       "      <th>split2_test_score</th>\n",
       "      <th>split3_test_score</th>\n",
       "      <th>split4_test_score</th>\n",
       "      <th>mean_test_score</th>\n",
       "      <th>std_test_score</th>\n",
       "      <th>rank_test_score</th>\n",
       "      <th>split0_train_score</th>\n",
       "      <th>split1_train_score</th>\n",
       "      <th>split2_train_score</th>\n",
       "      <th>split3_train_score</th>\n",
       "      <th>split4_train_score</th>\n",
       "      <th>mean_train_score</th>\n",
       "      <th>std_train_score</th>\n",
       "    </tr>\n",
       "  </thead>\n",
       "  <tbody>\n",
       "    <tr>\n",
       "      <th>0</th>\n",
       "      <td>0.116941</td>\n",
       "      <td>0.007248</td>\n",
       "      <td>0.013401</td>\n",
       "      <td>0.002381</td>\n",
       "      <td>0.01</td>\n",
       "      <td>20</td>\n",
       "      <td>50</td>\n",
       "      <td>auto</td>\n",
       "      <td>{'eta': 0.01, 'max_bin': 20, 'n_estimators': 50, 'tree_method': 'auto'}</td>\n",
       "      <td>0.830551</td>\n",
       "      <td>0.821388</td>\n",
       "      <td>0.825637</td>\n",
       "      <td>0.824176</td>\n",
       "      <td>0.831019</td>\n",
       "      <td>0.826554</td>\n",
       "      <td>0.003717</td>\n",
       "      <td>178</td>\n",
       "      <td>0.825212</td>\n",
       "      <td>0.829813</td>\n",
       "      <td>0.826428</td>\n",
       "      <td>0.826802</td>\n",
       "      <td>0.825065</td>\n",
       "      <td>0.826664</td>\n",
       "      <td>0.001712</td>\n",
       "    </tr>\n",
       "    <tr>\n",
       "      <th>1</th>\n",
       "      <td>0.365262</td>\n",
       "      <td>0.021686</td>\n",
       "      <td>0.016006</td>\n",
       "      <td>0.003754</td>\n",
       "      <td>0.01</td>\n",
       "      <td>20</td>\n",
       "      <td>50</td>\n",
       "      <td>exact</td>\n",
       "      <td>{'eta': 0.01, 'max_bin': 20, 'n_estimators': 50, 'tree_method': 'exact'}</td>\n",
       "      <td>0.830554</td>\n",
       "      <td>0.820629</td>\n",
       "      <td>0.826834</td>\n",
       "      <td>0.822844</td>\n",
       "      <td>0.828518</td>\n",
       "      <td>0.825876</td>\n",
       "      <td>0.003647</td>\n",
       "      <td>180</td>\n",
       "      <td>0.826477</td>\n",
       "      <td>0.829376</td>\n",
       "      <td>0.825343</td>\n",
       "      <td>0.826351</td>\n",
       "      <td>0.824904</td>\n",
       "      <td>0.826490</td>\n",
       "      <td>0.001561</td>\n",
       "    </tr>\n",
       "    <tr>\n",
       "      <th>2</th>\n",
       "      <td>0.626807</td>\n",
       "      <td>0.015221</td>\n",
       "      <td>0.011622</td>\n",
       "      <td>0.001542</td>\n",
       "      <td>0.01</td>\n",
       "      <td>20</td>\n",
       "      <td>50</td>\n",
       "      <td>approx</td>\n",
       "      <td>{'eta': 0.01, 'max_bin': 20, 'n_estimators': 50, 'tree_method': 'approx'}</td>\n",
       "      <td>0.830680</td>\n",
       "      <td>0.824160</td>\n",
       "      <td>0.827900</td>\n",
       "      <td>0.826471</td>\n",
       "      <td>0.833588</td>\n",
       "      <td>0.828560</td>\n",
       "      <td>0.003284</td>\n",
       "      <td>177</td>\n",
       "      <td>0.827090</td>\n",
       "      <td>0.830781</td>\n",
       "      <td>0.827781</td>\n",
       "      <td>0.829547</td>\n",
       "      <td>0.827776</td>\n",
       "      <td>0.828595</td>\n",
       "      <td>0.001363</td>\n",
       "    </tr>\n",
       "    <tr>\n",
       "      <th>3</th>\n",
       "      <td>0.150950</td>\n",
       "      <td>0.027832</td>\n",
       "      <td>0.017027</td>\n",
       "      <td>0.007689</td>\n",
       "      <td>0.01</td>\n",
       "      <td>20</td>\n",
       "      <td>50</td>\n",
       "      <td>hist</td>\n",
       "      <td>{'eta': 0.01, 'max_bin': 20, 'n_estimators': 50, 'tree_method': 'hist'}</td>\n",
       "      <td>0.830551</td>\n",
       "      <td>0.821388</td>\n",
       "      <td>0.825637</td>\n",
       "      <td>0.824176</td>\n",
       "      <td>0.831019</td>\n",
       "      <td>0.826554</td>\n",
       "      <td>0.003717</td>\n",
       "      <td>178</td>\n",
       "      <td>0.825212</td>\n",
       "      <td>0.829813</td>\n",
       "      <td>0.826428</td>\n",
       "      <td>0.826802</td>\n",
       "      <td>0.825065</td>\n",
       "      <td>0.826664</td>\n",
       "      <td>0.001712</td>\n",
       "    </tr>\n",
       "    <tr>\n",
       "      <th>4</th>\n",
       "      <td>0.191778</td>\n",
       "      <td>0.003609</td>\n",
       "      <td>0.014057</td>\n",
       "      <td>0.003015</td>\n",
       "      <td>0.01</td>\n",
       "      <td>20</td>\n",
       "      <td>100</td>\n",
       "      <td>auto</td>\n",
       "      <td>{'eta': 0.01, 'max_bin': 20, 'n_estimators': 100, 'tree_method': 'auto'}</td>\n",
       "      <td>0.868018</td>\n",
       "      <td>0.869094</td>\n",
       "      <td>0.879165</td>\n",
       "      <td>0.874216</td>\n",
       "      <td>0.875425</td>\n",
       "      <td>0.873184</td>\n",
       "      <td>0.004130</td>\n",
       "      <td>175</td>\n",
       "      <td>0.873216</td>\n",
       "      <td>0.873396</td>\n",
       "      <td>0.876874</td>\n",
       "      <td>0.873736</td>\n",
       "      <td>0.877240</td>\n",
       "      <td>0.874892</td>\n",
       "      <td>0.001779</td>\n",
       "    </tr>\n",
       "  </tbody>\n",
       "</table>\n",
       "</div>"
      ],
      "text/plain": [
       "   mean_fit_time  std_fit_time  mean_score_time  std_score_time param_eta  \\\n",
       "0       0.116941      0.007248         0.013401        0.002381      0.01   \n",
       "1       0.365262      0.021686         0.016006        0.003754      0.01   \n",
       "2       0.626807      0.015221         0.011622        0.001542      0.01   \n",
       "3       0.150950      0.027832         0.017027        0.007689      0.01   \n",
       "4       0.191778      0.003609         0.014057        0.003015      0.01   \n",
       "\n",
       "  param_max_bin param_n_estimators param_tree_method  \\\n",
       "0            20                 50              auto   \n",
       "1            20                 50             exact   \n",
       "2            20                 50            approx   \n",
       "3            20                 50              hist   \n",
       "4            20                100              auto   \n",
       "\n",
       "                                                                      params  \\\n",
       "0    {'eta': 0.01, 'max_bin': 20, 'n_estimators': 50, 'tree_method': 'auto'}   \n",
       "1   {'eta': 0.01, 'max_bin': 20, 'n_estimators': 50, 'tree_method': 'exact'}   \n",
       "2  {'eta': 0.01, 'max_bin': 20, 'n_estimators': 50, 'tree_method': 'approx'}   \n",
       "3    {'eta': 0.01, 'max_bin': 20, 'n_estimators': 50, 'tree_method': 'hist'}   \n",
       "4   {'eta': 0.01, 'max_bin': 20, 'n_estimators': 100, 'tree_method': 'auto'}   \n",
       "\n",
       "   split0_test_score  split1_test_score  split2_test_score  split3_test_score  \\\n",
       "0           0.830551           0.821388           0.825637           0.824176   \n",
       "1           0.830554           0.820629           0.826834           0.822844   \n",
       "2           0.830680           0.824160           0.827900           0.826471   \n",
       "3           0.830551           0.821388           0.825637           0.824176   \n",
       "4           0.868018           0.869094           0.879165           0.874216   \n",
       "\n",
       "   split4_test_score  mean_test_score  std_test_score  rank_test_score  \\\n",
       "0           0.831019         0.826554        0.003717              178   \n",
       "1           0.828518         0.825876        0.003647              180   \n",
       "2           0.833588         0.828560        0.003284              177   \n",
       "3           0.831019         0.826554        0.003717              178   \n",
       "4           0.875425         0.873184        0.004130              175   \n",
       "\n",
       "   split0_train_score  split1_train_score  split2_train_score  \\\n",
       "0            0.825212            0.829813            0.826428   \n",
       "1            0.826477            0.829376            0.825343   \n",
       "2            0.827090            0.830781            0.827781   \n",
       "3            0.825212            0.829813            0.826428   \n",
       "4            0.873216            0.873396            0.876874   \n",
       "\n",
       "   split3_train_score  split4_train_score  mean_train_score  std_train_score  \n",
       "0            0.826802            0.825065          0.826664         0.001712  \n",
       "1            0.826351            0.824904          0.826490         0.001561  \n",
       "2            0.829547            0.827776          0.828595         0.001363  \n",
       "3            0.826802            0.825065          0.826664         0.001712  \n",
       "4            0.873736            0.877240          0.874892         0.001779  "
      ]
     },
     "execution_count": 520,
     "metadata": {},
     "output_type": "execute_result"
    }
   ],
   "source": [
    "cv_results.head()"
   ]
  },
  {
   "cell_type": "code",
   "execution_count": 521,
   "metadata": {},
   "outputs": [
    {
     "data": {
      "application/vnd.jupyter.widget-view+json": {
       "model_id": "6b9128725a5f4d038c924c04a88b6893",
       "version_major": 2,
       "version_minor": 0
      },
      "text/plain": [
       "HTML(value='\\n        <style>\\n\\n        .left-label {\\n            width: 30%;\\n        }\\n\\n        .card-pa…"
      ]
     },
     "metadata": {},
     "output_type": "display_data"
    }
   ],
   "source": [
    "cv_results = cv_results[['params', 'mean_test_score', 'mean_train_score', 'std_test_score', 'std_train_score', 'rank_test_score']].sort_values('mean_test_score', ascending=False, ignore_index=True)"
   ]
  },
  {
   "cell_type": "code",
   "execution_count": 522,
   "metadata": {},
   "outputs": [
    {
     "data": {
      "application/vnd.jupyter.widget-view+json": {
       "model_id": "892701d1f06d4cdf8de90847bef9ab60",
       "version_major": 2,
       "version_minor": 0
      },
      "text/plain": [
       "HTML(value='\\n        <style>\\n\\n        .left-label {\\n            width: 30%;\\n        }\\n\\n        .card-pa…"
      ]
     },
     "metadata": {},
     "output_type": "display_data"
    },
    {
     "data": {
      "text/html": [
       "<div>\n",
       "<style scoped>\n",
       "    .dataframe tbody tr th:only-of-type {\n",
       "        vertical-align: middle;\n",
       "    }\n",
       "\n",
       "    .dataframe tbody tr th {\n",
       "        vertical-align: top;\n",
       "    }\n",
       "\n",
       "    .dataframe thead th {\n",
       "        text-align: right;\n",
       "    }\n",
       "</style>\n",
       "<table border=\"1\" class=\"dataframe\">\n",
       "  <thead>\n",
       "    <tr style=\"text-align: right;\">\n",
       "      <th></th>\n",
       "      <th>params</th>\n",
       "      <th>mean_test_score</th>\n",
       "      <th>mean_train_score</th>\n",
       "      <th>std_test_score</th>\n",
       "      <th>std_train_score</th>\n",
       "      <th>rank_test_score</th>\n",
       "    </tr>\n",
       "  </thead>\n",
       "  <tbody>\n",
       "    <tr>\n",
       "      <th>0</th>\n",
       "      <td>{'eta': 0.3, 'max_bin': 256, 'n_estimators': 100, 'tree_method': 'hist'}</td>\n",
       "      <td>0.912771</td>\n",
       "      <td>0.916372</td>\n",
       "      <td>0.003395</td>\n",
       "      <td>0.000780</td>\n",
       "      <td>1</td>\n",
       "    </tr>\n",
       "    <tr>\n",
       "      <th>1</th>\n",
       "      <td>{'eta': 0.3, 'max_bin': 256, 'n_estimators': 100, 'tree_method': 'auto'}</td>\n",
       "      <td>0.912771</td>\n",
       "      <td>0.916372</td>\n",
       "      <td>0.003395</td>\n",
       "      <td>0.000780</td>\n",
       "      <td>1</td>\n",
       "    </tr>\n",
       "    <tr>\n",
       "      <th>2</th>\n",
       "      <td>{'eta': 0.3, 'max_bin': 256, 'n_estimators': 150, 'tree_method': 'auto'}</td>\n",
       "      <td>0.912771</td>\n",
       "      <td>0.916372</td>\n",
       "      <td>0.003396</td>\n",
       "      <td>0.000779</td>\n",
       "      <td>3</td>\n",
       "    </tr>\n",
       "    <tr>\n",
       "      <th>3</th>\n",
       "      <td>{'eta': 0.3, 'max_bin': 256, 'n_estimators': 150, 'tree_method': 'hist'}</td>\n",
       "      <td>0.912771</td>\n",
       "      <td>0.916372</td>\n",
       "      <td>0.003396</td>\n",
       "      <td>0.000779</td>\n",
       "      <td>3</td>\n",
       "    </tr>\n",
       "    <tr>\n",
       "      <th>4</th>\n",
       "      <td>{'eta': 0.3, 'max_bin': 256, 'n_estimators': 200, 'tree_method': 'auto'}</td>\n",
       "      <td>0.912771</td>\n",
       "      <td>0.916372</td>\n",
       "      <td>0.003396</td>\n",
       "      <td>0.000779</td>\n",
       "      <td>3</td>\n",
       "    </tr>\n",
       "    <tr>\n",
       "      <th>5</th>\n",
       "      <td>{'eta': 0.3, 'max_bin': 256, 'n_estimators': 200, 'tree_method': 'hist'}</td>\n",
       "      <td>0.912771</td>\n",
       "      <td>0.916372</td>\n",
       "      <td>0.003396</td>\n",
       "      <td>0.000779</td>\n",
       "      <td>3</td>\n",
       "    </tr>\n",
       "    <tr>\n",
       "      <th>6</th>\n",
       "      <td>{'eta': 0.3, 'max_bin': 512, 'n_estimators': 150, 'tree_method': 'auto'}</td>\n",
       "      <td>0.912687</td>\n",
       "      <td>0.916463</td>\n",
       "      <td>0.003448</td>\n",
       "      <td>0.001155</td>\n",
       "      <td>7</td>\n",
       "    </tr>\n",
       "    <tr>\n",
       "      <th>7</th>\n",
       "      <td>{'eta': 0.3, 'max_bin': 512, 'n_estimators': 200, 'tree_method': 'hist'}</td>\n",
       "      <td>0.912687</td>\n",
       "      <td>0.916463</td>\n",
       "      <td>0.003448</td>\n",
       "      <td>0.001155</td>\n",
       "      <td>7</td>\n",
       "    </tr>\n",
       "    <tr>\n",
       "      <th>8</th>\n",
       "      <td>{'eta': 0.3, 'max_bin': 512, 'n_estimators': 150, 'tree_method': 'hist'}</td>\n",
       "      <td>0.912687</td>\n",
       "      <td>0.916463</td>\n",
       "      <td>0.003448</td>\n",
       "      <td>0.001155</td>\n",
       "      <td>7</td>\n",
       "    </tr>\n",
       "    <tr>\n",
       "      <th>9</th>\n",
       "      <td>{'eta': 0.3, 'max_bin': 512, 'n_estimators': 200, 'tree_method': 'auto'}</td>\n",
       "      <td>0.912687</td>\n",
       "      <td>0.916463</td>\n",
       "      <td>0.003448</td>\n",
       "      <td>0.001155</td>\n",
       "      <td>7</td>\n",
       "    </tr>\n",
       "  </tbody>\n",
       "</table>\n",
       "</div>"
      ],
      "text/plain": [
       "                                                                     params  \\\n",
       "0  {'eta': 0.3, 'max_bin': 256, 'n_estimators': 100, 'tree_method': 'hist'}   \n",
       "1  {'eta': 0.3, 'max_bin': 256, 'n_estimators': 100, 'tree_method': 'auto'}   \n",
       "2  {'eta': 0.3, 'max_bin': 256, 'n_estimators': 150, 'tree_method': 'auto'}   \n",
       "3  {'eta': 0.3, 'max_bin': 256, 'n_estimators': 150, 'tree_method': 'hist'}   \n",
       "4  {'eta': 0.3, 'max_bin': 256, 'n_estimators': 200, 'tree_method': 'auto'}   \n",
       "5  {'eta': 0.3, 'max_bin': 256, 'n_estimators': 200, 'tree_method': 'hist'}   \n",
       "6  {'eta': 0.3, 'max_bin': 512, 'n_estimators': 150, 'tree_method': 'auto'}   \n",
       "7  {'eta': 0.3, 'max_bin': 512, 'n_estimators': 200, 'tree_method': 'hist'}   \n",
       "8  {'eta': 0.3, 'max_bin': 512, 'n_estimators': 150, 'tree_method': 'hist'}   \n",
       "9  {'eta': 0.3, 'max_bin': 512, 'n_estimators': 200, 'tree_method': 'auto'}   \n",
       "\n",
       "   mean_test_score  mean_train_score  std_test_score  std_train_score  \\\n",
       "0         0.912771          0.916372        0.003395         0.000780   \n",
       "1         0.912771          0.916372        0.003395         0.000780   \n",
       "2         0.912771          0.916372        0.003396         0.000779   \n",
       "3         0.912771          0.916372        0.003396         0.000779   \n",
       "4         0.912771          0.916372        0.003396         0.000779   \n",
       "5         0.912771          0.916372        0.003396         0.000779   \n",
       "6         0.912687          0.916463        0.003448         0.001155   \n",
       "7         0.912687          0.916463        0.003448         0.001155   \n",
       "8         0.912687          0.916463        0.003448         0.001155   \n",
       "9         0.912687          0.916463        0.003448         0.001155   \n",
       "\n",
       "   rank_test_score  \n",
       "0                1  \n",
       "1                1  \n",
       "2                3  \n",
       "3                3  \n",
       "4                3  \n",
       "5                3  \n",
       "6                7  \n",
       "7                7  \n",
       "8                7  \n",
       "9                7  "
      ]
     },
     "execution_count": 522,
     "metadata": {},
     "output_type": "execute_result"
    }
   ],
   "source": [
    "cv_results.head(10)"
   ]
  },
  {
   "cell_type": "markdown",
   "metadata": {},
   "source": [
    "I decided to choose ranked as 1 model with features {'eta': 0.3, 'max_bin': 10, 'n_estimators': 100, 'tree_method': 'exact'} model, because it is simple and the performance is almost the similar to the best model (max_bin doesn't have effect while we use 'tree_method' = 'exact')"
   ]
  },
  {
   "cell_type": "markdown",
   "metadata": {},
   "source": [
    "# *Final model*"
   ]
  },
  {
   "cell_type": "code",
   "execution_count": 21,
   "metadata": {},
   "outputs": [
    {
     "data": {
      "text/html": [
       "<style>#sk-container-id-4 {color: black;}#sk-container-id-4 pre{padding: 0;}#sk-container-id-4 div.sk-toggleable {background-color: white;}#sk-container-id-4 label.sk-toggleable__label {cursor: pointer;display: block;width: 100%;margin-bottom: 0;padding: 0.3em;box-sizing: border-box;text-align: center;}#sk-container-id-4 label.sk-toggleable__label-arrow:before {content: \"▸\";float: left;margin-right: 0.25em;color: #696969;}#sk-container-id-4 label.sk-toggleable__label-arrow:hover:before {color: black;}#sk-container-id-4 div.sk-estimator:hover label.sk-toggleable__label-arrow:before {color: black;}#sk-container-id-4 div.sk-toggleable__content {max-height: 0;max-width: 0;overflow: hidden;text-align: left;background-color: #f0f8ff;}#sk-container-id-4 div.sk-toggleable__content pre {margin: 0.2em;color: black;border-radius: 0.25em;background-color: #f0f8ff;}#sk-container-id-4 input.sk-toggleable__control:checked~div.sk-toggleable__content {max-height: 200px;max-width: 100%;overflow: auto;}#sk-container-id-4 input.sk-toggleable__control:checked~label.sk-toggleable__label-arrow:before {content: \"▾\";}#sk-container-id-4 div.sk-estimator input.sk-toggleable__control:checked~label.sk-toggleable__label {background-color: #d4ebff;}#sk-container-id-4 div.sk-label input.sk-toggleable__control:checked~label.sk-toggleable__label {background-color: #d4ebff;}#sk-container-id-4 input.sk-hidden--visually {border: 0;clip: rect(1px 1px 1px 1px);clip: rect(1px, 1px, 1px, 1px);height: 1px;margin: -1px;overflow: hidden;padding: 0;position: absolute;width: 1px;}#sk-container-id-4 div.sk-estimator {font-family: monospace;background-color: #f0f8ff;border: 1px dotted black;border-radius: 0.25em;box-sizing: border-box;margin-bottom: 0.5em;}#sk-container-id-4 div.sk-estimator:hover {background-color: #d4ebff;}#sk-container-id-4 div.sk-parallel-item::after {content: \"\";width: 100%;border-bottom: 1px solid gray;flex-grow: 1;}#sk-container-id-4 div.sk-label:hover label.sk-toggleable__label {background-color: #d4ebff;}#sk-container-id-4 div.sk-serial::before {content: \"\";position: absolute;border-left: 1px solid gray;box-sizing: border-box;top: 0;bottom: 0;left: 50%;z-index: 0;}#sk-container-id-4 div.sk-serial {display: flex;flex-direction: column;align-items: center;background-color: white;padding-right: 0.2em;padding-left: 0.2em;position: relative;}#sk-container-id-4 div.sk-item {position: relative;z-index: 1;}#sk-container-id-4 div.sk-parallel {display: flex;align-items: stretch;justify-content: center;background-color: white;position: relative;}#sk-container-id-4 div.sk-item::before, #sk-container-id-4 div.sk-parallel-item::before {content: \"\";position: absolute;border-left: 1px solid gray;box-sizing: border-box;top: 0;bottom: 0;left: 50%;z-index: -1;}#sk-container-id-4 div.sk-parallel-item {display: flex;flex-direction: column;z-index: 1;position: relative;background-color: white;}#sk-container-id-4 div.sk-parallel-item:first-child::after {align-self: flex-end;width: 50%;}#sk-container-id-4 div.sk-parallel-item:last-child::after {align-self: flex-start;width: 50%;}#sk-container-id-4 div.sk-parallel-item:only-child::after {width: 0;}#sk-container-id-4 div.sk-dashed-wrapped {border: 1px dashed gray;margin: 0 0.4em 0.5em 0.4em;box-sizing: border-box;padding-bottom: 0.4em;background-color: white;}#sk-container-id-4 div.sk-label label {font-family: monospace;font-weight: bold;display: inline-block;line-height: 1.2em;}#sk-container-id-4 div.sk-label-container {text-align: center;}#sk-container-id-4 div.sk-container {/* jupyter's `normalize.less` sets `[hidden] { display: none; }` but bootstrap.min.css set `[hidden] { display: none !important; }` so we also need the `!important` here to be able to override the default hidden behavior on the sphinx rendered scikit-learn.org. See: https://github.com/scikit-learn/scikit-learn/issues/21755 */display: inline-block !important;position: relative;}#sk-container-id-4 div.sk-text-repr-fallback {display: none;}</style><div id=\"sk-container-id-4\" class=\"sk-top-container\"><div class=\"sk-text-repr-fallback\"><pre>XGB2Classifier(feature_names=[&#x27;person_income&#x27;, &#x27;person_home_ownership&#x27;,\n",
       "                              &#x27;person_emp_length&#x27;, &#x27;loan_intent&#x27;, &#x27;loan_grade&#x27;,\n",
       "                              &#x27;loan_amnt&#x27;, &#x27;loan_percent_income&#x27;,\n",
       "                              &#x27;cb_person_default_on_file&#x27;,\n",
       "                              &#x27;cb_person_cred_hist_length&#x27;],\n",
       "               mono_decreasing_list=[&#x27;person_income&#x27;, &#x27;person_emp_length&#x27;,\n",
       "                                     &#x27;cb_person_cred_hist_length&#x27;],\n",
       "               mono_increasing_list=[&#x27;person_home_ownership&#x27;, &#x27;loan_intent&#x27;,\n",
       "                                     &#x27;loan_grade&#x27;, &#x27;loan_amnt&#x27;,\n",
       "                                     &#x27;loan_percent_income&#x27;,\n",
       "                                     &#x27;cb_person_default_on_file&#x27;],\n",
       "               random_state=42, tree_method=&#x27;exact&#x27;)</pre><b>In a Jupyter environment, please rerun this cell to show the HTML representation or trust the notebook. <br />On GitHub, the HTML representation is unable to render, please try loading this page with nbviewer.org.</b></div><div class=\"sk-container\" hidden><div class=\"sk-item\"><div class=\"sk-estimator sk-toggleable\"><input class=\"sk-toggleable__control sk-hidden--visually\" id=\"sk-estimator-id-4\" type=\"checkbox\" checked><label for=\"sk-estimator-id-4\" class=\"sk-toggleable__label sk-toggleable__label-arrow\">XGB2Classifier</label><div class=\"sk-toggleable__content\"><pre>XGB2Classifier(feature_names=[&#x27;person_income&#x27;, &#x27;person_home_ownership&#x27;,\n",
       "                              &#x27;person_emp_length&#x27;, &#x27;loan_intent&#x27;, &#x27;loan_grade&#x27;,\n",
       "                              &#x27;loan_amnt&#x27;, &#x27;loan_percent_income&#x27;,\n",
       "                              &#x27;cb_person_default_on_file&#x27;,\n",
       "                              &#x27;cb_person_cred_hist_length&#x27;],\n",
       "               mono_decreasing_list=[&#x27;person_income&#x27;, &#x27;person_emp_length&#x27;,\n",
       "                                     &#x27;cb_person_cred_hist_length&#x27;],\n",
       "               mono_increasing_list=[&#x27;person_home_ownership&#x27;, &#x27;loan_intent&#x27;,\n",
       "                                     &#x27;loan_grade&#x27;, &#x27;loan_amnt&#x27;,\n",
       "                                     &#x27;loan_percent_income&#x27;,\n",
       "                                     &#x27;cb_person_default_on_file&#x27;],\n",
       "               random_state=42, tree_method=&#x27;exact&#x27;)</pre></div></div></div></div></div>"
      ],
      "text/plain": [
       "XGB2Classifier(feature_names=['person_income', 'person_home_ownership',\n",
       "                              'person_emp_length', 'loan_intent', 'loan_grade',\n",
       "                              'loan_amnt', 'loan_percent_income',\n",
       "                              'cb_person_default_on_file',\n",
       "                              'cb_person_cred_hist_length'],\n",
       "               mono_decreasing_list=['person_income', 'person_emp_length',\n",
       "                                     'cb_person_cred_hist_length'],\n",
       "               mono_increasing_list=['person_home_ownership', 'loan_intent',\n",
       "                                     'loan_grade', 'loan_amnt',\n",
       "                                     'loan_percent_income',\n",
       "                                     'cb_person_default_on_file'],\n",
       "               random_state=42, tree_method='exact')"
      ]
     },
     "execution_count": 21,
     "metadata": {},
     "output_type": "execute_result"
    }
   ],
   "source": [
    "# Define final model\n",
    "\n",
    "model = XGB2Classifier(mono_increasing_list=mono_increasing_list, mono_decreasing_list=mono_decreasing_list,\n",
    "                        feature_names=modeling_variables, eta=0.3, max_depth=2, n_estimators=100, tree_method='exact',\n",
    "                          random_state=42)\n",
    "\n",
    "model.fit(X_train, y_train)"
   ]
  },
  {
   "cell_type": "code",
   "execution_count": 37,
   "metadata": {},
   "outputs": [
    {
     "data": {
      "application/vnd.jupyter.widget-view+json": {
       "model_id": "9b3dfcc2e23e42808642d3b5357ba8bd",
       "version_major": 2,
       "version_minor": 0
      },
      "text/plain": [
       "HTML(value='\\n        <style>\\n\\n        .left-label {\\n            width: 30%;\\n        }\\n\\n        .card-pa…"
      ]
     },
     "metadata": {},
     "output_type": "display_data"
    }
   ],
   "source": [
    "# Save the model\n",
    "pickle.dump(model, open('xgb2_model.pkl', 'wb'))"
   ]
  },
  {
   "cell_type": "code",
   "execution_count": 11,
   "metadata": {},
   "outputs": [],
   "source": [
    "# Load the model\n",
    "model = pickle.load(open('xgb2_model.pkl', 'rb'))"
   ]
  },
  {
   "cell_type": "code",
   "execution_count": 12,
   "metadata": {},
   "outputs": [],
   "source": [
    "# Predict\n",
    "pred_train = model.predict_proba(X_train)[:, 1]\n",
    "pred_valid = model.predict_proba(X_valid)[:, 1]\n",
    "pred_test = model.predict_proba(X_test)[:, 1]"
   ]
  },
  {
   "cell_type": "code",
   "execution_count": 13,
   "metadata": {},
   "outputs": [
    {
     "name": "stdout",
     "output_type": "stream",
     "text": [
      "AUC Train: 0.915409151034891\n",
      "AUC Valid: 0.9219390421028393\n",
      "AUC Test: 0.9171277240314093\n"
     ]
    }
   ],
   "source": [
    "# Calculate AUC\n",
    "print('AUC Train:', roc_auc_score(y_train, pred_train))\n",
    "print('AUC Valid:', roc_auc_score(y_valid, pred_valid))\n",
    "print('AUC Test:', roc_auc_score(y_test, pred_test))"
   ]
  },
  {
   "cell_type": "code",
   "execution_count": 14,
   "metadata": {},
   "outputs": [
    {
     "data": {
      "image/png": "[encoded data removed]",
      "text/plain": [
       "<Figure size 640x480 with 2 Axes>"
      ]
     },
     "metadata": {},
     "output_type": "display_data"
    }
   ],
   "source": [
    "# Confusion Matrix\n",
    "\n",
    "pred_test = model.predict_proba(X_test)[:, 1]\n",
    "\n",
    "cm = confusion_matrix(y_test, (pred_test>0.3).astype(int))\n",
    "disp = ConfusionMatrixDisplay(confusion_matrix=cm, display_labels=model.classes_)\n",
    "disp.plot(cmap='Blues')\n",
    "plt.title('Confusion Matrix for Best Model')\n",
    "plt.show()"
   ]
  },
  {
   "cell_type": "code",
   "execution_count": 15,
   "metadata": {},
   "outputs": [
    {
     "name": "stdout",
     "output_type": "stream",
     "text": [
      "Precision: 0.78\n",
      "Recall: 0.75\n"
     ]
    }
   ],
   "source": [
    "# precision indicates how many of the samples predicted as positive are actually positive\n",
    "# recall indicates how many of the actual positive samples are correctly predicted as positive\n",
    "\n",
    "print('Precision:', round(precision_score(y_test, (pred_test>0.3).astype(int)),2))\n",
    "print('Recall:', round(recall_score(y_test, (pred_test>0.3).astype(int)),2))"
   ]
  },
  {
   "cell_type": "markdown",
   "metadata": {},
   "source": [
    "# *Model Exploration/Interpretation*"
   ]
  },
  {
   "cell_type": "code",
   "execution_count": 16,
   "metadata": {},
   "outputs": [],
   "source": [
    "exp = Experiment()\n",
    "pipeline = exp.make_pipeline(model=model, train_x=X_train, train_y=y_train.ravel(),\n",
    "                             test_x=X_test, test_y=y_test.ravel(), feature_names=modeling_variables)\n",
    "\n",
    "exp.register(pipeline, \"XGB2\")"
   ]
  },
  {
   "cell_type": "code",
   "execution_count": 17,
   "metadata": {},
   "outputs": [
    {
     "data": {
      "application/vnd.jupyter.widget-view+json": {
       "model_id": "b713d479b8544eb2b01ad24e7e5f6a3e",
       "version_major": 2,
       "version_minor": 0
      },
      "text/plain": [
       "HTML(value='\\n        <style>\\n\\n        .left-label {\\n            width: 30%;\\n        }\\n\\n        .card-pa…"
      ]
     },
     "metadata": {},
     "output_type": "display_data"
    },
    {
     "data": {
      "text/plain": [
       "['person_income',\n",
       " 'person_home_ownership',\n",
       " 'person_emp_length',\n",
       " 'loan_intent',\n",
       " 'loan_grade',\n",
       " 'loan_amnt',\n",
       " 'loan_percent_income',\n",
       " 'cb_person_default_on_file',\n",
       " 'cb_person_cred_hist_length']"
      ]
     },
     "execution_count": 17,
     "metadata": {},
     "output_type": "execute_result"
    }
   ],
   "source": [
    "modeling_variables"
   ]
  },
  {
   "cell_type": "code",
   "execution_count": 67,
   "metadata": {},
   "outputs": [
    {
     "data": {
      "application/vnd.jupyter.widget-view+json": {
       "model_id": "619f1d89c14f45b481f112a2f2b12835",
       "version_major": 2,
       "version_minor": 0
      },
      "text/plain": [
       "HTML(value='\\n        <style>\\n\\n        .left-label {\\n            width: 30%;\\n        }\\n\\n        .card-pa…"
      ]
     },
     "metadata": {},
     "output_type": "display_data"
    },
    {
     "data": {
      "image/png": "[encoded data removed]",
      "text/plain": [
       "<Figure size 1000x600 with 1 Axes>"
      ]
     },
     "metadata": {},
     "output_type": "display_data"
    }
   ],
   "source": [
    "# Feature Importance\n",
    "exp.model_interpret(model='XGB2', show=\"global_fi\", figsize=(10, 6), original_scale=True)   "
   ]
  },
  {
   "cell_type": "code",
   "execution_count": 19,
   "metadata": {},
   "outputs": [
    {
     "data": {
      "application/vnd.jupyter.widget-view+json": {
       "model_id": "78bced03dbd145e99c236be6af8ddc4c",
       "version_major": 2,
       "version_minor": 0
      },
      "text/plain": [
       "HTML(value='\\n        <style>\\n\\n        .left-label {\\n            width: 30%;\\n        }\\n\\n        .card-pa…"
      ]
     },
     "metadata": {},
     "output_type": "display_data"
    },
    {
     "data": {
      "image/png": "[encoded data removed]",
      "text/plain": [
       "<Figure size 1000x600 with 1 Axes>"
      ]
     },
     "metadata": {},
     "output_type": "display_data"
    }
   ],
   "source": [
    "# Effect Importance , caluclated by normalized variances\n",
    "exp.model_interpret(model='XGB2', show=\"global_ei\", figsize=(10, 6), original_scale=True)   "
   ]
  },
  {
   "cell_type": "code",
   "execution_count": 31,
   "metadata": {},
   "outputs": [
    {
     "data": {
      "application/vnd.jupyter.widget-view+json": {
       "model_id": "d4bd626ffdc140c280f95d362af9b9fb",
       "version_major": 2,
       "version_minor": 0
      },
      "text/plain": [
       "HTML(value='\\n        <style>\\n\\n        .left-label {\\n            width: 30%;\\n        }\\n\\n        .card-pa…"
      ]
     },
     "metadata": {},
     "output_type": "display_data"
    },
    {
     "data": {
      "image/png": "[encoded data removed]",
      "text/plain": [
       "<Figure size 500x400 with 1 Axes>"
      ]
     },
     "metadata": {},
     "output_type": "display_data"
    },
    {
     "data": {
      "image/png": "[encoded data removed]",
      "text/plain": [
       "<Figure size 500x400 with 1 Axes>"
      ]
     },
     "metadata": {},
     "output_type": "display_data"
    },
    {
     "data": {
      "image/png": "[encoded data removed]",
      "text/plain": [
       "<Figure size 500x400 with 1 Axes>"
      ]
     },
     "metadata": {},
     "output_type": "display_data"
    },
    {
     "data": {
      "image/png": "[encoded data removed]",
      "text/plain": [
       "<Figure size 500x400 with 1 Axes>"
      ]
     },
     "metadata": {},
     "output_type": "display_data"
    },
    {
     "data": {
      "image/png": "[encoded data removed]",
      "text/plain": [
       "<Figure size 500x400 with 1 Axes>"
      ]
     },
     "metadata": {},
     "output_type": "display_data"
    },
    {
     "data": {
      "image/png": "[encoded data removed]",
      "text/plain": [
       "<Figure size 500x400 with 1 Axes>"
      ]
     },
     "metadata": {},
     "output_type": "display_data"
    },
    {
     "data": {
      "image/png": "[encoded data removed]",
      "text/plain": [
       "<Figure size 500x400 with 1 Axes>"
      ]
     },
     "metadata": {},
     "output_type": "display_data"
    },
    {
     "data": {
      "image/png": "[encoded data removed]",
      "text/plain": [
       "<Figure size 500x400 with 1 Axes>"
      ]
     },
     "metadata": {},
     "output_type": "display_data"
    },
    {
     "data": {
      "image/png": "[encoded data removed]",
      "text/plain": [
       "<Figure size 500x400 with 1 Axes>"
      ]
     },
     "metadata": {},
     "output_type": "display_data"
    }
   ],
   "source": [
    "# Compute PDP for all features\n",
    "for feature in modeling_variables:\n",
    "    exp.model_explain(model=\"XGB2\", show=\"pdp\", uni_feature=feature, figsize=(5, 4))"
   ]
  },
  {
   "cell_type": "code",
   "execution_count": 32,
   "metadata": {},
   "outputs": [
    {
     "data": {
      "application/vnd.jupyter.widget-view+json": {
       "model_id": "0ae1e0b7c15c497aa953cc9362672119",
       "version_major": 2,
       "version_minor": 0
      },
      "text/plain": [
       "HTML(value='\\n        <style>\\n\\n        .left-label {\\n            width: 30%;\\n        }\\n\\n        .card-pa…"
      ]
     },
     "metadata": {},
     "output_type": "display_data"
    },
    {
     "data": {
      "image/png": "[encoded data removed]",
      "text/plain": [
       "<Figure size 500x400 with 2 Axes>"
      ]
     },
     "metadata": {},
     "output_type": "display_data"
    },
    {
     "data": {
      "image/png": "[encoded data removed]",
      "text/plain": [
       "<Figure size 500x400 with 2 Axes>"
      ]
     },
     "metadata": {},
     "output_type": "display_data"
    },
    {
     "data": {
      "image/png": "[encoded data removed]",
      "text/plain": [
       "<Figure size 500x400 with 2 Axes>"
      ]
     },
     "metadata": {},
     "output_type": "display_data"
    },
    {
     "data": {
      "image/png": "[encoded data removed]",
      "text/plain": [
       "<Figure size 500x400 with 2 Axes>"
      ]
     },
     "metadata": {},
     "output_type": "display_data"
    },
    {
     "data": {
      "image/png": "[encoded data removed]",
      "text/plain": [
       "<Figure size 500x400 with 2 Axes>"
      ]
     },
     "metadata": {},
     "output_type": "display_data"
    },
    {
     "data": {
      "image/png": "[encoded data removed]",
      "text/plain": [
       "<Figure size 500x400 with 2 Axes>"
      ]
     },
     "metadata": {},
     "output_type": "display_data"
    },
    {
     "data": {
      "image/png": "[encoded data removed]",
      "text/plain": [
       "<Figure size 500x400 with 2 Axes>"
      ]
     },
     "metadata": {},
     "output_type": "display_data"
    },
    {
     "data": {
      "application/vnd.jupyter.widget-view+json": {
       "model_id": "57370d1b038a475290c8d99ec8d499b9",
       "version_major": 2,
       "version_minor": 0
      },
      "text/plain": [
       "HTML(value=\"<p class='notification error'>This main effect does not exist.</p>\")"
      ]
     },
     "metadata": {},
     "output_type": "display_data"
    },
    {
     "data": {
      "image/png": "[encoded data removed]",
      "text/plain": [
       "<Figure size 500x400 with 2 Axes>"
      ]
     },
     "metadata": {},
     "output_type": "display_data"
    }
   ],
   "source": [
    "# Compute effects for all features\n",
    "for feature in modeling_variables:\n",
    "    exp.model_interpret(model='XGB2', show=\"global_effect_plot\", uni_feature=feature, original_scale=True, figsize=(5, 4))"
   ]
  },
  {
   "cell_type": "code",
   "execution_count": 64,
   "metadata": {},
   "outputs": [
    {
     "data": {
      "application/vnd.jupyter.widget-view+json": {
       "model_id": "e7635a81cd3341499df409695b0c1cd8",
       "version_major": 2,
       "version_minor": 0
      },
      "text/plain": [
       "HTML(value='\\n        <style>\\n\\n        .left-label {\\n            width: 30%;\\n        }\\n\\n        .card-pa…"
      ]
     },
     "metadata": {},
     "output_type": "display_data"
    },
    {
     "data": {
      "image/png": "[encoded data removed]",
      "text/plain": [
       "<Figure size 1000x600 with 2 Axes>"
      ]
     },
     "metadata": {},
     "output_type": "display_data"
    }
   ],
   "source": [
    "# Compute each features's effect in the final output for on sample\n",
    "exp.model_interpret(model='XGB2', show=\"local_fi\", figsize=(10, 6), original_scale=True, sample_id=1)"
   ]
  },
  {
   "cell_type": "markdown",
   "metadata": {},
   "source": [
    "**Additional exploration**"
   ]
  },
  {
   "cell_type": "code",
   "execution_count": 45,
   "metadata": {},
   "outputs": [
    {
     "data": {
      "application/vnd.jupyter.widget-view+json": {
       "model_id": "f364644bfe2c4974ac7170440691b226",
       "version_major": 2,
       "version_minor": 0
      },
      "text/plain": [
       "HTML(value='\\n        <style>\\n\\n        .left-label {\\n            width: 30%;\\n        }\\n\\n        .card-pa…"
      ]
     },
     "metadata": {},
     "output_type": "display_data"
    },
    {
     "data": {
      "image/png": "[encoded data removed]",
      "text/plain": [
       "<Figure size 1000x600 with 2 Axes>"
      ]
     },
     "metadata": {},
     "output_type": "display_data"
    }
   ],
   "source": [
    "# Compute each features's effect in the final output for on sample\n",
    "a = exp.model_interpret(model='XGB2', show=\"local_fi\", figsize=(10, 6), original_scale=True, sample_id=100, return_data=True)"
   ]
  },
  {
   "cell_type": "code",
   "execution_count": 50,
   "metadata": {},
   "outputs": [
    {
     "data": {
      "application/vnd.jupyter.widget-view+json": {
       "model_id": "adfa8fcccd4946bab1c2ac074184c5fa",
       "version_major": 2,
       "version_minor": 0
      },
      "text/plain": [
       "HTML(value='\\n        <style>\\n\\n        .left-label {\\n            width: 30%;\\n        }\\n\\n        .card-pa…"
      ]
     },
     "metadata": {},
     "output_type": "display_data"
    },
    {
     "data": {
      "text/html": [
       "<div>\n",
       "<style scoped>\n",
       "    .dataframe tbody tr th:only-of-type {\n",
       "        vertical-align: middle;\n",
       "    }\n",
       "\n",
       "    .dataframe tbody tr th {\n",
       "        vertical-align: top;\n",
       "    }\n",
       "\n",
       "    .dataframe thead th {\n",
       "        text-align: right;\n",
       "    }\n",
       "</style>\n",
       "<table border=\"1\" class=\"dataframe\">\n",
       "  <thead>\n",
       "    <tr style=\"text-align: right;\">\n",
       "      <th></th>\n",
       "      <th>Feature Name</th>\n",
       "      <th>Feature Value</th>\n",
       "      <th>Effect</th>\n",
       "    </tr>\n",
       "  </thead>\n",
       "  <tbody>\n",
       "    <tr>\n",
       "      <th>0</th>\n",
       "      <td>cb_person_default_on_file</td>\n",
       "      <td>1.00</td>\n",
       "      <td>0.0000</td>\n",
       "    </tr>\n",
       "    <tr>\n",
       "      <th>1</th>\n",
       "      <td>loan_amnt</td>\n",
       "      <td>15075.00</td>\n",
       "      <td>0.0247</td>\n",
       "    </tr>\n",
       "    <tr>\n",
       "      <th>2</th>\n",
       "      <td>person_income</td>\n",
       "      <td>42000.00</td>\n",
       "      <td>-0.0546</td>\n",
       "    </tr>\n",
       "    <tr>\n",
       "      <th>3</th>\n",
       "      <td>cb_person_cred_hist_length</td>\n",
       "      <td>2.00</td>\n",
       "      <td>0.1711</td>\n",
       "    </tr>\n",
       "    <tr>\n",
       "      <th>4</th>\n",
       "      <td>person_emp_length</td>\n",
       "      <td>11.00</td>\n",
       "      <td>-0.2603</td>\n",
       "    </tr>\n",
       "    <tr>\n",
       "      <th>5</th>\n",
       "      <td>loan_intent</td>\n",
       "      <td>2.00</td>\n",
       "      <td>-0.7500</td>\n",
       "    </tr>\n",
       "    <tr>\n",
       "      <th>6</th>\n",
       "      <td>person_home_ownership</td>\n",
       "      <td>2.00</td>\n",
       "      <td>-1.0187</td>\n",
       "    </tr>\n",
       "    <tr>\n",
       "      <th>7</th>\n",
       "      <td>loan_grade</td>\n",
       "      <td>4.00</td>\n",
       "      <td>1.7011</td>\n",
       "    </tr>\n",
       "    <tr>\n",
       "      <th>8</th>\n",
       "      <td>loan_percent_income</td>\n",
       "      <td>0.36</td>\n",
       "      <td>1.8629</td>\n",
       "    </tr>\n",
       "  </tbody>\n",
       "</table>\n",
       "</div>"
      ],
      "text/plain": [
       "                 Feature Name  Feature Value  Effect\n",
       "0   cb_person_default_on_file           1.00  0.0000\n",
       "1                   loan_amnt       15075.00  0.0247\n",
       "2               person_income       42000.00 -0.0546\n",
       "3  cb_person_cred_hist_length           2.00  0.1711\n",
       "4           person_emp_length          11.00 -0.2603\n",
       "5                 loan_intent           2.00 -0.7500\n",
       "6       person_home_ownership           2.00 -1.0187\n",
       "7                  loan_grade           4.00  1.7011\n",
       "8         loan_percent_income           0.36  1.8629"
      ]
     },
     "metadata": {},
     "output_type": "display_data"
    }
   ],
   "source": [
    "a.show_data()"
   ]
  },
  {
   "cell_type": "code",
   "execution_count": 54,
   "metadata": {},
   "outputs": [
    {
     "data": {
      "application/vnd.jupyter.widget-view+json": {
       "model_id": "5f168e036201483c97e879ba097c1234",
       "version_major": 2,
       "version_minor": 0
      },
      "text/plain": [
       "HTML(value='\\n        <style>\\n\\n        .left-label {\\n            width: 30%;\\n        }\\n\\n        .card-pa…"
      ]
     },
     "metadata": {},
     "output_type": "display_data"
    },
    {
     "data": {
      "text/plain": [
       "-0.3036619443024786"
      ]
     },
     "execution_count": 54,
     "metadata": {},
     "output_type": "execute_result"
    }
   ],
   "source": [
    "0.0247 -0.0546 + 0.1711 - 0.2603 -0.7500- 1.0187 + 1.7011 + 1.8629 -1.9798619443024787"
   ]
  },
  {
   "cell_type": "code",
   "execution_count": 59,
   "metadata": {},
   "outputs": [
    {
     "data": {
      "application/vnd.jupyter.widget-view+json": {
       "model_id": "60bfcc3bb6064310a4df24e88d58b14e",
       "version_major": 2,
       "version_minor": 0
      },
      "text/plain": [
       "HTML(value='\\n        <style>\\n\\n        .left-label {\\n            width: 30%;\\n        }\\n\\n        .card-pa…"
      ]
     },
     "metadata": {},
     "output_type": "display_data"
    },
    {
     "data": {
      "text/plain": [
       "0.42466253543339455"
      ]
     },
     "execution_count": 59,
     "metadata": {},
     "output_type": "execute_result"
    }
   ],
   "source": [
    "1/(1+np.exp(0.3036619443024786))"
   ]
  },
  {
   "cell_type": "code",
   "execution_count": 39,
   "metadata": {},
   "outputs": [
    {
     "data": {
      "application/vnd.jupyter.widget-view+json": {
       "model_id": "72e7c19f90524bb79b0517132b8e7afa",
       "version_major": 2,
       "version_minor": 0
      },
      "text/plain": [
       "HTML(value='\\n        <style>\\n\\n        .left-label {\\n            width: 30%;\\n        }\\n\\n        .card-pa…"
      ]
     },
     "metadata": {},
     "output_type": "display_data"
    },
    {
     "data": {
      "text/plain": [
       "[('person_income', 'numerical'),\n",
       " ('person_emp_length', 'numerical'),\n",
       " ('loan_grade', 'numerical'),\n",
       " ('cb_person_cred_hist_length', 'numerical'),\n",
       " ('person_home_ownership', 'numerical'),\n",
       " ('loan_intent', 'numerical'),\n",
       " ('loan_amnt', 'numerical'),\n",
       " ('loan_percent_income', 'numerical'),\n",
       " ('person_income x person_home_ownership', 'pairwise'),\n",
       " ('person_income x person_emp_length', 'pairwise'),\n",
       " ('person_income x loan_intent', 'pairwise'),\n",
       " ('person_income x loan_grade', 'pairwise'),\n",
       " ('person_income x loan_amnt', 'pairwise'),\n",
       " ('person_income x loan_percent_income', 'pairwise'),\n",
       " ('person_income x cb_person_cred_hist_length', 'pairwise'),\n",
       " ('person_home_ownership x loan_intent', 'pairwise'),\n",
       " ('person_home_ownership x loan_grade', 'pairwise'),\n",
       " ('person_home_ownership x loan_amnt', 'pairwise'),\n",
       " ('person_home_ownership x loan_percent_income', 'pairwise'),\n",
       " ('person_emp_length x loan_intent', 'pairwise'),\n",
       " ('person_emp_length x loan_grade', 'pairwise'),\n",
       " ('person_emp_length x loan_percent_income', 'pairwise'),\n",
       " ('person_emp_length x cb_person_cred_hist_length', 'pairwise'),\n",
       " ('loan_intent x loan_grade', 'pairwise'),\n",
       " ('loan_intent x loan_amnt', 'pairwise'),\n",
       " ('loan_intent x loan_percent_income', 'pairwise'),\n",
       " ('loan_intent x cb_person_cred_hist_length', 'pairwise'),\n",
       " ('loan_grade x loan_amnt', 'pairwise'),\n",
       " ('loan_grade x loan_percent_income', 'pairwise'),\n",
       " ('loan_grade x cb_person_cred_hist_length', 'pairwise'),\n",
       " ('loan_amnt x loan_percent_income', 'pairwise'),\n",
       " ('loan_amnt x cb_person_cred_hist_length', 'pairwise'),\n",
       " ('loan_percent_income x cb_person_cred_hist_length', 'pairwise')]"
      ]
     },
     "execution_count": 39,
     "metadata": {},
     "output_type": "execute_result"
    }
   ],
   "source": [
    "parsed_model = model.parse_model()\n",
    "list(zip(parsed_model.effect_names_, parsed_model.effect_types_))"
   ]
  },
  {
   "cell_type": "code",
   "execution_count": 53,
   "metadata": {},
   "outputs": [
    {
     "data": {
      "application/vnd.jupyter.widget-view+json": {
       "model_id": "6e47eb38d75c4e3990463df59c78c8e1",
       "version_major": 2,
       "version_minor": 0
      },
      "text/plain": [
       "HTML(value='\\n        <style>\\n\\n        .left-label {\\n            width: 30%;\\n        }\\n\\n        .card-pa…"
      ]
     },
     "metadata": {},
     "output_type": "display_data"
    },
    {
     "data": {
      "text/plain": [
       "-1.9798619443024787"
      ]
     },
     "execution_count": 53,
     "metadata": {},
     "output_type": "execute_result"
    }
   ],
   "source": [
    "parsed_model.intercept_"
   ]
  },
  {
   "cell_type": "code",
   "execution_count": 88,
   "metadata": {},
   "outputs": [
    {
     "data": {
      "application/vnd.jupyter.widget-view+json": {
       "model_id": "29ff5e1011b94bfeb7ba536c50c731d8",
       "version_major": 2,
       "version_minor": 0
      },
      "text/plain": [
       "HTML(value='\\n        <style>\\n\\n        .left-label {\\n            width: 30%;\\n        }\\n\\n        .card-pa…"
      ]
     },
     "metadata": {},
     "output_type": "display_data"
    },
    {
     "data": {
      "image/png": "[encoded data removed]",
      "text/plain": [
       "<Figure size 1000x600 with 2 Axes>"
      ]
     },
     "metadata": {},
     "output_type": "display_data"
    }
   ],
   "source": [
    "# Compute each features's effect in the final output for on sample\n",
    "a = exp.model_interpret(model='XGB2', show=\"local_ei\", figsize=(10, 6), original_scale=True, sample_id=1, return_data=True)"
   ]
  },
  {
   "cell_type": "code",
   "execution_count": 85,
   "metadata": {},
   "outputs": [
    {
     "data": {
      "application/vnd.jupyter.widget-view+json": {
       "model_id": "3e9a3a3b7f0a47aaa5cae0b2f573c6df",
       "version_major": 2,
       "version_minor": 0
      },
      "text/plain": [
       "HTML(value='\\n        <style>\\n\\n        .left-label {\\n            width: 30%;\\n        }\\n\\n        .card-pa…"
      ]
     },
     "metadata": {},
     "output_type": "display_data"
    },
    {
     "data": {
      "text/html": [
       "<div>\n",
       "<style scoped>\n",
       "    .dataframe tbody tr th:only-of-type {\n",
       "        vertical-align: middle;\n",
       "    }\n",
       "\n",
       "    .dataframe tbody tr th {\n",
       "        vertical-align: top;\n",
       "    }\n",
       "\n",
       "    .dataframe thead th {\n",
       "        text-align: right;\n",
       "    }\n",
       "</style>\n",
       "<table border=\"1\" class=\"dataframe\">\n",
       "  <thead>\n",
       "    <tr style=\"text-align: right;\">\n",
       "      <th></th>\n",
       "      <th>Feature Name</th>\n",
       "      <th>Feature Value</th>\n",
       "      <th>Importance</th>\n",
       "    </tr>\n",
       "  </thead>\n",
       "  <tbody>\n",
       "    <tr>\n",
       "      <th>0</th>\n",
       "      <td>person_income x person_emp_length</td>\n",
       "      <td>[42000.0, 11.0]</td>\n",
       "      <td>-0.0006</td>\n",
       "    </tr>\n",
       "    <tr>\n",
       "      <th>1</th>\n",
       "      <td>person_income x loan_intent</td>\n",
       "      <td>[42000.0, 2.0]</td>\n",
       "      <td>0.0040</td>\n",
       "    </tr>\n",
       "    <tr>\n",
       "      <th>2</th>\n",
       "      <td>person_emp_length x loan_grade</td>\n",
       "      <td>[11.0, 4.0]</td>\n",
       "      <td>0.0090</td>\n",
       "    </tr>\n",
       "    <tr>\n",
       "      <th>3</th>\n",
       "      <td>loan_amnt x loan_percent_income</td>\n",
       "      <td>[15075.0, 0.36]</td>\n",
       "      <td>-0.0116</td>\n",
       "    </tr>\n",
       "    <tr>\n",
       "      <th>4</th>\n",
       "      <td>person_emp_length x loan_percent_income</td>\n",
       "      <td>[11.0, 0.36]</td>\n",
       "      <td>0.0126</td>\n",
       "    </tr>\n",
       "    <tr>\n",
       "      <th>5</th>\n",
       "      <td>person_emp_length x loan_intent</td>\n",
       "      <td>[11.0, 2.0]</td>\n",
       "      <td>-0.0199</td>\n",
       "    </tr>\n",
       "    <tr>\n",
       "      <th>6</th>\n",
       "      <td>loan_intent x cb_person_cred_hist_length</td>\n",
       "      <td>[2.0, 2.0]</td>\n",
       "      <td>-0.0200</td>\n",
       "    </tr>\n",
       "    <tr>\n",
       "      <th>7</th>\n",
       "      <td>person_emp_length x cb_person_cred_hist_length</td>\n",
       "      <td>[11.0, 2.0]</td>\n",
       "      <td>0.0274</td>\n",
       "    </tr>\n",
       "    <tr>\n",
       "      <th>8</th>\n",
       "      <td>person_income x loan_grade</td>\n",
       "      <td>[42000.0, 4.0]</td>\n",
       "      <td>0.0319</td>\n",
       "    </tr>\n",
       "    <tr>\n",
       "      <th>9</th>\n",
       "      <td>loan_intent x loan_percent_income</td>\n",
       "      <td>[2.0, 0.36]</td>\n",
       "      <td>-0.0364</td>\n",
       "    </tr>\n",
       "    <tr>\n",
       "      <th>10</th>\n",
       "      <td>loan_percent_income x cb_person_cred_hist_length</td>\n",
       "      <td>[0.36, 2.0]</td>\n",
       "      <td>-0.0383</td>\n",
       "    </tr>\n",
       "    <tr>\n",
       "      <th>11</th>\n",
       "      <td>loan_amnt x cb_person_cred_hist_length</td>\n",
       "      <td>[15075.0, 2.0]</td>\n",
       "      <td>0.0458</td>\n",
       "    </tr>\n",
       "    <tr>\n",
       "      <th>12</th>\n",
       "      <td>person_home_ownership x loan_amnt</td>\n",
       "      <td>[2.0, 15075.0]</td>\n",
       "      <td>0.0460</td>\n",
       "    </tr>\n",
       "    <tr>\n",
       "      <th>13</th>\n",
       "      <td>loan_grade x loan_amnt</td>\n",
       "      <td>[4.0, 15075.0]</td>\n",
       "      <td>0.0480</td>\n",
       "    </tr>\n",
       "    <tr>\n",
       "      <th>14</th>\n",
       "      <td>person_income</td>\n",
       "      <td>[42000.0]</td>\n",
       "      <td>0.0540</td>\n",
       "    </tr>\n",
       "    <tr>\n",
       "      <th>15</th>\n",
       "      <td>loan_intent x loan_amnt</td>\n",
       "      <td>[2.0, 15075.0]</td>\n",
       "      <td>0.0568</td>\n",
       "    </tr>\n",
       "    <tr>\n",
       "      <th>16</th>\n",
       "      <td>loan_amnt</td>\n",
       "      <td>[15075.0]</td>\n",
       "      <td>0.0574</td>\n",
       "    </tr>\n",
       "    <tr>\n",
       "      <th>17</th>\n",
       "      <td>person_home_ownership x loan_intent</td>\n",
       "      <td>[2.0, 2.0]</td>\n",
       "      <td>-0.0838</td>\n",
       "    </tr>\n",
       "    <tr>\n",
       "      <th>18</th>\n",
       "      <td>person_home_ownership x loan_grade</td>\n",
       "      <td>[2.0, 4.0]</td>\n",
       "      <td>0.1474</td>\n",
       "    </tr>\n",
       "    <tr>\n",
       "      <th>19</th>\n",
       "      <td>person_income x cb_person_cred_hist_length</td>\n",
       "      <td>[42000.0, 2.0]</td>\n",
       "      <td>-0.2107</td>\n",
       "    </tr>\n",
       "    <tr>\n",
       "      <th>20</th>\n",
       "      <td>loan_grade x cb_person_cred_hist_length</td>\n",
       "      <td>[4.0, 2.0]</td>\n",
       "      <td>-0.2222</td>\n",
       "    </tr>\n",
       "    <tr>\n",
       "      <th>21</th>\n",
       "      <td>loan_intent x loan_grade</td>\n",
       "      <td>[2.0, 4.0]</td>\n",
       "      <td>-0.2473</td>\n",
       "    </tr>\n",
       "    <tr>\n",
       "      <th>22</th>\n",
       "      <td>person_income x loan_amnt</td>\n",
       "      <td>[42000.0, 15075.0]</td>\n",
       "      <td>-0.2502</td>\n",
       "    </tr>\n",
       "    <tr>\n",
       "      <th>23</th>\n",
       "      <td>loan_grade x loan_percent_income</td>\n",
       "      <td>[4.0, 0.36]</td>\n",
       "      <td>-0.2527</td>\n",
       "    </tr>\n",
       "    <tr>\n",
       "      <th>24</th>\n",
       "      <td>person_emp_length</td>\n",
       "      <td>[11.0]</td>\n",
       "      <td>-0.2746</td>\n",
       "    </tr>\n",
       "    <tr>\n",
       "      <th>25</th>\n",
       "      <td>person_income x loan_percent_income</td>\n",
       "      <td>[42000.0, 0.36]</td>\n",
       "      <td>-0.2823</td>\n",
       "    </tr>\n",
       "    <tr>\n",
       "      <th>26</th>\n",
       "      <td>cb_person_cred_hist_length</td>\n",
       "      <td>[2.0]</td>\n",
       "      <td>0.3801</td>\n",
       "    </tr>\n",
       "    <tr>\n",
       "      <th>27</th>\n",
       "      <td>person_home_ownership x loan_percent_income</td>\n",
       "      <td>[2.0, 0.36]</td>\n",
       "      <td>-0.4019</td>\n",
       "    </tr>\n",
       "    <tr>\n",
       "      <th>28</th>\n",
       "      <td>person_income x person_home_ownership</td>\n",
       "      <td>[42000.0, 2.0]</td>\n",
       "      <td>0.4907</td>\n",
       "    </tr>\n",
       "    <tr>\n",
       "      <th>29</th>\n",
       "      <td>loan_intent</td>\n",
       "      <td>[2.0]</td>\n",
       "      <td>-0.5766</td>\n",
       "    </tr>\n",
       "    <tr>\n",
       "      <th>30</th>\n",
       "      <td>person_home_ownership</td>\n",
       "      <td>[2.0]</td>\n",
       "      <td>-1.1180</td>\n",
       "    </tr>\n",
       "    <tr>\n",
       "      <th>31</th>\n",
       "      <td>loan_grade</td>\n",
       "      <td>[4.0]</td>\n",
       "      <td>1.9441</td>\n",
       "    </tr>\n",
       "    <tr>\n",
       "      <th>32</th>\n",
       "      <td>loan_percent_income</td>\n",
       "      <td>[0.36]</td>\n",
       "      <td>2.3682</td>\n",
       "    </tr>\n",
       "  </tbody>\n",
       "</table>\n",
       "</div>"
      ],
      "text/plain": [
       "                                        Feature Name       Feature Value  \\\n",
       "0                  person_income x person_emp_length     [42000.0, 11.0]   \n",
       "1                        person_income x loan_intent      [42000.0, 2.0]   \n",
       "2                     person_emp_length x loan_grade         [11.0, 4.0]   \n",
       "3                    loan_amnt x loan_percent_income     [15075.0, 0.36]   \n",
       "4            person_emp_length x loan_percent_income        [11.0, 0.36]   \n",
       "5                    person_emp_length x loan_intent         [11.0, 2.0]   \n",
       "6           loan_intent x cb_person_cred_hist_length          [2.0, 2.0]   \n",
       "7     person_emp_length x cb_person_cred_hist_length         [11.0, 2.0]   \n",
       "8                         person_income x loan_grade      [42000.0, 4.0]   \n",
       "9                  loan_intent x loan_percent_income         [2.0, 0.36]   \n",
       "10  loan_percent_income x cb_person_cred_hist_length         [0.36, 2.0]   \n",
       "11            loan_amnt x cb_person_cred_hist_length      [15075.0, 2.0]   \n",
       "12                 person_home_ownership x loan_amnt      [2.0, 15075.0]   \n",
       "13                            loan_grade x loan_amnt      [4.0, 15075.0]   \n",
       "14                                     person_income           [42000.0]   \n",
       "15                           loan_intent x loan_amnt      [2.0, 15075.0]   \n",
       "16                                         loan_amnt           [15075.0]   \n",
       "17               person_home_ownership x loan_intent          [2.0, 2.0]   \n",
       "18                person_home_ownership x loan_grade          [2.0, 4.0]   \n",
       "19        person_income x cb_person_cred_hist_length      [42000.0, 2.0]   \n",
       "20           loan_grade x cb_person_cred_hist_length          [4.0, 2.0]   \n",
       "21                          loan_intent x loan_grade          [2.0, 4.0]   \n",
       "22                         person_income x loan_amnt  [42000.0, 15075.0]   \n",
       "23                  loan_grade x loan_percent_income         [4.0, 0.36]   \n",
       "24                                 person_emp_length              [11.0]   \n",
       "25               person_income x loan_percent_income     [42000.0, 0.36]   \n",
       "26                        cb_person_cred_hist_length               [2.0]   \n",
       "27       person_home_ownership x loan_percent_income         [2.0, 0.36]   \n",
       "28             person_income x person_home_ownership      [42000.0, 2.0]   \n",
       "29                                       loan_intent               [2.0]   \n",
       "30                             person_home_ownership               [2.0]   \n",
       "31                                        loan_grade               [4.0]   \n",
       "32                               loan_percent_income              [0.36]   \n",
       "\n",
       "    Importance  \n",
       "0      -0.0006  \n",
       "1       0.0040  \n",
       "2       0.0090  \n",
       "3      -0.0116  \n",
       "4       0.0126  \n",
       "5      -0.0199  \n",
       "6      -0.0200  \n",
       "7       0.0274  \n",
       "8       0.0319  \n",
       "9      -0.0364  \n",
       "10     -0.0383  \n",
       "11      0.0458  \n",
       "12      0.0460  \n",
       "13      0.0480  \n",
       "14      0.0540  \n",
       "15      0.0568  \n",
       "16      0.0574  \n",
       "17     -0.0838  \n",
       "18      0.1474  \n",
       "19     -0.2107  \n",
       "20     -0.2222  \n",
       "21     -0.2473  \n",
       "22     -0.2502  \n",
       "23     -0.2527  \n",
       "24     -0.2746  \n",
       "25     -0.2823  \n",
       "26      0.3801  \n",
       "27     -0.4019  \n",
       "28      0.4907  \n",
       "29     -0.5766  \n",
       "30     -1.1180  \n",
       "31      1.9441  \n",
       "32      2.3682  "
      ]
     },
     "metadata": {},
     "output_type": "display_data"
    }
   ],
   "source": [
    "a.show_data()"
   ]
  },
  {
   "cell_type": "markdown",
   "metadata": {},
   "source": [
    "# *Conformal Predictions*"
   ]
  },
  {
   "cell_type": "markdown",
   "metadata": {},
   "source": [
    "**Conformal Predictions with MAPIE library**"
   ]
  },
  {
   "cell_type": "code",
   "execution_count": 43,
   "metadata": {},
   "outputs": [
    {
     "data": {
      "application/vnd.jupyter.widget-view+json": {
       "model_id": "0f872e6ec1d942fdac56c30ddeed2c27",
       "version_major": 2,
       "version_minor": 0
      },
      "text/plain": [
       "HTML(value='\\n        <style>\\n\\n        .left-label {\\n            width: 30%;\\n        }\\n\\n        .card-pa…"
      ]
     },
     "metadata": {},
     "output_type": "display_data"
    }
   ],
   "source": [
    "# Wrapping our trained model\n",
    "mapie_classifier = MapieClassifier(estimator=model, cv='prefit',method=\"score\", random_state=42)\n",
    "\n",
    "# Calculating non-conformity score on calibration (Validation) data\n",
    "mapie_classifier.fit(X_valid, y_valid)\n",
    "\n",
    "# Error level (coverage target is 1- alpha)\n",
    "alpha=0.05\n",
    "\n",
    "# Prediction from the model (y_pred) and conformal sets (pred_set)\n",
    "y_pred, pred_set = mapie_classifier.predict(X_test, alpha=alpha)"
   ]
  },
  {
   "cell_type": "code",
   "execution_count": 44,
   "metadata": {},
   "outputs": [
    {
     "data": {
      "application/vnd.jupyter.widget-view+json": {
       "model_id": "d3536e124e9c4cd8a85e0eff8c2248e3",
       "version_major": 2,
       "version_minor": 0
      },
      "text/plain": [
       "HTML(value='\\n        <style>\\n\\n        .left-label {\\n            width: 30%;\\n        }\\n\\n        .card-pa…"
      ]
     },
     "metadata": {},
     "output_type": "display_data"
    },
    {
     "name": "stdout",
     "output_type": "stream",
     "text": [
      "Both classes are in the prediction set for observation 7\n",
      "Both classes are in the prediction set for observation 28\n",
      "Both classes are in the prediction set for observation 42\n",
      "Both classes are in the prediction set for observation 44\n",
      "Both classes are in the prediction set for observation 46\n",
      "Both classes are in the prediction set for observation 49\n",
      "Both classes are in the prediction set for observation 51\n",
      "Both classes are in the prediction set for observation 53\n",
      "Both classes are in the prediction set for observation 76\n",
      "Both classes are in the prediction set for observation 78\n",
      "Both classes are in the prediction set for observation 81\n",
      "Both classes are in the prediction set for observation 97\n",
      "Both classes are in the prediction set for observation 99\n",
      "Both classes are in the prediction set for observation 104\n",
      "Both classes are in the prediction set for observation 108\n",
      "Both classes are in the prediction set for observation 126\n",
      "Both classes are in the prediction set for observation 127\n",
      "Both classes are in the prediction set for observation 131\n",
      "Both classes are in the prediction set for observation 144\n",
      "Both classes are in the prediction set for observation 151\n",
      "Both classes are in the prediction set for observation 155\n",
      "Both classes are in the prediction set for observation 158\n",
      "Both classes are in the prediction set for observation 171\n",
      "Both classes are in the prediction set for observation 174\n",
      "Both classes are in the prediction set for observation 179\n",
      "Both classes are in the prediction set for observation 193\n",
      "Both classes are in the prediction set for observation 197\n",
      "Both classes are in the prediction set for observation 203\n",
      "Both classes are in the prediction set for observation 221\n",
      "Both classes are in the prediction set for observation 238\n",
      "Both classes are in the prediction set for observation 256\n",
      "Both classes are in the prediction set for observation 262\n",
      "Both classes are in the prediction set for observation 275\n",
      "Both classes are in the prediction set for observation 282\n",
      "Both classes are in the prediction set for observation 285\n",
      "Both classes are in the prediction set for observation 306\n",
      "Both classes are in the prediction set for observation 312\n",
      "Both classes are in the prediction set for observation 316\n",
      "Both classes are in the prediction set for observation 320\n",
      "Both classes are in the prediction set for observation 328\n",
      "Both classes are in the prediction set for observation 349\n",
      "Both classes are in the prediction set for observation 356\n",
      "Both classes are in the prediction set for observation 358\n",
      "Both classes are in the prediction set for observation 373\n",
      "Both classes are in the prediction set for observation 405\n",
      "Both classes are in the prediction set for observation 408\n",
      "Both classes are in the prediction set for observation 410\n",
      "Both classes are in the prediction set for observation 418\n",
      "Both classes are in the prediction set for observation 440\n",
      "Both classes are in the prediction set for observation 445\n",
      "Both classes are in the prediction set for observation 450\n",
      "Both classes are in the prediction set for observation 467\n",
      "Both classes are in the prediction set for observation 477\n",
      "Both classes are in the prediction set for observation 491\n",
      "Both classes are in the prediction set for observation 492\n",
      "Both classes are in the prediction set for observation 511\n",
      "Both classes are in the prediction set for observation 515\n",
      "Both classes are in the prediction set for observation 526\n",
      "Both classes are in the prediction set for observation 544\n",
      "Both classes are in the prediction set for observation 555\n",
      "Both classes are in the prediction set for observation 598\n",
      "Both classes are in the prediction set for observation 603\n",
      "Both classes are in the prediction set for observation 605\n",
      "Both classes are in the prediction set for observation 613\n",
      "Both classes are in the prediction set for observation 646\n",
      "Both classes are in the prediction set for observation 650\n",
      "Both classes are in the prediction set for observation 657\n",
      "Both classes are in the prediction set for observation 666\n",
      "Both classes are in the prediction set for observation 692\n",
      "Both classes are in the prediction set for observation 694\n",
      "Both classes are in the prediction set for observation 708\n",
      "Both classes are in the prediction set for observation 719\n",
      "Both classes are in the prediction set for observation 736\n",
      "Both classes are in the prediction set for observation 743\n",
      "Both classes are in the prediction set for observation 748\n",
      "Both classes are in the prediction set for observation 753\n",
      "Both classes are in the prediction set for observation 755\n",
      "Both classes are in the prediction set for observation 764\n",
      "Both classes are in the prediction set for observation 766\n",
      "Both classes are in the prediction set for observation 775\n",
      "Both classes are in the prediction set for observation 781\n",
      "Both classes are in the prediction set for observation 806\n",
      "Both classes are in the prediction set for observation 835\n",
      "Both classes are in the prediction set for observation 858\n",
      "Both classes are in the prediction set for observation 882\n",
      "Both classes are in the prediction set for observation 899\n",
      "Both classes are in the prediction set for observation 950\n",
      "Both classes are in the prediction set for observation 961\n",
      "Both classes are in the prediction set for observation 980\n",
      "Both classes are in the prediction set for observation 992\n",
      "Both classes are in the prediction set for observation 1001\n",
      "Both classes are in the prediction set for observation 1028\n",
      "Both classes are in the prediction set for observation 1032\n",
      "Both classes are in the prediction set for observation 1034\n",
      "Both classes are in the prediction set for observation 1049\n",
      "Both classes are in the prediction set for observation 1080\n",
      "Both classes are in the prediction set for observation 1095\n",
      "Both classes are in the prediction set for observation 1120\n",
      "Both classes are in the prediction set for observation 1124\n",
      "Both classes are in the prediction set for observation 1135\n",
      "Both classes are in the prediction set for observation 1158\n",
      "Both classes are in the prediction set for observation 1159\n",
      "Both classes are in the prediction set for observation 1164\n",
      "Both classes are in the prediction set for observation 1178\n",
      "Both classes are in the prediction set for observation 1182\n",
      "Both classes are in the prediction set for observation 1185\n",
      "Both classes are in the prediction set for observation 1186\n",
      "Both classes are in the prediction set for observation 1189\n",
      "Both classes are in the prediction set for observation 1193\n",
      "Both classes are in the prediction set for observation 1207\n",
      "Both classes are in the prediction set for observation 1212\n",
      "Both classes are in the prediction set for observation 1215\n",
      "Both classes are in the prediction set for observation 1224\n",
      "Both classes are in the prediction set for observation 1234\n",
      "Both classes are in the prediction set for observation 1246\n",
      "Both classes are in the prediction set for observation 1252\n",
      "Both classes are in the prediction set for observation 1270\n",
      "Both classes are in the prediction set for observation 1272\n",
      "Both classes are in the prediction set for observation 1273\n",
      "Both classes are in the prediction set for observation 1284\n",
      "Both classes are in the prediction set for observation 1285\n",
      "Both classes are in the prediction set for observation 1292\n",
      "Both classes are in the prediction set for observation 1294\n",
      "Both classes are in the prediction set for observation 1300\n",
      "Both classes are in the prediction set for observation 1305\n",
      "Both classes are in the prediction set for observation 1314\n",
      "Both classes are in the prediction set for observation 1317\n",
      "Both classes are in the prediction set for observation 1322\n",
      "Both classes are in the prediction set for observation 1346\n",
      "Both classes are in the prediction set for observation 1350\n",
      "Both classes are in the prediction set for observation 1351\n",
      "Both classes are in the prediction set for observation 1353\n",
      "Both classes are in the prediction set for observation 1357\n",
      "Both classes are in the prediction set for observation 1368\n",
      "Both classes are in the prediction set for observation 1374\n",
      "Both classes are in the prediction set for observation 1375\n",
      "Both classes are in the prediction set for observation 1381\n",
      "Both classes are in the prediction set for observation 1382\n",
      "Both classes are in the prediction set for observation 1393\n",
      "Both classes are in the prediction set for observation 1413\n",
      "Both classes are in the prediction set for observation 1423\n",
      "Both classes are in the prediction set for observation 1425\n",
      "Both classes are in the prediction set for observation 1427\n",
      "Both classes are in the prediction set for observation 1430\n",
      "Both classes are in the prediction set for observation 1431\n",
      "Both classes are in the prediction set for observation 1440\n",
      "Both classes are in the prediction set for observation 1453\n",
      "Both classes are in the prediction set for observation 1466\n",
      "Both classes are in the prediction set for observation 1496\n",
      "Both classes are in the prediction set for observation 1522\n",
      "Both classes are in the prediction set for observation 1524\n",
      "Both classes are in the prediction set for observation 1525\n",
      "Both classes are in the prediction set for observation 1529\n",
      "Both classes are in the prediction set for observation 1540\n",
      "Both classes are in the prediction set for observation 1544\n",
      "Both classes are in the prediction set for observation 1560\n",
      "Both classes are in the prediction set for observation 1568\n",
      "Both classes are in the prediction set for observation 1574\n",
      "Both classes are in the prediction set for observation 1593\n",
      "Both classes are in the prediction set for observation 1634\n",
      "Both classes are in the prediction set for observation 1641\n",
      "Both classes are in the prediction set for observation 1644\n",
      "Both classes are in the prediction set for observation 1647\n",
      "Both classes are in the prediction set for observation 1652\n",
      "Both classes are in the prediction set for observation 1654\n",
      "Both classes are in the prediction set for observation 1664\n",
      "Both classes are in the prediction set for observation 1679\n",
      "Both classes are in the prediction set for observation 1697\n",
      "Both classes are in the prediction set for observation 1702\n",
      "Both classes are in the prediction set for observation 1703\n",
      "Both classes are in the prediction set for observation 1722\n",
      "Both classes are in the prediction set for observation 1730\n",
      "Both classes are in the prediction set for observation 1734\n",
      "Both classes are in the prediction set for observation 1757\n",
      "Both classes are in the prediction set for observation 1774\n",
      "Both classes are in the prediction set for observation 1779\n",
      "Both classes are in the prediction set for observation 1784\n",
      "Both classes are in the prediction set for observation 1795\n",
      "Both classes are in the prediction set for observation 1809\n",
      "Both classes are in the prediction set for observation 1815\n",
      "Both classes are in the prediction set for observation 1822\n",
      "Both classes are in the prediction set for observation 1828\n",
      "Both classes are in the prediction set for observation 1875\n",
      "Both classes are in the prediction set for observation 1878\n",
      "Both classes are in the prediction set for observation 1892\n",
      "Both classes are in the prediction set for observation 1894\n",
      "Both classes are in the prediction set for observation 1897\n",
      "Both classes are in the prediction set for observation 1898\n",
      "Both classes are in the prediction set for observation 1903\n",
      "Both classes are in the prediction set for observation 1921\n",
      "Both classes are in the prediction set for observation 1923\n",
      "Both classes are in the prediction set for observation 1924\n",
      "Both classes are in the prediction set for observation 1925\n",
      "Both classes are in the prediction set for observation 1941\n",
      "Both classes are in the prediction set for observation 1949\n",
      "Both classes are in the prediction set for observation 1951\n",
      "Both classes are in the prediction set for observation 1952\n",
      "Both classes are in the prediction set for observation 1959\n",
      "Both classes are in the prediction set for observation 1966\n",
      "Both classes are in the prediction set for observation 1973\n",
      "Both classes are in the prediction set for observation 1977\n",
      "Both classes are in the prediction set for observation 1995\n",
      "Both classes are in the prediction set for observation 2003\n",
      "Both classes are in the prediction set for observation 2041\n",
      "Both classes are in the prediction set for observation 2052\n",
      "Both classes are in the prediction set for observation 2055\n",
      "Both classes are in the prediction set for observation 2058\n",
      "Both classes are in the prediction set for observation 2067\n",
      "Both classes are in the prediction set for observation 2095\n",
      "Both classes are in the prediction set for observation 2102\n",
      "Both classes are in the prediction set for observation 2104\n",
      "Both classes are in the prediction set for observation 2116\n",
      "Both classes are in the prediction set for observation 2121\n",
      "Both classes are in the prediction set for observation 2135\n",
      "Both classes are in the prediction set for observation 2136\n",
      "Both classes are in the prediction set for observation 2139\n",
      "Both classes are in the prediction set for observation 2142\n",
      "Both classes are in the prediction set for observation 2148\n",
      "Both classes are in the prediction set for observation 2201\n",
      "Both classes are in the prediction set for observation 2224\n",
      "Both classes are in the prediction set for observation 2232\n",
      "Both classes are in the prediction set for observation 2235\n",
      "Both classes are in the prediction set for observation 2236\n",
      "Both classes are in the prediction set for observation 2237\n",
      "Both classes are in the prediction set for observation 2240\n",
      "Both classes are in the prediction set for observation 2241\n",
      "Both classes are in the prediction set for observation 2255\n",
      "Both classes are in the prediction set for observation 2279\n",
      "Both classes are in the prediction set for observation 2292\n",
      "Both classes are in the prediction set for observation 2302\n",
      "Both classes are in the prediction set for observation 2304\n",
      "Both classes are in the prediction set for observation 2306\n",
      "Both classes are in the prediction set for observation 2321\n",
      "Both classes are in the prediction set for observation 2323\n",
      "Both classes are in the prediction set for observation 2334\n",
      "Both classes are in the prediction set for observation 2350\n",
      "Both classes are in the prediction set for observation 2354\n",
      "Both classes are in the prediction set for observation 2358\n",
      "Both classes are in the prediction set for observation 2362\n",
      "Both classes are in the prediction set for observation 2387\n",
      "Both classes are in the prediction set for observation 2413\n",
      "Both classes are in the prediction set for observation 2435\n",
      "Both classes are in the prediction set for observation 2443\n",
      "Both classes are in the prediction set for observation 2463\n",
      "Both classes are in the prediction set for observation 2487\n",
      "Both classes are in the prediction set for observation 2496\n",
      "Both classes are in the prediction set for observation 2504\n",
      "Both classes are in the prediction set for observation 2515\n",
      "Both classes are in the prediction set for observation 2525\n",
      "Both classes are in the prediction set for observation 2543\n",
      "Both classes are in the prediction set for observation 2555\n",
      "Both classes are in the prediction set for observation 2560\n",
      "Both classes are in the prediction set for observation 2561\n",
      "Both classes are in the prediction set for observation 2572\n",
      "Both classes are in the prediction set for observation 2594\n",
      "Both classes are in the prediction set for observation 2598\n",
      "Both classes are in the prediction set for observation 2609\n",
      "Both classes are in the prediction set for observation 2620\n",
      "Both classes are in the prediction set for observation 2625\n",
      "Both classes are in the prediction set for observation 2638\n",
      "Both classes are in the prediction set for observation 2644\n",
      "Both classes are in the prediction set for observation 2651\n",
      "Both classes are in the prediction set for observation 2654\n",
      "Both classes are in the prediction set for observation 2662\n",
      "Both classes are in the prediction set for observation 2680\n",
      "Both classes are in the prediction set for observation 2727\n",
      "Both classes are in the prediction set for observation 2738\n",
      "Both classes are in the prediction set for observation 2747\n",
      "Both classes are in the prediction set for observation 2761\n",
      "Both classes are in the prediction set for observation 2780\n",
      "Both classes are in the prediction set for observation 2790\n",
      "Both classes are in the prediction set for observation 2794\n",
      "Both classes are in the prediction set for observation 2813\n",
      "Both classes are in the prediction set for observation 2820\n",
      "Both classes are in the prediction set for observation 2821\n",
      "Both classes are in the prediction set for observation 2837\n",
      "Both classes are in the prediction set for observation 2843\n",
      "Both classes are in the prediction set for observation 2845\n",
      "Both classes are in the prediction set for observation 2848\n",
      "Both classes are in the prediction set for observation 2853\n",
      "Both classes are in the prediction set for observation 2861\n",
      "Both classes are in the prediction set for observation 2872\n",
      "Both classes are in the prediction set for observation 2879\n",
      "Both classes are in the prediction set for observation 2890\n",
      "Both classes are in the prediction set for observation 2891\n",
      "Both classes are in the prediction set for observation 2900\n",
      "Both classes are in the prediction set for observation 2906\n",
      "Both classes are in the prediction set for observation 2912\n",
      "Both classes are in the prediction set for observation 2920\n",
      "Both classes are in the prediction set for observation 2922\n",
      "Both classes are in the prediction set for observation 2930\n",
      "Both classes are in the prediction set for observation 2932\n",
      "Both classes are in the prediction set for observation 2937\n",
      "Both classes are in the prediction set for observation 2943\n",
      "Both classes are in the prediction set for observation 2946\n",
      "Both classes are in the prediction set for observation 2960\n",
      "Both classes are in the prediction set for observation 2962\n",
      "Both classes are in the prediction set for observation 2963\n",
      "Both classes are in the prediction set for observation 2970\n",
      "Both classes are in the prediction set for observation 2978\n",
      "Both classes are in the prediction set for observation 2984\n",
      "Both classes are in the prediction set for observation 2993\n",
      "Both classes are in the prediction set for observation 3001\n",
      "Both classes are in the prediction set for observation 3014\n",
      "Both classes are in the prediction set for observation 3029\n",
      "Both classes are in the prediction set for observation 3033\n",
      "Both classes are in the prediction set for observation 3039\n",
      "Both classes are in the prediction set for observation 3040\n",
      "Both classes are in the prediction set for observation 3055\n",
      "Both classes are in the prediction set for observation 3079\n",
      "Both classes are in the prediction set for observation 3097\n",
      "Both classes are in the prediction set for observation 3100\n",
      "Both classes are in the prediction set for observation 3106\n",
      "Both classes are in the prediction set for observation 3146\n",
      "Both classes are in the prediction set for observation 3153\n",
      "Both classes are in the prediction set for observation 3154\n",
      "Both classes are in the prediction set for observation 3160\n",
      "Both classes are in the prediction set for observation 3166\n",
      "Both classes are in the prediction set for observation 3186\n",
      "Both classes are in the prediction set for observation 3193\n",
      "Both classes are in the prediction set for observation 3199\n",
      "Both classes are in the prediction set for observation 3204\n",
      "Both classes are in the prediction set for observation 3206\n",
      "Both classes are in the prediction set for observation 3230\n",
      "Both classes are in the prediction set for observation 3247\n",
      "Both classes are in the prediction set for observation 3263\n",
      "Both classes are in the prediction set for observation 3272\n",
      "Both classes are in the prediction set for observation 3300\n",
      "Both classes are in the prediction set for observation 3313\n",
      "Both classes are in the prediction set for observation 3315\n",
      "Both classes are in the prediction set for observation 3361\n",
      "Both classes are in the prediction set for observation 3371\n",
      "Both classes are in the prediction set for observation 3384\n",
      "Both classes are in the prediction set for observation 3390\n",
      "Both classes are in the prediction set for observation 3412\n",
      "Both classes are in the prediction set for observation 3426\n",
      "Both classes are in the prediction set for observation 3431\n",
      "Both classes are in the prediction set for observation 3438\n",
      "Both classes are in the prediction set for observation 3439\n",
      "Both classes are in the prediction set for observation 3448\n",
      "Both classes are in the prediction set for observation 3459\n",
      "Both classes are in the prediction set for observation 3465\n",
      "Both classes are in the prediction set for observation 3468\n",
      "Both classes are in the prediction set for observation 3473\n",
      "Both classes are in the prediction set for observation 3494\n",
      "Both classes are in the prediction set for observation 3523\n",
      "Both classes are in the prediction set for observation 3524\n",
      "Both classes are in the prediction set for observation 3526\n",
      "Both classes are in the prediction set for observation 3531\n",
      "Both classes are in the prediction set for observation 3573\n",
      "Both classes are in the prediction set for observation 3582\n",
      "Both classes are in the prediction set for observation 3592\n",
      "Both classes are in the prediction set for observation 3607\n",
      "Both classes are in the prediction set for observation 3613\n",
      "Both classes are in the prediction set for observation 3622\n",
      "Both classes are in the prediction set for observation 3623\n",
      "Both classes are in the prediction set for observation 3625\n",
      "Both classes are in the prediction set for observation 3627\n",
      "Both classes are in the prediction set for observation 3646\n",
      "Both classes are in the prediction set for observation 3654\n",
      "Both classes are in the prediction set for observation 3657\n",
      "Both classes are in the prediction set for observation 3659\n",
      "Both classes are in the prediction set for observation 3661\n",
      "Both classes are in the prediction set for observation 3684\n",
      "Both classes are in the prediction set for observation 3689\n",
      "Both classes are in the prediction set for observation 3697\n",
      "Both classes are in the prediction set for observation 3698\n",
      "Both classes are in the prediction set for observation 3711\n",
      "Both classes are in the prediction set for observation 3715\n",
      "Both classes are in the prediction set for observation 3721\n",
      "Both classes are in the prediction set for observation 3724\n",
      "Both classes are in the prediction set for observation 3728\n",
      "Both classes are in the prediction set for observation 3739\n",
      "Both classes are in the prediction set for observation 3740\n",
      "Both classes are in the prediction set for observation 3746\n",
      "Both classes are in the prediction set for observation 3755\n",
      "Both classes are in the prediction set for observation 3770\n",
      "Both classes are in the prediction set for observation 3791\n",
      "Both classes are in the prediction set for observation 3792\n",
      "Both classes are in the prediction set for observation 3793\n",
      "Both classes are in the prediction set for observation 3805\n",
      "Both classes are in the prediction set for observation 3825\n",
      "Both classes are in the prediction set for observation 3829\n",
      "Both classes are in the prediction set for observation 3834\n",
      "Both classes are in the prediction set for observation 3866\n",
      "Both classes are in the prediction set for observation 3871\n",
      "Both classes are in the prediction set for observation 3873\n",
      "Both classes are in the prediction set for observation 3880\n",
      "Both classes are in the prediction set for observation 3881\n",
      "Both classes are in the prediction set for observation 3906\n",
      "Both classes are in the prediction set for observation 3914\n",
      "Both classes are in the prediction set for observation 3935\n",
      "Both classes are in the prediction set for observation 3939\n",
      "Both classes are in the prediction set for observation 3940\n",
      "Both classes are in the prediction set for observation 3952\n",
      "Both classes are in the prediction set for observation 3957\n",
      "Both classes are in the prediction set for observation 3964\n",
      "Both classes are in the prediction set for observation 3967\n",
      "Both classes are in the prediction set for observation 3994\n",
      "Both classes are in the prediction set for observation 4008\n",
      "Both classes are in the prediction set for observation 4011\n",
      "Both classes are in the prediction set for observation 4047\n",
      "Both classes are in the prediction set for observation 4055\n",
      "Both classes are in the prediction set for observation 4076\n",
      "Both classes are in the prediction set for observation 4083\n",
      "Both classes are in the prediction set for observation 4087\n",
      "Both classes are in the prediction set for observation 4090\n",
      "Both classes are in the prediction set for observation 4104\n",
      "Both classes are in the prediction set for observation 4127\n",
      "Both classes are in the prediction set for observation 4129\n",
      "Both classes are in the prediction set for observation 4148\n",
      "Both classes are in the prediction set for observation 4150\n",
      "Both classes are in the prediction set for observation 4177\n",
      "Both classes are in the prediction set for observation 4179\n",
      "Both classes are in the prediction set for observation 4180\n",
      "Both classes are in the prediction set for observation 4190\n",
      "Both classes are in the prediction set for observation 4210\n",
      "Both classes are in the prediction set for observation 4231\n",
      "Both classes are in the prediction set for observation 4232\n",
      "Both classes are in the prediction set for observation 4237\n",
      "Both classes are in the prediction set for observation 4246\n",
      "Both classes are in the prediction set for observation 4249\n",
      "Both classes are in the prediction set for observation 4277\n",
      "Both classes are in the prediction set for observation 4287\n",
      "Both classes are in the prediction set for observation 4307\n",
      "Both classes are in the prediction set for observation 4308\n",
      "Both classes are in the prediction set for observation 4310\n",
      "Both classes are in the prediction set for observation 4315\n",
      "Both classes are in the prediction set for observation 4326\n",
      "Both classes are in the prediction set for observation 4328\n",
      "Both classes are in the prediction set for observation 4329\n",
      "Both classes are in the prediction set for observation 4337\n",
      "Both classes are in the prediction set for observation 4345\n",
      "Both classes are in the prediction set for observation 4381\n",
      "Both classes are in the prediction set for observation 4388\n",
      "Both classes are in the prediction set for observation 4393\n",
      "Both classes are in the prediction set for observation 4398\n",
      "Both classes are in the prediction set for observation 4409\n",
      "Both classes are in the prediction set for observation 4412\n",
      "Both classes are in the prediction set for observation 4414\n",
      "Both classes are in the prediction set for observation 4422\n",
      "Both classes are in the prediction set for observation 4423\n",
      "Both classes are in the prediction set for observation 4436\n",
      "Both classes are in the prediction set for observation 4444\n",
      "Both classes are in the prediction set for observation 4449\n",
      "Both classes are in the prediction set for observation 4464\n",
      "Both classes are in the prediction set for observation 4473\n",
      "Both classes are in the prediction set for observation 4474\n",
      "Both classes are in the prediction set for observation 4488\n",
      "Both classes are in the prediction set for observation 4490\n",
      "Both classes are in the prediction set for observation 4495\n",
      "Both classes are in the prediction set for observation 4502\n",
      "Both classes are in the prediction set for observation 4515\n",
      "Both classes are in the prediction set for observation 4537\n",
      "Both classes are in the prediction set for observation 4541\n",
      "Both classes are in the prediction set for observation 4547\n",
      "Both classes are in the prediction set for observation 4549\n",
      "Both classes are in the prediction set for observation 4551\n",
      "Both classes are in the prediction set for observation 4557\n",
      "Both classes are in the prediction set for observation 4562\n",
      "Both classes are in the prediction set for observation 4563\n",
      "Both classes are in the prediction set for observation 4579\n",
      "Both classes are in the prediction set for observation 4586\n",
      "Both classes are in the prediction set for observation 4588\n",
      "Both classes are in the prediction set for observation 4598\n",
      "Both classes are in the prediction set for observation 4606\n",
      "Both classes are in the prediction set for observation 4626\n",
      "Both classes are in the prediction set for observation 4628\n",
      "Both classes are in the prediction set for observation 4652\n",
      "Both classes are in the prediction set for observation 4661\n",
      "Both classes are in the prediction set for observation 4664\n",
      "Both classes are in the prediction set for observation 4674\n",
      "Both classes are in the prediction set for observation 4695\n",
      "Both classes are in the prediction set for observation 4705\n",
      "Both classes are in the prediction set for observation 4718\n",
      "Both classes are in the prediction set for observation 4720\n",
      "Both classes are in the prediction set for observation 4724\n",
      "Both classes are in the prediction set for observation 4726\n",
      "Both classes are in the prediction set for observation 4738\n",
      "Both classes are in the prediction set for observation 4745\n",
      "Both classes are in the prediction set for observation 4754\n",
      "Both classes are in the prediction set for observation 4765\n",
      "Both classes are in the prediction set for observation 4792\n",
      "Both classes are in the prediction set for observation 4802\n",
      "Both classes are in the prediction set for observation 4809\n",
      "Both classes are in the prediction set for observation 4825\n",
      "Both classes are in the prediction set for observation 4860\n",
      "Both classes are in the prediction set for observation 4867\n",
      "Both classes are in the prediction set for observation 4900\n",
      "Both classes are in the prediction set for observation 4904\n",
      "Both classes are in the prediction set for observation 4909\n",
      "Both classes are in the prediction set for observation 4913\n",
      "Both classes are in the prediction set for observation 4918\n",
      "Both classes are in the prediction set for observation 4925\n",
      "Both classes are in the prediction set for observation 4935\n",
      "Both classes are in the prediction set for observation 4947\n",
      "Both classes are in the prediction set for observation 4956\n",
      "Both classes are in the prediction set for observation 4968\n",
      "Both classes are in the prediction set for observation 4972\n",
      "Both classes are in the prediction set for observation 4976\n",
      "Both classes are in the prediction set for observation 4987\n",
      "Both classes are in the prediction set for observation 4989\n",
      "Both classes are in the prediction set for observation 4994\n",
      "Both classes are in the prediction set for observation 4995\n",
      "Both classes are in the prediction set for observation 5008\n",
      "Both classes are in the prediction set for observation 5016\n",
      "Both classes are in the prediction set for observation 5025\n",
      "Both classes are in the prediction set for observation 5052\n",
      "Both classes are in the prediction set for observation 5053\n",
      "Both classes are in the prediction set for observation 5055\n",
      "Both classes are in the prediction set for observation 5056\n",
      "Both classes are in the prediction set for observation 5057\n",
      "Both classes are in the prediction set for observation 5061\n",
      "Both classes are in the prediction set for observation 5069\n",
      "Both classes are in the prediction set for observation 5071\n",
      "Both classes are in the prediction set for observation 5075\n",
      "Both classes are in the prediction set for observation 5079\n",
      "Both classes are in the prediction set for observation 5088\n",
      "Both classes are in the prediction set for observation 5095\n",
      "Both classes are in the prediction set for observation 5097\n",
      "Both classes are in the prediction set for observation 5106\n",
      "Both classes are in the prediction set for observation 5107\n",
      "Both classes are in the prediction set for observation 5108\n",
      "Both classes are in the prediction set for observation 5117\n",
      "Both classes are in the prediction set for observation 5124\n",
      "Both classes are in the prediction set for observation 5144\n",
      "Both classes are in the prediction set for observation 5155\n",
      "Both classes are in the prediction set for observation 5157\n",
      "Both classes are in the prediction set for observation 5165\n",
      "Both classes are in the prediction set for observation 5176\n",
      "Both classes are in the prediction set for observation 5180\n",
      "Both classes are in the prediction set for observation 5197\n",
      "Both classes are in the prediction set for observation 5206\n",
      "Both classes are in the prediction set for observation 5239\n",
      "Both classes are in the prediction set for observation 5248\n",
      "Both classes are in the prediction set for observation 5252\n",
      "Both classes are in the prediction set for observation 5261\n",
      "Both classes are in the prediction set for observation 5281\n",
      "Both classes are in the prediction set for observation 5312\n",
      "Both classes are in the prediction set for observation 5327\n",
      "Both classes are in the prediction set for observation 5362\n",
      "Both classes are in the prediction set for observation 5380\n",
      "Both classes are in the prediction set for observation 5386\n",
      "Both classes are in the prediction set for observation 5390\n",
      "Both classes are in the prediction set for observation 5393\n",
      "Both classes are in the prediction set for observation 5394\n",
      "Both classes are in the prediction set for observation 5396\n",
      "Both classes are in the prediction set for observation 5404\n",
      "Both classes are in the prediction set for observation 5414\n",
      "Both classes are in the prediction set for observation 5426\n",
      "Both classes are in the prediction set for observation 5430\n",
      "Both classes are in the prediction set for observation 5431\n",
      "Both classes are in the prediction set for observation 5434\n",
      "Both classes are in the prediction set for observation 5459\n",
      "Both classes are in the prediction set for observation 5479\n",
      "Both classes are in the prediction set for observation 5499\n",
      "Both classes are in the prediction set for observation 5503\n",
      "Both classes are in the prediction set for observation 5507\n",
      "Both classes are in the prediction set for observation 5515\n",
      "Both classes are in the prediction set for observation 5539\n",
      "Both classes are in the prediction set for observation 5549\n",
      "Both classes are in the prediction set for observation 5566\n",
      "Both classes are in the prediction set for observation 5567\n",
      "Both classes are in the prediction set for observation 5570\n",
      "Both classes are in the prediction set for observation 5576\n",
      "Both classes are in the prediction set for observation 5605\n",
      "Both classes are in the prediction set for observation 5651\n",
      "Both classes are in the prediction set for observation 5656\n",
      "Both classes are in the prediction set for observation 5667\n",
      "Both classes are in the prediction set for observation 5703\n",
      "Both classes are in the prediction set for observation 5707\n",
      "Both classes are in the prediction set for observation 5732\n",
      "Both classes are in the prediction set for observation 5735\n",
      "Both classes are in the prediction set for observation 5742\n",
      "Both classes are in the prediction set for observation 5767\n",
      "Both classes are in the prediction set for observation 5772\n",
      "Both classes are in the prediction set for observation 5793\n",
      "Both classes are in the prediction set for observation 5819\n",
      "Both classes are in the prediction set for observation 5832\n",
      "Both classes are in the prediction set for observation 5833\n",
      "Both classes are in the prediction set for observation 5834\n",
      "Both classes are in the prediction set for observation 5854\n",
      "Both classes are in the prediction set for observation 5868\n",
      "Both classes are in the prediction set for observation 5887\n",
      "Both classes are in the prediction set for observation 5909\n",
      "Both classes are in the prediction set for observation 5913\n",
      "Both classes are in the prediction set for observation 5925\n",
      "Both classes are in the prediction set for observation 5928\n",
      "Both classes are in the prediction set for observation 5933\n",
      "Both classes are in the prediction set for observation 5963\n",
      "Both classes are in the prediction set for observation 5977\n",
      "Both classes are in the prediction set for observation 5993\n",
      "Both classes are in the prediction set for observation 6009\n",
      "Both classes are in the prediction set for observation 6019\n",
      "Both classes are in the prediction set for observation 6034\n",
      "Both classes are in the prediction set for observation 6038\n",
      "Both classes are in the prediction set for observation 6044\n",
      "Both classes are in the prediction set for observation 6045\n",
      "Both classes are in the prediction set for observation 6067\n",
      "Both classes are in the prediction set for observation 6100\n",
      "Both classes are in the prediction set for observation 6134\n",
      "Both classes are in the prediction set for observation 6136\n",
      "Both classes are in the prediction set for observation 6140\n",
      "Both classes are in the prediction set for observation 6164\n",
      "Both classes are in the prediction set for observation 6166\n",
      "Both classes are in the prediction set for observation 6168\n",
      "Both classes are in the prediction set for observation 6184\n",
      "Both classes are in the prediction set for observation 6201\n",
      "Both classes are in the prediction set for observation 6202\n",
      "Both classes are in the prediction set for observation 6209\n",
      "Both classes are in the prediction set for observation 6217\n",
      "Both classes are in the prediction set for observation 6276\n",
      "Both classes are in the prediction set for observation 6299\n",
      "Both classes are in the prediction set for observation 6301\n",
      "Both classes are in the prediction set for observation 6310\n",
      "Both classes are in the prediction set for observation 6314\n",
      "Both classes are in the prediction set for observation 6320\n",
      "Both classes are in the prediction set for observation 6323\n",
      "Both classes are in the prediction set for observation 6324\n",
      "Both classes are in the prediction set for observation 6332\n",
      "Both classes are in the prediction set for observation 6344\n",
      "Both classes are in the prediction set for observation 6346\n",
      "Both classes are in the prediction set for observation 6375\n",
      "Both classes are in the prediction set for observation 6378\n",
      "Both classes are in the prediction set for observation 6387\n",
      "Both classes are in the prediction set for observation 6388\n",
      "Both classes are in the prediction set for observation 6392\n",
      "Both classes are in the prediction set for observation 6395\n",
      "Both classes are in the prediction set for observation 6397\n",
      "Both classes are in the prediction set for observation 6408\n",
      "Both classes are in the prediction set for observation 6415\n",
      "Both classes are in the prediction set for observation 6421\n",
      "Both classes are in the prediction set for observation 6433\n"
     ]
    }
   ],
   "source": [
    "# identify the observations where both classes are in the prediction set\n",
    "for index, obs in enumerate(pred_set.reshape(-1, 2)):\n",
    "    if int(obs[0]) + int(obs[1]) ==2:\n",
    "        print('Both classes are in the prediction set for observation {}'.format(index))"
   ]
  },
  {
   "cell_type": "code",
   "execution_count": 44,
   "metadata": {},
   "outputs": [
    {
     "data": {
      "application/vnd.jupyter.widget-view+json": {
       "model_id": "d12e3853be43493fa75e5b616dcea41f",
       "version_major": 2,
       "version_minor": 0
      },
      "text/plain": [
       "HTML(value='\\n        <style>\\n\\n        .left-label {\\n            width: 30%;\\n        }\\n\\n        .card-pa…"
      ]
     },
     "metadata": {},
     "output_type": "display_data"
    }
   ],
   "source": [
    "# Compute scores for calibration set\n",
    "calibration_scores = non_conformity_score_prob(model, X_test, y_test)"
   ]
  },
  {
   "cell_type": "code",
   "execution_count": 45,
   "metadata": {},
   "outputs": [
    {
     "data": {
      "application/vnd.jupyter.widget-view+json": {
       "model_id": "5d6ec22eb7384e3e95fabfe80b7bca1e",
       "version_major": 2,
       "version_minor": 0
      },
      "text/plain": [
       "HTML(value='\\n        <style>\\n\\n        .left-label {\\n            width: 30%;\\n        }\\n\\n        .card-pa…"
      ]
     },
     "metadata": {},
     "output_type": "display_data"
    },
    {
     "name": "stdout",
     "output_type": "stream",
     "text": [
      "Prediction Sets (for each observation): [[1, 0], [0, 1], [1, 0], [1, 0], [1, 0], [1, 0], [1, 0], [1, 1], [1, 0], [1, 0], [0, 1], [1, 0], [1, 0], [1, 0], [1, 0], [1, 0], [1, 0], [1, 0], [1, 0], [1, 0], [1, 0], [1, 0], [1, 0], [1, 0], [1, 0], [1, 0], [1, 0], [0, 1], [1, 1], [1, 0], [1, 0], [0, 1], [1, 0], [1, 0], [1, 0], [1, 0], [1, 0], [0, 1], [1, 0], [1, 0], [1, 0], [0, 1], [1, 1], [1, 0], [1, 1], [1, 0], [1, 1], [1, 0], [1, 0], [1, 1], [0, 1], [1, 1], [1, 0], [1, 1], [1, 0], [0, 1], [1, 0], [1, 0], [1, 0], [1, 0], [1, 0], [1, 0], [1, 0], [1, 0], [1, 0], [1, 0], [1, 0], [1, 0], [1, 0], [1, 0], [1, 0], [1, 0], [1, 0], [1, 0], [1, 0], [1, 0], [1, 1], [1, 0], [1, 1], [1, 0], [1, 0], [1, 1], [1, 0], [1, 0], [0, 1], [1, 0], [1, 0], [1, 0], [1, 0], [0, 1], [1, 0], [1, 0], [1, 0], [1, 0], [0, 1], [1, 0], [1, 0], [1, 1], [0, 1], [1, 1], [1, 0], [1, 0], [1, 0], [0, 1], [1, 1], [1, 0], [1, 0], [1, 0], [1, 1], [1, 0], [1, 0], [1, 0], [0, 1], [1, 0], [1, 0], [1, 0], [1, 0], [1, 0], [1, 0], [1, 0], [1, 0], [1, 0], [1, 0], [1, 0], [1, 0], [1, 0], [1, 1], [1, 1], [1, 0], [1, 0], [1, 0], [1, 1], [1, 0], [1, 0], [0, 1], [1, 0], [0, 1], [1, 0], [1, 0], [1, 0], [1, 0], [1, 0], [1, 0], [1, 0], [1, 1], [1, 0], [1, 0], [1, 0], [1, 0], [1, 0], [0, 1], [1, 1], [1, 0], [1, 0], [1, 0], [1, 1], [1, 0], [1, 0], [1, 1], [1, 0], [1, 0], [0, 1], [1, 0], [1, 0], [1, 0], [1, 0], [1, 0], [1, 0], [1, 0], [1, 0], [1, 0], [1, 1], [0, 1], [1, 0], [1, 1], [1, 0], [1, 0], [0, 1], [0, 1], [1, 1], [1, 0], [1, 0], [1, 0], [1, 0], [1, 0], [1, 0], [1, 0], [1, 0], [1, 0], [0, 1], [1, 0], [1, 0], [1, 0], [1, 1], [1, 0], [1, 0], [1, 0], [1, 1], [1, 0], [1, 0], [1, 0], [1, 0], [1, 0], [1, 1], [0, 1], [1, 0], [1, 0], [0, 1], [1, 0], [1, 0], [1, 0], [1, 0], [1, 0], [1, 0], [1, 0], [1, 0], [0, 1], [1, 0], [0, 1], [1, 0], [1, 0], [1, 1], [1, 0], [1, 0], [1, 0], [1, 0], [1, 0], [0, 1], [1, 0], [0, 1], [0, 1], [1, 0], [0, 1], [1, 0], [1, 0], [1, 0], [1, 0], [1, 0], [1, 1], [1, 0], [1, 0], [1, 0], [1, 0], [1, 0], [1, 0], [1, 0], [1, 0], [0, 1], [1, 0], [1, 0], [0, 1], [1, 0], [1, 0], [1, 0], [1, 0], [1, 0], [1, 1], [1, 0], [1, 0], [1, 0], [0, 1], [1, 0], [1, 1], [1, 0], [1, 0], [1, 0], [1, 0], [0, 1], [1, 0], [0, 1], [1, 0], [1, 0], [0, 1], [1, 0], [0, 1], [1, 1], [1, 0], [1, 0], [1, 0], [1, 0], [1, 0], [1, 0], [1, 1], [1, 0], [1, 0], [1, 1], [1, 0], [1, 0], [0, 1], [1, 0], [1, 0], [1, 0], [1, 0], [1, 0], [1, 0], [1, 0], [1, 0], [1, 0], [1, 0], [1, 0], [1, 0], [1, 0], [0, 1], [0, 1], [1, 0], [1, 0], [1, 1], [0, 1], [1, 0], [1, 0], [1, 0], [0, 1], [1, 1], [1, 0], [1, 0], [1, 0], [1, 1], [1, 0], [1, 0], [1, 0], [1, 1], [1, 0], [0, 1], [1, 0], [1, 0], [1, 0], [1, 0], [1, 0], [1, 1], [1, 0], [1, 0], [0, 1], [1, 0], [1, 0], [1, 0], [1, 0], [1, 0], [1, 0], [1, 0], [1, 0], [1, 0], [1, 0], [1, 0], [0, 1], [1, 0], [1, 0], [1, 0], [1, 0], [1, 0], [1, 1], [1, 0], [1, 0], [1, 0], [1, 0], [1, 0], [1, 0], [1, 1], [1, 0], [1, 1], [1, 0], [1, 0], [1, 0], [1, 0], [0, 1], [1, 0], [1, 0], [1, 0], [1, 0], [1, 0], [1, 0], [1, 0], [1, 0], [1, 0], [1, 1], [1, 0], [1, 0], [1, 0], [1, 0], [1, 0], [1, 0], [1, 0], [1, 0], [1, 0], [0, 1], [1, 0], [1, 0], [1, 0], [0, 1], [0, 1], [1, 0], [1, 0], [1, 0], [0, 1], [1, 0], [1, 0], [0, 1], [0, 1], [1, 0], [1, 0], [1, 0], [1, 0], [1, 0], [1, 0], [0, 1], [1, 0], [1, 1], [1, 0], [1, 0], [1, 1], [1, 0], [1, 1], [1, 0], [1, 0], [1, 0], [1, 0], [0, 1], [1, 0], [1, 0], [1, 1], [1, 0], [1, 0], [1, 0], [1, 0], [1, 0], [1, 0], [1, 0], [1, 0], [1, 0], [1, 0], [1, 0], [0, 1], [1, 0], [1, 0], [1, 0], [1, 0], [1, 0], [1, 0], [1, 0], [1, 0], [1, 0], [1, 1], [1, 0], [1, 0], [1, 0], [1, 0], [1, 1], [1, 0], [1, 0], [1, 0], [1, 0], [1, 1], [1, 0], [0, 1], [1, 0], [0, 1], [1, 0], [1, 0], [0, 1], [1, 0], [1, 0], [0, 1], [0, 1], [1, 0], [1, 0], [1, 0], [1, 0], [1, 0], [1, 1], [1, 0], [1, 0], [0, 1], [1, 0], [1, 0], [1, 0], [1, 0], [1, 0], [1, 0], [1, 1], [1, 0], [1, 0], [1, 0], [1, 0], [1, 0], [1, 0], [1, 0], [1, 0], [1, 0], [1, 0], [1, 0], [1, 0], [1, 0], [1, 1], [1, 1], [1, 0], [1, 0], [0, 1], [0, 1], [1, 0], [1, 0], [1, 0], [1, 0], [0, 1], [1, 0], [1, 0], [1, 0], [1, 0], [1, 0], [1, 0], [1, 0], [1, 0], [1, 0], [1, 1], [1, 0], [1, 0], [1, 0], [1, 1], [1, 0], [1, 0], [1, 0], [0, 1], [1, 0], [1, 0], [1, 0], [1, 0], [1, 0], [1, 0], [1, 1], [1, 0], [1, 0], [1, 0], [1, 0], [1, 0], [1, 0], [1, 0], [1, 0], [1, 0], [1, 0], [1, 0], [1, 0], [1, 0], [1, 0], [1, 0], [1, 0], [1, 0], [1, 1], [1, 0], [1, 0], [1, 0], [1, 0], [1, 0], [0, 1], [1, 0], [1, 0], [1, 0], [1, 0], [1, 1], [1, 0], [1, 0], [1, 0], [1, 0], [1, 0], [1, 0], [1, 0], [1, 0], [1, 0], [1, 0], [1, 0], [1, 0], [1, 0], [1, 0], [0, 1], [1, 0], [1, 0], [1, 0], [1, 0], [1, 0], [0, 1], [1, 0], [1, 0], [1, 0], [1, 0], [1, 0], [1, 0], [1, 0], [1, 0], [1, 0], [1, 0], [1, 0], [1, 0], [1, 0], [1, 0], [0, 1], [1, 0], [1, 0], [1, 0], [1, 0], [1, 0], [0, 1], [1, 1], [0, 1], [1, 0], [0, 1], [1, 0], [1, 1], [1, 0], [1, 1], [0, 1], [0, 1], [1, 0], [1, 0], [1, 0], [0, 1], [1, 0], [1, 1], [1, 0], [1, 0], [1, 0], [0, 1], [1, 0], [1, 0], [1, 0], [0, 1], [1, 0], [1, 0], [1, 0], [1, 0], [1, 0], [1, 0], [1, 0], [1, 0], [1, 0], [1, 0], [1, 0], [1, 0], [1, 0], [1, 0], [1, 0], [1, 0], [1, 0], [1, 0], [1, 0], [1, 0], [1, 0], [1, 0], [1, 0], [0, 1], [1, 1], [1, 0], [1, 0], [1, 0], [1, 1], [1, 0], [1, 0], [1, 0], [1, 0], [1, 0], [1, 0], [1, 1], [1, 0], [1, 0], [0, 1], [1, 0], [0, 1], [1, 0], [1, 0], [1, 0], [1, 1], [0, 1], [1, 0], [1, 0], [1, 0], [1, 0], [1, 0], [1, 0], [1, 0], [1, 0], [1, 0], [1, 0], [0, 1], [1, 0], [1, 0], [1, 0], [1, 0], [1, 0], [1, 0], [0, 1], [0, 1], [1, 0], [1, 0], [1, 0], [1, 0], [1, 0], [1, 1], [1, 0], [1, 1], [1, 0], [1, 0], [1, 0], [1, 0], [1, 0], [1, 0], [1, 0], [1, 0], [1, 0], [0, 1], [1, 0], [1, 0], [1, 0], [1, 1], [1, 0], [1, 0], [1, 0], [1, 0], [1, 0], [1, 0], [1, 0], [1, 0], [1, 0], [1, 0], [1, 1], [0, 1], [1, 0], [1, 0], [1, 0], [1, 0], [0, 1], [0, 1], [1, 0], [1, 0], [1, 0], [0, 1], [1, 0], [1, 0], [1, 0], [1, 0], [1, 0], [1, 1], [1, 0], [1, 0], [1, 0], [1, 0], [1, 0], [0, 1], [1, 1], [1, 0], [1, 0], [1, 0], [1, 0], [1, 1], [1, 0], [1, 0], [1, 0], [1, 0], [1, 1], [1, 0], [1, 1], [1, 0], [1, 0], [0, 1], [1, 0], [1, 0], [1, 0], [1, 0], [1, 0], [1, 1], [1, 0], [1, 1], [1, 0], [1, 0], [0, 1], [1, 0], [1, 0], [1, 0], [1, 0], [1, 0], [1, 1], [0, 1], [1, 0], [0, 1], [0, 1], [1, 0], [1, 1], [1, 0], [1, 0], [1, 0], [1, 0], [1, 0], [1, 0], [1, 0], [1, 0], [1, 0], [1, 0], [1, 0], [1, 0], [0, 1], [1, 0], [1, 0], [1, 0], [1, 0], [1, 0], [1, 0], [1, 0], [1, 0], [1, 0], [1, 0], [1, 0], [1, 1], [1, 0], [1, 0], [1, 0], [1, 0], [1, 0], [1, 0], [1, 0], [1, 0], [1, 0], [0, 1], [1, 0], [1, 0], [1, 0], [1, 0], [1, 0], [0, 1], [1, 0], [1, 0], [1, 0], [1, 0], [1, 0], [1, 0], [1, 0], [1, 0], [1, 0], [1, 0], [1, 0], [1, 0], [1, 1], [1, 0], [1, 0], [1, 0], [1, 0], [1, 0], [1, 0], [1, 0], [1, 0], [1, 0], [1, 0], [1, 0], [1, 0], [1, 0], [1, 0], [1, 0], [1, 0], [1, 0], [0, 1], [1, 0], [1, 0], [1, 0], [1, 0], [1, 1], [0, 1], [1, 0], [0, 1], [1, 0], [1, 0], [1, 0], [1, 0], [1, 0], [1, 0], [0, 1], [1, 0], [1, 0], [0, 1], [1, 0], [1, 0], [1, 0], [1, 0], [1, 0], [1, 0], [1, 0], [1, 0], [1, 0], [1, 0], [1, 1], [1, 0], [1, 0], [1, 0], [1, 0], [1, 0], [1, 0], [0, 1], [1, 0], [1, 0], [1, 0], [1, 0], [1, 0], [0, 1], [0, 1], [1, 0], [1, 0], [1, 1], [0, 1], [1, 0], [1, 0], [1, 0], [1, 0], [1, 0], [1, 0], [1, 0], [0, 1], [1, 0], [0, 1], [0, 1], [1, 0], [1, 0], [1, 0], [1, 0], [1, 0], [1, 0], [1, 0], [1, 0], [1, 0], [1, 0], [1, 0], [1, 0], [1, 0], [1, 0], [0, 1], [1, 0], [1, 0], [1, 0], [1, 0], [1, 0], [1, 0], [1, 0], [1, 0], [1, 0], [1, 0], [1, 0], [1, 0], [1, 0], [0, 1], [1, 0], [1, 0], [1, 0], [0, 1], [1, 0], [1, 0], [1, 0], [1, 0], [1, 0], [1, 1], [1, 0], [1, 0], [0, 1], [0, 1], [1, 0], [1, 0], [1, 0], [1, 0], [1, 0], [1, 0], [1, 1], [0, 1], [1, 0], [0, 1], [1, 0], [1, 0], [1, 0], [1, 0], [1, 0], [1, 0], [1, 0], [1, 0], [1, 0], [1, 0], [1, 0], [1, 0], [1, 0], [1, 0], [1, 0], [1, 1], [1, 0], [1, 0], [1, 0], [1, 0], [1, 0], [0, 1], [1, 0], [0, 1], [1, 0], [1, 0], [1, 0], [1, 1], [1, 0], [1, 0], [1, 0], [1, 0], [1, 0], [1, 0], [1, 0], [1, 0], [1, 1], [0, 1], [1, 0], [1, 0], [1, 0], [1, 0], [1, 0], [1, 0], [1, 0], [0, 1], [1, 0], [1, 0], [0, 1], [1, 0], [1, 0], [1, 0], [1, 0], [1, 0], [1, 0], [1, 0], [0, 1], [1, 0], [1, 0], [1, 0], [0, 1], [1, 0], [0, 1], [1, 1], [0, 1], [1, 0], [1, 0], [1, 1], [1, 0], [1, 1], [1, 0], [1, 0], [1, 0], [1, 0], [1, 0], [0, 1], [1, 0], [1, 0], [0, 1], [1, 0], [1, 0], [0, 1], [1, 0], [1, 0], [1, 1], [0, 1], [1, 0], [1, 0], [1, 0], [1, 0], [1, 0], [1, 0], [1, 0], [1, 0], [1, 0], [1, 0], [1, 0], [1, 0], [1, 0], [0, 1], [1, 0], [1, 0], [1, 0], [1, 0], [1, 0], [1, 0], [0, 1], [1, 0], [1, 0], [1, 0], [1, 0], [1, 0], [1, 0], [0, 1], [1, 0], [0, 1], [0, 1], [0, 1], [1, 0], [0, 1], [1, 0], [1, 0], [0, 1], [1, 0], [1, 0], [1, 0], [1, 0], [0, 1], [1, 0], [1, 0], [1, 1], [1, 0], [1, 0], [1, 0], [1, 0], [0, 1], [1, 0], [0, 1], [1, 0], [1, 0], [1, 0], [1, 0], [1, 0], [1, 0], [1, 0], [1, 0], [1, 0], [1, 0], [1, 0], [1, 0], [1, 0], [1, 0], [1, 0], [1, 0], [1, 0], [1, 1], [1, 0], [1, 0], [0, 1], [1, 1], [1, 0], [1, 0], [1, 0], [1, 0], [0, 1], [0, 1], [1, 0], [1, 0], [0, 1], [1, 0], [1, 1], [0, 1], [1, 0], [1, 0], [1, 0], [1, 0], [1, 0], [1, 0], [1, 0], [1, 0], [1, 0], [1, 0], [1, 0], [1, 0], [1, 0], [1, 0], [0, 1], [1, 0], [1, 0], [0, 1], [1, 0], [1, 0], [1, 0], [1, 1], [1, 1], [1, 0], [1, 0], [0, 1], [1, 0], [1, 1], [1, 0], [1, 0], [1, 0], [0, 1], [0, 1], [1, 0], [1, 0], [1, 0], [1, 0], [1, 0], [1, 0], [1, 0], [1, 0], [1, 1], [1, 0], [0, 1], [1, 0], [1, 1], [0, 1], [1, 0], [1, 1], [1, 1], [1, 0], [1, 0], [1, 1], [1, 0], [1, 0], [1, 0], [1, 1], [1, 0], [1, 0], [1, 0], [1, 0], [1, 0], [1, 0], [1, 0], [1, 0], [1, 0], [1, 0], [1, 0], [1, 0], [1, 0], [1, 1], [1, 0], [0, 1], [0, 1], [1, 0], [1, 1], [1, 0], [1, 0], [1, 1], [1, 0], [0, 1], [1, 0], [1, 0], [1, 0], [1, 0], [1, 0], [1, 0], [1, 1], [1, 0], [1, 0], [1, 0], [1, 0], [1, 0], [0, 1], [1, 0], [1, 0], [1, 0], [1, 1], [1, 0], [0, 1], [0, 1], [1, 0], [1, 0], [1, 0], [1, 0], [1, 0], [1, 0], [1, 0], [1, 0], [1, 1], [1, 0], [1, 0], [1, 0], [1, 0], [1, 0], [1, 1], [0, 1], [1, 0], [1, 0], [1, 0], [1, 0], [1, 0], [0, 1], [1, 0], [1, 0], [1, 0], [1, 0], [1, 0], [1, 0], [0, 1], [1, 0], [1, 0], [0, 1], [1, 1], [1, 0], [1, 1], [1, 1], [1, 0], [1, 0], [1, 0], [1, 0], [0, 1], [1, 0], [1, 0], [1, 0], [1, 0], [1, 0], [1, 1], [1, 1], [1, 0], [1, 0], [1, 0], [0, 1], [1, 0], [1, 0], [1, 1], [1, 0], [1, 1], [0, 1], [1, 0], [1, 0], [0, 1], [1, 0], [1, 1], [1, 0], [1, 0], [1, 0], [1, 0], [1, 1], [1, 0], [1, 0], [1, 0], [1, 0], [1, 0], [1, 0], [1, 0], [1, 0], [1, 1], [1, 0], [1, 0], [1, 1], [0, 1], [1, 0], [1, 0], [1, 0], [1, 1], [1, 0], [1, 0], [1, 0], [1, 0], [1, 0], [1, 0], [1, 0], [0, 1], [0, 1], [1, 0], [1, 0], [0, 1], [0, 1], [1, 0], [1, 0], [0, 1], [1, 0], [1, 0], [1, 0], [1, 0], [1, 0], [1, 0], [1, 0], [1, 1], [1, 0], [1, 0], [1, 0], [1, 1], [0, 1], [0, 1], [1, 1], [1, 0], [0, 1], [0, 1], [1, 1], [1, 0], [1, 0], [1, 0], [1, 0], [1, 0], [0, 1], [0, 1], [1, 0], [0, 1], [1, 0], [1, 1], [1, 0], [0, 1], [1, 0], [1, 0], [0, 1], [1, 1], [1, 1], [0, 1], [1, 0], [0, 1], [1, 0], [1, 0], [1, 1], [1, 1], [1, 0], [1, 0], [1, 0], [1, 0], [1, 0], [1, 0], [1, 0], [1, 0], [1, 0], [1, 0], [1, 1], [0, 1], [0, 1], [1, 0], [1, 0], [0, 1], [1, 0], [1, 0], [1, 0], [1, 0], [1, 0], [1, 0], [1, 0], [1, 0], [1, 0], [1, 0], [1, 0], [1, 0], [1, 0], [1, 0], [1, 1], [1, 0], [1, 0], [1, 0], [1, 0], [1, 0], [1, 0], [1, 0], [1, 0], [1, 0], [1, 1], [1, 0], [1, 1], [1, 0], [1, 1], [1, 0], [1, 0], [1, 1], [1, 1], [1, 0], [1, 0], [1, 0], [1, 0], [1, 0], [1, 0], [1, 0], [1, 0], [1, 1], [1, 0], [1, 0], [0, 1], [1, 0], [1, 0], [1, 0], [1, 0], [1, 0], [1, 0], [1, 0], [1, 0], [1, 0], [1, 1], [1, 0], [1, 0], [1, 0], [1, 0], [1, 0], [1, 0], [1, 0], [1, 0], [1, 0], [0, 1], [1, 0], [1, 0], [1, 1], [1, 0], [0, 1], [1, 0], [1, 0], [1, 0], [1, 0], [1, 0], [1, 0], [1, 0], [0, 1], [1, 0], [1, 0], [1, 0], [1, 0], [1, 0], [0, 1], [1, 0], [1, 0], [0, 1], [1, 0], [1, 0], [1, 0], [1, 0], [1, 0], [1, 0], [1, 0], [1, 0], [1, 0], [1, 0], [1, 1], [1, 0], [1, 0], [1, 0], [1, 0], [1, 0], [0, 1], [1, 0], [1, 0], [1, 0], [0, 1], [0, 1], [1, 0], [1, 0], [1, 0], [1, 0], [1, 0], [1, 0], [0, 1], [0, 1], [0, 1], [1, 0], [1, 0], [1, 0], [1, 0], [1, 0], [1, 1], [1, 0], [1, 1], [1, 1], [1, 0], [1, 0], [1, 0], [1, 0], [1, 0], [1, 0], [1, 0], [1, 0], [1, 0], [1, 0], [1, 0], [1, 0], [0, 1], [1, 0], [1, 1], [1, 0], [1, 0], [1, 0], [1, 1], [1, 0], [1, 0], [1, 0], [1, 0], [1, 0], [1, 0], [1, 0], [1, 0], [1, 0], [1, 0], [1, 0], [1, 0], [1, 0], [1, 0], [1, 0], [1, 1], [1, 0], [1, 0], [1, 0], [1, 0], [1, 0], [1, 0], [1, 0], [1, 1], [1, 0], [1, 0], [1, 0], [1, 0], [1, 0], [1, 1], [1, 0], [1, 0], [1, 0], [1, 0], [1, 0], [1, 0], [1, 0], [1, 0], [0, 1], [1, 0], [1, 0], [1, 0], [1, 0], [1, 0], [0, 1], [1, 0], [1, 0], [1, 0], [1, 1], [1, 0], [1, 0], [1, 0], [1, 0], [1, 0], [0, 1], [1, 0], [1, 0], [1, 0], [1, 0], [1, 0], [1, 0], [1, 0], [1, 0], [1, 0], [0, 1], [1, 0], [0, 1], [1, 0], [1, 0], [1, 0], [1, 0], [1, 0], [1, 0], [1, 0], [1, 0], [1, 0], [1, 0], [1, 0], [1, 0], [1, 0], [1, 0], [1, 0], [1, 0], [1, 0], [1, 0], [1, 0], [1, 0], [1, 0], [1, 0], [1, 1], [1, 0], [0, 1], [1, 0], [1, 0], [1, 0], [1, 0], [1, 1], [1, 0], [0, 1], [1, 1], [1, 0], [1, 0], [1, 1], [1, 0], [0, 1], [1, 0], [0, 1], [1, 1], [1, 0], [1, 1], [1, 0], [1, 0], [1, 0], [1, 0], [1, 0], [1, 0], [1, 0], [1, 0], [1, 0], [1, 1], [1, 0], [1, 0], [1, 0], [0, 1], [1, 0], [1, 0], [0, 1], [1, 0], [1, 0], [1, 0], [1, 0], [1, 0], [1, 0], [1, 0], [1, 1], [1, 0], [1, 0], [0, 1], [1, 0], [1, 0], [1, 0], [1, 0], [1, 0], [1, 0], [0, 1], [1, 0], [1, 0], [1, 0], [1, 0], [1, 0], [1, 0], [1, 0], [1, 1], [1, 0], [1, 0], [1, 0], [1, 0], [1, 1], [1, 1], [1, 0], [1, 0], [1, 0], [1, 0], [1, 0], [1, 0], [1, 0], [0, 1], [1, 0], [1, 0], [1, 0], [1, 0], [1, 0], [1, 0], [1, 0], [1, 0], [1, 0], [1, 0], [1, 1], [0, 1], [1, 0], [1, 0], [1, 0], [1, 0], [1, 0], [1, 0], [1, 1], [1, 0], [1, 0], [1, 0], [1, 1], [1, 0], [1, 0], [0, 1], [1, 0], [1, 0], [0, 1], [1, 0], [0, 1], [1, 0], [1, 0], [1, 0], [1, 0], [0, 1], [1, 0], [1, 0], [1, 0], [1, 0], [1, 0], [1, 0], [0, 1], [0, 1], [1, 0], [1, 1], [0, 1], [1, 0], [1, 0], [0, 1], [1, 0], [1, 0], [0, 1], [1, 0], [1, 0], [1, 0], [0, 1], [1, 0], [1, 0], [0, 1], [1, 0], [1, 0], [1, 1], [1, 0], [0, 1], [1, 0], [1, 0], [1, 1], [0, 1], [1, 0], [1, 0], [1, 0], [1, 1], [1, 0], [1, 0], [0, 1], [1, 0], [1, 0], [1, 0], [1, 0], [1, 0], [0, 1], [1, 0], [1, 1], [1, 0], [1, 0], [1, 0], [1, 0], [1, 0], [1, 0], [0, 1], [1, 0], [1, 0], [1, 0], [1, 0], [1, 0], [0, 1], [1, 1], [1, 0], [1, 0], [1, 0], [1, 0], [1, 0], [1, 1], [1, 0], [0, 1], [1, 0], [1, 0], [1, 0], [1, 0], [1, 1], [1, 0], [1, 0], [0, 1], [0, 1], [0, 1], [1, 1], [1, 0], [1, 0], [1, 0], [1, 0], [0, 1], [1, 0], [1, 0], [0, 1], [0, 1], [1, 0], [1, 0], [1, 0], [1, 0], [1, 0], [1, 0], [1, 0], [1, 0], [1, 0], [1, 0], [1, 0], [1, 0], [1, 0], [1, 0], [1, 0], [1, 0], [0, 1], [1, 0], [1, 0], [1, 0], [1, 0], [1, 0], [1, 0], [1, 0], [1, 0], [1, 0], [1, 0], [1, 0], [1, 0], [0, 1], [1, 0], [1, 0], [1, 0], [1, 0], [1, 0], [1, 0], [1, 0], [1, 1], [1, 0], [1, 0], [1, 1], [1, 0], [1, 0], [1, 0], [1, 0], [1, 0], [1, 0], [1, 0], [1, 0], [1, 0], [1, 0], [1, 0], [1, 0], [1, 0], [1, 1], [1, 0], [1, 1], [1, 0], [1, 0], [1, 1], [1, 1], [1, 0], [1, 0], [1, 0], [1, 0], [1, 1], [1, 0], [1, 0], [0, 1], [1, 0], [1, 0], [1, 0], [1, 0], [1, 0], [1, 0], [1, 0], [1, 0], [1, 0], [1, 0], [1, 0], [0, 1], [1, 0], [1, 0], [1, 1], [1, 0], [1, 1], [1, 1], [1, 1], [1, 0], [1, 0], [0, 1], [1, 0], [1, 0], [1, 0], [1, 0], [1, 0], [1, 0], [1, 0], [1, 0], [1, 0], [1, 0], [1, 0], [1, 0], [1, 1], [1, 0], [1, 0], [0, 1], [1, 0], [1, 0], [1, 0], [1, 0], [1, 1], [1, 0], [1, 1], [1, 1], [1, 0], [1, 0], [1, 0], [0, 1], [1, 0], [1, 0], [1, 1], [0, 1], [1, 0], [1, 0], [1, 0], [1, 0], [1, 0], [1, 1], [1, 0], [1, 0], [1, 0], [0, 1], [0, 1], [1, 0], [1, 1], [1, 0], [0, 1], [1, 0], [1, 1], [1, 0], [1, 0], [1, 0], [1, 0], [0, 1], [1, 0], [0, 1], [1, 0], [1, 0], [1, 0], [1, 0], [1, 0], [1, 0], [0, 1], [1, 0], [1, 0], [1, 0], [1, 1], [1, 0], [1, 0], [1, 0], [0, 1], [1, 0], [1, 0], [1, 0], [1, 1], [1, 0], [1, 0], [1, 0], [1, 0], [1, 0], [1, 0], [1, 0], [1, 0], [1, 0], [0, 1], [1, 0], [1, 0], [1, 0], [0, 1], [0, 1], [1, 0], [1, 0], [1, 0], [1, 0], [1, 0], [1, 0], [1, 0], [1, 0], [1, 0], [1, 0], [1, 0], [1, 0], [1, 0], [1, 0], [1, 0], [0, 1], [1, 0], [1, 0], [1, 0], [1, 0], [1, 0], [1, 0], [1, 1], [1, 0], [1, 0], [0, 1], [1, 0], [0, 1], [1, 0], [1, 0], [1, 0], [1, 0], [1, 0], [1, 1], [1, 0], [1, 0], [1, 1], [1, 0], [1, 0], [1, 1], [0, 1], [1, 0], [1, 0], [1, 0], [1, 0], [1, 0], [1, 0], [1, 0], [1, 1], [1, 0], [1, 0], [1, 0], [1, 0], [1, 0], [1, 0], [1, 0], [0, 1], [1, 0], [1, 0], [1, 0], [0, 1], [1, 0], [1, 0], [0, 1], [0, 1], [1, 0], [1, 0], [1, 0], [0, 1], [0, 1], [0, 1], [1, 0], [1, 0], [1, 0], [1, 0], [1, 0], [1, 1], [1, 0], [1, 0], [1, 0], [0, 1], [1, 0], [1, 0], [1, 1], [1, 0], [1, 1], [1, 0], [1, 0], [1, 0], [1, 0], [1, 0], [1, 0], [1, 0], [1, 0], [1, 0], [1, 0], [1, 0], [1, 1], [1, 0], [1, 0], [0, 1], [0, 1], [1, 1], [1, 0], [0, 1], [1, 0], [1, 0], [1, 0], [1, 0], [1, 0], [1, 0], [1, 0], [1, 0], [1, 0], [1, 0], [1, 0], [1, 1], [1, 1], [1, 0], [1, 0], [1, 1], [1, 0], [0, 1], [1, 1], [0, 1], [1, 0], [1, 0], [1, 0], [1, 0], [1, 1], [1, 0], [0, 1], [1, 0], [1, 0], [1, 0], [1, 0], [1, 0], [1, 0], [1, 0], [1, 0], [1, 0], [1, 0], [1, 0], [1, 0], [1, 0], [1, 0], [1, 0], [1, 0], [1, 0], [1, 0], [1, 0], [1, 0], [1, 0], [1, 0], [1, 0], [0, 1], [1, 0], [1, 0], [1, 0], [1, 0], [1, 0], [1, 0], [1, 0], [1, 0], [1, 0], [1, 0], [0, 1], [1, 0], [1, 0], [1, 0], [1, 0], [1, 0], [1, 0], [1, 0], [1, 0], [0, 1], [1, 0], [1, 0], [1, 0], [1, 0], [1, 0], [1, 0], [1, 1], [1, 0], [1, 0], [1, 0], [1, 0], [0, 1], [1, 0], [0, 1], [1, 0], [1, 0], [1, 0], [1, 0], [1, 0], [0, 1], [0, 1], [1, 0], [1, 0], [1, 0], [1, 0], [1, 0], [1, 0], [1, 0], [1, 0], [1, 1], [1, 0], [1, 0], [1, 0], [0, 1], [1, 0], [0, 1], [1, 0], [1, 1], [1, 0], [1, 0], [1, 1], [1, 1], [1, 1], [1, 0], [1, 0], [1, 1], [1, 1], [1, 0], [1, 0], [1, 0], [0, 1], [1, 0], [1, 0], [1, 0], [1, 0], [1, 0], [1, 0], [1, 0], [1, 0], [1, 0], [1, 1], [1, 0], [1, 0], [1, 0], [0, 1], [1, 0], [1, 0], [1, 0], [1, 0], [1, 0], [1, 0], [1, 0], [1, 0], [1, 0], [1, 0], [1, 0], [1, 0], [1, 0], [1, 0], [0, 1], [1, 0], [1, 0], [0, 1], [1, 0], [1, 1], [1, 0], [1, 0], [1, 0], [1, 0], [0, 1], [1, 0], [1, 0], [1, 0], [1, 0], [1, 0], [1, 0], [1, 0], [1, 1], [1, 0], [1, 0], [1, 0], [1, 0], [1, 0], [1, 0], [1, 0], [1, 0], [1, 0], [1, 1], [1, 0], [1, 1], [1, 0], [1, 1], [1, 0], [1, 0], [1, 0], [1, 0], [1, 0], [1, 0], [1, 0], [0, 1], [1, 0], [1, 0], [1, 0], [1, 0], [1, 0], [1, 0], [1, 1], [1, 0], [1, 1], [1, 0], [0, 1], [1, 0], [1, 0], [1, 0], [0, 1], [1, 0], [1, 0], [1, 0], [1, 0], [1, 1], [1, 0], [1, 0], [1, 0], [1, 0], [1, 0], [1, 0], [1, 0], [1, 0], [1, 0], [0, 1], [1, 0], [1, 0], [0, 1], [1, 0], [1, 0], [1, 1], [0, 1], [1, 0], [1, 0], [1, 1], [1, 0], [1, 0], [1, 0], [1, 1], [1, 0], [1, 0], [1, 0], [1, 1], [1, 0], [1, 0], [1, 0], [1, 0], [1, 0], [1, 0], [1, 0], [1, 0], [1, 0], [1, 0], [1, 0], [1, 0], [0, 1], [1, 0], [1, 0], [1, 0], [1, 0], [1, 0], [1, 0], [1, 0], [0, 1], [1, 0], [0, 1], [1, 0], [1, 1], [1, 0], [1, 0], [0, 1], [1, 0], [1, 0], [1, 0], [0, 1], [1, 0], [1, 0], [1, 0], [1, 0], [1, 0], [1, 0], [1, 0], [0, 1], [1, 0], [1, 0], [0, 1], [1, 0], [1, 0], [1, 0], [1, 0], [1, 0], [1, 0], [1, 0], [1, 1], [1, 0], [1, 0], [1, 0], [0, 1], [1, 0], [1, 0], [1, 0], [1, 0], [1, 0], [1, 0], [1, 0], [1, 0], [1, 0], [1, 0], [1, 0], [1, 0], [1, 0], [1, 0], [1, 0], [0, 1], [1, 0], [1, 1], [1, 0], [1, 0], [1, 0], [0, 1], [1, 0], [1, 0], [1, 0], [1, 1], [1, 0], [1, 0], [0, 1], [1, 0], [0, 1], [1, 0], [1, 0], [1, 0], [0, 1], [1, 0], [1, 0], [0, 1], [1, 0], [1, 0], [1, 0], [1, 0], [0, 1], [1, 0], [1, 0], [1, 1], [1, 0], [1, 0], [1, 0], [1, 0], [1, 0], [1, 0], [1, 0], [1, 0], [1, 0], [1, 0], [1, 0], [1, 0], [1, 0], [0, 1], [1, 0], [1, 0], [1, 0], [1, 0], [1, 0], [1, 0], [1, 0], [1, 0], [0, 1], [1, 1], [1, 0], [1, 0], [1, 0], [1, 0], [0, 1], [1, 0], [1, 0], [0, 1], [1, 1], [1, 0], [1, 0], [1, 0], [0, 1], [1, 0], [1, 0], [1, 0], [1, 1], [1, 0], [1, 0], [1, 0], [1, 0], [1, 0], [1, 0], [1, 0], [1, 0], [1, 0], [0, 1], [1, 1], [1, 0], [1, 0], [1, 0], [1, 0], [1, 0], [1, 0], [0, 1], [1, 0], [0, 1], [1, 1], [0, 1], [1, 0], [1, 0], [1, 0], [1, 0], [1, 0], [1, 0], [0, 1], [1, 0], [1, 0], [1, 0], [1, 0], [1, 0], [1, 0], [0, 1], [1, 0], [0, 1], [1, 1], [1, 0], [1, 0], [0, 1], [1, 0], [0, 1], [1, 0], [1, 0], [1, 0], [1, 0], [1, 0], [1, 0], [1, 1], [1, 0], [1, 0], [1, 0], [1, 0], [1, 1], [1, 1], [1, 0], [1, 0], [1, 0], [0, 1], [1, 0], [0, 1], [1, 0], [1, 0], [1, 0], [1, 0], [1, 1], [0, 1], [1, 0], [1, 0], [1, 0], [1, 0], [0, 1], [1, 0], [0, 1], [1, 0], [1, 0], [1, 0], [0, 1], [0, 1], [1, 0], [1, 0], [1, 0], [1, 0], [1, 0], [1, 0], [1, 0], [1, 0], [1, 1], [0, 1], [0, 1], [1, 0], [1, 1], [1, 0], [1, 0], [1, 0], [1, 0], [0, 1], [1, 0], [1, 0], [1, 0], [1, 0], [1, 0], [1, 1], [1, 0], [1, 0], [1, 0], [0, 1], [1, 0], [1, 0], [1, 0], [1, 0], [0, 1], [1, 0], [1, 1], [1, 0], [1, 0], [1, 0], [1, 0], [1, 1], [1, 0], [1, 0], [1, 0], [1, 0], [1, 0], [1, 0], [1, 0], [1, 0], [1, 0], [1, 0], [1, 0], [1, 0], [1, 1], [0, 1], [1, 0], [1, 0], [1, 0], [1, 0], [1, 1], [1, 0], [1, 0], [1, 0], [1, 0], [1, 0], [0, 1], [1, 1], [1, 0], [1, 0], [1, 1], [1, 0], [1, 0], [1, 0], [0, 1], [1, 0], [1, 0], [0, 1], [1, 1], [1, 0], [1, 0], [1, 0], [1, 0], [1, 0], [1, 0], [0, 1], [1, 0], [1, 0], [1, 0], [1, 0], [1, 0], [1, 0], [1, 0], [1, 0], [0, 1], [1, 0], [1, 1], [1, 0], [0, 1], [1, 0], [1, 0], [1, 0], [1, 0], [1, 0], [0, 1], [1, 0], [1, 0], [1, 0], [1, 0], [1, 0], [1, 0], [1, 0], [1, 0], [1, 0], [1, 0], [1, 0], [0, 1], [1, 0], [1, 0], [0, 1], [1, 0], [1, 0], [1, 0], [1, 0], [1, 0], [1, 0], [1, 0], [1, 0], [1, 0], [1, 0], [1, 0], [1, 0], [0, 1], [0, 1], [1, 0], [1, 0], [1, 0], [1, 0], [1, 0], [1, 0], [0, 1], [0, 1], [1, 0], [1, 1], [1, 0], [1, 0], [1, 0], [1, 0], [1, 0], [1, 0], [1, 0], [1, 0], [1, 0], [1, 0], [1, 1], [1, 0], [1, 0], [0, 1], [1, 0], [1, 0], [1, 0], [0, 1], [1, 0], [1, 1], [1, 0], [1, 0], [0, 1], [1, 0], [1, 0], [0, 1], [1, 0], [1, 0], [1, 0], [0, 1], [0, 1], [1, 0], [1, 0], [1, 1], [1, 0], [1, 0], [1, 0], [1, 0], [0, 1], [0, 1], [1, 0], [1, 0], [1, 0], [1, 0], [0, 1], [1, 0], [1, 0], [1, 0], [0, 1], [1, 0], [1, 0], [1, 0], [1, 1], [1, 0], [1, 0], [1, 0], [1, 0], [1, 0], [1, 0], [1, 0], [1, 0], [1, 0], [1, 1], [1, 0], [1, 0], [1, 0], [1, 1], [1, 0], [1, 0], [1, 0], [1, 0], [1, 0], [1, 0], [1, 0], [1, 0], [1, 0], [1, 0], [1, 0], [1, 0], [1, 0], [1, 0], [1, 0], [1, 0], [1, 0], [0, 1], [1, 1], [1, 0], [0, 1], [1, 0], [1, 0], [1, 0], [0, 1], [1, 1], [1, 1], [1, 0], [1, 0], [1, 0], [1, 0], [1, 0], [1, 0], [1, 0], [1, 0], [1, 0], [1, 0], [1, 0], [1, 0], [0, 1], [1, 0], [1, 0], [1, 1], [1, 0], [1, 0], [1, 0], [1, 0], [1, 0], [1, 1], [1, 0], [1, 1], [1, 0], [1, 0], [1, 1], [0, 1], [1, 0], [1, 0], [1, 0], [1, 1], [1, 0], [1, 0], [1, 0], [1, 0], [1, 0], [1, 0], [1, 0], [1, 1], [1, 0], [1, 0], [1, 0], [1, 0], [1, 0], [1, 0], [0, 1], [1, 0], [1, 0], [1, 0], [1, 1], [1, 0], [1, 0], [1, 0], [1, 0], [0, 1], [0, 1], [1, 1], [1, 0], [1, 0], [1, 0], [1, 0], [1, 0], [1, 0], [1, 0], [0, 1], [1, 0], [1, 0], [1, 1], [1, 1], [1, 0], [1, 0], [0, 1], [1, 0], [1, 0], [1, 0], [1, 0], [1, 0], [1, 1], [1, 0], [1, 0], [1, 0], [1, 0], [1, 0], [1, 1], [0, 1], [1, 0], [1, 0], [1, 0], [1, 0], [1, 1], [0, 1], [0, 1], [1, 0], [0, 1], [1, 0], [1, 0], [1, 0], [1, 1], [0, 1], [1, 1], [1, 0], [1, 0], [1, 0], [0, 1], [1, 0], [1, 0], [1, 0], [1, 1], [0, 1], [1, 1], [0, 1], [0, 1], [1, 0], [1, 0], [1, 1], [0, 1], [1, 0], [1, 0], [1, 0], [1, 0], [1, 1], [1, 0], [1, 0], [1, 1], [1, 0], [1, 0], [1, 0], [1, 0], [1, 0], [1, 0], [0, 1], [1, 0], [1, 0], [1, 0], [1, 0], [1, 0], [0, 1], [1, 1], [1, 0], [1, 1], [1, 1], [1, 0], [1, 0], [1, 0], [0, 1], [1, 0], [1, 0], [1, 1], [1, 0], [1, 0], [1, 0], [1, 0], [0, 1], [1, 0], [1, 0], [1, 1], [1, 0], [1, 0], [1, 0], [0, 1], [1, 0], [1, 1], [1, 0], [1, 0], [1, 0], [1, 0], [1, 0], [1, 0], [1, 0], [1, 0], [1, 1], [1, 0], [1, 0], [1, 0], [1, 0], [1, 0], [1, 0], [0, 1], [1, 1], [1, 0], [1, 0], [1, 0], [0, 1], [1, 0], [1, 0], [0, 1], [1, 0], [1, 0], [1, 0], [1, 0], [1, 0], [1, 1], [1, 0], [1, 0], [1, 0], [1, 0], [1, 0], [1, 0], [1, 0], [1, 0], [1, 0], [1, 0], [1, 0], [1, 0], [1, 0], [1, 0], [1, 1], [0, 1], [1, 0], [1, 0], [1, 1], [1, 0], [1, 0], [1, 0], [1, 0], [1, 0], [1, 1], [1, 1], [1, 0], [1, 0], [1, 0], [1, 0], [1, 0], [1, 0], [1, 0], [1, 0], [1, 0], [1, 0], [1, 0], [0, 1], [1, 0], [1, 0], [1, 1], [1, 0], [1, 0], [0, 1], [1, 0], [1, 0], [1, 0], [1, 0], [1, 0], [1, 0], [1, 0], [1, 0], [1, 0], [1, 0], [1, 0], [1, 0], [1, 0], [1, 0], [1, 0], [1, 0], [1, 0], [1, 0], [1, 0], [0, 1], [1, 1], [1, 0], [1, 0], [1, 0], [1, 0], [1, 0], [1, 0], [1, 0], [1, 0], [1, 0], [1, 0], [1, 0], [1, 0], [1, 0], [0, 1], [1, 0], [1, 0], [1, 0], [1, 1], [1, 0], [1, 0], [1, 1], [1, 0], [1, 0], [1, 0], [1, 0], [1, 0], [1, 1], [0, 1], [1, 0], [0, 1], [0, 1], [1, 0], [1, 0], [1, 0], [0, 1], [1, 0], [0, 1], [1, 0], [0, 1], [1, 0], [1, 0], [1, 0], [1, 0], [1, 0], [1, 0], [1, 0], [1, 0], [1, 0], [0, 1], [1, 0], [1, 0], [1, 0], [1, 0], [1, 0], [1, 0], [1, 0], [1, 0], [1, 0], [1, 0], [1, 0], [1, 0], [1, 0], [1, 0], [1, 0], [1, 0], [1, 0], [1, 1], [1, 0], [0, 1], [1, 0], [1, 0], [1, 0], [1, 0], [1, 1], [1, 1], [0, 1], [1, 0], [1, 0], [1, 0], [1, 0], [1, 1], [1, 0], [1, 0], [1, 0], [0, 1], [1, 0], [1, 1], [1, 0], [1, 0], [1, 0], [1, 0], [1, 0], [1, 0], [1, 0], [1, 0], [1, 0], [1, 0], [1, 0], [1, 0], [1, 0], [0, 1], [1, 0], [0, 1], [1, 0], [1, 0], [0, 1], [1, 1], [1, 0], [1, 0], [1, 0], [1, 0], [0, 1], [1, 0], [1, 1], [1, 0], [1, 0], [1, 0], [1, 0], [0, 1], [1, 0], [1, 0], [1, 0], [1, 0], [1, 0], [1, 1], [1, 0], [1, 1], [1, 0], [0, 1], [1, 0], [1, 0], [1, 0], [1, 0], [1, 0], [1, 0], [1, 0], [0, 1], [1, 0], [1, 0], [1, 0], [1, 0], [1, 0], [1, 0], [0, 1], [1, 0], [1, 0], [1, 0], [0, 1], [1, 0], [1, 0], [1, 1], [1, 0], [1, 0], [1, 0], [1, 0], [1, 0], [1, 0], [1, 0], [1, 0], [1, 0], [1, 0], [0, 1], [1, 0], [0, 1], [1, 0], [1, 0], [1, 0], [1, 1], [0, 1], [1, 0], [1, 0], [1, 0], [1, 0], [1, 0], [1, 0], [0, 1], [0, 1], [1, 0], [1, 0], [1, 0], [1, 0], [0, 1], [1, 0], [1, 1], [1, 0], [1, 0], [1, 0], [1, 0], [1, 0], [1, 0], [1, 0], [1, 0], [1, 1], [1, 0], [1, 0], [1, 0], [1, 0], [1, 0], [1, 0], [1, 0], [1, 0], [1, 0], [1, 0], [1, 0], [1, 0], [1, 0], [1, 0], [0, 1], [0, 1], [1, 0], [1, 0], [1, 0], [0, 1], [0, 1], [1, 0], [1, 0], [1, 0], [1, 0], [1, 0], [1, 0], [1, 1], [1, 0], [1, 0], [1, 0], [1, 0], [0, 1], [1, 0], [0, 1], [1, 0], [1, 0], [0, 1], [1, 0], [1, 0], [1, 1], [1, 0], [1, 1], [1, 0], [1, 0], [0, 1], [1, 0], [1, 0], [1, 0], [1, 0], [1, 0], [1, 0], [1, 0], [1, 0], [1, 0], [1, 0], [1, 0], [1, 0], [1, 0], [1, 0], [1, 0], [1, 0], [1, 0], [1, 0], [1, 0], [1, 0], [1, 0], [1, 0], [0, 1], [1, 0], [1, 0], [1, 0], [0, 1], [1, 0], [1, 0], [0, 1], [0, 1], [1, 0], [1, 0], [1, 0], [1, 0], [0, 1], [1, 0], [1, 0], [1, 0], [1, 0], [1, 0], [1, 0], [1, 1], [1, 0], [1, 0], [1, 0], [1, 0], [1, 0], [1, 0], [0, 1], [1, 0], [0, 1], [1, 1], [0, 1], [1, 0], [1, 0], [0, 1], [1, 0], [1, 0], [1, 0], [1, 0], [1, 0], [1, 0], [1, 0], [0, 1], [1, 1], [0, 1], [1, 0], [1, 0], [1, 0], [1, 0], [1, 1], [1, 0], [1, 0], [1, 0], [1, 0], [1, 0], [1, 0], [1, 0], [0, 1], [1, 0], [0, 1], [1, 0], [1, 0], [1, 0], [1, 0], [1, 0], [1, 0], [1, 0], [1, 0], [1, 0], [1, 0], [1, 0], [1, 1], [1, 0], [1, 0], [1, 0], [1, 0], [1, 0], [1, 0], [1, 0], [1, 0], [1, 0], [1, 0], [1, 0], [1, 0], [1, 0], [1, 1], [1, 0], [1, 0], [0, 1], [1, 0], [1, 1], [1, 0], [1, 0], [1, 0], [1, 0], [1, 0], [1, 0], [1, 1], [1, 1], [1, 0], [1, 0], [0, 1], [1, 0], [1, 0], [1, 0], [1, 0], [1, 0], [1, 1], [1, 0], [1, 0], [0, 1], [1, 0], [1, 0], [1, 0], [1, 0], [1, 0], [1, 0], [1, 0], [1, 1], [1, 0], [1, 0], [1, 0], [1, 0], [1, 0], [1, 1], [1, 0], [1, 0], [1, 1], [1, 0], [0, 1], [1, 0], [1, 0], [1, 1], [1, 0], [1, 0], [1, 0], [1, 0], [1, 0], [1, 0], [1, 0], [1, 0], [0, 1], [1, 0], [1, 0], [1, 0], [1, 0], [1, 0], [0, 1], [0, 1], [1, 0], [1, 0], [1, 0], [1, 0], [1, 1], [1, 0], [1, 0], [1, 0], [1, 0], [0, 1], [1, 0], [1, 0], [1, 0], [1, 0], [0, 1], [0, 1], [1, 0], [1, 0], [0, 1], [1, 0], [1, 0], [1, 0], [1, 0], [1, 0], [1, 0], [1, 0], [1, 0], [1, 0], [1, 0], [1, 0], [1, 0], [1, 0], [1, 0], [1, 1], [1, 1], [1, 0], [1, 1], [1, 0], [1, 0], [1, 0], [1, 0], [1, 1], [1, 0], [1, 0], [1, 0], [1, 0], [0, 1], [1, 0], [0, 1], [1, 0], [1, 0], [1, 0], [1, 0], [1, 0], [0, 1], [1, 0], [0, 1], [1, 0], [1, 0], [1, 0], [1, 0], [1, 0], [1, 0], [1, 0], [1, 0], [1, 0], [1, 0], [0, 1], [0, 1], [1, 0], [1, 0], [1, 0], [0, 1], [1, 0], [1, 0], [1, 0], [1, 0], [1, 0], [1, 0], [1, 0], [1, 0], [1, 0], [1, 0], [1, 1], [1, 0], [1, 0], [1, 0], [1, 0], [1, 0], [1, 0], [0, 1], [1, 0], [1, 1], [1, 0], [1, 0], [1, 0], [1, 0], [1, 0], [1, 0], [1, 0], [1, 0], [0, 1], [1, 1], [1, 0], [1, 0], [1, 0], [0, 1], [1, 0], [0, 1], [1, 0], [1, 0], [1, 0], [1, 0], [0, 1], [1, 0], [1, 0], [1, 0], [1, 1], [1, 0], [0, 1], [1, 0], [1, 0], [1, 0], [1, 1], [1, 0], [1, 0], [0, 1], [1, 0], [0, 1], [1, 0], [1, 0], [1, 0], [1, 1], [1, 1], [1, 0], [1, 1], [1, 0], [1, 1], [1, 0], [1, 0], [1, 0], [0, 1], [1, 0], [1, 0], [1, 0], [1, 0], [1, 0], [1, 0], [1, 0], [1, 0], [1, 0], [1, 0], [1, 0], [1, 0], [1, 0], [1, 0], [1, 1], [1, 0], [1, 0], [1, 0], [1, 0], [1, 0], [1, 0], [1, 0], [1, 1], [1, 0], [1, 0], [1, 1], [1, 0], [1, 1], [1, 0], [1, 1], [1, 0], [1, 0], [1, 0], [1, 0], [1, 0], [1, 0], [1, 0], [0, 1], [1, 0], [1, 0], [1, 0], [1, 0], [1, 0], [1, 0], [1, 0], [1, 0], [1, 0], [1, 0], [1, 0], [1, 0], [1, 0], [1, 0], [1, 1], [1, 0], [1, 0], [1, 0], [1, 0], [1, 1], [1, 0], [1, 0], [1, 0], [1, 0], [1, 0], [1, 0], [1, 0], [1, 1], [1, 1], [1, 0], [1, 0], [1, 0], [1, 0], [1, 0], [1, 0], [1, 0], [1, 0], [1, 0], [1, 0], [1, 0], [1, 0], [1, 1], [1, 0], [1, 0], [1, 0], [1, 1], [1, 0], [0, 1], [0, 1], [1, 0], [1, 0], [1, 1], [1, 0], [0, 1], [1, 1], [1, 0], [1, 0], [0, 1], [1, 1], [1, 0], [1, 0], [1, 0], [1, 0], [0, 1], [1, 0], [1, 0], [0, 1], [1, 0], [1, 0], [1, 1], [1, 1], [1, 0], [1, 0], [1, 0], [1, 0], [1, 0], [1, 1], [1, 0], [1, 0], [1, 0], [1, 0], [1, 0], [1, 0], [1, 0], [1, 0], [1, 1], [0, 1], [1, 0], [1, 0], [1, 0], [1, 0], [1, 0], [1, 0], [1, 0], [1, 0], [1, 0], [1, 0], [1, 0], [1, 0], [1, 0], [1, 1], [1, 0], [0, 1], [1, 0], [1, 0], [1, 0], [1, 0], [0, 1], [1, 0], [1, 0], [1, 0], [1, 0], [1, 0], [1, 0], [1, 0], [1, 0], [1, 0], [1, 0], [1, 0], [1, 0], [1, 0], [1, 1], [1, 1], [1, 1], [1, 0], [1, 0], [0, 1], [1, 0], [0, 1], [1, 0], [1, 0], [1, 0], [0, 1], [0, 1], [1, 0], [1, 1], [1, 0], [1, 0], [1, 0], [0, 1], [1, 0], [1, 0], [1, 0], [1, 0], [1, 0], [1, 0], [1, 0], [1, 0], [1, 0], [0, 1], [1, 0], [1, 0], [1, 0], [1, 0], [1, 0], [1, 1], [1, 0], [0, 1], [1, 0], [1, 1], [1, 0], [0, 1], [1, 0], [1, 0], [1, 1], [0, 1], [1, 0], [1, 0], [0, 1], [1, 0], [1, 0], [1, 0], [0, 1], [0, 1], [1, 0], [1, 0], [1, 0], [1, 0], [1, 0], [1, 0], [1, 0], [0, 1], [1, 0], [1, 0], [1, 0], [1, 0], [1, 0], [1, 0], [1, 0], [1, 0], [1, 0], [1, 0], [1, 0], [0, 1], [1, 0], [1, 0], [1, 1], [1, 0], [0, 1], [1, 0], [1, 0], [1, 1], [1, 0], [1, 1], [1, 0], [1, 0], [1, 0], [1, 0], [1, 0], [0, 1], [1, 1], [1, 1], [0, 1], [1, 0], [1, 0], [1, 0], [1, 0], [0, 1], [1, 0], [1, 0], [1, 0], [1, 0], [1, 0], [1, 0], [1, 0], [0, 1], [0, 1], [1, 0], [1, 0], [1, 0], [1, 0], [0, 1], [0, 1], [1, 0], [1, 0], [1, 0], [1, 1], [1, 0], [1, 0], [0, 1], [1, 0], [1, 0], [1, 0], [1, 0], [1, 1], [1, 0], [1, 0], [1, 0], [0, 1], [0, 1], [1, 0], [1, 0], [0, 1], [1, 0], [1, 0], [0, 1], [1, 0], [1, 0], [1, 0], [1, 0], [1, 0], [1, 0], [1, 0], [1, 0], [1, 0], [1, 1], [1, 0], [1, 0], [1, 0], [1, 1], [1, 1], [1, 0], [1, 0], [1, 0], [1, 0], [1, 0], [0, 1], [1, 0], [1, 0], [1, 0], [1, 0], [1, 0], [1, 1], [1, 0], [1, 0], [1, 0], [1, 0], [1, 1], [1, 0], [0, 1], [1, 0], [1, 0], [1, 0], [0, 1], [1, 1], [1, 0], [1, 0], [1, 1], [0, 1], [1, 0], [1, 0], [1, 0], [1, 0], [1, 0], [1, 0], [1, 0], [1, 0], [1, 0], [0, 1], [1, 0], [1, 0], [1, 0], [1, 0], [1, 0], [1, 0], [1, 0], [1, 0], [1, 0], [1, 0], [1, 0], [1, 0], [1, 0], [0, 1], [1, 0], [1, 1], [1, 0], [1, 0], [1, 0], [1, 0], [1, 0], [0, 1], [1, 0], [1, 0], [1, 0], [1, 0], [1, 0], [1, 0], [1, 0], [1, 1], [0, 1], [1, 0], [1, 1], [1, 0], [0, 1], [1, 0], [1, 0], [1, 0], [1, 0], [1, 0], [1, 0], [1, 0], [0, 1], [0, 1], [1, 0], [1, 0], [0, 1], [0, 1], [1, 0], [1, 0], [1, 0], [1, 0], [1, 0], [1, 0], [1, 0], [1, 0], [0, 1], [1, 0], [1, 0], [1, 0], [1, 0], [1, 0], [1, 0], [0, 1], [1, 0], [1, 0], [1, 0], [1, 0], [1, 1], [1, 0], [1, 0], [0, 1], [1, 0], [1, 0], [1, 0], [1, 0], [1, 1], [1, 0], [1, 0], [1, 0], [1, 0], [0, 1], [1, 0], [1, 0], [1, 0], [1, 0], [1, 0], [1, 0], [1, 0], [1, 0], [0, 1], [1, 0], [1, 0], [1, 0], [1, 0], [1, 0], [1, 0], [1, 1], [1, 0], [1, 0], [1, 0], [1, 0], [1, 0], [1, 0], [1, 1], [1, 0], [1, 0], [1, 0], [1, 1], [0, 1], [1, 0], [1, 1], [1, 0], [0, 1], [1, 0], [1, 0], [1, 0], [1, 0], [1, 0], [0, 1], [1, 0], [1, 0], [0, 1], [0, 1], [1, 0], [1, 1], [1, 0], [1, 0], [1, 0], [0, 1], [1, 0], [1, 0], [1, 0], [0, 1], [1, 0], [1, 0], [1, 0], [1, 0], [1, 0], [1, 0], [1, 0], [1, 0], [1, 0], [1, 0], [1, 0], [1, 0], [1, 0], [1, 0], [1, 1], [1, 0], [1, 1], [1, 0], [0, 1], [1, 0], [1, 0], [1, 0], [1, 0], [1, 0], [1, 0], [1, 0], [1, 0], [1, 0], [1, 0], [1, 0], [0, 1], [1, 0], [0, 1], [1, 0], [1, 0], [1, 1], [1, 0], [1, 1], [1, 0], [1, 0], [1, 0], [1, 0], [1, 0], [0, 1], [1, 0], [1, 0], [1, 0], [1, 0], [1, 0], [1, 0], [1, 0], [1, 0], [1, 0], [1, 0], [1, 0], [1, 0], [1, 0], [1, 0], [1, 0], [1, 0], [1, 0], [1, 0], [1, 0], [1, 0], [1, 1], [1, 0], [1, 1], [1, 1], [1, 0], [1, 0], [0, 1], [1, 0], [1, 0], [1, 0], [1, 0], [1, 0], [1, 0], [1, 1], [1, 0], [0, 1], [1, 0], [1, 0], [0, 1], [1, 0], [1, 0], [1, 0], [1, 0], [1, 0], [1, 0], [0, 1], [1, 0], [1, 0], [1, 0], [1, 0], [1, 0], [1, 0], [1, 0], [1, 1], [1, 0], [1, 0], [1, 0], [1, 0], [1, 0], [1, 0], [1, 0], [1, 0], [1, 0], [1, 0], [1, 0], [1, 0], [1, 0], [0, 1], [1, 0], [1, 0], [1, 0], [1, 0], [1, 0], [1, 0], [1, 1], [1, 1], [0, 1], [1, 0], [1, 0], [1, 0], [1, 1], [1, 0], [1, 0], [1, 0], [1, 0], [1, 0], [1, 0], [1, 0], [1, 0], [1, 1], [1, 0], [0, 1], [1, 1], [1, 0], [1, 0], [1, 0], [1, 0], [1, 0], [1, 0], [1, 0], [1, 0], [1, 0], [1, 0], [1, 0], [1, 0], [1, 0], [0, 1], [0, 1], [1, 0], [1, 0], [1, 0], [0, 1], [1, 0], [1, 0], [1, 0], [1, 0], [1, 0], [1, 0], [1, 0], [1, 0], [1, 1], [1, 0], [1, 0], [1, 0], [1, 0], [1, 0], [1, 0], [1, 0], [1, 0], [1, 0], [1, 1], [1, 0], [1, 0], [1, 0], [1, 0], [1, 0], [0, 1], [1, 0], [1, 0], [1, 0], [1, 0], [1, 0], [1, 0], [0, 1], [1, 0], [1, 0], [1, 0], [1, 0], [1, 0], [0, 1], [1, 1], [1, 1], [1, 0], [1, 1], [1, 0], [1, 0], [1, 0], [1, 0], [1, 1], [1, 0], [1, 0], [1, 0], [1, 0], [1, 0], [1, 0], [0, 1], [1, 0], [0, 1], [1, 0], [1, 1], [0, 1], [1, 1], [1, 1], [1, 0], [1, 0], [1, 0], [1, 0], [1, 0], [1, 0], [1, 0], [1, 1], [1, 0], [1, 0], [1, 0], [1, 0], [1, 0], [1, 0], [1, 0], [1, 1], [0, 1], [1, 0], [1, 0], [1, 0], [1, 0], [1, 0], [1, 0], [1, 0], [1, 0], [1, 0], [1, 0], [1, 0], [1, 0], [1, 0], [1, 0], [1, 0], [1, 0], [1, 0], [1, 0], [1, 0], [1, 0], [0, 1], [0, 1], [0, 1], [1, 0], [1, 0], [1, 0], [1, 0], [1, 0], [1, 0], [1, 0], [1, 0], [1, 0], [1, 0], [1, 0], [1, 1], [1, 0], [1, 0], [0, 1], [0, 1], [1, 0], [0, 1], [1, 1], [1, 0], [1, 0], [1, 0], [1, 0], [1, 1], [1, 0], [1, 0], [1, 0], [1, 0], [1, 1], [1, 0], [1, 0], [1, 0], [1, 0], [1, 0], [1, 0], [1, 0], [1, 0], [0, 1], [1, 0], [1, 1], [1, 0], [1, 0], [1, 1], [1, 0], [1, 1], [1, 0], [1, 0], [1, 0], [0, 1], [1, 0], [1, 0], [1, 0], [1, 1], [1, 1], [1, 0], [1, 0], [0, 1], [1, 0], [1, 0], [1, 0], [1, 0], [0, 1], [1, 0], [1, 0], [1, 0], [1, 0], [1, 1], [1, 0], [1, 0], [1, 0], [0, 1], [1, 0], [1, 0], [1, 0], [1, 1], [1, 0], [1, 0], [1, 0], [1, 0], [1, 1], [1, 0], [0, 1], [0, 1], [1, 0], [0, 1], [1, 0], [1, 0], [1, 0], [1, 0], [0, 1], [1, 0], [1, 0], [1, 0], [1, 0], [1, 1], [1, 0], [0, 1], [1, 0], [1, 0], [1, 0], [1, 0], [1, 0], [1, 0], [1, 1], [1, 1], [1, 0], [1, 0], [1, 0], [0, 1], [1, 0], [0, 1], [1, 0], [1, 0], [1, 0], [1, 0], [1, 0], [0, 1], [0, 1], [1, 1], [1, 0], [1, 1], [1, 0], [1, 0], [1, 0], [1, 0], [1, 1], [1, 0], [1, 0], [1, 0], [1, 0], [1, 0], [1, 0], [1, 1], [1, 0], [1, 0], [1, 0], [1, 0], [1, 0], [1, 0], [1, 0], [1, 0], [0, 1], [1, 0], [0, 1], [1, 0], [1, 1], [1, 0], [1, 0], [1, 0], [1, 0], [1, 0], [1, 0], [0, 1], [0, 1], [0, 1], [1, 0], [1, 0], [1, 0], [1, 0], [1, 0], [1, 0], [1, 0], [1, 0], [1, 0], [1, 0], [0, 1], [1, 0], [1, 1], [1, 0], [1, 0], [1, 0], [1, 1], [1, 0], [1, 0], [1, 0], [1, 0], [0, 1], [1, 1], [0, 1], [1, 1], [1, 0], [1, 1], [1, 0], [1, 0], [1, 0], [1, 0], [1, 0], [1, 1], [0, 1], [1, 0], [0, 1], [1, 0], [1, 1], [1, 1], [1, 0], [1, 0], [1, 0], [0, 1], [1, 0], [1, 0], [1, 0], [1, 0], [0, 1], [1, 0], [1, 0], [1, 0], [1, 0], [1, 0], [1, 0], [1, 1], [1, 0], [1, 0], [1, 0], [1, 0], [1, 0], [1, 0], [1, 1], [1, 0], [1, 1], [1, 0], [1, 0], [1, 0], [1, 0], [1, 0], [1, 0], [1, 0], [1, 0], [1, 0], [1, 1], [1, 0], [1, 0], [1, 0], [0, 1], [1, 0], [1, 0], [1, 0], [1, 1], [1, 0], [1, 0], [1, 0], [1, 0], [0, 1], [1, 0], [0, 1], [1, 0], [1, 0], [1, 0], [1, 0], [1, 0], [1, 0], [0, 1], [1, 0], [1, 0], [1, 0], [1, 0], [1, 0], [1, 1], [1, 0], [1, 1], [0, 1], [1, 0], [1, 0], [1, 0], [1, 0], [1, 0], [1, 0], [1, 0], [1, 0], [0, 1], [1, 0], [1, 0], [1, 0], [1, 0], [1, 0], [1, 0], [1, 0], [1, 0], [0, 1], [1, 0], [0, 1], [1, 0], [1, 0], [1, 1], [1, 0], [1, 0], [1, 0], [1, 0], [1, 0], [1, 0], [1, 0], [1, 0], [1, 1], [1, 0], [1, 0], [1, 1], [1, 0], [1, 0], [1, 0], [0, 1], [1, 0], [0, 1], [1, 0], [1, 0], [1, 0], [1, 1], [1, 0], [0, 1], [0, 1], [1, 0], [1, 0], [1, 0], [1, 0], [1, 0], [0, 1], [1, 0], [1, 0], [0, 1], [1, 0], [1, 0], [1, 0], [1, 0], [1, 0], [1, 0], [1, 0], [1, 0], [1, 1], [1, 0], [0, 1], [1, 0], [1, 0], [1, 0], [0, 1], [1, 0], [1, 0], [1, 0], [1, 1], [1, 0], [1, 0], [1, 0], [1, 0], [1, 0], [0, 1], [1, 0], [1, 0], [1, 0], [1, 0], [1, 0], [0, 1], [1, 1], [1, 0], [1, 1], [1, 0], [1, 0], [1, 0], [1, 1], [1, 0], [1, 1], [1, 0], [1, 0], [1, 0], [1, 0], [1, 0], [1, 0], [0, 1], [1, 0], [1, 0], [1, 0], [1, 0], [1, 1], [1, 0], [1, 0], [1, 0], [1, 0], [0, 1], [1, 0], [1, 1], [1, 0], [1, 0], [1, 0], [0, 1], [0, 1], [1, 0], [0, 1], [1, 0], [1, 1], [1, 0], [1, 0], [1, 0], [0, 1], [1, 0], [1, 0], [1, 0], [0, 1], [1, 0], [1, 0], [1, 1], [0, 1], [1, 0], [1, 0], [1, 0], [1, 0], [1, 0], [1, 0], [1, 0], [1, 0], [1, 0], [1, 0], [0, 1], [1, 0], [0, 1], [1, 0], [1, 0], [1, 0], [0, 1], [1, 0], [1, 0], [1, 0], [1, 0], [1, 0], [1, 0], [1, 0], [0, 1], [1, 1], [0, 1], [1, 0], [1, 0], [1, 0], [1, 0], [0, 1], [1, 0], [1, 0], [0, 1], [1, 1], [1, 0], [1, 0], [1, 0], [1, 0], [1, 0], [0, 1], [1, 1], [1, 0], [1, 0], [1, 0], [1, 0], [1, 0], [1, 0], [1, 0], [1, 0], [1, 0], [1, 0], [0, 1], [1, 0], [1, 0], [1, 0], [1, 0], [1, 1], [1, 0], [1, 0], [1, 0], [1, 0], [1, 0], [0, 1], [1, 0], [1, 0], [1, 0], [0, 1], [1, 0], [1, 0], [1, 0], [1, 0], [1, 0], [1, 0], [1, 0], [1, 0], [1, 0], [0, 1], [1, 0], [0, 1], [0, 1], [1, 0], [0, 1], [1, 0], [1, 0], [1, 0], [0, 1], [1, 0], [1, 0], [1, 0], [1, 0], [1, 0], [1, 1], [1, 0], [0, 1], [1, 0], [1, 0], [1, 0], [1, 0], [1, 1], [1, 0], [1, 0], [1, 0], [1, 0], [1, 0], [1, 0], [1, 0], [1, 0], [1, 0], [0, 1], [0, 1], [1, 0], [1, 0], [1, 0], [1, 0], [1, 0], [1, 0], [0, 1], [1, 0], [1, 0], [1, 0], [1, 0], [1, 0], [1, 0], [1, 0], [1, 0], [1, 0], [1, 0], [1, 0], [0, 1], [1, 0], [1, 0], [1, 1], [1, 0], [1, 0], [1, 0], [1, 1], [1, 0], [1, 0], [1, 0], [1, 0], [1, 1], [1, 0], [1, 0], [1, 0], [1, 1], [1, 0], [1, 0], [0, 1], [1, 0], [1, 1], [1, 0], [1, 0], [1, 0], [1, 0], [0, 1], [1, 0], [1, 1], [1, 0], [1, 0], [1, 0], [1, 0], [1, 0], [1, 0], [1, 0], [1, 0], [1, 0], [1, 1], [1, 0], [1, 0], [1, 0], [0, 1], [1, 0], [1, 0], [1, 0], [0, 1], [1, 0], [1, 0], [1, 0], [1, 1], [1, 0], [1, 0], [0, 1], [1, 0], [1, 0], [1, 0], [1, 0], [1, 0], [1, 1], [1, 0], [1, 0], [1, 0], [1, 0], [0, 1], [1, 0], [1, 0], [0, 1], [1, 0], [1, 0], [1, 0], [1, 1], [1, 0], [1, 0], [0, 1], [1, 1], [1, 0], [1, 0], [1, 0], [1, 1], [1, 0], [1, 0], [0, 1], [1, 0], [1, 0], [1, 0], [0, 1], [1, 0], [1, 0], [1, 0], [1, 1], [1, 0], [1, 1], [0, 1], [1, 0], [1, 0], [1, 0], [1, 0], [1, 1], [1, 0], [1, 0], [1, 0], [0, 1], [1, 0], [0, 1], [1, 0], [1, 0], [1, 0], [1, 0], [1, 0], [1, 0], [1, 1], [0, 1], [1, 0], [1, 0], [1, 0], [0, 1], [1, 0], [1, 0], [1, 1], [1, 0], [1, 0], [0, 1], [1, 0], [1, 0], [1, 0], [1, 0], [0, 1], [1, 1], [1, 0], [1, 0], [1, 0], [1, 0], [0, 1], [0, 1], [1, 0], [1, 0], [1, 0], [0, 1], [1, 0], [1, 0], [1, 0], [1, 0], [0, 1], [1, 0], [1, 0], [1, 0], [1, 0], [0, 1], [1, 0], [1, 0], [1, 0], [1, 0], [1, 0], [1, 0], [1, 1], [1, 1], [1, 0], [1, 1], [1, 1], [1, 1], [1, 0], [1, 0], [1, 0], [1, 1], [0, 1], [1, 0], [1, 0], [1, 0], [1, 0], [1, 0], [1, 0], [1, 1], [1, 0], [1, 1], [1, 0], [1, 0], [1, 0], [1, 1], [1, 0], [1, 0], [1, 0], [1, 1], [1, 0], [1, 0], [1, 0], [0, 1], [1, 0], [1, 0], [1, 0], [1, 0], [1, 1], [0, 1], [1, 0], [1, 0], [1, 0], [1, 0], [0, 1], [1, 1], [1, 0], [1, 1], [0, 1], [1, 0], [1, 0], [1, 0], [0, 1], [1, 0], [1, 0], [1, 0], [1, 1], [1, 1], [1, 1], [1, 0], [1, 0], [1, 0], [1, 0], [1, 0], [0, 1], [1, 0], [1, 0], [1, 1], [1, 0], [1, 0], [1, 0], [0, 1], [1, 0], [0, 1], [1, 1], [1, 0], [1, 0], [1, 0], [1, 0], [1, 0], [1, 0], [0, 1], [1, 0], [0, 1], [1, 0], [1, 0], [1, 0], [1, 0], [1, 0], [1, 0], [1, 0], [0, 1], [1, 0], [1, 0], [1, 1], [1, 0], [1, 0], [1, 0], [1, 0], [1, 0], [1, 0], [1, 0], [0, 1], [1, 0], [1, 0], [1, 0], [1, 0], [1, 1], [1, 0], [1, 0], [1, 0], [1, 0], [1, 0], [0, 1], [1, 0], [1, 1], [1, 0], [1, 0], [1, 0], [1, 0], [0, 1], [1, 0], [1, 0], [1, 0], [1, 0], [1, 0], [1, 1], [1, 0], [1, 0], [1, 0], [1, 1], [0, 1], [1, 0], [0, 1], [1, 0], [1, 0], [1, 0], [1, 0], [1, 0], [1, 0], [1, 0], [1, 0], [1, 0], [1, 0], [1, 0], [0, 1], [1, 0], [1, 1], [1, 0], [1, 0], [1, 0], [1, 0], [1, 0], [1, 0], [1, 0], [1, 0], [1, 1], [1, 0], [1, 0], [1, 0], [1, 0], [1, 0], [1, 0], [1, 0], [1, 0], [1, 0], [1, 0], [1, 0], [0, 1], [1, 0], [1, 0], [1, 0], [0, 1], [0, 1], [1, 0], [1, 0], [1, 0], [1, 0], [1, 0], [1, 0], [1, 0], [1, 0], [0, 1], [1, 0], [1, 0], [1, 0], [0, 1], [1, 0], [1, 0], [1, 1], [0, 1], [1, 0], [0, 1], [1, 0], [1, 0], [1, 0], [1, 0], [1, 0], [1, 1], [0, 1], [0, 1], [1, 0], [1, 1], [1, 0], [1, 0], [1, 0], [1, 0], [0, 1], [1, 0], [1, 0], [1, 0], [1, 1], [1, 0], [1, 0], [1, 0], [1, 0], [1, 0], [0, 1], [1, 0], [1, 0], [1, 0], [1, 0], [1, 0], [1, 0], [1, 0], [1, 0], [1, 0], [1, 0], [1, 0], [1, 0], [1, 0], [1, 1], [1, 0], [1, 0], [1, 0], [1, 0], [1, 0], [0, 1], [1, 0], [1, 0], [0, 1], [1, 0], [1, 0], [1, 0], [1, 0], [1, 0], [1, 0], [0, 1], [1, 0], [1, 0], [1, 0], [1, 0], [1, 0], [1, 0], [1, 0], [1, 0], [1, 0], [0, 1], [1, 0], [1, 0], [1, 0], [1, 0], [1, 1], [1, 0], [1, 0], [1, 0], [1, 0], [1, 0], [1, 0], [1, 0], [1, 0], [1, 0], [1, 0], [1, 0], [1, 0], [1, 0], [1, 0], [1, 1], [1, 0], [1, 0], [1, 0], [1, 0], [1, 0], [1, 0], [0, 1], [1, 0], [1, 0], [1, 0], [1, 0], [0, 1], [0, 1], [1, 0], [1, 0], [1, 0], [0, 1], [1, 0], [0, 1], [0, 1], [1, 0], [1, 0], [1, 0], [1, 0], [1, 0], [1, 0], [1, 0], [1, 0], [0, 1], [0, 1], [0, 1], [1, 0], [1, 0], [0, 1], [1, 1], [1, 0], [1, 0], [1, 0], [1, 0], [1, 0], [0, 1], [1, 0], [0, 1], [1, 0], [1, 0], [1, 0], [1, 0], [0, 1], [1, 0], [0, 1], [1, 0], [1, 0], [1, 1], [1, 0], [1, 0], [1, 0], [1, 0], [1, 0], [1, 1], [1, 0], [1, 0], [0, 1], [1, 1], [1, 0], [1, 0], [1, 1], [1, 1], [1, 0], [1, 1], [1, 0], [1, 0], [1, 0], [1, 0], [0, 1], [1, 0], [1, 0], [1, 1], [1, 0], [1, 0], [1, 0], [1, 0], [1, 0], [1, 0], [1, 0], [1, 0], [1, 0], [1, 1], [0, 1], [1, 0], [1, 0], [1, 0], [0, 1], [1, 0], [1, 0], [1, 0], [1, 0], [1, 0], [0, 1], [1, 1], [1, 0], [0, 1], [1, 0], [1, 1], [1, 1], [1, 0], [1, 0], [1, 1], [1, 0], [1, 0], [1, 0], [1, 0], [1, 0], [1, 0], [1, 0], [1, 0], [1, 0], [1, 0], [1, 0], [1, 0], [1, 0], [1, 0], [1, 0], [1, 0], [1, 0], [1, 0], [1, 0], [1, 0], [1, 0], [1, 0], [1, 0], [1, 0], [1, 1], [0, 1], [1, 0], [1, 0], [1, 0], [1, 0], [1, 0], [0, 1], [1, 0], [1, 0], [0, 1], [1, 0], [1, 0], [1, 0], [1, 0], [1, 0], [0, 1], [1, 0], [1, 0], [1, 0], [1, 1], [1, 0], [1, 0], [0, 1], [1, 0], [1, 0], [1, 0], [1, 0], [1, 0], [1, 0], [0, 1], [1, 0], [1, 0], [1, 0], [1, 0], [1, 0], [1, 0], [0, 1], [0, 1], [1, 0], [1, 1], [1, 0], [1, 0], [1, 0], [1, 1], [0, 1], [1, 0], [1, 0], [1, 1], [1, 0], [1, 0], [1, 0], [1, 0], [1, 0], [1, 0], [1, 0], [1, 1], [0, 1], [0, 1], [1, 0], [0, 1], [1, 0], [0, 1], [1, 0], [1, 0], [1, 0], [1, 0], [0, 1], [1, 0], [1, 0], [1, 0], [1, 0], [1, 0], [1, 0], [1, 0], [1, 0], [1, 0], [1, 0], [1, 0], [1, 0], [1, 1], [1, 0], [1, 0], [1, 0], [1, 0], [1, 0], [0, 1], [1, 0], [1, 0], [1, 0], [1, 1], [1, 0], [1, 0], [1, 0], [1, 0], [1, 0], [1, 0], [1, 0], [1, 0], [1, 0], [1, 0], [1, 0], [1, 0], [1, 0], [1, 0], [1, 0], [1, 0], [1, 1], [1, 1], [0, 1], [1, 0], [1, 1], [1, 0], [1, 0], [0, 1], [1, 0], [1, 0], [1, 1], [1, 0], [1, 0], [1, 0], [1, 0], [1, 0], [1, 0], [1, 0], [1, 0], [1, 0], [1, 0], [1, 0], [1, 0], [1, 0], [1, 0], [1, 0], [1, 0], [1, 0], [1, 0], [1, 0], [0, 1], [1, 0], [0, 1], [1, 0], [1, 0], [1, 0], [1, 0], [1, 0], [1, 0], [1, 1], [1, 0], [1, 0], [1, 0], [1, 0], [1, 0], [1, 0], [1, 0], [1, 0], [1, 0], [0, 1], [1, 0], [1, 0], [0, 1], [1, 0], [1, 0], [1, 0], [0, 1], [1, 0], [0, 1], [0, 1], [0, 1], [1, 0], [1, 0], [1, 0], [1, 0], [1, 0], [1, 0], [1, 0], [0, 1], [1, 0], [1, 0], [1, 0], [1, 0], [1, 0], [1, 0], [1, 0], [1, 0], [1, 0], [1, 0], [1, 0], [1, 0], [1, 0], [1, 0], [1, 0], [1, 0], [1, 1], [1, 0], [1, 0], [1, 0], [1, 0], [1, 1], [1, 0], [1, 0], [1, 0], [1, 0], [1, 0], [1, 0], [1, 0], [1, 0], [1, 0], [1, 0], [1, 1], [1, 0], [1, 0], [1, 0], [0, 1], [1, 0], [1, 0], [1, 0], [1, 0], [1, 0], [1, 0], [1, 0], [1, 0], [1, 0], [1, 0], [1, 0], [1, 0], [1, 0], [1, 0], [1, 0], [1, 0], [1, 0], [1, 0], [1, 0], [1, 0], [0, 1], [1, 0], [1, 0], [1, 0], [1, 0], [1, 0], [1, 0], [1, 0], [1, 0], [1, 0], [1, 0], [1, 1], [0, 1], [0, 1], [1, 0], [1, 1], [1, 0], [1, 0], [0, 1], [1, 0], [1, 0], [1, 0], [1, 0], [1, 0], [1, 0], [1, 0], [1, 0], [0, 1], [1, 0], [1, 0], [1, 0], [0, 1], [1, 0], [1, 0], [1, 0], [1, 0], [0, 1], [1, 0], [1, 0], [1, 0], [1, 1], [0, 1], [1, 0], [1, 1], [1, 0], [1, 0], [1, 0], [1, 0], [1, 0], [1, 0], [1, 1], [1, 0], [1, 0], [1, 0], [1, 0], [0, 1], [1, 0], [1, 0], [1, 0], [1, 0], [1, 0], [1, 0], [1, 0], [1, 0], [1, 0], [1, 0], [1, 0], [1, 0], [1, 0], [1, 0], [0, 1], [0, 1], [0, 1], [1, 0], [1, 0], [1, 1], [1, 0], [0, 1], [1, 0], [1, 0], [1, 1], [1, 0], [1, 0], [0, 1], [1, 0], [1, 0], [0, 1], [1, 0], [1, 0], [0, 1], [1, 0], [1, 0], [1, 0], [1, 0], [1, 0], [1, 0], [1, 0], [1, 0], [1, 0], [1, 0], [1, 0], [1, 1], [1, 0], [1, 0], [1, 0], [1, 0], [1, 0], [1, 0], [1, 0], [1, 0], [1, 0], [1, 0], [1, 0], [1, 0], [1, 0], [1, 0], [1, 0], [1, 0], [0, 1], [1, 0], [1, 0], [1, 0], [1, 0], [1, 0], [1, 0], [1, 0], [1, 0], [1, 1], [1, 0], [1, 0], [1, 0], [1, 0], [1, 0], [0, 1], [1, 0], [1, 0], [1, 0], [1, 0], [1, 0], [1, 0], [1, 1], [1, 1], [1, 1], [0, 1], [1, 0], [1, 0], [0, 1], [1, 0], [1, 0], [1, 0], [1, 0], [1, 0], [1, 0], [1, 0], [1, 0], [1, 0], [1, 0], [1, 0], [1, 0], [1, 0], [1, 0], [1, 0], [1, 1], [1, 0], [1, 0], [1, 0], [1, 0], [1, 0], [1, 0], [1, 0], [1, 0], [1, 0], [1, 0], [1, 0], [0, 1], [0, 1], [1, 1], [1, 0], [1, 0], [0, 1], [1, 0], [1, 0], [1, 0], [0, 1], [1, 0], [1, 0], [1, 0], [1, 0], [1, 0], [1, 0], [1, 0], [1, 0], [1, 0], [1, 0], [1, 0], [1, 1], [1, 0], [1, 0], [0, 1], [1, 0], [1, 0], [1, 0], [1, 0], [0, 1], [1, 0], [1, 0], [1, 0], [1, 0], [1, 0], [1, 0], [1, 0], [1, 0], [0, 1], [1, 0], [0, 1], [1, 0], [1, 0], [1, 1], [1, 0], [1, 0], [1, 0], [1, 1], [1, 0], [1, 0], [1, 0], [0, 1], [1, 0], [1, 0], [1, 0], [1, 0], [1, 0], [1, 0], [1, 0], [1, 1], [1, 0], [1, 0], [1, 1], [1, 0], [0, 1], [1, 0], [1, 0], [1, 1], [0, 1], [1, 0], [1, 0], [0, 1], [0, 1], [1, 0], [1, 0], [1, 0], [1, 0], [1, 0], [1, 0], [1, 0], [1, 0], [1, 0], [1, 0], [1, 0], [1, 0], [1, 0], [1, 0], [1, 0], [1, 0], [1, 0], [1, 0], [1, 0], [1, 0], [1, 0], [1, 0], [1, 0], [1, 0], [1, 1], [1, 0], [1, 0], [1, 0], [1, 0], [1, 0], [1, 0], [1, 0], [1, 0], [1, 0], [1, 0], [1, 0], [1, 0], [1, 0], [1, 1], [1, 0], [1, 0], [1, 0], [1, 0], [1, 0], [1, 0], [0, 1], [1, 0], [1, 0], [1, 0], [1, 0], [1, 0], [0, 1], [1, 0], [1, 0], [1, 1], [1, 0], [1, 0], [1, 0], [1, 0], [1, 0], [0, 1], [1, 0], [1, 0], [1, 0], [0, 1], [1, 0], [1, 0], [1, 0], [1, 0], [1, 0], [1, 1], [1, 0], [1, 0], [1, 0], [1, 0], [0, 1], [1, 0], [1, 0], [1, 0], [1, 0], [1, 1], [1, 0], [1, 0], [1, 0], [0, 1], [1, 0], [0, 1], [1, 0], [0, 1], [1, 0], [1, 0], [1, 0], [1, 0], [1, 0], [0, 1], [1, 1], [0, 1], [1, 0], [0, 1], [1, 1], [1, 0], [1, 0], [1, 0], [1, 0], [1, 0], [1, 1], [1, 1], [1, 0], [1, 0], [1, 0], [1, 0], [1, 0], [0, 1], [1, 0], [1, 0], [0, 1], [1, 0], [1, 0], [1, 0], [1, 0], [1, 0], [1, 0], [1, 0], [1, 0], [1, 0], [1, 0], [1, 0], [1, 0], [1, 1], [1, 0], [1, 0], [1, 0], [0, 1], [1, 0], [0, 1], [1, 0], [0, 1], [1, 0], [1, 0], [1, 0], [1, 0], [1, 0], [1, 0], [1, 0], [1, 0], [1, 0], [1, 0], [1, 0], [1, 0], [1, 0], [1, 0], [1, 0], [1, 0], [0, 1], [1, 0], [1, 0], [1, 0], [1, 0], [1, 0], [1, 0], [1, 0], [1, 1], [1, 0], [1, 0], [1, 0], [1, 0], [1, 0], [1, 0], [0, 1], [1, 0], [1, 0], [1, 0], [0, 1], [1, 0], [1, 0], [0, 1], [1, 0], [1, 0], [1, 0], [1, 0], [1, 0], [1, 0], [1, 0], [1, 0], [1, 0], [0, 1], [1, 0], [0, 1], [1, 0], [1, 0], [1, 0], [1, 0], [1, 0], [1, 0], [1, 0], [1, 1], [1, 0], [1, 1], [1, 0], [1, 0], [1, 0], [1, 1], [0, 1], [1, 0], [1, 0], [1, 0], [1, 0], [1, 0], [1, 0], [1, 0], [1, 0], [1, 0], [1, 0], [1, 0], [1, 0], [1, 0], [1, 0], [1, 0], [1, 0], [1, 0], [1, 0], [1, 0], [1, 0], [0, 1], [1, 0], [1, 1], [1, 0], [1, 1], [1, 0], [1, 1], [1, 0], [1, 0], [1, 0], [1, 0], [1, 0], [1, 0], [1, 0], [1, 0], [1, 0], [1, 0], [1, 0], [1, 0], [1, 0], [1, 0], [1, 0], [1, 1], [1, 0], [1, 0], [1, 0], [1, 0], [1, 0], [1, 0], [1, 0], [1, 0], [1, 0], [1, 0], [1, 0], [1, 0], [1, 0], [1, 0], [1, 0], [1, 0], [1, 1], [1, 1], [0, 1], [1, 0], [1, 0], [1, 0], [1, 0], [1, 0], [1, 1], [1, 0], [1, 0], [1, 0], [1, 0], [0, 1], [1, 0], [1, 0], [1, 1], [1, 0], [1, 0], [1, 0], [1, 0], [0, 1], [1, 0], [1, 0], [0, 1], [1, 0], [1, 0], [1, 0], [1, 0], [1, 0], [1, 0], [1, 0], [1, 0], [1, 0], [1, 0], [1, 0], [1, 0], [1, 0], [1, 0], [1, 0], [1, 0], [1, 0], [1, 0], [1, 0], [0, 1], [1, 0], [1, 0], [1, 0], [1, 0], [1, 0], [1, 0], [1, 0], [1, 0], [1, 0], [1, 0], [1, 0], [1, 0], [1, 0], [1, 0], [1, 0], [1, 0], [1, 0], [1, 0], [1, 0], [1, 0], [0, 1], [1, 0], [1, 0], [1, 0], [1, 0], [1, 0], [1, 0], [1, 0], [1, 0], [1, 0], [1, 1], [1, 0], [0, 1], [1, 0], [0, 1], [1, 0], [1, 0], [1, 0], [1, 0], [1, 0], [1, 0], [1, 0], [1, 0], [1, 0], [1, 0], [1, 0], [0, 1], [1, 0], [1, 0], [1, 0], [1, 0], [1, 0], [1, 0], [1, 1], [1, 0], [1, 1], [1, 0], [1, 0], [1, 0], [1, 0], [1, 0], [1, 0], [1, 0], [1, 0], [1, 1], [1, 0], [1, 0], [1, 0], [1, 1], [1, 0], [0, 1], [1, 0], [1, 0], [1, 0], [1, 1], [1, 0], [1, 0], [1, 1], [1, 1], [1, 0], [0, 1], [1, 0], [1, 0], [0, 1], [1, 0], [1, 0], [1, 1], [1, 0], [1, 0], [0, 1], [1, 0], [1, 0], [1, 0], [1, 0], [1, 0], [1, 0], [1, 0], [1, 0], [1, 1], [0, 1], [1, 1], [1, 0], [0, 1], [1, 0], [1, 0], [0, 1], [1, 0], [1, 0], [0, 1], [0, 1], [1, 0], [1, 0], [1, 0], [1, 0], [1, 0], [1, 0], [1, 0], [1, 0], [1, 0], [1, 0], [1, 0], [1, 0], [1, 0], [0, 1], [1, 0], [1, 0], [1, 0], [1, 0], [0, 1], [1, 1], [1, 0], [1, 0], [1, 1], [1, 0], [0, 1], [1, 0], [1, 0], [1, 0], [1, 0], [0, 1], [1, 0], [1, 1], [1, 1], [0, 1], [1, 0], [1, 0], [1, 1], [1, 0], [1, 0], [1, 1], [1, 0], [1, 1], [1, 0], [1, 0], [1, 0], [1, 0], [1, 0], [1, 0], [1, 0], [0, 1], [1, 0], [1, 0], [1, 1], [1, 0], [0, 1], [1, 0], [1, 0], [1, 0], [1, 0], [1, 1], [1, 0], [1, 0], [1, 0], [0, 1], [1, 0], [1, 1], [1, 0], [1, 0], [1, 0], [1, 0], [0, 1], [1, 0], [0, 1], [0, 1], [1, 0], [1, 0], [1, 0], [1, 1], [1, 0], [1, 0], [0, 1], [1, 0], [0, 1], [1, 0], [0, 1], [0, 1], [1, 0], [1, 0], [1, 0], [1, 0], [1, 0], [1, 0], [1, 0], [1, 0], [1, 0], [1, 0], [1, 0], [1, 0], [1, 0], [1, 0], [1, 0], [1, 0], [1, 0], [1, 0], [1, 0], [1, 0], [0, 1], [1, 0], [1, 0], [1, 0], [1, 0], [0, 1], [1, 0], [1, 0], [1, 0], [1, 0], [1, 0], [1, 0], [1, 0], [1, 0], [1, 0], [0, 1], [1, 0], [1, 0], [1, 0], [1, 0], [1, 0], [1, 0]]\n",
      "Probabilities: [[0.9919354  0.00806462]\n",
      " [0.04582071 0.9541793 ]\n",
      " [0.76138943 0.23861055]\n",
      " ...\n",
      " [0.8454077  0.15459225]\n",
      " [0.90177846 0.09822152]\n",
      " [0.857684   0.14231595]]\n",
      "Non-conformity Scores: [[0.00806463 0.9919354 ]\n",
      " [0.9541793  0.04582071]\n",
      " [0.23861057 0.76138943]\n",
      " ...\n",
      " [0.15459228 0.8454077 ]\n",
      " [0.09822154 0.90177846]\n",
      " [0.14231598 0.857684  ]]\n",
      "Threshold: 0.7435420572757718\n"
     ]
    }
   ],
   "source": [
    "# Assume X_cal, y_cal, X_test are already prepared and the model is trained\n",
    "result = calculate_prediction_interval_batch(model, X_valid, y_valid, X_test, significance_level=0.05)\n",
    "\n",
    "print(\"Prediction Sets (for each observation):\", result['prediction_sets'])\n",
    "print(\"Probabilities:\", result['probabilities'])\n",
    "print(\"Non-conformity Scores:\", result['scores'])\n",
    "print(\"Threshold:\", result['threshold'])"
   ]
  },
  {
   "cell_type": "code",
   "execution_count": 47,
   "metadata": {},
   "outputs": [
    {
     "data": {
      "application/vnd.jupyter.widget-view+json": {
       "model_id": "6a06255dd87a49e4961c61f33ed4128f",
       "version_major": 2,
       "version_minor": 0
      },
      "text/plain": [
       "HTML(value='\\n        <style>\\n\\n        .left-label {\\n            width: 30%;\\n        }\\n\\n        .card-pa…"
      ]
     },
     "metadata": {},
     "output_type": "display_data"
    },
    {
     "name": "stdout",
     "output_type": "stream",
     "text": [
      "Both classes are in the prediction set for observation 7\n",
      "Both classes are in the prediction set for observation 28\n",
      "Both classes are in the prediction set for observation 42\n",
      "Both classes are in the prediction set for observation 44\n",
      "Both classes are in the prediction set for observation 46\n",
      "Both classes are in the prediction set for observation 49\n",
      "Both classes are in the prediction set for observation 51\n",
      "Both classes are in the prediction set for observation 53\n",
      "Both classes are in the prediction set for observation 76\n",
      "Both classes are in the prediction set for observation 78\n",
      "Both classes are in the prediction set for observation 81\n",
      "Both classes are in the prediction set for observation 97\n",
      "Both classes are in the prediction set for observation 99\n",
      "Both classes are in the prediction set for observation 104\n",
      "Both classes are in the prediction set for observation 108\n",
      "Both classes are in the prediction set for observation 126\n",
      "Both classes are in the prediction set for observation 127\n",
      "Both classes are in the prediction set for observation 131\n",
      "Both classes are in the prediction set for observation 144\n",
      "Both classes are in the prediction set for observation 151\n",
      "Both classes are in the prediction set for observation 155\n",
      "Both classes are in the prediction set for observation 158\n",
      "Both classes are in the prediction set for observation 171\n",
      "Both classes are in the prediction set for observation 174\n",
      "Both classes are in the prediction set for observation 179\n",
      "Both classes are in the prediction set for observation 193\n",
      "Both classes are in the prediction set for observation 197\n",
      "Both classes are in the prediction set for observation 203\n",
      "Both classes are in the prediction set for observation 221\n",
      "Both classes are in the prediction set for observation 238\n",
      "Both classes are in the prediction set for observation 256\n",
      "Both classes are in the prediction set for observation 262\n",
      "Both classes are in the prediction set for observation 275\n",
      "Both classes are in the prediction set for observation 282\n",
      "Both classes are in the prediction set for observation 285\n",
      "Both classes are in the prediction set for observation 306\n",
      "Both classes are in the prediction set for observation 312\n",
      "Both classes are in the prediction set for observation 316\n",
      "Both classes are in the prediction set for observation 320\n",
      "Both classes are in the prediction set for observation 328\n",
      "Both classes are in the prediction set for observation 349\n",
      "Both classes are in the prediction set for observation 356\n",
      "Both classes are in the prediction set for observation 358\n",
      "Both classes are in the prediction set for observation 373\n",
      "Both classes are in the prediction set for observation 405\n",
      "Both classes are in the prediction set for observation 408\n",
      "Both classes are in the prediction set for observation 410\n",
      "Both classes are in the prediction set for observation 418\n",
      "Both classes are in the prediction set for observation 440\n",
      "Both classes are in the prediction set for observation 445\n",
      "Both classes are in the prediction set for observation 450\n",
      "Both classes are in the prediction set for observation 467\n",
      "Both classes are in the prediction set for observation 477\n",
      "Both classes are in the prediction set for observation 491\n",
      "Both classes are in the prediction set for observation 492\n",
      "Both classes are in the prediction set for observation 511\n",
      "Both classes are in the prediction set for observation 515\n",
      "Both classes are in the prediction set for observation 526\n",
      "Both classes are in the prediction set for observation 544\n",
      "Both classes are in the prediction set for observation 555\n",
      "Both classes are in the prediction set for observation 598\n",
      "Both classes are in the prediction set for observation 603\n",
      "Both classes are in the prediction set for observation 605\n",
      "Both classes are in the prediction set for observation 613\n",
      "Both classes are in the prediction set for observation 646\n",
      "Both classes are in the prediction set for observation 650\n",
      "Both classes are in the prediction set for observation 657\n",
      "Both classes are in the prediction set for observation 666\n",
      "Both classes are in the prediction set for observation 692\n",
      "Both classes are in the prediction set for observation 694\n",
      "Both classes are in the prediction set for observation 708\n",
      "Both classes are in the prediction set for observation 719\n",
      "Both classes are in the prediction set for observation 736\n",
      "Both classes are in the prediction set for observation 743\n",
      "Both classes are in the prediction set for observation 748\n",
      "Both classes are in the prediction set for observation 753\n",
      "Both classes are in the prediction set for observation 755\n",
      "Both classes are in the prediction set for observation 764\n",
      "Both classes are in the prediction set for observation 766\n",
      "Both classes are in the prediction set for observation 775\n",
      "Both classes are in the prediction set for observation 781\n",
      "Both classes are in the prediction set for observation 806\n",
      "Both classes are in the prediction set for observation 835\n",
      "Both classes are in the prediction set for observation 858\n",
      "Both classes are in the prediction set for observation 882\n",
      "Both classes are in the prediction set for observation 899\n",
      "Both classes are in the prediction set for observation 950\n",
      "Both classes are in the prediction set for observation 961\n",
      "Both classes are in the prediction set for observation 980\n",
      "Both classes are in the prediction set for observation 992\n",
      "Both classes are in the prediction set for observation 1001\n",
      "Both classes are in the prediction set for observation 1028\n",
      "Both classes are in the prediction set for observation 1032\n",
      "Both classes are in the prediction set for observation 1034\n",
      "Both classes are in the prediction set for observation 1049\n",
      "Both classes are in the prediction set for observation 1095\n",
      "Both classes are in the prediction set for observation 1120\n",
      "Both classes are in the prediction set for observation 1124\n",
      "Both classes are in the prediction set for observation 1135\n",
      "Both classes are in the prediction set for observation 1158\n",
      "Both classes are in the prediction set for observation 1159\n",
      "Both classes are in the prediction set for observation 1164\n",
      "Both classes are in the prediction set for observation 1178\n",
      "Both classes are in the prediction set for observation 1182\n",
      "Both classes are in the prediction set for observation 1185\n",
      "Both classes are in the prediction set for observation 1186\n",
      "Both classes are in the prediction set for observation 1189\n",
      "Both classes are in the prediction set for observation 1193\n",
      "Both classes are in the prediction set for observation 1207\n",
      "Both classes are in the prediction set for observation 1212\n",
      "Both classes are in the prediction set for observation 1215\n",
      "Both classes are in the prediction set for observation 1224\n",
      "Both classes are in the prediction set for observation 1234\n",
      "Both classes are in the prediction set for observation 1246\n",
      "Both classes are in the prediction set for observation 1252\n",
      "Both classes are in the prediction set for observation 1270\n",
      "Both classes are in the prediction set for observation 1272\n",
      "Both classes are in the prediction set for observation 1273\n",
      "Both classes are in the prediction set for observation 1284\n",
      "Both classes are in the prediction set for observation 1285\n",
      "Both classes are in the prediction set for observation 1292\n",
      "Both classes are in the prediction set for observation 1294\n",
      "Both classes are in the prediction set for observation 1300\n",
      "Both classes are in the prediction set for observation 1305\n",
      "Both classes are in the prediction set for observation 1314\n",
      "Both classes are in the prediction set for observation 1317\n",
      "Both classes are in the prediction set for observation 1322\n",
      "Both classes are in the prediction set for observation 1346\n",
      "Both classes are in the prediction set for observation 1350\n",
      "Both classes are in the prediction set for observation 1353\n",
      "Both classes are in the prediction set for observation 1357\n",
      "Both classes are in the prediction set for observation 1368\n",
      "Both classes are in the prediction set for observation 1374\n",
      "Both classes are in the prediction set for observation 1375\n",
      "Both classes are in the prediction set for observation 1381\n",
      "Both classes are in the prediction set for observation 1382\n",
      "Both classes are in the prediction set for observation 1393\n",
      "Both classes are in the prediction set for observation 1413\n",
      "Both classes are in the prediction set for observation 1423\n",
      "Both classes are in the prediction set for observation 1425\n",
      "Both classes are in the prediction set for observation 1427\n",
      "Both classes are in the prediction set for observation 1430\n",
      "Both classes are in the prediction set for observation 1431\n",
      "Both classes are in the prediction set for observation 1440\n",
      "Both classes are in the prediction set for observation 1453\n",
      "Both classes are in the prediction set for observation 1466\n",
      "Both classes are in the prediction set for observation 1496\n",
      "Both classes are in the prediction set for observation 1522\n",
      "Both classes are in the prediction set for observation 1524\n",
      "Both classes are in the prediction set for observation 1525\n",
      "Both classes are in the prediction set for observation 1540\n",
      "Both classes are in the prediction set for observation 1544\n",
      "Both classes are in the prediction set for observation 1560\n",
      "Both classes are in the prediction set for observation 1568\n",
      "Both classes are in the prediction set for observation 1574\n",
      "Both classes are in the prediction set for observation 1593\n",
      "Both classes are in the prediction set for observation 1634\n",
      "Both classes are in the prediction set for observation 1641\n",
      "Both classes are in the prediction set for observation 1644\n",
      "Both classes are in the prediction set for observation 1647\n",
      "Both classes are in the prediction set for observation 1652\n",
      "Both classes are in the prediction set for observation 1654\n",
      "Both classes are in the prediction set for observation 1664\n",
      "Both classes are in the prediction set for observation 1679\n",
      "Both classes are in the prediction set for observation 1697\n",
      "Both classes are in the prediction set for observation 1702\n",
      "Both classes are in the prediction set for observation 1703\n",
      "Both classes are in the prediction set for observation 1722\n",
      "Both classes are in the prediction set for observation 1730\n",
      "Both classes are in the prediction set for observation 1734\n",
      "Both classes are in the prediction set for observation 1757\n",
      "Both classes are in the prediction set for observation 1774\n",
      "Both classes are in the prediction set for observation 1779\n",
      "Both classes are in the prediction set for observation 1784\n",
      "Both classes are in the prediction set for observation 1795\n",
      "Both classes are in the prediction set for observation 1809\n",
      "Both classes are in the prediction set for observation 1815\n",
      "Both classes are in the prediction set for observation 1822\n",
      "Both classes are in the prediction set for observation 1828\n",
      "Both classes are in the prediction set for observation 1875\n",
      "Both classes are in the prediction set for observation 1878\n",
      "Both classes are in the prediction set for observation 1892\n",
      "Both classes are in the prediction set for observation 1894\n",
      "Both classes are in the prediction set for observation 1897\n",
      "Both classes are in the prediction set for observation 1898\n",
      "Both classes are in the prediction set for observation 1903\n",
      "Both classes are in the prediction set for observation 1921\n",
      "Both classes are in the prediction set for observation 1923\n",
      "Both classes are in the prediction set for observation 1924\n",
      "Both classes are in the prediction set for observation 1925\n",
      "Both classes are in the prediction set for observation 1941\n",
      "Both classes are in the prediction set for observation 1949\n",
      "Both classes are in the prediction set for observation 1951\n",
      "Both classes are in the prediction set for observation 1952\n",
      "Both classes are in the prediction set for observation 1959\n",
      "Both classes are in the prediction set for observation 1966\n",
      "Both classes are in the prediction set for observation 1973\n",
      "Both classes are in the prediction set for observation 1977\n",
      "Both classes are in the prediction set for observation 1995\n",
      "Both classes are in the prediction set for observation 2003\n",
      "Both classes are in the prediction set for observation 2041\n",
      "Both classes are in the prediction set for observation 2052\n",
      "Both classes are in the prediction set for observation 2055\n",
      "Both classes are in the prediction set for observation 2058\n",
      "Both classes are in the prediction set for observation 2067\n",
      "Both classes are in the prediction set for observation 2095\n",
      "Both classes are in the prediction set for observation 2102\n",
      "Both classes are in the prediction set for observation 2104\n",
      "Both classes are in the prediction set for observation 2116\n",
      "Both classes are in the prediction set for observation 2121\n",
      "Both classes are in the prediction set for observation 2135\n",
      "Both classes are in the prediction set for observation 2136\n",
      "Both classes are in the prediction set for observation 2139\n",
      "Both classes are in the prediction set for observation 2142\n",
      "Both classes are in the prediction set for observation 2148\n",
      "Both classes are in the prediction set for observation 2201\n",
      "Both classes are in the prediction set for observation 2224\n",
      "Both classes are in the prediction set for observation 2232\n",
      "Both classes are in the prediction set for observation 2235\n",
      "Both classes are in the prediction set for observation 2236\n",
      "Both classes are in the prediction set for observation 2237\n",
      "Both classes are in the prediction set for observation 2240\n",
      "Both classes are in the prediction set for observation 2241\n",
      "Both classes are in the prediction set for observation 2255\n",
      "Both classes are in the prediction set for observation 2279\n",
      "Both classes are in the prediction set for observation 2292\n",
      "Both classes are in the prediction set for observation 2302\n",
      "Both classes are in the prediction set for observation 2304\n",
      "Both classes are in the prediction set for observation 2306\n",
      "Both classes are in the prediction set for observation 2321\n",
      "Both classes are in the prediction set for observation 2323\n",
      "Both classes are in the prediction set for observation 2334\n",
      "Both classes are in the prediction set for observation 2350\n",
      "Both classes are in the prediction set for observation 2354\n",
      "Both classes are in the prediction set for observation 2358\n",
      "Both classes are in the prediction set for observation 2362\n",
      "Both classes are in the prediction set for observation 2387\n",
      "Both classes are in the prediction set for observation 2413\n",
      "Both classes are in the prediction set for observation 2435\n",
      "Both classes are in the prediction set for observation 2443\n",
      "Both classes are in the prediction set for observation 2463\n",
      "Both classes are in the prediction set for observation 2487\n",
      "Both classes are in the prediction set for observation 2496\n",
      "Both classes are in the prediction set for observation 2504\n",
      "Both classes are in the prediction set for observation 2515\n",
      "Both classes are in the prediction set for observation 2525\n",
      "Both classes are in the prediction set for observation 2543\n",
      "Both classes are in the prediction set for observation 2555\n",
      "Both classes are in the prediction set for observation 2560\n",
      "Both classes are in the prediction set for observation 2561\n",
      "Both classes are in the prediction set for observation 2572\n",
      "Both classes are in the prediction set for observation 2594\n",
      "Both classes are in the prediction set for observation 2598\n",
      "Both classes are in the prediction set for observation 2609\n",
      "Both classes are in the prediction set for observation 2620\n",
      "Both classes are in the prediction set for observation 2625\n",
      "Both classes are in the prediction set for observation 2638\n",
      "Both classes are in the prediction set for observation 2644\n",
      "Both classes are in the prediction set for observation 2651\n",
      "Both classes are in the prediction set for observation 2654\n",
      "Both classes are in the prediction set for observation 2662\n",
      "Both classes are in the prediction set for observation 2680\n",
      "Both classes are in the prediction set for observation 2727\n",
      "Both classes are in the prediction set for observation 2738\n",
      "Both classes are in the prediction set for observation 2747\n",
      "Both classes are in the prediction set for observation 2761\n",
      "Both classes are in the prediction set for observation 2780\n",
      "Both classes are in the prediction set for observation 2790\n",
      "Both classes are in the prediction set for observation 2794\n",
      "Both classes are in the prediction set for observation 2813\n",
      "Both classes are in the prediction set for observation 2820\n",
      "Both classes are in the prediction set for observation 2821\n",
      "Both classes are in the prediction set for observation 2837\n",
      "Both classes are in the prediction set for observation 2843\n",
      "Both classes are in the prediction set for observation 2845\n",
      "Both classes are in the prediction set for observation 2848\n",
      "Both classes are in the prediction set for observation 2853\n",
      "Both classes are in the prediction set for observation 2861\n",
      "Both classes are in the prediction set for observation 2872\n",
      "Both classes are in the prediction set for observation 2879\n",
      "Both classes are in the prediction set for observation 2890\n",
      "Both classes are in the prediction set for observation 2891\n",
      "Both classes are in the prediction set for observation 2900\n",
      "Both classes are in the prediction set for observation 2906\n",
      "Both classes are in the prediction set for observation 2912\n",
      "Both classes are in the prediction set for observation 2920\n",
      "Both classes are in the prediction set for observation 2922\n",
      "Both classes are in the prediction set for observation 2930\n",
      "Both classes are in the prediction set for observation 2932\n",
      "Both classes are in the prediction set for observation 2937\n",
      "Both classes are in the prediction set for observation 2943\n",
      "Both classes are in the prediction set for observation 2946\n",
      "Both classes are in the prediction set for observation 2960\n",
      "Both classes are in the prediction set for observation 2962\n",
      "Both classes are in the prediction set for observation 2963\n",
      "Both classes are in the prediction set for observation 2970\n",
      "Both classes are in the prediction set for observation 2978\n",
      "Both classes are in the prediction set for observation 2984\n",
      "Both classes are in the prediction set for observation 2993\n",
      "Both classes are in the prediction set for observation 3001\n",
      "Both classes are in the prediction set for observation 3014\n",
      "Both classes are in the prediction set for observation 3029\n",
      "Both classes are in the prediction set for observation 3033\n",
      "Both classes are in the prediction set for observation 3039\n",
      "Both classes are in the prediction set for observation 3040\n",
      "Both classes are in the prediction set for observation 3055\n",
      "Both classes are in the prediction set for observation 3079\n",
      "Both classes are in the prediction set for observation 3097\n",
      "Both classes are in the prediction set for observation 3100\n",
      "Both classes are in the prediction set for observation 3106\n",
      "Both classes are in the prediction set for observation 3146\n",
      "Both classes are in the prediction set for observation 3153\n",
      "Both classes are in the prediction set for observation 3154\n",
      "Both classes are in the prediction set for observation 3160\n",
      "Both classes are in the prediction set for observation 3166\n",
      "Both classes are in the prediction set for observation 3186\n",
      "Both classes are in the prediction set for observation 3193\n",
      "Both classes are in the prediction set for observation 3204\n",
      "Both classes are in the prediction set for observation 3206\n",
      "Both classes are in the prediction set for observation 3230\n",
      "Both classes are in the prediction set for observation 3247\n",
      "Both classes are in the prediction set for observation 3263\n",
      "Both classes are in the prediction set for observation 3272\n",
      "Both classes are in the prediction set for observation 3300\n",
      "Both classes are in the prediction set for observation 3313\n",
      "Both classes are in the prediction set for observation 3315\n",
      "Both classes are in the prediction set for observation 3361\n",
      "Both classes are in the prediction set for observation 3371\n",
      "Both classes are in the prediction set for observation 3384\n",
      "Both classes are in the prediction set for observation 3390\n",
      "Both classes are in the prediction set for observation 3412\n",
      "Both classes are in the prediction set for observation 3426\n",
      "Both classes are in the prediction set for observation 3431\n",
      "Both classes are in the prediction set for observation 3438\n",
      "Both classes are in the prediction set for observation 3439\n",
      "Both classes are in the prediction set for observation 3448\n",
      "Both classes are in the prediction set for observation 3459\n",
      "Both classes are in the prediction set for observation 3465\n",
      "Both classes are in the prediction set for observation 3468\n",
      "Both classes are in the prediction set for observation 3473\n",
      "Both classes are in the prediction set for observation 3494\n",
      "Both classes are in the prediction set for observation 3523\n",
      "Both classes are in the prediction set for observation 3524\n",
      "Both classes are in the prediction set for observation 3526\n",
      "Both classes are in the prediction set for observation 3531\n",
      "Both classes are in the prediction set for observation 3573\n",
      "Both classes are in the prediction set for observation 3582\n",
      "Both classes are in the prediction set for observation 3592\n",
      "Both classes are in the prediction set for observation 3607\n",
      "Both classes are in the prediction set for observation 3613\n",
      "Both classes are in the prediction set for observation 3622\n",
      "Both classes are in the prediction set for observation 3623\n",
      "Both classes are in the prediction set for observation 3625\n",
      "Both classes are in the prediction set for observation 3627\n",
      "Both classes are in the prediction set for observation 3646\n",
      "Both classes are in the prediction set for observation 3654\n",
      "Both classes are in the prediction set for observation 3657\n",
      "Both classes are in the prediction set for observation 3659\n",
      "Both classes are in the prediction set for observation 3661\n",
      "Both classes are in the prediction set for observation 3684\n",
      "Both classes are in the prediction set for observation 3689\n",
      "Both classes are in the prediction set for observation 3697\n",
      "Both classes are in the prediction set for observation 3698\n",
      "Both classes are in the prediction set for observation 3711\n",
      "Both classes are in the prediction set for observation 3715\n",
      "Both classes are in the prediction set for observation 3721\n",
      "Both classes are in the prediction set for observation 3724\n",
      "Both classes are in the prediction set for observation 3728\n",
      "Both classes are in the prediction set for observation 3739\n",
      "Both classes are in the prediction set for observation 3740\n",
      "Both classes are in the prediction set for observation 3746\n",
      "Both classes are in the prediction set for observation 3755\n",
      "Both classes are in the prediction set for observation 3770\n",
      "Both classes are in the prediction set for observation 3791\n",
      "Both classes are in the prediction set for observation 3792\n",
      "Both classes are in the prediction set for observation 3793\n",
      "Both classes are in the prediction set for observation 3805\n",
      "Both classes are in the prediction set for observation 3825\n",
      "Both classes are in the prediction set for observation 3829\n",
      "Both classes are in the prediction set for observation 3834\n",
      "Both classes are in the prediction set for observation 3866\n",
      "Both classes are in the prediction set for observation 3871\n",
      "Both classes are in the prediction set for observation 3873\n",
      "Both classes are in the prediction set for observation 3880\n",
      "Both classes are in the prediction set for observation 3881\n",
      "Both classes are in the prediction set for observation 3906\n",
      "Both classes are in the prediction set for observation 3914\n",
      "Both classes are in the prediction set for observation 3935\n",
      "Both classes are in the prediction set for observation 3939\n",
      "Both classes are in the prediction set for observation 3940\n",
      "Both classes are in the prediction set for observation 3952\n",
      "Both classes are in the prediction set for observation 3957\n",
      "Both classes are in the prediction set for observation 3964\n",
      "Both classes are in the prediction set for observation 3967\n",
      "Both classes are in the prediction set for observation 3994\n",
      "Both classes are in the prediction set for observation 4008\n",
      "Both classes are in the prediction set for observation 4011\n",
      "Both classes are in the prediction set for observation 4047\n",
      "Both classes are in the prediction set for observation 4055\n",
      "Both classes are in the prediction set for observation 4076\n",
      "Both classes are in the prediction set for observation 4083\n",
      "Both classes are in the prediction set for observation 4087\n",
      "Both classes are in the prediction set for observation 4090\n",
      "Both classes are in the prediction set for observation 4104\n",
      "Both classes are in the prediction set for observation 4127\n",
      "Both classes are in the prediction set for observation 4129\n",
      "Both classes are in the prediction set for observation 4148\n",
      "Both classes are in the prediction set for observation 4150\n",
      "Both classes are in the prediction set for observation 4177\n",
      "Both classes are in the prediction set for observation 4179\n",
      "Both classes are in the prediction set for observation 4180\n",
      "Both classes are in the prediction set for observation 4190\n",
      "Both classes are in the prediction set for observation 4210\n",
      "Both classes are in the prediction set for observation 4231\n",
      "Both classes are in the prediction set for observation 4232\n",
      "Both classes are in the prediction set for observation 4237\n",
      "Both classes are in the prediction set for observation 4246\n",
      "Both classes are in the prediction set for observation 4249\n",
      "Both classes are in the prediction set for observation 4277\n",
      "Both classes are in the prediction set for observation 4287\n",
      "Both classes are in the prediction set for observation 4307\n",
      "Both classes are in the prediction set for observation 4308\n",
      "Both classes are in the prediction set for observation 4310\n",
      "Both classes are in the prediction set for observation 4315\n",
      "Both classes are in the prediction set for observation 4326\n",
      "Both classes are in the prediction set for observation 4328\n",
      "Both classes are in the prediction set for observation 4329\n",
      "Both classes are in the prediction set for observation 4337\n",
      "Both classes are in the prediction set for observation 4345\n",
      "Both classes are in the prediction set for observation 4381\n",
      "Both classes are in the prediction set for observation 4388\n",
      "Both classes are in the prediction set for observation 4393\n",
      "Both classes are in the prediction set for observation 4398\n",
      "Both classes are in the prediction set for observation 4409\n",
      "Both classes are in the prediction set for observation 4412\n",
      "Both classes are in the prediction set for observation 4414\n",
      "Both classes are in the prediction set for observation 4422\n",
      "Both classes are in the prediction set for observation 4423\n",
      "Both classes are in the prediction set for observation 4436\n",
      "Both classes are in the prediction set for observation 4444\n",
      "Both classes are in the prediction set for observation 4449\n",
      "Both classes are in the prediction set for observation 4464\n",
      "Both classes are in the prediction set for observation 4473\n",
      "Both classes are in the prediction set for observation 4474\n",
      "Both classes are in the prediction set for observation 4488\n",
      "Both classes are in the prediction set for observation 4490\n",
      "Both classes are in the prediction set for observation 4495\n",
      "Both classes are in the prediction set for observation 4502\n",
      "Both classes are in the prediction set for observation 4515\n",
      "Both classes are in the prediction set for observation 4537\n",
      "Both classes are in the prediction set for observation 4541\n",
      "Both classes are in the prediction set for observation 4547\n",
      "Both classes are in the prediction set for observation 4549\n",
      "Both classes are in the prediction set for observation 4551\n",
      "Both classes are in the prediction set for observation 4557\n",
      "Both classes are in the prediction set for observation 4562\n",
      "Both classes are in the prediction set for observation 4563\n",
      "Both classes are in the prediction set for observation 4579\n",
      "Both classes are in the prediction set for observation 4586\n",
      "Both classes are in the prediction set for observation 4588\n",
      "Both classes are in the prediction set for observation 4598\n",
      "Both classes are in the prediction set for observation 4606\n",
      "Both classes are in the prediction set for observation 4626\n",
      "Both classes are in the prediction set for observation 4628\n",
      "Both classes are in the prediction set for observation 4652\n",
      "Both classes are in the prediction set for observation 4661\n",
      "Both classes are in the prediction set for observation 4664\n",
      "Both classes are in the prediction set for observation 4674\n",
      "Both classes are in the prediction set for observation 4695\n",
      "Both classes are in the prediction set for observation 4705\n",
      "Both classes are in the prediction set for observation 4718\n",
      "Both classes are in the prediction set for observation 4720\n",
      "Both classes are in the prediction set for observation 4724\n",
      "Both classes are in the prediction set for observation 4726\n",
      "Both classes are in the prediction set for observation 4738\n",
      "Both classes are in the prediction set for observation 4745\n",
      "Both classes are in the prediction set for observation 4754\n",
      "Both classes are in the prediction set for observation 4765\n",
      "Both classes are in the prediction set for observation 4792\n",
      "Both classes are in the prediction set for observation 4802\n",
      "Both classes are in the prediction set for observation 4809\n",
      "Both classes are in the prediction set for observation 4825\n",
      "Both classes are in the prediction set for observation 4860\n",
      "Both classes are in the prediction set for observation 4867\n",
      "Both classes are in the prediction set for observation 4900\n",
      "Both classes are in the prediction set for observation 4904\n",
      "Both classes are in the prediction set for observation 4909\n",
      "Both classes are in the prediction set for observation 4913\n",
      "Both classes are in the prediction set for observation 4918\n",
      "Both classes are in the prediction set for observation 4925\n",
      "Both classes are in the prediction set for observation 4935\n",
      "Both classes are in the prediction set for observation 4947\n",
      "Both classes are in the prediction set for observation 4956\n",
      "Both classes are in the prediction set for observation 4968\n",
      "Both classes are in the prediction set for observation 4972\n",
      "Both classes are in the prediction set for observation 4976\n",
      "Both classes are in the prediction set for observation 4987\n",
      "Both classes are in the prediction set for observation 4989\n",
      "Both classes are in the prediction set for observation 4995\n",
      "Both classes are in the prediction set for observation 5008\n",
      "Both classes are in the prediction set for observation 5016\n",
      "Both classes are in the prediction set for observation 5025\n",
      "Both classes are in the prediction set for observation 5052\n",
      "Both classes are in the prediction set for observation 5053\n",
      "Both classes are in the prediction set for observation 5055\n",
      "Both classes are in the prediction set for observation 5056\n",
      "Both classes are in the prediction set for observation 5057\n",
      "Both classes are in the prediction set for observation 5061\n",
      "Both classes are in the prediction set for observation 5069\n",
      "Both classes are in the prediction set for observation 5071\n",
      "Both classes are in the prediction set for observation 5075\n",
      "Both classes are in the prediction set for observation 5079\n",
      "Both classes are in the prediction set for observation 5088\n",
      "Both classes are in the prediction set for observation 5095\n",
      "Both classes are in the prediction set for observation 5097\n",
      "Both classes are in the prediction set for observation 5106\n",
      "Both classes are in the prediction set for observation 5107\n",
      "Both classes are in the prediction set for observation 5108\n",
      "Both classes are in the prediction set for observation 5117\n",
      "Both classes are in the prediction set for observation 5124\n",
      "Both classes are in the prediction set for observation 5144\n",
      "Both classes are in the prediction set for observation 5157\n",
      "Both classes are in the prediction set for observation 5165\n",
      "Both classes are in the prediction set for observation 5176\n",
      "Both classes are in the prediction set for observation 5180\n",
      "Both classes are in the prediction set for observation 5197\n",
      "Both classes are in the prediction set for observation 5206\n",
      "Both classes are in the prediction set for observation 5239\n",
      "Both classes are in the prediction set for observation 5248\n",
      "Both classes are in the prediction set for observation 5252\n",
      "Both classes are in the prediction set for observation 5261\n",
      "Both classes are in the prediction set for observation 5281\n",
      "Both classes are in the prediction set for observation 5312\n",
      "Both classes are in the prediction set for observation 5327\n",
      "Both classes are in the prediction set for observation 5362\n",
      "Both classes are in the prediction set for observation 5380\n",
      "Both classes are in the prediction set for observation 5386\n",
      "Both classes are in the prediction set for observation 5390\n",
      "Both classes are in the prediction set for observation 5393\n",
      "Both classes are in the prediction set for observation 5394\n",
      "Both classes are in the prediction set for observation 5396\n",
      "Both classes are in the prediction set for observation 5404\n",
      "Both classes are in the prediction set for observation 5414\n",
      "Both classes are in the prediction set for observation 5426\n",
      "Both classes are in the prediction set for observation 5430\n",
      "Both classes are in the prediction set for observation 5431\n",
      "Both classes are in the prediction set for observation 5434\n",
      "Both classes are in the prediction set for observation 5459\n",
      "Both classes are in the prediction set for observation 5479\n",
      "Both classes are in the prediction set for observation 5499\n",
      "Both classes are in the prediction set for observation 5503\n",
      "Both classes are in the prediction set for observation 5507\n",
      "Both classes are in the prediction set for observation 5515\n",
      "Both classes are in the prediction set for observation 5539\n",
      "Both classes are in the prediction set for observation 5549\n",
      "Both classes are in the prediction set for observation 5566\n",
      "Both classes are in the prediction set for observation 5567\n",
      "Both classes are in the prediction set for observation 5570\n",
      "Both classes are in the prediction set for observation 5576\n",
      "Both classes are in the prediction set for observation 5605\n",
      "Both classes are in the prediction set for observation 5651\n",
      "Both classes are in the prediction set for observation 5656\n",
      "Both classes are in the prediction set for observation 5667\n",
      "Both classes are in the prediction set for observation 5703\n",
      "Both classes are in the prediction set for observation 5707\n",
      "Both classes are in the prediction set for observation 5732\n",
      "Both classes are in the prediction set for observation 5735\n",
      "Both classes are in the prediction set for observation 5742\n",
      "Both classes are in the prediction set for observation 5767\n",
      "Both classes are in the prediction set for observation 5772\n",
      "Both classes are in the prediction set for observation 5793\n",
      "Both classes are in the prediction set for observation 5819\n",
      "Both classes are in the prediction set for observation 5832\n",
      "Both classes are in the prediction set for observation 5833\n",
      "Both classes are in the prediction set for observation 5834\n",
      "Both classes are in the prediction set for observation 5854\n",
      "Both classes are in the prediction set for observation 5868\n",
      "Both classes are in the prediction set for observation 5887\n",
      "Both classes are in the prediction set for observation 5909\n",
      "Both classes are in the prediction set for observation 5913\n",
      "Both classes are in the prediction set for observation 5925\n",
      "Both classes are in the prediction set for observation 5928\n",
      "Both classes are in the prediction set for observation 5933\n",
      "Both classes are in the prediction set for observation 5963\n",
      "Both classes are in the prediction set for observation 5977\n",
      "Both classes are in the prediction set for observation 5993\n",
      "Both classes are in the prediction set for observation 6009\n",
      "Both classes are in the prediction set for observation 6019\n",
      "Both classes are in the prediction set for observation 6034\n",
      "Both classes are in the prediction set for observation 6038\n",
      "Both classes are in the prediction set for observation 6044\n",
      "Both classes are in the prediction set for observation 6045\n",
      "Both classes are in the prediction set for observation 6067\n",
      "Both classes are in the prediction set for observation 6100\n",
      "Both classes are in the prediction set for observation 6134\n",
      "Both classes are in the prediction set for observation 6136\n",
      "Both classes are in the prediction set for observation 6140\n",
      "Both classes are in the prediction set for observation 6164\n",
      "Both classes are in the prediction set for observation 6166\n",
      "Both classes are in the prediction set for observation 6168\n",
      "Both classes are in the prediction set for observation 6184\n",
      "Both classes are in the prediction set for observation 6201\n",
      "Both classes are in the prediction set for observation 6202\n",
      "Both classes are in the prediction set for observation 6209\n",
      "Both classes are in the prediction set for observation 6217\n",
      "Both classes are in the prediction set for observation 6276\n",
      "Both classes are in the prediction set for observation 6299\n",
      "Both classes are in the prediction set for observation 6301\n",
      "Both classes are in the prediction set for observation 6310\n",
      "Both classes are in the prediction set for observation 6314\n",
      "Both classes are in the prediction set for observation 6320\n",
      "Both classes are in the prediction set for observation 6323\n",
      "Both classes are in the prediction set for observation 6324\n",
      "Both classes are in the prediction set for observation 6332\n",
      "Both classes are in the prediction set for observation 6344\n",
      "Both classes are in the prediction set for observation 6346\n",
      "Both classes are in the prediction set for observation 6375\n",
      "Both classes are in the prediction set for observation 6378\n",
      "Both classes are in the prediction set for observation 6387\n",
      "Both classes are in the prediction set for observation 6388\n",
      "Both classes are in the prediction set for observation 6392\n",
      "Both classes are in the prediction set for observation 6395\n",
      "Both classes are in the prediction set for observation 6397\n",
      "Both classes are in the prediction set for observation 6408\n",
      "Both classes are in the prediction set for observation 6415\n",
      "Both classes are in the prediction set for observation 6421\n",
      "Both classes are in the prediction set for observation 6433\n"
     ]
    }
   ],
   "source": [
    "# identify observations where both classes are in the prediction set\n",
    "both_classes_index = []\n",
    "for index, obs in enumerate(result['prediction_sets']):\n",
    "    if obs[0]+obs[1]==2:\n",
    "        both_classes_index.append(index)\n",
    "        print('Both classes are in the prediction set for observation {}'.format(index))"
   ]
  },
  {
   "cell_type": "markdown",
   "metadata": {},
   "source": [
    "**Compute ROC_AUC score without uncertaint predictions**"
   ]
  },
  {
   "cell_type": "code",
   "execution_count": 48,
   "metadata": {},
   "outputs": [
    {
     "data": {
      "application/vnd.jupyter.widget-view+json": {
       "model_id": "502e59c1e4834e788dc9d77fe714b8e5",
       "version_major": 2,
       "version_minor": 0
      },
      "text/plain": [
       "HTML(value='\\n        <style>\\n\\n        .left-label {\\n            width: 30%;\\n        }\\n\\n        .card-pa…"
      ]
     },
     "metadata": {},
     "output_type": "display_data"
    }
   ],
   "source": [
    "# Predict\n",
    "\n",
    "pred_test_excluded = model.predict_proba(X_test.drop(index=both_classes_index))[:, 1]"
   ]
  },
  {
   "cell_type": "code",
   "execution_count": 49,
   "metadata": {},
   "outputs": [
    {
     "data": {
      "application/vnd.jupyter.widget-view+json": {
       "model_id": "b043df10e0a94765843ea0332e7c02aa",
       "version_major": 2,
       "version_minor": 0
      },
      "text/plain": [
       "HTML(value='\\n        <style>\\n\\n        .left-label {\\n            width: 30%;\\n        }\\n\\n        .card-pa…"
      ]
     },
     "metadata": {},
     "output_type": "display_data"
    },
    {
     "name": "stdout",
     "output_type": "stream",
     "text": [
      "AUC Test: 0.9178211083676229\n"
     ]
    }
   ],
   "source": [
    "# Calculate AUC\n",
    "\n",
    "print('AUC Test:', roc_auc_score(y_test.drop(index=both_classes_index), pred_test_excluded))"
   ]
  },
  {
   "cell_type": "markdown",
   "metadata": {},
   "source": [
    "ROC_AUC score is the same!!! "
   ]
  },
  {
   "cell_type": "code",
   "execution_count": 51,
   "metadata": {},
   "outputs": [
    {
     "data": {
      "application/vnd.jupyter.widget-view+json": {
       "model_id": "f5aa522d1d72443c8d3d9c3eb8a325e0",
       "version_major": 2,
       "version_minor": 0
      },
      "text/plain": [
       "HTML(value='\\n        <style>\\n\\n        .left-label {\\n            width: 30%;\\n        }\\n\\n        .card-pa…"
      ]
     },
     "metadata": {},
     "output_type": "display_data"
    },
    {
     "data": {
      "image/png": "[encoded data removed]",
      "text/plain": [
       "<Figure size 640x480 with 1 Axes>"
      ]
     },
     "metadata": {},
     "output_type": "display_data"
    }
   ],
   "source": [
    "# Plot the distribution of prediction set sizes\n",
    "set_sizes = [sum(pset) for pset in result['prediction_sets']]\n",
    "average_set_size  = np.mean(set_sizes)\n",
    "\n",
    "plt.hist(set_sizes, bins=[1, 2, 3], align='left', rwidth=0.8)\n",
    "plt.xticks([1, 2])\n",
    "plt.xlabel(\"Prediction Set Size\")\n",
    "plt.ylabel(\"Count\")\n",
    "plt.title(\"Distribution of Prediction Set Sizes\")\n",
    "plt.show()"
   ]
  },
  {
   "cell_type": "code",
   "execution_count": 53,
   "metadata": {},
   "outputs": [
    {
     "data": {
      "application/vnd.jupyter.widget-view+json": {
       "model_id": "f61a54b69a9048d495ed714c6fd7ad7b",
       "version_major": 2,
       "version_minor": 0
      },
      "text/plain": [
       "HTML(value='\\n        <style>\\n\\n        .left-label {\\n            width: 30%;\\n        }\\n\\n        .card-pa…"
      ]
     },
     "metadata": {},
     "output_type": "display_data"
    },
    {
     "name": "stdout",
     "output_type": "stream",
     "text": [
      "Average Prediction Set Size: 1.10\n"
     ]
    }
   ],
   "source": [
    "# Print average prediction set size\n",
    "print(f\"Average Prediction Set Size: {average_set_size:.2f}\")"
   ]
  },
  {
   "cell_type": "code",
   "execution_count": 54,
   "metadata": {},
   "outputs": [
    {
     "data": {
      "application/vnd.jupyter.widget-view+json": {
       "model_id": "d037464c76b2423abcde677a9c79f5cd",
       "version_major": 2,
       "version_minor": 0
      },
      "text/plain": [
       "HTML(value='\\n        <style>\\n\\n        .left-label {\\n            width: 30%;\\n        }\\n\\n        .card-pa…"
      ]
     },
     "metadata": {},
     "output_type": "display_data"
    },
    {
     "name": "stdout",
     "output_type": "stream",
     "text": [
      "Coverage: 94.39%\n"
     ]
    }
   ],
   "source": [
    "# Calculate coverage rate of conformal predictions, that indicates how many of the true labels are in the prediction set\n",
    "coverage = sum(\n",
    "    true_label in pred_set\n",
    "    for pred_set, true_label in zip(result['prediction_sets'], y_test)\n",
    ") / len(y_test)\n",
    "\n",
    "print(f\"Coverage: {coverage:.2%}\")"
   ]
  },
  {
   "cell_type": "code",
   "execution_count": 55,
   "metadata": {},
   "outputs": [
    {
     "data": {
      "application/vnd.jupyter.widget-view+json": {
       "model_id": "2b4d2c672faf40c8bbb8ac77bbd41cc9",
       "version_major": 2,
       "version_minor": 0
      },
      "text/plain": [
       "HTML(value='\\n        <style>\\n\\n        .left-label {\\n            width: 30%;\\n        }\\n\\n        .card-pa…"
      ]
     },
     "metadata": {},
     "output_type": "display_data"
    }
   ],
   "source": [
    "# XGB2Classifier predicted classes for test set, threshold = 0.3\n",
    "predicted_classes = (pred_test>0.3).astype(int)\n",
    "\n",
    "# Conformal predictions for test set\n",
    "prediction_set = []\n",
    "for i in result['prediction_sets']:\n",
    "    if i[0]+i[1]==2:\n",
    "        prediction_set.append(2)\n",
    "    else:\n",
    "        prediction_set.append(np.argmax(i))"
   ]
  },
  {
   "cell_type": "markdown",
   "metadata": {},
   "source": [
    "Identify how much portion are identified correcltly by conformal predictions"
   ]
  },
  {
   "cell_type": "code",
   "execution_count": 61,
   "metadata": {},
   "outputs": [
    {
     "data": {
      "application/vnd.jupyter.widget-view+json": {
       "model_id": "bacad2cd0e37455c8733b7bae5741709",
       "version_major": 2,
       "version_minor": 0
      },
      "text/plain": [
       "HTML(value='\\n        <style>\\n\\n        .left-label {\\n            width: 30%;\\n        }\\n\\n        .card-pa…"
      ]
     },
     "metadata": {},
     "output_type": "display_data"
    }
   ],
   "source": [
    "pred_analysis = pd.DataFrame({'PREDICTED': predicted_classes, 'CONFORMAL_PREDICTIONS': prediction_set, 'ACTUAL': y_test})"
   ]
  },
  {
   "cell_type": "code",
   "execution_count": 62,
   "metadata": {},
   "outputs": [
    {
     "data": {
      "application/vnd.jupyter.widget-view+json": {
       "model_id": "a5d55c5dd19c4a82a8530aba24aa1dbd",
       "version_major": 2,
       "version_minor": 0
      },
      "text/plain": [
       "HTML(value='\\n        <style>\\n\\n        .left-label {\\n            width: 30%;\\n        }\\n\\n        .card-pa…"
      ]
     },
     "metadata": {},
     "output_type": "display_data"
    },
    {
     "data": {
      "text/plain": [
       "0.8991363355953116"
      ]
     },
     "execution_count": 62,
     "metadata": {},
     "output_type": "execute_result"
    }
   ],
   "source": [
    "# Accuracy of model's predicted calsses\n",
    "accuracy_score(pred_analysis['ACTUAL'], pred_analysis['PREDICTED'])"
   ]
  },
  {
   "cell_type": "code",
   "execution_count": 63,
   "metadata": {},
   "outputs": [
    {
     "data": {
      "application/vnd.jupyter.widget-view+json": {
       "model_id": "6b1e2c2ba4fc451ea6ceffb25ad734eb",
       "version_major": 2,
       "version_minor": 0
      },
      "text/plain": [
       "HTML(value='\\n        <style>\\n\\n        .left-label {\\n            width: 30%;\\n        }\\n\\n        .card-pa…"
      ]
     },
     "metadata": {},
     "output_type": "display_data"
    },
    {
     "name": "stdout",
     "output_type": "stream",
     "text": [
      "<class 'pandas.core.frame.DataFrame'>\n",
      "RangeIndex: 6484 entries, 0 to 6483\n",
      "Data columns (total 3 columns):\n",
      " #   Column                 Non-Null Count  Dtype\n",
      "---  ------                 --------------  -----\n",
      " 0   PREDICTED              6484 non-null   int32\n",
      " 1   CONFORMAL_PREDICTIONS  6484 non-null   int64\n",
      " 2   ACTUAL                 6484 non-null   int64\n",
      "dtypes: int32(1), int64(2)\n",
      "memory usage: 126.8 KB\n"
     ]
    }
   ],
   "source": [
    "pred_analysis.info()"
   ]
  },
  {
   "cell_type": "code",
   "execution_count": 64,
   "metadata": {},
   "outputs": [
    {
     "data": {
      "application/vnd.jupyter.widget-view+json": {
       "model_id": "cbe034b966ed44d8a549b301e192db3a",
       "version_major": 2,
       "version_minor": 0
      },
      "text/plain": [
       "HTML(value='\\n        <style>\\n\\n        .left-label {\\n            width: 30%;\\n        }\\n\\n        .card-pa…"
      ]
     },
     "metadata": {},
     "output_type": "display_data"
    }
   ],
   "source": [
    "# Missciassified observations\n",
    "tmp = pred_analysis[pred_analysis['PREDICTED']!=pred_analysis['ACTUAL']]"
   ]
  },
  {
   "cell_type": "code",
   "execution_count": 68,
   "metadata": {},
   "outputs": [
    {
     "data": {
      "application/vnd.jupyter.widget-view+json": {
       "model_id": "5a54d707242041f5833045b81ac4d642",
       "version_major": 2,
       "version_minor": 0
      },
      "text/plain": [
       "HTML(value='\\n        <style>\\n\\n        .left-label {\\n            width: 30%;\\n        }\\n\\n        .card-pa…"
      ]
     },
     "metadata": {},
     "output_type": "display_data"
    },
    {
     "data": {
      "text/plain": [
       "0    0.518349\n",
       "2    0.460245\n",
       "1    0.021407\n",
       "Name: CONFORMAL_PREDICTIONS, dtype: float64"
      ]
     },
     "execution_count": 68,
     "metadata": {},
     "output_type": "execute_result"
    }
   ],
   "source": [
    "# 46 % are identified as two classes in the prediction set\n",
    "pred_analysis[pred_analysis['PREDICTED']!=pred_analysis['ACTUAL']]['CONFORMAL_PREDICTIONS'].value_counts(normalize=True)"
   ]
  },
  {
   "cell_type": "code",
   "execution_count": 69,
   "metadata": {},
   "outputs": [
    {
     "data": {
      "application/vnd.jupyter.widget-view+json": {
       "model_id": "a3730d5188844a24b7d2afd9c8b95945",
       "version_major": 2,
       "version_minor": 0
      },
      "text/plain": [
       "HTML(value='\\n        <style>\\n\\n        .left-label {\\n            width: 30%;\\n        }\\n\\n        .card-pa…"
      ]
     },
     "metadata": {},
     "output_type": "display_data"
    },
    {
     "data": {
      "text/html": [
       "<div>\n",
       "<style scoped>\n",
       "    .dataframe tbody tr th:only-of-type {\n",
       "        vertical-align: middle;\n",
       "    }\n",
       "\n",
       "    .dataframe tbody tr th {\n",
       "        vertical-align: top;\n",
       "    }\n",
       "\n",
       "    .dataframe thead th {\n",
       "        text-align: right;\n",
       "    }\n",
       "</style>\n",
       "<table border=\"1\" class=\"dataframe\">\n",
       "  <thead>\n",
       "    <tr style=\"text-align: right;\">\n",
       "      <th></th>\n",
       "      <th></th>\n",
       "      <th>COUNT</th>\n",
       "    </tr>\n",
       "    <tr>\n",
       "      <th>ACTUAL</th>\n",
       "      <th>CONFORMAL_PREDICTIONS</th>\n",
       "      <th></th>\n",
       "    </tr>\n",
       "  </thead>\n",
       "  <tbody>\n",
       "    <tr>\n",
       "      <th rowspan=\"2\" valign=\"top\">0</th>\n",
       "      <th>1</th>\n",
       "      <td>14</td>\n",
       "    </tr>\n",
       "    <tr>\n",
       "      <th>2</th>\n",
       "      <td>287</td>\n",
       "    </tr>\n",
       "    <tr>\n",
       "      <th rowspan=\"2\" valign=\"top\">1</th>\n",
       "      <th>0</th>\n",
       "      <td>339</td>\n",
       "    </tr>\n",
       "    <tr>\n",
       "      <th>2</th>\n",
       "      <td>14</td>\n",
       "    </tr>\n",
       "  </tbody>\n",
       "</table>\n",
       "</div>"
      ],
      "text/plain": [
       "                              COUNT\n",
       "ACTUAL CONFORMAL_PREDICTIONS       \n",
       "0      1                         14\n",
       "       2                        287\n",
       "1      0                        339\n",
       "       2                         14"
      ]
     },
     "execution_count": 69,
     "metadata": {},
     "output_type": "execute_result"
    }
   ],
   "source": [
    "tmp.groupby(['ACTUAL','CONFORMAL_PREDICTIONS']).size().to_frame('COUNT')"
   ]
  },
  {
   "cell_type": "code",
   "execution_count": null,
   "metadata": {},
   "outputs": [],
   "source": []
  },
  {
   "cell_type": "code",
   "execution_count": null,
   "metadata": {},
   "outputs": [],
   "source": []
  },
  {
   "cell_type": "code",
   "execution_count": null,
   "metadata": {},
   "outputs": [],
   "source": []
  },
  {
   "cell_type": "code",
   "execution_count": null,
   "metadata": {},
   "outputs": [],
   "source": []
  },
  {
   "cell_type": "code",
   "execution_count": null,
   "metadata": {},
   "outputs": [],
   "source": []
  },
  {
   "cell_type": "code",
   "execution_count": null,
   "metadata": {},
   "outputs": [],
   "source": []
  },
  {
   "cell_type": "code",
   "execution_count": null,
   "metadata": {},
   "outputs": [],
   "source": []
  },
  {
   "cell_type": "code",
   "execution_count": null,
   "metadata": {},
   "outputs": [],
   "source": []
  },
  {
   "cell_type": "code",
   "execution_count": null,
   "metadata": {},
   "outputs": [],
   "source": []
  },
  {
   "cell_type": "code",
   "execution_count": null,
   "metadata": {},
   "outputs": [],
   "source": []
  },
  {
   "cell_type": "code",
   "execution_count": null,
   "metadata": {},
   "outputs": [],
   "source": []
  },
  {
   "cell_type": "code",
   "execution_count": null,
   "metadata": {},
   "outputs": [],
   "source": []
  },
  {
   "cell_type": "code",
   "execution_count": null,
   "metadata": {},
   "outputs": [],
   "source": []
  },
  {
   "cell_type": "code",
   "execution_count": null,
   "metadata": {},
   "outputs": [],
   "source": []
  },
  {
   "cell_type": "code",
   "execution_count": null,
   "metadata": {},
   "outputs": [],
   "source": []
  },
  {
   "cell_type": "code",
   "execution_count": null,
   "metadata": {},
   "outputs": [],
   "source": []
  },
  {
   "cell_type": "code",
   "execution_count": null,
   "metadata": {},
   "outputs": [],
   "source": []
  },
  {
   "cell_type": "code",
   "execution_count": null,
   "metadata": {},
   "outputs": [],
   "source": []
  },
  {
   "cell_type": "code",
   "execution_count": null,
   "metadata": {},
   "outputs": [],
   "source": []
  },
  {
   "cell_type": "code",
   "execution_count": null,
   "metadata": {},
   "outputs": [],
   "source": []
  },
  {
   "cell_type": "code",
   "execution_count": null,
   "metadata": {},
   "outputs": [],
   "source": []
  },
  {
   "cell_type": "code",
   "execution_count": null,
   "metadata": {},
   "outputs": [],
   "source": []
  },
  {
   "cell_type": "code",
   "execution_count": null,
   "metadata": {},
   "outputs": [],
   "source": []
  },
  {
   "cell_type": "code",
   "execution_count": null,
   "metadata": {},
   "outputs": [],
   "source": []
  },
  {
   "cell_type": "code",
   "execution_count": null,
   "metadata": {},
   "outputs": [],
   "source": []
  },
  {
   "cell_type": "code",
   "execution_count": null,
   "metadata": {},
   "outputs": [],
   "source": []
  },
  {
   "cell_type": "code",
   "execution_count": null,
   "metadata": {},
   "outputs": [],
   "source": []
  },
  {
   "cell_type": "code",
   "execution_count": null,
   "metadata": {},
   "outputs": [],
   "source": []
  },
  {
   "cell_type": "code",
   "execution_count": null,
   "metadata": {},
   "outputs": [],
   "source": []
  },
  {
   "cell_type": "code",
   "execution_count": null,
   "metadata": {},
   "outputs": [],
   "source": []
  },
  {
   "cell_type": "code",
   "execution_count": null,
   "metadata": {},
   "outputs": [],
   "source": []
  },
  {
   "cell_type": "code",
   "execution_count": null,
   "metadata": {},
   "outputs": [],
   "source": []
  },
  {
   "cell_type": "code",
   "execution_count": null,
   "metadata": {},
   "outputs": [],
   "source": []
  },
  {
   "cell_type": "code",
   "execution_count": null,
   "metadata": {},
   "outputs": [],
   "source": []
  },
  {
   "cell_type": "code",
   "execution_count": null,
   "metadata": {},
   "outputs": [],
   "source": []
  },
  {
   "cell_type": "code",
   "execution_count": null,
   "metadata": {},
   "outputs": [],
   "source": []
  },
  {
   "cell_type": "code",
   "execution_count": null,
   "metadata": {},
   "outputs": [],
   "source": []
  },
  {
   "cell_type": "code",
   "execution_count": null,
   "metadata": {},
   "outputs": [],
   "source": []
  },
  {
   "cell_type": "code",
   "execution_count": null,
   "metadata": {},
   "outputs": [],
   "source": []
  },
  {
   "cell_type": "code",
   "execution_count": null,
   "metadata": {},
   "outputs": [],
   "source": []
  },
  {
   "cell_type": "code",
   "execution_count": null,
   "metadata": {},
   "outputs": [],
   "source": []
  },
  {
   "cell_type": "code",
   "execution_count": null,
   "metadata": {},
   "outputs": [],
   "source": []
  },
  {
   "cell_type": "code",
   "execution_count": null,
   "metadata": {},
   "outputs": [],
   "source": []
  },
  {
   "cell_type": "code",
   "execution_count": null,
   "metadata": {},
   "outputs": [],
   "source": []
  },
  {
   "cell_type": "code",
   "execution_count": null,
   "metadata": {},
   "outputs": [],
   "source": []
  },
  {
   "cell_type": "code",
   "execution_count": null,
   "metadata": {},
   "outputs": [],
   "source": []
  },
  {
   "cell_type": "code",
   "execution_count": null,
   "metadata": {},
   "outputs": [],
   "source": []
  },
  {
   "cell_type": "code",
   "execution_count": null,
   "metadata": {},
   "outputs": [],
   "source": []
  },
  {
   "cell_type": "code",
   "execution_count": null,
   "metadata": {},
   "outputs": [],
   "source": []
  },
  {
   "cell_type": "code",
   "execution_count": null,
   "metadata": {},
   "outputs": [],
   "source": []
  },
  {
   "cell_type": "code",
   "execution_count": null,
   "metadata": {},
   "outputs": [],
   "source": []
  },
  {
   "cell_type": "code",
   "execution_count": null,
   "metadata": {},
   "outputs": [],
   "source": []
  },
  {
   "cell_type": "code",
   "execution_count": null,
   "metadata": {},
   "outputs": [],
   "source": []
  },
  {
   "cell_type": "code",
   "execution_count": null,
   "metadata": {},
   "outputs": [],
   "source": []
  },
  {
   "cell_type": "code",
   "execution_count": null,
   "metadata": {},
   "outputs": [],
   "source": []
  },
  {
   "cell_type": "code",
   "execution_count": null,
   "metadata": {},
   "outputs": [],
   "source": []
  },
  {
   "cell_type": "code",
   "execution_count": null,
   "metadata": {},
   "outputs": [],
   "source": []
  },
  {
   "cell_type": "code",
   "execution_count": null,
   "metadata": {},
   "outputs": [],
   "source": []
  },
  {
   "cell_type": "code",
   "execution_count": null,
   "metadata": {},
   "outputs": [],
   "source": []
  },
  {
   "cell_type": "code",
   "execution_count": null,
   "metadata": {},
   "outputs": [],
   "source": []
  },
  {
   "cell_type": "code",
   "execution_count": null,
   "metadata": {},
   "outputs": [],
   "source": []
  },
  {
   "cell_type": "code",
   "execution_count": null,
   "metadata": {},
   "outputs": [],
   "source": []
  },
  {
   "cell_type": "code",
   "execution_count": null,
   "metadata": {},
   "outputs": [],
   "source": []
  },
  {
   "cell_type": "code",
   "execution_count": null,
   "metadata": {},
   "outputs": [],
   "source": []
  },
  {
   "cell_type": "code",
   "execution_count": null,
   "metadata": {},
   "outputs": [],
   "source": []
  },
  {
   "cell_type": "code",
   "execution_count": null,
   "metadata": {},
   "outputs": [],
   "source": []
  },
  {
   "cell_type": "code",
   "execution_count": null,
   "metadata": {},
   "outputs": [],
   "source": []
  },
  {
   "cell_type": "code",
   "execution_count": null,
   "metadata": {},
   "outputs": [],
   "source": []
  },
  {
   "cell_type": "code",
   "execution_count": null,
   "metadata": {},
   "outputs": [],
   "source": []
  },
  {
   "cell_type": "code",
   "execution_count": null,
   "metadata": {},
   "outputs": [],
   "source": []
  },
  {
   "cell_type": "code",
   "execution_count": null,
   "metadata": {},
   "outputs": [],
   "source": []
  },
  {
   "cell_type": "code",
   "execution_count": null,
   "metadata": {},
   "outputs": [],
   "source": []
  },
  {
   "cell_type": "code",
   "execution_count": null,
   "metadata": {},
   "outputs": [],
   "source": []
  },
  {
   "cell_type": "code",
   "execution_count": null,
   "metadata": {},
   "outputs": [],
   "source": []
  },
  {
   "cell_type": "code",
   "execution_count": null,
   "metadata": {},
   "outputs": [],
   "source": []
  },
  {
   "cell_type": "code",
   "execution_count": null,
   "metadata": {},
   "outputs": [],
   "source": []
  },
  {
   "cell_type": "code",
   "execution_count": null,
   "metadata": {},
   "outputs": [],
   "source": []
  }
 ],
 "metadata": {
  "kernelspec": {
   "display_name": "fds_final_proj",
   "language": "python",
   "name": "fds_final_proj"
  },
  "language_info": {
   "codemirror_mode": {
    "name": "ipython",
    "version": 3
   },
   "file_extension": ".py",
   "mimetype": "text/x-python",
   "name": "python",
   "nbconvert_exporter": "python",
   "pygments_lexer": "ipython3",
   "version": "3.8.5"
  }
 },
 "nbformat": 4,
 "nbformat_minor": 2
}
